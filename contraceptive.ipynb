{
  "nbformat": 4,
  "nbformat_minor": 0,
  "metadata": {
    "colab": {
      "name": "contraceptive.ipynb",
      "provenance": [],
      "collapsed_sections": [],
      "include_colab_link": true
    },
    "kernelspec": {
      "name": "python3",
      "display_name": "Python 3"
    }
  },
  "cells": [
    {
      "cell_type": "markdown",
      "metadata": {
        "id": "view-in-github",
        "colab_type": "text"
      },
      "source": [
        "<a href=\"https://colab.research.google.com/github/amandayuan/data100_final_contraceptive/blob/master/contraceptive.ipynb\" target=\"_parent\"><img src=\"https://colab.research.google.com/assets/colab-badge.svg\" alt=\"Open In Colab\"/></a>"
      ]
    },
    {
      "cell_type": "markdown",
      "metadata": {
        "id": "_oe3pDNcGG2A",
        "colab_type": "text"
      },
      "source": [
        "# **Data 100 Final Project: Contraceptive Analysis**"
      ]
    },
    {
      "cell_type": "markdown",
      "metadata": {
        "id": "Uf55eEbwHB2h",
        "colab_type": "text"
      },
      "source": [
        "For our final project, we are using contraceptive datasets to address the following questions: \n",
        "\n",
        "\n",
        "1. What is the correlation between contraception prevalence and contraception method, and socioeconomic status?\n",
        "2. What demographic and socioeconomic characteristics best predict current contraceptive method choice? \n",
        "3. What factors can be used to determine if a wife is still working after having children? \n",
        "\n",
        "\n"
      ]
    },
    {
      "cell_type": "markdown",
      "metadata": {
        "id": "Phdol4kulGji",
        "colab_type": "text"
      },
      "source": [
        "Amanda: Pulled student contraceptive dataset and two external datasets, answered question 1 and in progress for question 2.\n",
        "\n",
        "Esha: Added to Q2 lasso / visualization /feature selection working on Q3\n",
        "\n",
        "Asha: Also working on number 3 - logistic regression and visulization, will try pca"
      ]
    },
    {
      "cell_type": "code",
      "metadata": {
        "id": "GvZRg2YiGlDQ",
        "colab_type": "code",
        "colab": {}
      },
      "source": [
        "import numpy as np\n",
        "import pandas as pd\n",
        "\n",
        "import matplotlib\n",
        "import matplotlib.pyplot as plt\n",
        "import matplotlib.gridspec as gridspec\n",
        "from matplotlib.colors import ListedColormap\n",
        "\n",
        "import seaborn as sns"
      ],
      "execution_count": 0,
      "outputs": []
    },
    {
      "cell_type": "code",
      "metadata": {
        "id": "PcvvWBaushHS",
        "colab_type": "code",
        "colab": {}
      },
      "source": [
        "from sklearn.linear_model import LinearRegression\n",
        "from sklearn.linear_model import LogisticRegression\n",
        "from sklearn.metrics import mean_squared_error\n",
        "from sklearn.metrics import mean_absolute_error\n",
        "from sklearn.model_selection import train_test_split\n",
        "from sklearn.preprocessing import PolynomialFeatures\n",
        "from sklearn.preprocessing import StandardScaler\n",
        "from sklearn.pipeline import Pipeline\n",
        "from sklearn import tree\n",
        "from sklearn import ensemble"
      ],
      "execution_count": 0,
      "outputs": []
    },
    {
      "cell_type": "code",
      "metadata": {
        "id": "hYGCz1agGywc",
        "colab_type": "code",
        "colab": {}
      },
      "source": [
        "#Given dataset \n",
        "birth_control = pd.read_csv('https://raw.githubusercontent.com/amandayuan/data100_final_contraceptive/master/data/contraceptive_for_students.csv')\n",
        "\n",
        "#Imported datasets from different sources\n",
        "country_original = pd.read_csv('https://raw.githubusercontent.com/amandayuan/data100_final_contraceptive/master/data/country_socioeconomic_status.csv')\n",
        "prevalence_original = pd.read_csv('https://raw.githubusercontent.com/amandayuan/data100_final_contraceptive/master/data/prevalence_by_year.csv')\n",
        "\n",
        "from sklearn.model_selection import train_test_split\n",
        "\n",
        "train, test = train_test_split(birth_control, test_size=0.1, random_state=42)"
      ],
      "execution_count": 0,
      "outputs": []
    },
    {
      "cell_type": "markdown",
      "metadata": {
        "id": "h1eJMmiOjttJ",
        "colab_type": "text"
      },
      "source": [
        "I found two separate datasets that could assist in answering our questions: \n",
        "\n",
        "\n",
        "*   country_original lists each country and its standard of living in the 'IncomeGroup' column\n",
        "*   prevalence_original lists the annual prevalence of contraception overall in each country between the years 1960 - 2019\n",
        "\n"
      ]
    },
    {
      "cell_type": "code",
      "metadata": {
        "id": "ZMg3Hz1dHAWM",
        "colab_type": "code",
        "outputId": "d8597b5d-ba7c-4045-e4a6-cf03d35cfbb1",
        "colab": {
          "base_uri": "https://localhost:8080/",
          "height": 439
        }
      },
      "source": [
        "birth_control"
      ],
      "execution_count": 201,
      "outputs": [
        {
          "output_type": "execute_result",
          "data": {
            "text/html": [
              "<div>\n",
              "<style scoped>\n",
              "    .dataframe tbody tr th:only-of-type {\n",
              "        vertical-align: middle;\n",
              "    }\n",
              "\n",
              "    .dataframe tbody tr th {\n",
              "        vertical-align: top;\n",
              "    }\n",
              "\n",
              "    .dataframe thead th {\n",
              "        text-align: right;\n",
              "    }\n",
              "</style>\n",
              "<table border=\"1\" class=\"dataframe\">\n",
              "  <thead>\n",
              "    <tr style=\"text-align: right;\">\n",
              "      <th></th>\n",
              "      <th>wife_age</th>\n",
              "      <th>wife_education</th>\n",
              "      <th>husband_education</th>\n",
              "      <th>num_child</th>\n",
              "      <th>wife_religion</th>\n",
              "      <th>wife_work</th>\n",
              "      <th>husband_occupation</th>\n",
              "      <th>standard_living</th>\n",
              "      <th>media_exposure</th>\n",
              "      <th>contraceptive</th>\n",
              "    </tr>\n",
              "  </thead>\n",
              "  <tbody>\n",
              "    <tr>\n",
              "      <th>0</th>\n",
              "      <td>24</td>\n",
              "      <td>2</td>\n",
              "      <td>3</td>\n",
              "      <td>3</td>\n",
              "      <td>1</td>\n",
              "      <td>1</td>\n",
              "      <td>2</td>\n",
              "      <td>3</td>\n",
              "      <td>0</td>\n",
              "      <td>1</td>\n",
              "    </tr>\n",
              "    <tr>\n",
              "      <th>1</th>\n",
              "      <td>45</td>\n",
              "      <td>1</td>\n",
              "      <td>3</td>\n",
              "      <td>10</td>\n",
              "      <td>1</td>\n",
              "      <td>1</td>\n",
              "      <td>3</td>\n",
              "      <td>4</td>\n",
              "      <td>0</td>\n",
              "      <td>1</td>\n",
              "    </tr>\n",
              "    <tr>\n",
              "      <th>2</th>\n",
              "      <td>43</td>\n",
              "      <td>2</td>\n",
              "      <td>3</td>\n",
              "      <td>7</td>\n",
              "      <td>1</td>\n",
              "      <td>1</td>\n",
              "      <td>3</td>\n",
              "      <td>4</td>\n",
              "      <td>0</td>\n",
              "      <td>1</td>\n",
              "    </tr>\n",
              "    <tr>\n",
              "      <th>3</th>\n",
              "      <td>42</td>\n",
              "      <td>3</td>\n",
              "      <td>2</td>\n",
              "      <td>9</td>\n",
              "      <td>1</td>\n",
              "      <td>1</td>\n",
              "      <td>3</td>\n",
              "      <td>3</td>\n",
              "      <td>0</td>\n",
              "      <td>1</td>\n",
              "    </tr>\n",
              "    <tr>\n",
              "      <th>4</th>\n",
              "      <td>36</td>\n",
              "      <td>3</td>\n",
              "      <td>3</td>\n",
              "      <td>8</td>\n",
              "      <td>1</td>\n",
              "      <td>1</td>\n",
              "      <td>3</td>\n",
              "      <td>2</td>\n",
              "      <td>0</td>\n",
              "      <td>1</td>\n",
              "    </tr>\n",
              "    <tr>\n",
              "      <th>...</th>\n",
              "      <td>...</td>\n",
              "      <td>...</td>\n",
              "      <td>...</td>\n",
              "      <td>...</td>\n",
              "      <td>...</td>\n",
              "      <td>...</td>\n",
              "      <td>...</td>\n",
              "      <td>...</td>\n",
              "      <td>...</td>\n",
              "      <td>...</td>\n",
              "    </tr>\n",
              "    <tr>\n",
              "      <th>1468</th>\n",
              "      <td>33</td>\n",
              "      <td>4</td>\n",
              "      <td>4</td>\n",
              "      <td>2</td>\n",
              "      <td>1</td>\n",
              "      <td>0</td>\n",
              "      <td>2</td>\n",
              "      <td>4</td>\n",
              "      <td>0</td>\n",
              "      <td>3</td>\n",
              "    </tr>\n",
              "    <tr>\n",
              "      <th>1469</th>\n",
              "      <td>33</td>\n",
              "      <td>4</td>\n",
              "      <td>4</td>\n",
              "      <td>3</td>\n",
              "      <td>1</td>\n",
              "      <td>1</td>\n",
              "      <td>1</td>\n",
              "      <td>4</td>\n",
              "      <td>0</td>\n",
              "      <td>3</td>\n",
              "    </tr>\n",
              "    <tr>\n",
              "      <th>1470</th>\n",
              "      <td>39</td>\n",
              "      <td>3</td>\n",
              "      <td>3</td>\n",
              "      <td>8</td>\n",
              "      <td>1</td>\n",
              "      <td>0</td>\n",
              "      <td>1</td>\n",
              "      <td>4</td>\n",
              "      <td>0</td>\n",
              "      <td>3</td>\n",
              "    </tr>\n",
              "    <tr>\n",
              "      <th>1471</th>\n",
              "      <td>33</td>\n",
              "      <td>3</td>\n",
              "      <td>3</td>\n",
              "      <td>4</td>\n",
              "      <td>1</td>\n",
              "      <td>0</td>\n",
              "      <td>2</td>\n",
              "      <td>2</td>\n",
              "      <td>0</td>\n",
              "      <td>3</td>\n",
              "    </tr>\n",
              "    <tr>\n",
              "      <th>1472</th>\n",
              "      <td>17</td>\n",
              "      <td>3</td>\n",
              "      <td>3</td>\n",
              "      <td>1</td>\n",
              "      <td>1</td>\n",
              "      <td>1</td>\n",
              "      <td>2</td>\n",
              "      <td>4</td>\n",
              "      <td>0</td>\n",
              "      <td>3</td>\n",
              "    </tr>\n",
              "  </tbody>\n",
              "</table>\n",
              "<p>1473 rows × 10 columns</p>\n",
              "</div>"
            ],
            "text/plain": [
              "      wife_age  wife_education  ...  media_exposure  contraceptive\n",
              "0           24               2  ...               0              1\n",
              "1           45               1  ...               0              1\n",
              "2           43               2  ...               0              1\n",
              "3           42               3  ...               0              1\n",
              "4           36               3  ...               0              1\n",
              "...        ...             ...  ...             ...            ...\n",
              "1468        33               4  ...               0              3\n",
              "1469        33               4  ...               0              3\n",
              "1470        39               3  ...               0              3\n",
              "1471        33               3  ...               0              3\n",
              "1472        17               3  ...               0              3\n",
              "\n",
              "[1473 rows x 10 columns]"
            ]
          },
          "metadata": {
            "tags": []
          },
          "execution_count": 201
        }
      ]
    },
    {
      "cell_type": "code",
      "metadata": {
        "id": "4nYu2HU6W30b",
        "colab_type": "code",
        "outputId": "c9019e0a-c3f8-42c0-91f1-a791280221d3",
        "colab": {
          "base_uri": "https://localhost:8080/",
          "height": 419
        }
      },
      "source": [
        "country_original"
      ],
      "execution_count": 202,
      "outputs": [
        {
          "output_type": "execute_result",
          "data": {
            "text/html": [
              "<div>\n",
              "<style scoped>\n",
              "    .dataframe tbody tr th:only-of-type {\n",
              "        vertical-align: middle;\n",
              "    }\n",
              "\n",
              "    .dataframe tbody tr th {\n",
              "        vertical-align: top;\n",
              "    }\n",
              "\n",
              "    .dataframe thead th {\n",
              "        text-align: right;\n",
              "    }\n",
              "</style>\n",
              "<table border=\"1\" class=\"dataframe\">\n",
              "  <thead>\n",
              "    <tr style=\"text-align: right;\">\n",
              "      <th></th>\n",
              "      <th>Country Code</th>\n",
              "      <th>Region</th>\n",
              "      <th>IncomeGroup</th>\n",
              "      <th>SpecialNotes</th>\n",
              "      <th>TableName</th>\n",
              "      <th>Unnamed: 5</th>\n",
              "    </tr>\n",
              "  </thead>\n",
              "  <tbody>\n",
              "    <tr>\n",
              "      <th>0</th>\n",
              "      <td>ABW</td>\n",
              "      <td>Latin America &amp; Caribbean</td>\n",
              "      <td>High income</td>\n",
              "      <td>NaN</td>\n",
              "      <td>Aruba</td>\n",
              "      <td>NaN</td>\n",
              "    </tr>\n",
              "    <tr>\n",
              "      <th>1</th>\n",
              "      <td>AFG</td>\n",
              "      <td>South Asia</td>\n",
              "      <td>Low income</td>\n",
              "      <td>NaN</td>\n",
              "      <td>Afghanistan</td>\n",
              "      <td>NaN</td>\n",
              "    </tr>\n",
              "    <tr>\n",
              "      <th>2</th>\n",
              "      <td>AGO</td>\n",
              "      <td>Sub-Saharan Africa</td>\n",
              "      <td>Lower middle income</td>\n",
              "      <td>NaN</td>\n",
              "      <td>Angola</td>\n",
              "      <td>NaN</td>\n",
              "    </tr>\n",
              "    <tr>\n",
              "      <th>3</th>\n",
              "      <td>ALB</td>\n",
              "      <td>Europe &amp; Central Asia</td>\n",
              "      <td>Upper middle income</td>\n",
              "      <td>NaN</td>\n",
              "      <td>Albania</td>\n",
              "      <td>NaN</td>\n",
              "    </tr>\n",
              "    <tr>\n",
              "      <th>4</th>\n",
              "      <td>AND</td>\n",
              "      <td>Europe &amp; Central Asia</td>\n",
              "      <td>High income</td>\n",
              "      <td>NaN</td>\n",
              "      <td>Andorra</td>\n",
              "      <td>NaN</td>\n",
              "    </tr>\n",
              "    <tr>\n",
              "      <th>...</th>\n",
              "      <td>...</td>\n",
              "      <td>...</td>\n",
              "      <td>...</td>\n",
              "      <td>...</td>\n",
              "      <td>...</td>\n",
              "      <td>...</td>\n",
              "    </tr>\n",
              "    <tr>\n",
              "      <th>258</th>\n",
              "      <td>XKX</td>\n",
              "      <td>Europe &amp; Central Asia</td>\n",
              "      <td>Upper middle income</td>\n",
              "      <td>NaN</td>\n",
              "      <td>Kosovo</td>\n",
              "      <td>NaN</td>\n",
              "    </tr>\n",
              "    <tr>\n",
              "      <th>259</th>\n",
              "      <td>YEM</td>\n",
              "      <td>Middle East &amp; North Africa</td>\n",
              "      <td>Low income</td>\n",
              "      <td>NaN</td>\n",
              "      <td>Yemen, Rep.</td>\n",
              "      <td>NaN</td>\n",
              "    </tr>\n",
              "    <tr>\n",
              "      <th>260</th>\n",
              "      <td>ZAF</td>\n",
              "      <td>Sub-Saharan Africa</td>\n",
              "      <td>Upper middle income</td>\n",
              "      <td>Fiscal year end: March 31; reporting period fo...</td>\n",
              "      <td>South Africa</td>\n",
              "      <td>NaN</td>\n",
              "    </tr>\n",
              "    <tr>\n",
              "      <th>261</th>\n",
              "      <td>ZMB</td>\n",
              "      <td>Sub-Saharan Africa</td>\n",
              "      <td>Lower middle income</td>\n",
              "      <td>National accounts data were rebased to reflect...</td>\n",
              "      <td>Zambia</td>\n",
              "      <td>NaN</td>\n",
              "    </tr>\n",
              "    <tr>\n",
              "      <th>262</th>\n",
              "      <td>ZWE</td>\n",
              "      <td>Sub-Saharan Africa</td>\n",
              "      <td>Lower middle income</td>\n",
              "      <td>NaN</td>\n",
              "      <td>Zimbabwe</td>\n",
              "      <td>NaN</td>\n",
              "    </tr>\n",
              "  </tbody>\n",
              "</table>\n",
              "<p>263 rows × 6 columns</p>\n",
              "</div>"
            ],
            "text/plain": [
              "    Country Code                      Region  ...     TableName Unnamed: 5\n",
              "0            ABW   Latin America & Caribbean  ...         Aruba        NaN\n",
              "1            AFG                  South Asia  ...   Afghanistan        NaN\n",
              "2            AGO          Sub-Saharan Africa  ...        Angola        NaN\n",
              "3            ALB       Europe & Central Asia  ...       Albania        NaN\n",
              "4            AND       Europe & Central Asia  ...       Andorra        NaN\n",
              "..           ...                         ...  ...           ...        ...\n",
              "258          XKX       Europe & Central Asia  ...        Kosovo        NaN\n",
              "259          YEM  Middle East & North Africa  ...   Yemen, Rep.        NaN\n",
              "260          ZAF          Sub-Saharan Africa  ...  South Africa        NaN\n",
              "261          ZMB          Sub-Saharan Africa  ...        Zambia        NaN\n",
              "262          ZWE          Sub-Saharan Africa  ...      Zimbabwe        NaN\n",
              "\n",
              "[263 rows x 6 columns]"
            ]
          },
          "metadata": {
            "tags": []
          },
          "execution_count": 202
        }
      ]
    },
    {
      "cell_type": "code",
      "metadata": {
        "id": "Qof20Kbxa_q5",
        "colab_type": "code",
        "outputId": "1672c654-2eb6-4f7a-e1c9-6f56d56e2a4e",
        "colab": {
          "base_uri": "https://localhost:8080/",
          "height": 966
        }
      },
      "source": [
        "prevalence_original"
      ],
      "execution_count": 203,
      "outputs": [
        {
          "output_type": "execute_result",
          "data": {
            "text/html": [
              "<div>\n",
              "<style scoped>\n",
              "    .dataframe tbody tr th:only-of-type {\n",
              "        vertical-align: middle;\n",
              "    }\n",
              "\n",
              "    .dataframe tbody tr th {\n",
              "        vertical-align: top;\n",
              "    }\n",
              "\n",
              "    .dataframe thead th {\n",
              "        text-align: right;\n",
              "    }\n",
              "</style>\n",
              "<table border=\"1\" class=\"dataframe\">\n",
              "  <thead>\n",
              "    <tr style=\"text-align: right;\">\n",
              "      <th></th>\n",
              "      <th>Country Name</th>\n",
              "      <th>Country Code</th>\n",
              "      <th>Indicator Name</th>\n",
              "      <th>Indicator Code</th>\n",
              "      <th>1960</th>\n",
              "      <th>1961</th>\n",
              "      <th>1962</th>\n",
              "      <th>1963</th>\n",
              "      <th>1964</th>\n",
              "      <th>1965</th>\n",
              "      <th>1966</th>\n",
              "      <th>1967</th>\n",
              "      <th>1968</th>\n",
              "      <th>1969</th>\n",
              "      <th>1970</th>\n",
              "      <th>1971</th>\n",
              "      <th>1972</th>\n",
              "      <th>1973</th>\n",
              "      <th>1974</th>\n",
              "      <th>1975</th>\n",
              "      <th>1976</th>\n",
              "      <th>1977</th>\n",
              "      <th>1978</th>\n",
              "      <th>1979</th>\n",
              "      <th>1980</th>\n",
              "      <th>1981</th>\n",
              "      <th>1982</th>\n",
              "      <th>1983</th>\n",
              "      <th>1984</th>\n",
              "      <th>1985</th>\n",
              "      <th>1986</th>\n",
              "      <th>1987</th>\n",
              "      <th>1988</th>\n",
              "      <th>1989</th>\n",
              "      <th>1990</th>\n",
              "      <th>1991</th>\n",
              "      <th>1992</th>\n",
              "      <th>1993</th>\n",
              "      <th>1994</th>\n",
              "      <th>1995</th>\n",
              "      <th>1996</th>\n",
              "      <th>1997</th>\n",
              "      <th>1998</th>\n",
              "      <th>1999</th>\n",
              "      <th>2000</th>\n",
              "      <th>2001</th>\n",
              "      <th>2002</th>\n",
              "      <th>2003</th>\n",
              "      <th>2004</th>\n",
              "      <th>2005</th>\n",
              "      <th>2006</th>\n",
              "      <th>2007</th>\n",
              "      <th>2008</th>\n",
              "      <th>2009</th>\n",
              "      <th>2010</th>\n",
              "      <th>2011</th>\n",
              "      <th>2012</th>\n",
              "      <th>2013</th>\n",
              "      <th>2014</th>\n",
              "      <th>2015</th>\n",
              "      <th>2016</th>\n",
              "      <th>2017</th>\n",
              "      <th>2018</th>\n",
              "      <th>2019</th>\n",
              "      <th>Unnamed: 64</th>\n",
              "    </tr>\n",
              "  </thead>\n",
              "  <tbody>\n",
              "    <tr>\n",
              "      <th>0</th>\n",
              "      <td>Aruba</td>\n",
              "      <td>ABW</td>\n",
              "      <td>Contraceptive prevalence, any methods (% of wo...</td>\n",
              "      <td>SP.DYN.CONU.ZS</td>\n",
              "      <td>NaN</td>\n",
              "      <td>NaN</td>\n",
              "      <td>NaN</td>\n",
              "      <td>NaN</td>\n",
              "      <td>NaN</td>\n",
              "      <td>NaN</td>\n",
              "      <td>NaN</td>\n",
              "      <td>NaN</td>\n",
              "      <td>NaN</td>\n",
              "      <td>NaN</td>\n",
              "      <td>NaN</td>\n",
              "      <td>NaN</td>\n",
              "      <td>NaN</td>\n",
              "      <td>NaN</td>\n",
              "      <td>NaN</td>\n",
              "      <td>NaN</td>\n",
              "      <td>NaN</td>\n",
              "      <td>NaN</td>\n",
              "      <td>NaN</td>\n",
              "      <td>NaN</td>\n",
              "      <td>NaN</td>\n",
              "      <td>NaN</td>\n",
              "      <td>NaN</td>\n",
              "      <td>NaN</td>\n",
              "      <td>NaN</td>\n",
              "      <td>NaN</td>\n",
              "      <td>NaN</td>\n",
              "      <td>NaN</td>\n",
              "      <td>NaN</td>\n",
              "      <td>NaN</td>\n",
              "      <td>NaN</td>\n",
              "      <td>NaN</td>\n",
              "      <td>NaN</td>\n",
              "      <td>NaN</td>\n",
              "      <td>NaN</td>\n",
              "      <td>NaN</td>\n",
              "      <td>NaN</td>\n",
              "      <td>NaN</td>\n",
              "      <td>NaN</td>\n",
              "      <td>NaN</td>\n",
              "      <td>NaN</td>\n",
              "      <td>NaN</td>\n",
              "      <td>NaN</td>\n",
              "      <td>NaN</td>\n",
              "      <td>NaN</td>\n",
              "      <td>NaN</td>\n",
              "      <td>NaN</td>\n",
              "      <td>NaN</td>\n",
              "      <td>NaN</td>\n",
              "      <td>NaN</td>\n",
              "      <td>NaN</td>\n",
              "      <td>NaN</td>\n",
              "      <td>NaN</td>\n",
              "      <td>NaN</td>\n",
              "      <td>NaN</td>\n",
              "      <td>NaN</td>\n",
              "      <td>NaN</td>\n",
              "      <td>NaN</td>\n",
              "      <td>NaN</td>\n",
              "      <td>NaN</td>\n",
              "      <td>NaN</td>\n",
              "    </tr>\n",
              "    <tr>\n",
              "      <th>1</th>\n",
              "      <td>Afghanistan</td>\n",
              "      <td>AFG</td>\n",
              "      <td>Contraceptive prevalence, any methods (% of wo...</td>\n",
              "      <td>SP.DYN.CONU.ZS</td>\n",
              "      <td>NaN</td>\n",
              "      <td>NaN</td>\n",
              "      <td>NaN</td>\n",
              "      <td>NaN</td>\n",
              "      <td>NaN</td>\n",
              "      <td>NaN</td>\n",
              "      <td>NaN</td>\n",
              "      <td>NaN</td>\n",
              "      <td>NaN</td>\n",
              "      <td>NaN</td>\n",
              "      <td>NaN</td>\n",
              "      <td>NaN</td>\n",
              "      <td>NaN</td>\n",
              "      <td>1.6</td>\n",
              "      <td>NaN</td>\n",
              "      <td>NaN</td>\n",
              "      <td>NaN</td>\n",
              "      <td>NaN</td>\n",
              "      <td>NaN</td>\n",
              "      <td>NaN</td>\n",
              "      <td>NaN</td>\n",
              "      <td>NaN</td>\n",
              "      <td>NaN</td>\n",
              "      <td>NaN</td>\n",
              "      <td>NaN</td>\n",
              "      <td>NaN</td>\n",
              "      <td>NaN</td>\n",
              "      <td>NaN</td>\n",
              "      <td>NaN</td>\n",
              "      <td>NaN</td>\n",
              "      <td>NaN</td>\n",
              "      <td>NaN</td>\n",
              "      <td>NaN</td>\n",
              "      <td>NaN</td>\n",
              "      <td>NaN</td>\n",
              "      <td>NaN</td>\n",
              "      <td>NaN</td>\n",
              "      <td>NaN</td>\n",
              "      <td>NaN</td>\n",
              "      <td>NaN</td>\n",
              "      <td>5.3</td>\n",
              "      <td>NaN</td>\n",
              "      <td>NaN</td>\n",
              "      <td>10.3</td>\n",
              "      <td>NaN</td>\n",
              "      <td>13.6</td>\n",
              "      <td>18.6</td>\n",
              "      <td>NaN</td>\n",
              "      <td>22.8</td>\n",
              "      <td>NaN</td>\n",
              "      <td>21.8</td>\n",
              "      <td>21.2</td>\n",
              "      <td>NaN</td>\n",
              "      <td>NaN</td>\n",
              "      <td>NaN</td>\n",
              "      <td>22.5</td>\n",
              "      <td>NaN</td>\n",
              "      <td>NaN</td>\n",
              "      <td>NaN</td>\n",
              "      <td>NaN</td>\n",
              "      <td>NaN</td>\n",
              "    </tr>\n",
              "    <tr>\n",
              "      <th>2</th>\n",
              "      <td>Angola</td>\n",
              "      <td>AGO</td>\n",
              "      <td>Contraceptive prevalence, any methods (% of wo...</td>\n",
              "      <td>SP.DYN.CONU.ZS</td>\n",
              "      <td>NaN</td>\n",
              "      <td>NaN</td>\n",
              "      <td>NaN</td>\n",
              "      <td>NaN</td>\n",
              "      <td>NaN</td>\n",
              "      <td>NaN</td>\n",
              "      <td>NaN</td>\n",
              "      <td>NaN</td>\n",
              "      <td>NaN</td>\n",
              "      <td>NaN</td>\n",
              "      <td>NaN</td>\n",
              "      <td>NaN</td>\n",
              "      <td>NaN</td>\n",
              "      <td>NaN</td>\n",
              "      <td>NaN</td>\n",
              "      <td>NaN</td>\n",
              "      <td>NaN</td>\n",
              "      <td>NaN</td>\n",
              "      <td>NaN</td>\n",
              "      <td>NaN</td>\n",
              "      <td>NaN</td>\n",
              "      <td>NaN</td>\n",
              "      <td>NaN</td>\n",
              "      <td>NaN</td>\n",
              "      <td>NaN</td>\n",
              "      <td>NaN</td>\n",
              "      <td>NaN</td>\n",
              "      <td>NaN</td>\n",
              "      <td>NaN</td>\n",
              "      <td>NaN</td>\n",
              "      <td>NaN</td>\n",
              "      <td>NaN</td>\n",
              "      <td>NaN</td>\n",
              "      <td>NaN</td>\n",
              "      <td>NaN</td>\n",
              "      <td>NaN</td>\n",
              "      <td>8.1</td>\n",
              "      <td>NaN</td>\n",
              "      <td>NaN</td>\n",
              "      <td>NaN</td>\n",
              "      <td>NaN</td>\n",
              "      <td>6.2</td>\n",
              "      <td>NaN</td>\n",
              "      <td>NaN</td>\n",
              "      <td>NaN</td>\n",
              "      <td>NaN</td>\n",
              "      <td>NaN</td>\n",
              "      <td>NaN</td>\n",
              "      <td>NaN</td>\n",
              "      <td>17.7</td>\n",
              "      <td>NaN</td>\n",
              "      <td>NaN</td>\n",
              "      <td>NaN</td>\n",
              "      <td>NaN</td>\n",
              "      <td>NaN</td>\n",
              "      <td>NaN</td>\n",
              "      <td>13.7</td>\n",
              "      <td>NaN</td>\n",
              "      <td>NaN</td>\n",
              "      <td>NaN</td>\n",
              "      <td>NaN</td>\n",
              "    </tr>\n",
              "    <tr>\n",
              "      <th>3</th>\n",
              "      <td>Albania</td>\n",
              "      <td>ALB</td>\n",
              "      <td>Contraceptive prevalence, any methods (% of wo...</td>\n",
              "      <td>SP.DYN.CONU.ZS</td>\n",
              "      <td>NaN</td>\n",
              "      <td>NaN</td>\n",
              "      <td>NaN</td>\n",
              "      <td>NaN</td>\n",
              "      <td>NaN</td>\n",
              "      <td>NaN</td>\n",
              "      <td>NaN</td>\n",
              "      <td>NaN</td>\n",
              "      <td>NaN</td>\n",
              "      <td>NaN</td>\n",
              "      <td>NaN</td>\n",
              "      <td>NaN</td>\n",
              "      <td>NaN</td>\n",
              "      <td>NaN</td>\n",
              "      <td>NaN</td>\n",
              "      <td>NaN</td>\n",
              "      <td>NaN</td>\n",
              "      <td>NaN</td>\n",
              "      <td>NaN</td>\n",
              "      <td>NaN</td>\n",
              "      <td>NaN</td>\n",
              "      <td>NaN</td>\n",
              "      <td>NaN</td>\n",
              "      <td>NaN</td>\n",
              "      <td>NaN</td>\n",
              "      <td>NaN</td>\n",
              "      <td>NaN</td>\n",
              "      <td>NaN</td>\n",
              "      <td>NaN</td>\n",
              "      <td>NaN</td>\n",
              "      <td>NaN</td>\n",
              "      <td>NaN</td>\n",
              "      <td>NaN</td>\n",
              "      <td>NaN</td>\n",
              "      <td>NaN</td>\n",
              "      <td>NaN</td>\n",
              "      <td>NaN</td>\n",
              "      <td>NaN</td>\n",
              "      <td>NaN</td>\n",
              "      <td>NaN</td>\n",
              "      <td>57.5</td>\n",
              "      <td>NaN</td>\n",
              "      <td>75.1</td>\n",
              "      <td>NaN</td>\n",
              "      <td>NaN</td>\n",
              "      <td>60.1</td>\n",
              "      <td>NaN</td>\n",
              "      <td>NaN</td>\n",
              "      <td>NaN</td>\n",
              "      <td>69.3</td>\n",
              "      <td>NaN</td>\n",
              "      <td>NaN</td>\n",
              "      <td>NaN</td>\n",
              "      <td>NaN</td>\n",
              "      <td>NaN</td>\n",
              "      <td>NaN</td>\n",
              "      <td>NaN</td>\n",
              "      <td>NaN</td>\n",
              "      <td>46.0</td>\n",
              "      <td>NaN</td>\n",
              "      <td>NaN</td>\n",
              "    </tr>\n",
              "    <tr>\n",
              "      <th>4</th>\n",
              "      <td>Andorra</td>\n",
              "      <td>AND</td>\n",
              "      <td>Contraceptive prevalence, any methods (% of wo...</td>\n",
              "      <td>SP.DYN.CONU.ZS</td>\n",
              "      <td>NaN</td>\n",
              "      <td>NaN</td>\n",
              "      <td>NaN</td>\n",
              "      <td>NaN</td>\n",
              "      <td>NaN</td>\n",
              "      <td>NaN</td>\n",
              "      <td>NaN</td>\n",
              "      <td>NaN</td>\n",
              "      <td>NaN</td>\n",
              "      <td>NaN</td>\n",
              "      <td>NaN</td>\n",
              "      <td>NaN</td>\n",
              "      <td>NaN</td>\n",
              "      <td>NaN</td>\n",
              "      <td>NaN</td>\n",
              "      <td>NaN</td>\n",
              "      <td>NaN</td>\n",
              "      <td>NaN</td>\n",
              "      <td>NaN</td>\n",
              "      <td>NaN</td>\n",
              "      <td>NaN</td>\n",
              "      <td>NaN</td>\n",
              "      <td>NaN</td>\n",
              "      <td>NaN</td>\n",
              "      <td>NaN</td>\n",
              "      <td>NaN</td>\n",
              "      <td>NaN</td>\n",
              "      <td>NaN</td>\n",
              "      <td>NaN</td>\n",
              "      <td>NaN</td>\n",
              "      <td>NaN</td>\n",
              "      <td>NaN</td>\n",
              "      <td>NaN</td>\n",
              "      <td>NaN</td>\n",
              "      <td>NaN</td>\n",
              "      <td>NaN</td>\n",
              "      <td>NaN</td>\n",
              "      <td>NaN</td>\n",
              "      <td>NaN</td>\n",
              "      <td>NaN</td>\n",
              "      <td>NaN</td>\n",
              "      <td>NaN</td>\n",
              "      <td>NaN</td>\n",
              "      <td>NaN</td>\n",
              "      <td>NaN</td>\n",
              "      <td>NaN</td>\n",
              "      <td>NaN</td>\n",
              "      <td>NaN</td>\n",
              "      <td>NaN</td>\n",
              "      <td>NaN</td>\n",
              "      <td>NaN</td>\n",
              "      <td>NaN</td>\n",
              "      <td>NaN</td>\n",
              "      <td>NaN</td>\n",
              "      <td>NaN</td>\n",
              "      <td>NaN</td>\n",
              "      <td>NaN</td>\n",
              "      <td>NaN</td>\n",
              "      <td>NaN</td>\n",
              "      <td>NaN</td>\n",
              "      <td>NaN</td>\n",
              "    </tr>\n",
              "    <tr>\n",
              "      <th>...</th>\n",
              "      <td>...</td>\n",
              "      <td>...</td>\n",
              "      <td>...</td>\n",
              "      <td>...</td>\n",
              "      <td>...</td>\n",
              "      <td>...</td>\n",
              "      <td>...</td>\n",
              "      <td>...</td>\n",
              "      <td>...</td>\n",
              "      <td>...</td>\n",
              "      <td>...</td>\n",
              "      <td>...</td>\n",
              "      <td>...</td>\n",
              "      <td>...</td>\n",
              "      <td>...</td>\n",
              "      <td>...</td>\n",
              "      <td>...</td>\n",
              "      <td>...</td>\n",
              "      <td>...</td>\n",
              "      <td>...</td>\n",
              "      <td>...</td>\n",
              "      <td>...</td>\n",
              "      <td>...</td>\n",
              "      <td>...</td>\n",
              "      <td>...</td>\n",
              "      <td>...</td>\n",
              "      <td>...</td>\n",
              "      <td>...</td>\n",
              "      <td>...</td>\n",
              "      <td>...</td>\n",
              "      <td>...</td>\n",
              "      <td>...</td>\n",
              "      <td>...</td>\n",
              "      <td>...</td>\n",
              "      <td>...</td>\n",
              "      <td>...</td>\n",
              "      <td>...</td>\n",
              "      <td>...</td>\n",
              "      <td>...</td>\n",
              "      <td>...</td>\n",
              "      <td>...</td>\n",
              "      <td>...</td>\n",
              "      <td>...</td>\n",
              "      <td>...</td>\n",
              "      <td>...</td>\n",
              "      <td>...</td>\n",
              "      <td>...</td>\n",
              "      <td>...</td>\n",
              "      <td>...</td>\n",
              "      <td>...</td>\n",
              "      <td>...</td>\n",
              "      <td>...</td>\n",
              "      <td>...</td>\n",
              "      <td>...</td>\n",
              "      <td>...</td>\n",
              "      <td>...</td>\n",
              "      <td>...</td>\n",
              "      <td>...</td>\n",
              "      <td>...</td>\n",
              "      <td>...</td>\n",
              "      <td>...</td>\n",
              "      <td>...</td>\n",
              "      <td>...</td>\n",
              "      <td>...</td>\n",
              "      <td>...</td>\n",
              "    </tr>\n",
              "    <tr>\n",
              "      <th>259</th>\n",
              "      <td>Kosovo</td>\n",
              "      <td>XKX</td>\n",
              "      <td>Contraceptive prevalence, any methods (% of wo...</td>\n",
              "      <td>SP.DYN.CONU.ZS</td>\n",
              "      <td>NaN</td>\n",
              "      <td>NaN</td>\n",
              "      <td>NaN</td>\n",
              "      <td>NaN</td>\n",
              "      <td>NaN</td>\n",
              "      <td>NaN</td>\n",
              "      <td>NaN</td>\n",
              "      <td>NaN</td>\n",
              "      <td>NaN</td>\n",
              "      <td>NaN</td>\n",
              "      <td>NaN</td>\n",
              "      <td>NaN</td>\n",
              "      <td>NaN</td>\n",
              "      <td>NaN</td>\n",
              "      <td>NaN</td>\n",
              "      <td>NaN</td>\n",
              "      <td>NaN</td>\n",
              "      <td>NaN</td>\n",
              "      <td>NaN</td>\n",
              "      <td>NaN</td>\n",
              "      <td>NaN</td>\n",
              "      <td>NaN</td>\n",
              "      <td>NaN</td>\n",
              "      <td>NaN</td>\n",
              "      <td>NaN</td>\n",
              "      <td>NaN</td>\n",
              "      <td>NaN</td>\n",
              "      <td>NaN</td>\n",
              "      <td>NaN</td>\n",
              "      <td>NaN</td>\n",
              "      <td>NaN</td>\n",
              "      <td>NaN</td>\n",
              "      <td>NaN</td>\n",
              "      <td>NaN</td>\n",
              "      <td>NaN</td>\n",
              "      <td>NaN</td>\n",
              "      <td>NaN</td>\n",
              "      <td>NaN</td>\n",
              "      <td>NaN</td>\n",
              "      <td>NaN</td>\n",
              "      <td>NaN</td>\n",
              "      <td>NaN</td>\n",
              "      <td>NaN</td>\n",
              "      <td>NaN</td>\n",
              "      <td>NaN</td>\n",
              "      <td>NaN</td>\n",
              "      <td>NaN</td>\n",
              "      <td>NaN</td>\n",
              "      <td>NaN</td>\n",
              "      <td>NaN</td>\n",
              "      <td>NaN</td>\n",
              "      <td>NaN</td>\n",
              "      <td>NaN</td>\n",
              "      <td>NaN</td>\n",
              "      <td>NaN</td>\n",
              "      <td>NaN</td>\n",
              "      <td>NaN</td>\n",
              "      <td>NaN</td>\n",
              "      <td>NaN</td>\n",
              "      <td>NaN</td>\n",
              "      <td>NaN</td>\n",
              "    </tr>\n",
              "    <tr>\n",
              "      <th>260</th>\n",
              "      <td>Yemen, Rep.</td>\n",
              "      <td>YEM</td>\n",
              "      <td>Contraceptive prevalence, any methods (% of wo...</td>\n",
              "      <td>SP.DYN.CONU.ZS</td>\n",
              "      <td>NaN</td>\n",
              "      <td>NaN</td>\n",
              "      <td>NaN</td>\n",
              "      <td>NaN</td>\n",
              "      <td>NaN</td>\n",
              "      <td>NaN</td>\n",
              "      <td>NaN</td>\n",
              "      <td>NaN</td>\n",
              "      <td>NaN</td>\n",
              "      <td>NaN</td>\n",
              "      <td>NaN</td>\n",
              "      <td>NaN</td>\n",
              "      <td>NaN</td>\n",
              "      <td>NaN</td>\n",
              "      <td>NaN</td>\n",
              "      <td>NaN</td>\n",
              "      <td>NaN</td>\n",
              "      <td>NaN</td>\n",
              "      <td>NaN</td>\n",
              "      <td>1.7</td>\n",
              "      <td>NaN</td>\n",
              "      <td>NaN</td>\n",
              "      <td>NaN</td>\n",
              "      <td>NaN</td>\n",
              "      <td>NaN</td>\n",
              "      <td>NaN</td>\n",
              "      <td>NaN</td>\n",
              "      <td>NaN</td>\n",
              "      <td>NaN</td>\n",
              "      <td>NaN</td>\n",
              "      <td>NaN</td>\n",
              "      <td>NaN</td>\n",
              "      <td>9.7</td>\n",
              "      <td>NaN</td>\n",
              "      <td>NaN</td>\n",
              "      <td>NaN</td>\n",
              "      <td>NaN</td>\n",
              "      <td>20.8</td>\n",
              "      <td>NaN</td>\n",
              "      <td>NaN</td>\n",
              "      <td>NaN</td>\n",
              "      <td>NaN</td>\n",
              "      <td>NaN</td>\n",
              "      <td>23.1</td>\n",
              "      <td>NaN</td>\n",
              "      <td>NaN</td>\n",
              "      <td>27.7</td>\n",
              "      <td>NaN</td>\n",
              "      <td>NaN</td>\n",
              "      <td>NaN</td>\n",
              "      <td>NaN</td>\n",
              "      <td>NaN</td>\n",
              "      <td>NaN</td>\n",
              "      <td>33.5</td>\n",
              "      <td>NaN</td>\n",
              "      <td>NaN</td>\n",
              "      <td>NaN</td>\n",
              "      <td>NaN</td>\n",
              "      <td>NaN</td>\n",
              "      <td>NaN</td>\n",
              "      <td>NaN</td>\n",
              "    </tr>\n",
              "    <tr>\n",
              "      <th>261</th>\n",
              "      <td>South Africa</td>\n",
              "      <td>ZAF</td>\n",
              "      <td>Contraceptive prevalence, any methods (% of wo...</td>\n",
              "      <td>SP.DYN.CONU.ZS</td>\n",
              "      <td>NaN</td>\n",
              "      <td>NaN</td>\n",
              "      <td>NaN</td>\n",
              "      <td>NaN</td>\n",
              "      <td>NaN</td>\n",
              "      <td>NaN</td>\n",
              "      <td>NaN</td>\n",
              "      <td>NaN</td>\n",
              "      <td>NaN</td>\n",
              "      <td>NaN</td>\n",
              "      <td>NaN</td>\n",
              "      <td>NaN</td>\n",
              "      <td>NaN</td>\n",
              "      <td>NaN</td>\n",
              "      <td>NaN</td>\n",
              "      <td>NaN</td>\n",
              "      <td>NaN</td>\n",
              "      <td>NaN</td>\n",
              "      <td>NaN</td>\n",
              "      <td>NaN</td>\n",
              "      <td>48.0</td>\n",
              "      <td>NaN</td>\n",
              "      <td>NaN</td>\n",
              "      <td>NaN</td>\n",
              "      <td>NaN</td>\n",
              "      <td>NaN</td>\n",
              "      <td>NaN</td>\n",
              "      <td>NaN</td>\n",
              "      <td>49.7</td>\n",
              "      <td>NaN</td>\n",
              "      <td>57.0</td>\n",
              "      <td>NaN</td>\n",
              "      <td>NaN</td>\n",
              "      <td>NaN</td>\n",
              "      <td>NaN</td>\n",
              "      <td>NaN</td>\n",
              "      <td>NaN</td>\n",
              "      <td>NaN</td>\n",
              "      <td>56.3</td>\n",
              "      <td>NaN</td>\n",
              "      <td>NaN</td>\n",
              "      <td>NaN</td>\n",
              "      <td>NaN</td>\n",
              "      <td>59.9</td>\n",
              "      <td>NaN</td>\n",
              "      <td>NaN</td>\n",
              "      <td>NaN</td>\n",
              "      <td>NaN</td>\n",
              "      <td>NaN</td>\n",
              "      <td>NaN</td>\n",
              "      <td>NaN</td>\n",
              "      <td>NaN</td>\n",
              "      <td>NaN</td>\n",
              "      <td>NaN</td>\n",
              "      <td>NaN</td>\n",
              "      <td>NaN</td>\n",
              "      <td>54.6</td>\n",
              "      <td>NaN</td>\n",
              "      <td>NaN</td>\n",
              "      <td>NaN</td>\n",
              "      <td>NaN</td>\n",
              "    </tr>\n",
              "    <tr>\n",
              "      <th>262</th>\n",
              "      <td>Zambia</td>\n",
              "      <td>ZMB</td>\n",
              "      <td>Contraceptive prevalence, any methods (% of wo...</td>\n",
              "      <td>SP.DYN.CONU.ZS</td>\n",
              "      <td>NaN</td>\n",
              "      <td>NaN</td>\n",
              "      <td>NaN</td>\n",
              "      <td>NaN</td>\n",
              "      <td>NaN</td>\n",
              "      <td>NaN</td>\n",
              "      <td>NaN</td>\n",
              "      <td>NaN</td>\n",
              "      <td>NaN</td>\n",
              "      <td>NaN</td>\n",
              "      <td>NaN</td>\n",
              "      <td>NaN</td>\n",
              "      <td>NaN</td>\n",
              "      <td>NaN</td>\n",
              "      <td>NaN</td>\n",
              "      <td>NaN</td>\n",
              "      <td>NaN</td>\n",
              "      <td>NaN</td>\n",
              "      <td>NaN</td>\n",
              "      <td>NaN</td>\n",
              "      <td>NaN</td>\n",
              "      <td>NaN</td>\n",
              "      <td>NaN</td>\n",
              "      <td>NaN</td>\n",
              "      <td>NaN</td>\n",
              "      <td>NaN</td>\n",
              "      <td>NaN</td>\n",
              "      <td>NaN</td>\n",
              "      <td>NaN</td>\n",
              "      <td>NaN</td>\n",
              "      <td>NaN</td>\n",
              "      <td>NaN</td>\n",
              "      <td>15.2</td>\n",
              "      <td>NaN</td>\n",
              "      <td>NaN</td>\n",
              "      <td>NaN</td>\n",
              "      <td>25.9</td>\n",
              "      <td>NaN</td>\n",
              "      <td>NaN</td>\n",
              "      <td>22.0</td>\n",
              "      <td>NaN</td>\n",
              "      <td>NaN</td>\n",
              "      <td>34.2</td>\n",
              "      <td>NaN</td>\n",
              "      <td>NaN</td>\n",
              "      <td>NaN</td>\n",
              "      <td>NaN</td>\n",
              "      <td>40.8</td>\n",
              "      <td>NaN</td>\n",
              "      <td>NaN</td>\n",
              "      <td>NaN</td>\n",
              "      <td>NaN</td>\n",
              "      <td>NaN</td>\n",
              "      <td>NaN</td>\n",
              "      <td>49.0</td>\n",
              "      <td>NaN</td>\n",
              "      <td>NaN</td>\n",
              "      <td>NaN</td>\n",
              "      <td>NaN</td>\n",
              "      <td>NaN</td>\n",
              "      <td>NaN</td>\n",
              "    </tr>\n",
              "    <tr>\n",
              "      <th>263</th>\n",
              "      <td>Zimbabwe</td>\n",
              "      <td>ZWE</td>\n",
              "      <td>Contraceptive prevalence, any methods (% of wo...</td>\n",
              "      <td>SP.DYN.CONU.ZS</td>\n",
              "      <td>NaN</td>\n",
              "      <td>NaN</td>\n",
              "      <td>NaN</td>\n",
              "      <td>NaN</td>\n",
              "      <td>NaN</td>\n",
              "      <td>NaN</td>\n",
              "      <td>NaN</td>\n",
              "      <td>NaN</td>\n",
              "      <td>NaN</td>\n",
              "      <td>NaN</td>\n",
              "      <td>NaN</td>\n",
              "      <td>NaN</td>\n",
              "      <td>NaN</td>\n",
              "      <td>NaN</td>\n",
              "      <td>NaN</td>\n",
              "      <td>NaN</td>\n",
              "      <td>NaN</td>\n",
              "      <td>NaN</td>\n",
              "      <td>NaN</td>\n",
              "      <td>NaN</td>\n",
              "      <td>NaN</td>\n",
              "      <td>NaN</td>\n",
              "      <td>NaN</td>\n",
              "      <td>NaN</td>\n",
              "      <td>38.4</td>\n",
              "      <td>NaN</td>\n",
              "      <td>NaN</td>\n",
              "      <td>NaN</td>\n",
              "      <td>43.1</td>\n",
              "      <td>NaN</td>\n",
              "      <td>NaN</td>\n",
              "      <td>NaN</td>\n",
              "      <td>NaN</td>\n",
              "      <td>NaN</td>\n",
              "      <td>48.1</td>\n",
              "      <td>NaN</td>\n",
              "      <td>NaN</td>\n",
              "      <td>NaN</td>\n",
              "      <td>NaN</td>\n",
              "      <td>53.5</td>\n",
              "      <td>NaN</td>\n",
              "      <td>NaN</td>\n",
              "      <td>NaN</td>\n",
              "      <td>NaN</td>\n",
              "      <td>NaN</td>\n",
              "      <td>NaN</td>\n",
              "      <td>60.2</td>\n",
              "      <td>NaN</td>\n",
              "      <td>NaN</td>\n",
              "      <td>64.9</td>\n",
              "      <td>NaN</td>\n",
              "      <td>58.5</td>\n",
              "      <td>NaN</td>\n",
              "      <td>NaN</td>\n",
              "      <td>66.9</td>\n",
              "      <td>66.8</td>\n",
              "      <td>NaN</td>\n",
              "      <td>NaN</td>\n",
              "      <td>NaN</td>\n",
              "      <td>NaN</td>\n",
              "      <td>NaN</td>\n",
              "    </tr>\n",
              "  </tbody>\n",
              "</table>\n",
              "<p>264 rows × 65 columns</p>\n",
              "</div>"
            ],
            "text/plain": [
              "     Country Name Country Code  ... 2019 Unnamed: 64\n",
              "0           Aruba          ABW  ...  NaN         NaN\n",
              "1     Afghanistan          AFG  ...  NaN         NaN\n",
              "2          Angola          AGO  ...  NaN         NaN\n",
              "3         Albania          ALB  ...  NaN         NaN\n",
              "4         Andorra          AND  ...  NaN         NaN\n",
              "..            ...          ...  ...  ...         ...\n",
              "259        Kosovo          XKX  ...  NaN         NaN\n",
              "260   Yemen, Rep.          YEM  ...  NaN         NaN\n",
              "261  South Africa          ZAF  ...  NaN         NaN\n",
              "262        Zambia          ZMB  ...  NaN         NaN\n",
              "263      Zimbabwe          ZWE  ...  NaN         NaN\n",
              "\n",
              "[264 rows x 65 columns]"
            ]
          },
          "metadata": {
            "tags": []
          },
          "execution_count": 203
        }
      ]
    },
    {
      "cell_type": "code",
      "metadata": {
        "id": "N2W4A8ltbNdD",
        "colab_type": "code",
        "outputId": "fcca5cda-8c77-4da1-cdf9-935a6978835d",
        "colab": {
          "base_uri": "https://localhost:8080/",
          "height": 419
        }
      },
      "source": [
        "country = country_original[['Country Code', 'Region', 'IncomeGroup', 'TableName']]\n",
        "country = country.rename(columns={'TableName':'Country Name'})\n",
        "country"
      ],
      "execution_count": 204,
      "outputs": [
        {
          "output_type": "execute_result",
          "data": {
            "text/html": [
              "<div>\n",
              "<style scoped>\n",
              "    .dataframe tbody tr th:only-of-type {\n",
              "        vertical-align: middle;\n",
              "    }\n",
              "\n",
              "    .dataframe tbody tr th {\n",
              "        vertical-align: top;\n",
              "    }\n",
              "\n",
              "    .dataframe thead th {\n",
              "        text-align: right;\n",
              "    }\n",
              "</style>\n",
              "<table border=\"1\" class=\"dataframe\">\n",
              "  <thead>\n",
              "    <tr style=\"text-align: right;\">\n",
              "      <th></th>\n",
              "      <th>Country Code</th>\n",
              "      <th>Region</th>\n",
              "      <th>IncomeGroup</th>\n",
              "      <th>Country Name</th>\n",
              "    </tr>\n",
              "  </thead>\n",
              "  <tbody>\n",
              "    <tr>\n",
              "      <th>0</th>\n",
              "      <td>ABW</td>\n",
              "      <td>Latin America &amp; Caribbean</td>\n",
              "      <td>High income</td>\n",
              "      <td>Aruba</td>\n",
              "    </tr>\n",
              "    <tr>\n",
              "      <th>1</th>\n",
              "      <td>AFG</td>\n",
              "      <td>South Asia</td>\n",
              "      <td>Low income</td>\n",
              "      <td>Afghanistan</td>\n",
              "    </tr>\n",
              "    <tr>\n",
              "      <th>2</th>\n",
              "      <td>AGO</td>\n",
              "      <td>Sub-Saharan Africa</td>\n",
              "      <td>Lower middle income</td>\n",
              "      <td>Angola</td>\n",
              "    </tr>\n",
              "    <tr>\n",
              "      <th>3</th>\n",
              "      <td>ALB</td>\n",
              "      <td>Europe &amp; Central Asia</td>\n",
              "      <td>Upper middle income</td>\n",
              "      <td>Albania</td>\n",
              "    </tr>\n",
              "    <tr>\n",
              "      <th>4</th>\n",
              "      <td>AND</td>\n",
              "      <td>Europe &amp; Central Asia</td>\n",
              "      <td>High income</td>\n",
              "      <td>Andorra</td>\n",
              "    </tr>\n",
              "    <tr>\n",
              "      <th>...</th>\n",
              "      <td>...</td>\n",
              "      <td>...</td>\n",
              "      <td>...</td>\n",
              "      <td>...</td>\n",
              "    </tr>\n",
              "    <tr>\n",
              "      <th>258</th>\n",
              "      <td>XKX</td>\n",
              "      <td>Europe &amp; Central Asia</td>\n",
              "      <td>Upper middle income</td>\n",
              "      <td>Kosovo</td>\n",
              "    </tr>\n",
              "    <tr>\n",
              "      <th>259</th>\n",
              "      <td>YEM</td>\n",
              "      <td>Middle East &amp; North Africa</td>\n",
              "      <td>Low income</td>\n",
              "      <td>Yemen, Rep.</td>\n",
              "    </tr>\n",
              "    <tr>\n",
              "      <th>260</th>\n",
              "      <td>ZAF</td>\n",
              "      <td>Sub-Saharan Africa</td>\n",
              "      <td>Upper middle income</td>\n",
              "      <td>South Africa</td>\n",
              "    </tr>\n",
              "    <tr>\n",
              "      <th>261</th>\n",
              "      <td>ZMB</td>\n",
              "      <td>Sub-Saharan Africa</td>\n",
              "      <td>Lower middle income</td>\n",
              "      <td>Zambia</td>\n",
              "    </tr>\n",
              "    <tr>\n",
              "      <th>262</th>\n",
              "      <td>ZWE</td>\n",
              "      <td>Sub-Saharan Africa</td>\n",
              "      <td>Lower middle income</td>\n",
              "      <td>Zimbabwe</td>\n",
              "    </tr>\n",
              "  </tbody>\n",
              "</table>\n",
              "<p>263 rows × 4 columns</p>\n",
              "</div>"
            ],
            "text/plain": [
              "    Country Code                      Region          IncomeGroup  Country Name\n",
              "0            ABW   Latin America & Caribbean          High income         Aruba\n",
              "1            AFG                  South Asia           Low income   Afghanistan\n",
              "2            AGO          Sub-Saharan Africa  Lower middle income        Angola\n",
              "3            ALB       Europe & Central Asia  Upper middle income       Albania\n",
              "4            AND       Europe & Central Asia          High income       Andorra\n",
              "..           ...                         ...                  ...           ...\n",
              "258          XKX       Europe & Central Asia  Upper middle income        Kosovo\n",
              "259          YEM  Middle East & North Africa           Low income   Yemen, Rep.\n",
              "260          ZAF          Sub-Saharan Africa  Upper middle income  South Africa\n",
              "261          ZMB          Sub-Saharan Africa  Lower middle income        Zambia\n",
              "262          ZWE          Sub-Saharan Africa  Lower middle income      Zimbabwe\n",
              "\n",
              "[263 rows x 4 columns]"
            ]
          },
          "metadata": {
            "tags": []
          },
          "execution_count": 204
        }
      ]
    },
    {
      "cell_type": "code",
      "metadata": {
        "id": "eDVg4SzKdeTV",
        "colab_type": "code",
        "outputId": "207a6837-ccac-421e-91a0-3cd2de9093ac",
        "colab": {
          "base_uri": "https://localhost:8080/",
          "height": 490
        }
      },
      "source": [
        "prev = prevalence_original.drop(columns=['Indicator Name', 'Indicator Code', 'Unnamed: 64'])\n",
        "prev"
      ],
      "execution_count": 205,
      "outputs": [
        {
          "output_type": "execute_result",
          "data": {
            "text/html": [
              "<div>\n",
              "<style scoped>\n",
              "    .dataframe tbody tr th:only-of-type {\n",
              "        vertical-align: middle;\n",
              "    }\n",
              "\n",
              "    .dataframe tbody tr th {\n",
              "        vertical-align: top;\n",
              "    }\n",
              "\n",
              "    .dataframe thead th {\n",
              "        text-align: right;\n",
              "    }\n",
              "</style>\n",
              "<table border=\"1\" class=\"dataframe\">\n",
              "  <thead>\n",
              "    <tr style=\"text-align: right;\">\n",
              "      <th></th>\n",
              "      <th>Country Name</th>\n",
              "      <th>Country Code</th>\n",
              "      <th>1960</th>\n",
              "      <th>1961</th>\n",
              "      <th>1962</th>\n",
              "      <th>1963</th>\n",
              "      <th>1964</th>\n",
              "      <th>1965</th>\n",
              "      <th>1966</th>\n",
              "      <th>1967</th>\n",
              "      <th>1968</th>\n",
              "      <th>1969</th>\n",
              "      <th>1970</th>\n",
              "      <th>1971</th>\n",
              "      <th>1972</th>\n",
              "      <th>1973</th>\n",
              "      <th>1974</th>\n",
              "      <th>1975</th>\n",
              "      <th>1976</th>\n",
              "      <th>1977</th>\n",
              "      <th>1978</th>\n",
              "      <th>1979</th>\n",
              "      <th>1980</th>\n",
              "      <th>1981</th>\n",
              "      <th>1982</th>\n",
              "      <th>1983</th>\n",
              "      <th>1984</th>\n",
              "      <th>1985</th>\n",
              "      <th>1986</th>\n",
              "      <th>1987</th>\n",
              "      <th>1988</th>\n",
              "      <th>1989</th>\n",
              "      <th>1990</th>\n",
              "      <th>1991</th>\n",
              "      <th>1992</th>\n",
              "      <th>1993</th>\n",
              "      <th>1994</th>\n",
              "      <th>1995</th>\n",
              "      <th>1996</th>\n",
              "      <th>1997</th>\n",
              "      <th>1998</th>\n",
              "      <th>1999</th>\n",
              "      <th>2000</th>\n",
              "      <th>2001</th>\n",
              "      <th>2002</th>\n",
              "      <th>2003</th>\n",
              "      <th>2004</th>\n",
              "      <th>2005</th>\n",
              "      <th>2006</th>\n",
              "      <th>2007</th>\n",
              "      <th>2008</th>\n",
              "      <th>2009</th>\n",
              "      <th>2010</th>\n",
              "      <th>2011</th>\n",
              "      <th>2012</th>\n",
              "      <th>2013</th>\n",
              "      <th>2014</th>\n",
              "      <th>2015</th>\n",
              "      <th>2016</th>\n",
              "      <th>2017</th>\n",
              "      <th>2018</th>\n",
              "      <th>2019</th>\n",
              "    </tr>\n",
              "  </thead>\n",
              "  <tbody>\n",
              "    <tr>\n",
              "      <th>0</th>\n",
              "      <td>Aruba</td>\n",
              "      <td>ABW</td>\n",
              "      <td>NaN</td>\n",
              "      <td>NaN</td>\n",
              "      <td>NaN</td>\n",
              "      <td>NaN</td>\n",
              "      <td>NaN</td>\n",
              "      <td>NaN</td>\n",
              "      <td>NaN</td>\n",
              "      <td>NaN</td>\n",
              "      <td>NaN</td>\n",
              "      <td>NaN</td>\n",
              "      <td>NaN</td>\n",
              "      <td>NaN</td>\n",
              "      <td>NaN</td>\n",
              "      <td>NaN</td>\n",
              "      <td>NaN</td>\n",
              "      <td>NaN</td>\n",
              "      <td>NaN</td>\n",
              "      <td>NaN</td>\n",
              "      <td>NaN</td>\n",
              "      <td>NaN</td>\n",
              "      <td>NaN</td>\n",
              "      <td>NaN</td>\n",
              "      <td>NaN</td>\n",
              "      <td>NaN</td>\n",
              "      <td>NaN</td>\n",
              "      <td>NaN</td>\n",
              "      <td>NaN</td>\n",
              "      <td>NaN</td>\n",
              "      <td>NaN</td>\n",
              "      <td>NaN</td>\n",
              "      <td>NaN</td>\n",
              "      <td>NaN</td>\n",
              "      <td>NaN</td>\n",
              "      <td>NaN</td>\n",
              "      <td>NaN</td>\n",
              "      <td>NaN</td>\n",
              "      <td>NaN</td>\n",
              "      <td>NaN</td>\n",
              "      <td>NaN</td>\n",
              "      <td>NaN</td>\n",
              "      <td>NaN</td>\n",
              "      <td>NaN</td>\n",
              "      <td>NaN</td>\n",
              "      <td>NaN</td>\n",
              "      <td>NaN</td>\n",
              "      <td>NaN</td>\n",
              "      <td>NaN</td>\n",
              "      <td>NaN</td>\n",
              "      <td>NaN</td>\n",
              "      <td>NaN</td>\n",
              "      <td>NaN</td>\n",
              "      <td>NaN</td>\n",
              "      <td>NaN</td>\n",
              "      <td>NaN</td>\n",
              "      <td>NaN</td>\n",
              "      <td>NaN</td>\n",
              "      <td>NaN</td>\n",
              "      <td>NaN</td>\n",
              "      <td>NaN</td>\n",
              "      <td>NaN</td>\n",
              "    </tr>\n",
              "    <tr>\n",
              "      <th>1</th>\n",
              "      <td>Afghanistan</td>\n",
              "      <td>AFG</td>\n",
              "      <td>NaN</td>\n",
              "      <td>NaN</td>\n",
              "      <td>NaN</td>\n",
              "      <td>NaN</td>\n",
              "      <td>NaN</td>\n",
              "      <td>NaN</td>\n",
              "      <td>NaN</td>\n",
              "      <td>NaN</td>\n",
              "      <td>NaN</td>\n",
              "      <td>NaN</td>\n",
              "      <td>NaN</td>\n",
              "      <td>NaN</td>\n",
              "      <td>NaN</td>\n",
              "      <td>1.6</td>\n",
              "      <td>NaN</td>\n",
              "      <td>NaN</td>\n",
              "      <td>NaN</td>\n",
              "      <td>NaN</td>\n",
              "      <td>NaN</td>\n",
              "      <td>NaN</td>\n",
              "      <td>NaN</td>\n",
              "      <td>NaN</td>\n",
              "      <td>NaN</td>\n",
              "      <td>NaN</td>\n",
              "      <td>NaN</td>\n",
              "      <td>NaN</td>\n",
              "      <td>NaN</td>\n",
              "      <td>NaN</td>\n",
              "      <td>NaN</td>\n",
              "      <td>NaN</td>\n",
              "      <td>NaN</td>\n",
              "      <td>NaN</td>\n",
              "      <td>NaN</td>\n",
              "      <td>NaN</td>\n",
              "      <td>NaN</td>\n",
              "      <td>NaN</td>\n",
              "      <td>NaN</td>\n",
              "      <td>NaN</td>\n",
              "      <td>NaN</td>\n",
              "      <td>NaN</td>\n",
              "      <td>5.3</td>\n",
              "      <td>NaN</td>\n",
              "      <td>NaN</td>\n",
              "      <td>10.3</td>\n",
              "      <td>NaN</td>\n",
              "      <td>13.6</td>\n",
              "      <td>18.6</td>\n",
              "      <td>NaN</td>\n",
              "      <td>22.8</td>\n",
              "      <td>NaN</td>\n",
              "      <td>21.8</td>\n",
              "      <td>21.2</td>\n",
              "      <td>NaN</td>\n",
              "      <td>NaN</td>\n",
              "      <td>NaN</td>\n",
              "      <td>22.5</td>\n",
              "      <td>NaN</td>\n",
              "      <td>NaN</td>\n",
              "      <td>NaN</td>\n",
              "      <td>NaN</td>\n",
              "    </tr>\n",
              "    <tr>\n",
              "      <th>2</th>\n",
              "      <td>Angola</td>\n",
              "      <td>AGO</td>\n",
              "      <td>NaN</td>\n",
              "      <td>NaN</td>\n",
              "      <td>NaN</td>\n",
              "      <td>NaN</td>\n",
              "      <td>NaN</td>\n",
              "      <td>NaN</td>\n",
              "      <td>NaN</td>\n",
              "      <td>NaN</td>\n",
              "      <td>NaN</td>\n",
              "      <td>NaN</td>\n",
              "      <td>NaN</td>\n",
              "      <td>NaN</td>\n",
              "      <td>NaN</td>\n",
              "      <td>NaN</td>\n",
              "      <td>NaN</td>\n",
              "      <td>NaN</td>\n",
              "      <td>NaN</td>\n",
              "      <td>NaN</td>\n",
              "      <td>NaN</td>\n",
              "      <td>NaN</td>\n",
              "      <td>NaN</td>\n",
              "      <td>NaN</td>\n",
              "      <td>NaN</td>\n",
              "      <td>NaN</td>\n",
              "      <td>NaN</td>\n",
              "      <td>NaN</td>\n",
              "      <td>NaN</td>\n",
              "      <td>NaN</td>\n",
              "      <td>NaN</td>\n",
              "      <td>NaN</td>\n",
              "      <td>NaN</td>\n",
              "      <td>NaN</td>\n",
              "      <td>NaN</td>\n",
              "      <td>NaN</td>\n",
              "      <td>NaN</td>\n",
              "      <td>NaN</td>\n",
              "      <td>8.1</td>\n",
              "      <td>NaN</td>\n",
              "      <td>NaN</td>\n",
              "      <td>NaN</td>\n",
              "      <td>NaN</td>\n",
              "      <td>6.2</td>\n",
              "      <td>NaN</td>\n",
              "      <td>NaN</td>\n",
              "      <td>NaN</td>\n",
              "      <td>NaN</td>\n",
              "      <td>NaN</td>\n",
              "      <td>NaN</td>\n",
              "      <td>NaN</td>\n",
              "      <td>17.7</td>\n",
              "      <td>NaN</td>\n",
              "      <td>NaN</td>\n",
              "      <td>NaN</td>\n",
              "      <td>NaN</td>\n",
              "      <td>NaN</td>\n",
              "      <td>NaN</td>\n",
              "      <td>13.7</td>\n",
              "      <td>NaN</td>\n",
              "      <td>NaN</td>\n",
              "      <td>NaN</td>\n",
              "    </tr>\n",
              "    <tr>\n",
              "      <th>3</th>\n",
              "      <td>Albania</td>\n",
              "      <td>ALB</td>\n",
              "      <td>NaN</td>\n",
              "      <td>NaN</td>\n",
              "      <td>NaN</td>\n",
              "      <td>NaN</td>\n",
              "      <td>NaN</td>\n",
              "      <td>NaN</td>\n",
              "      <td>NaN</td>\n",
              "      <td>NaN</td>\n",
              "      <td>NaN</td>\n",
              "      <td>NaN</td>\n",
              "      <td>NaN</td>\n",
              "      <td>NaN</td>\n",
              "      <td>NaN</td>\n",
              "      <td>NaN</td>\n",
              "      <td>NaN</td>\n",
              "      <td>NaN</td>\n",
              "      <td>NaN</td>\n",
              "      <td>NaN</td>\n",
              "      <td>NaN</td>\n",
              "      <td>NaN</td>\n",
              "      <td>NaN</td>\n",
              "      <td>NaN</td>\n",
              "      <td>NaN</td>\n",
              "      <td>NaN</td>\n",
              "      <td>NaN</td>\n",
              "      <td>NaN</td>\n",
              "      <td>NaN</td>\n",
              "      <td>NaN</td>\n",
              "      <td>NaN</td>\n",
              "      <td>NaN</td>\n",
              "      <td>NaN</td>\n",
              "      <td>NaN</td>\n",
              "      <td>NaN</td>\n",
              "      <td>NaN</td>\n",
              "      <td>NaN</td>\n",
              "      <td>NaN</td>\n",
              "      <td>NaN</td>\n",
              "      <td>NaN</td>\n",
              "      <td>NaN</td>\n",
              "      <td>NaN</td>\n",
              "      <td>57.5</td>\n",
              "      <td>NaN</td>\n",
              "      <td>75.1</td>\n",
              "      <td>NaN</td>\n",
              "      <td>NaN</td>\n",
              "      <td>60.1</td>\n",
              "      <td>NaN</td>\n",
              "      <td>NaN</td>\n",
              "      <td>NaN</td>\n",
              "      <td>69.3</td>\n",
              "      <td>NaN</td>\n",
              "      <td>NaN</td>\n",
              "      <td>NaN</td>\n",
              "      <td>NaN</td>\n",
              "      <td>NaN</td>\n",
              "      <td>NaN</td>\n",
              "      <td>NaN</td>\n",
              "      <td>NaN</td>\n",
              "      <td>46.0</td>\n",
              "      <td>NaN</td>\n",
              "    </tr>\n",
              "    <tr>\n",
              "      <th>4</th>\n",
              "      <td>Andorra</td>\n",
              "      <td>AND</td>\n",
              "      <td>NaN</td>\n",
              "      <td>NaN</td>\n",
              "      <td>NaN</td>\n",
              "      <td>NaN</td>\n",
              "      <td>NaN</td>\n",
              "      <td>NaN</td>\n",
              "      <td>NaN</td>\n",
              "      <td>NaN</td>\n",
              "      <td>NaN</td>\n",
              "      <td>NaN</td>\n",
              "      <td>NaN</td>\n",
              "      <td>NaN</td>\n",
              "      <td>NaN</td>\n",
              "      <td>NaN</td>\n",
              "      <td>NaN</td>\n",
              "      <td>NaN</td>\n",
              "      <td>NaN</td>\n",
              "      <td>NaN</td>\n",
              "      <td>NaN</td>\n",
              "      <td>NaN</td>\n",
              "      <td>NaN</td>\n",
              "      <td>NaN</td>\n",
              "      <td>NaN</td>\n",
              "      <td>NaN</td>\n",
              "      <td>NaN</td>\n",
              "      <td>NaN</td>\n",
              "      <td>NaN</td>\n",
              "      <td>NaN</td>\n",
              "      <td>NaN</td>\n",
              "      <td>NaN</td>\n",
              "      <td>NaN</td>\n",
              "      <td>NaN</td>\n",
              "      <td>NaN</td>\n",
              "      <td>NaN</td>\n",
              "      <td>NaN</td>\n",
              "      <td>NaN</td>\n",
              "      <td>NaN</td>\n",
              "      <td>NaN</td>\n",
              "      <td>NaN</td>\n",
              "      <td>NaN</td>\n",
              "      <td>NaN</td>\n",
              "      <td>NaN</td>\n",
              "      <td>NaN</td>\n",
              "      <td>NaN</td>\n",
              "      <td>NaN</td>\n",
              "      <td>NaN</td>\n",
              "      <td>NaN</td>\n",
              "      <td>NaN</td>\n",
              "      <td>NaN</td>\n",
              "      <td>NaN</td>\n",
              "      <td>NaN</td>\n",
              "      <td>NaN</td>\n",
              "      <td>NaN</td>\n",
              "      <td>NaN</td>\n",
              "      <td>NaN</td>\n",
              "      <td>NaN</td>\n",
              "      <td>NaN</td>\n",
              "      <td>NaN</td>\n",
              "      <td>NaN</td>\n",
              "      <td>NaN</td>\n",
              "    </tr>\n",
              "    <tr>\n",
              "      <th>...</th>\n",
              "      <td>...</td>\n",
              "      <td>...</td>\n",
              "      <td>...</td>\n",
              "      <td>...</td>\n",
              "      <td>...</td>\n",
              "      <td>...</td>\n",
              "      <td>...</td>\n",
              "      <td>...</td>\n",
              "      <td>...</td>\n",
              "      <td>...</td>\n",
              "      <td>...</td>\n",
              "      <td>...</td>\n",
              "      <td>...</td>\n",
              "      <td>...</td>\n",
              "      <td>...</td>\n",
              "      <td>...</td>\n",
              "      <td>...</td>\n",
              "      <td>...</td>\n",
              "      <td>...</td>\n",
              "      <td>...</td>\n",
              "      <td>...</td>\n",
              "      <td>...</td>\n",
              "      <td>...</td>\n",
              "      <td>...</td>\n",
              "      <td>...</td>\n",
              "      <td>...</td>\n",
              "      <td>...</td>\n",
              "      <td>...</td>\n",
              "      <td>...</td>\n",
              "      <td>...</td>\n",
              "      <td>...</td>\n",
              "      <td>...</td>\n",
              "      <td>...</td>\n",
              "      <td>...</td>\n",
              "      <td>...</td>\n",
              "      <td>...</td>\n",
              "      <td>...</td>\n",
              "      <td>...</td>\n",
              "      <td>...</td>\n",
              "      <td>...</td>\n",
              "      <td>...</td>\n",
              "      <td>...</td>\n",
              "      <td>...</td>\n",
              "      <td>...</td>\n",
              "      <td>...</td>\n",
              "      <td>...</td>\n",
              "      <td>...</td>\n",
              "      <td>...</td>\n",
              "      <td>...</td>\n",
              "      <td>...</td>\n",
              "      <td>...</td>\n",
              "      <td>...</td>\n",
              "      <td>...</td>\n",
              "      <td>...</td>\n",
              "      <td>...</td>\n",
              "      <td>...</td>\n",
              "      <td>...</td>\n",
              "      <td>...</td>\n",
              "      <td>...</td>\n",
              "      <td>...</td>\n",
              "      <td>...</td>\n",
              "      <td>...</td>\n",
              "    </tr>\n",
              "    <tr>\n",
              "      <th>259</th>\n",
              "      <td>Kosovo</td>\n",
              "      <td>XKX</td>\n",
              "      <td>NaN</td>\n",
              "      <td>NaN</td>\n",
              "      <td>NaN</td>\n",
              "      <td>NaN</td>\n",
              "      <td>NaN</td>\n",
              "      <td>NaN</td>\n",
              "      <td>NaN</td>\n",
              "      <td>NaN</td>\n",
              "      <td>NaN</td>\n",
              "      <td>NaN</td>\n",
              "      <td>NaN</td>\n",
              "      <td>NaN</td>\n",
              "      <td>NaN</td>\n",
              "      <td>NaN</td>\n",
              "      <td>NaN</td>\n",
              "      <td>NaN</td>\n",
              "      <td>NaN</td>\n",
              "      <td>NaN</td>\n",
              "      <td>NaN</td>\n",
              "      <td>NaN</td>\n",
              "      <td>NaN</td>\n",
              "      <td>NaN</td>\n",
              "      <td>NaN</td>\n",
              "      <td>NaN</td>\n",
              "      <td>NaN</td>\n",
              "      <td>NaN</td>\n",
              "      <td>NaN</td>\n",
              "      <td>NaN</td>\n",
              "      <td>NaN</td>\n",
              "      <td>NaN</td>\n",
              "      <td>NaN</td>\n",
              "      <td>NaN</td>\n",
              "      <td>NaN</td>\n",
              "      <td>NaN</td>\n",
              "      <td>NaN</td>\n",
              "      <td>NaN</td>\n",
              "      <td>NaN</td>\n",
              "      <td>NaN</td>\n",
              "      <td>NaN</td>\n",
              "      <td>NaN</td>\n",
              "      <td>NaN</td>\n",
              "      <td>NaN</td>\n",
              "      <td>NaN</td>\n",
              "      <td>NaN</td>\n",
              "      <td>NaN</td>\n",
              "      <td>NaN</td>\n",
              "      <td>NaN</td>\n",
              "      <td>NaN</td>\n",
              "      <td>NaN</td>\n",
              "      <td>NaN</td>\n",
              "      <td>NaN</td>\n",
              "      <td>NaN</td>\n",
              "      <td>NaN</td>\n",
              "      <td>NaN</td>\n",
              "      <td>NaN</td>\n",
              "      <td>NaN</td>\n",
              "      <td>NaN</td>\n",
              "      <td>NaN</td>\n",
              "      <td>NaN</td>\n",
              "      <td>NaN</td>\n",
              "    </tr>\n",
              "    <tr>\n",
              "      <th>260</th>\n",
              "      <td>Yemen, Rep.</td>\n",
              "      <td>YEM</td>\n",
              "      <td>NaN</td>\n",
              "      <td>NaN</td>\n",
              "      <td>NaN</td>\n",
              "      <td>NaN</td>\n",
              "      <td>NaN</td>\n",
              "      <td>NaN</td>\n",
              "      <td>NaN</td>\n",
              "      <td>NaN</td>\n",
              "      <td>NaN</td>\n",
              "      <td>NaN</td>\n",
              "      <td>NaN</td>\n",
              "      <td>NaN</td>\n",
              "      <td>NaN</td>\n",
              "      <td>NaN</td>\n",
              "      <td>NaN</td>\n",
              "      <td>NaN</td>\n",
              "      <td>NaN</td>\n",
              "      <td>NaN</td>\n",
              "      <td>NaN</td>\n",
              "      <td>1.7</td>\n",
              "      <td>NaN</td>\n",
              "      <td>NaN</td>\n",
              "      <td>NaN</td>\n",
              "      <td>NaN</td>\n",
              "      <td>NaN</td>\n",
              "      <td>NaN</td>\n",
              "      <td>NaN</td>\n",
              "      <td>NaN</td>\n",
              "      <td>NaN</td>\n",
              "      <td>NaN</td>\n",
              "      <td>NaN</td>\n",
              "      <td>NaN</td>\n",
              "      <td>9.7</td>\n",
              "      <td>NaN</td>\n",
              "      <td>NaN</td>\n",
              "      <td>NaN</td>\n",
              "      <td>NaN</td>\n",
              "      <td>20.8</td>\n",
              "      <td>NaN</td>\n",
              "      <td>NaN</td>\n",
              "      <td>NaN</td>\n",
              "      <td>NaN</td>\n",
              "      <td>NaN</td>\n",
              "      <td>23.1</td>\n",
              "      <td>NaN</td>\n",
              "      <td>NaN</td>\n",
              "      <td>27.7</td>\n",
              "      <td>NaN</td>\n",
              "      <td>NaN</td>\n",
              "      <td>NaN</td>\n",
              "      <td>NaN</td>\n",
              "      <td>NaN</td>\n",
              "      <td>NaN</td>\n",
              "      <td>33.5</td>\n",
              "      <td>NaN</td>\n",
              "      <td>NaN</td>\n",
              "      <td>NaN</td>\n",
              "      <td>NaN</td>\n",
              "      <td>NaN</td>\n",
              "      <td>NaN</td>\n",
              "    </tr>\n",
              "    <tr>\n",
              "      <th>261</th>\n",
              "      <td>South Africa</td>\n",
              "      <td>ZAF</td>\n",
              "      <td>NaN</td>\n",
              "      <td>NaN</td>\n",
              "      <td>NaN</td>\n",
              "      <td>NaN</td>\n",
              "      <td>NaN</td>\n",
              "      <td>NaN</td>\n",
              "      <td>NaN</td>\n",
              "      <td>NaN</td>\n",
              "      <td>NaN</td>\n",
              "      <td>NaN</td>\n",
              "      <td>NaN</td>\n",
              "      <td>NaN</td>\n",
              "      <td>NaN</td>\n",
              "      <td>NaN</td>\n",
              "      <td>NaN</td>\n",
              "      <td>NaN</td>\n",
              "      <td>NaN</td>\n",
              "      <td>NaN</td>\n",
              "      <td>NaN</td>\n",
              "      <td>NaN</td>\n",
              "      <td>48.0</td>\n",
              "      <td>NaN</td>\n",
              "      <td>NaN</td>\n",
              "      <td>NaN</td>\n",
              "      <td>NaN</td>\n",
              "      <td>NaN</td>\n",
              "      <td>NaN</td>\n",
              "      <td>NaN</td>\n",
              "      <td>49.7</td>\n",
              "      <td>NaN</td>\n",
              "      <td>57.0</td>\n",
              "      <td>NaN</td>\n",
              "      <td>NaN</td>\n",
              "      <td>NaN</td>\n",
              "      <td>NaN</td>\n",
              "      <td>NaN</td>\n",
              "      <td>NaN</td>\n",
              "      <td>NaN</td>\n",
              "      <td>56.3</td>\n",
              "      <td>NaN</td>\n",
              "      <td>NaN</td>\n",
              "      <td>NaN</td>\n",
              "      <td>NaN</td>\n",
              "      <td>59.9</td>\n",
              "      <td>NaN</td>\n",
              "      <td>NaN</td>\n",
              "      <td>NaN</td>\n",
              "      <td>NaN</td>\n",
              "      <td>NaN</td>\n",
              "      <td>NaN</td>\n",
              "      <td>NaN</td>\n",
              "      <td>NaN</td>\n",
              "      <td>NaN</td>\n",
              "      <td>NaN</td>\n",
              "      <td>NaN</td>\n",
              "      <td>NaN</td>\n",
              "      <td>54.6</td>\n",
              "      <td>NaN</td>\n",
              "      <td>NaN</td>\n",
              "      <td>NaN</td>\n",
              "    </tr>\n",
              "    <tr>\n",
              "      <th>262</th>\n",
              "      <td>Zambia</td>\n",
              "      <td>ZMB</td>\n",
              "      <td>NaN</td>\n",
              "      <td>NaN</td>\n",
              "      <td>NaN</td>\n",
              "      <td>NaN</td>\n",
              "      <td>NaN</td>\n",
              "      <td>NaN</td>\n",
              "      <td>NaN</td>\n",
              "      <td>NaN</td>\n",
              "      <td>NaN</td>\n",
              "      <td>NaN</td>\n",
              "      <td>NaN</td>\n",
              "      <td>NaN</td>\n",
              "      <td>NaN</td>\n",
              "      <td>NaN</td>\n",
              "      <td>NaN</td>\n",
              "      <td>NaN</td>\n",
              "      <td>NaN</td>\n",
              "      <td>NaN</td>\n",
              "      <td>NaN</td>\n",
              "      <td>NaN</td>\n",
              "      <td>NaN</td>\n",
              "      <td>NaN</td>\n",
              "      <td>NaN</td>\n",
              "      <td>NaN</td>\n",
              "      <td>NaN</td>\n",
              "      <td>NaN</td>\n",
              "      <td>NaN</td>\n",
              "      <td>NaN</td>\n",
              "      <td>NaN</td>\n",
              "      <td>NaN</td>\n",
              "      <td>NaN</td>\n",
              "      <td>NaN</td>\n",
              "      <td>15.2</td>\n",
              "      <td>NaN</td>\n",
              "      <td>NaN</td>\n",
              "      <td>NaN</td>\n",
              "      <td>25.9</td>\n",
              "      <td>NaN</td>\n",
              "      <td>NaN</td>\n",
              "      <td>22.0</td>\n",
              "      <td>NaN</td>\n",
              "      <td>NaN</td>\n",
              "      <td>34.2</td>\n",
              "      <td>NaN</td>\n",
              "      <td>NaN</td>\n",
              "      <td>NaN</td>\n",
              "      <td>NaN</td>\n",
              "      <td>40.8</td>\n",
              "      <td>NaN</td>\n",
              "      <td>NaN</td>\n",
              "      <td>NaN</td>\n",
              "      <td>NaN</td>\n",
              "      <td>NaN</td>\n",
              "      <td>NaN</td>\n",
              "      <td>49.0</td>\n",
              "      <td>NaN</td>\n",
              "      <td>NaN</td>\n",
              "      <td>NaN</td>\n",
              "      <td>NaN</td>\n",
              "      <td>NaN</td>\n",
              "    </tr>\n",
              "    <tr>\n",
              "      <th>263</th>\n",
              "      <td>Zimbabwe</td>\n",
              "      <td>ZWE</td>\n",
              "      <td>NaN</td>\n",
              "      <td>NaN</td>\n",
              "      <td>NaN</td>\n",
              "      <td>NaN</td>\n",
              "      <td>NaN</td>\n",
              "      <td>NaN</td>\n",
              "      <td>NaN</td>\n",
              "      <td>NaN</td>\n",
              "      <td>NaN</td>\n",
              "      <td>NaN</td>\n",
              "      <td>NaN</td>\n",
              "      <td>NaN</td>\n",
              "      <td>NaN</td>\n",
              "      <td>NaN</td>\n",
              "      <td>NaN</td>\n",
              "      <td>NaN</td>\n",
              "      <td>NaN</td>\n",
              "      <td>NaN</td>\n",
              "      <td>NaN</td>\n",
              "      <td>NaN</td>\n",
              "      <td>NaN</td>\n",
              "      <td>NaN</td>\n",
              "      <td>NaN</td>\n",
              "      <td>NaN</td>\n",
              "      <td>38.4</td>\n",
              "      <td>NaN</td>\n",
              "      <td>NaN</td>\n",
              "      <td>NaN</td>\n",
              "      <td>43.1</td>\n",
              "      <td>NaN</td>\n",
              "      <td>NaN</td>\n",
              "      <td>NaN</td>\n",
              "      <td>NaN</td>\n",
              "      <td>NaN</td>\n",
              "      <td>48.1</td>\n",
              "      <td>NaN</td>\n",
              "      <td>NaN</td>\n",
              "      <td>NaN</td>\n",
              "      <td>NaN</td>\n",
              "      <td>53.5</td>\n",
              "      <td>NaN</td>\n",
              "      <td>NaN</td>\n",
              "      <td>NaN</td>\n",
              "      <td>NaN</td>\n",
              "      <td>NaN</td>\n",
              "      <td>NaN</td>\n",
              "      <td>60.2</td>\n",
              "      <td>NaN</td>\n",
              "      <td>NaN</td>\n",
              "      <td>64.9</td>\n",
              "      <td>NaN</td>\n",
              "      <td>58.5</td>\n",
              "      <td>NaN</td>\n",
              "      <td>NaN</td>\n",
              "      <td>66.9</td>\n",
              "      <td>66.8</td>\n",
              "      <td>NaN</td>\n",
              "      <td>NaN</td>\n",
              "      <td>NaN</td>\n",
              "      <td>NaN</td>\n",
              "    </tr>\n",
              "  </tbody>\n",
              "</table>\n",
              "<p>264 rows × 62 columns</p>\n",
              "</div>"
            ],
            "text/plain": [
              "     Country Name Country Code  1960  1961  1962  ...  2015  2016  2017  2018  2019\n",
              "0           Aruba          ABW   NaN   NaN   NaN  ...   NaN   NaN   NaN   NaN   NaN\n",
              "1     Afghanistan          AFG   NaN   NaN   NaN  ...  22.5   NaN   NaN   NaN   NaN\n",
              "2          Angola          AGO   NaN   NaN   NaN  ...   NaN  13.7   NaN   NaN   NaN\n",
              "3         Albania          ALB   NaN   NaN   NaN  ...   NaN   NaN   NaN  46.0   NaN\n",
              "4         Andorra          AND   NaN   NaN   NaN  ...   NaN   NaN   NaN   NaN   NaN\n",
              "..            ...          ...   ...   ...   ...  ...   ...   ...   ...   ...   ...\n",
              "259        Kosovo          XKX   NaN   NaN   NaN  ...   NaN   NaN   NaN   NaN   NaN\n",
              "260   Yemen, Rep.          YEM   NaN   NaN   NaN  ...   NaN   NaN   NaN   NaN   NaN\n",
              "261  South Africa          ZAF   NaN   NaN   NaN  ...   NaN  54.6   NaN   NaN   NaN\n",
              "262        Zambia          ZMB   NaN   NaN   NaN  ...   NaN   NaN   NaN   NaN   NaN\n",
              "263      Zimbabwe          ZWE   NaN   NaN   NaN  ...  66.8   NaN   NaN   NaN   NaN\n",
              "\n",
              "[264 rows x 62 columns]"
            ]
          },
          "metadata": {
            "tags": []
          },
          "execution_count": 205
        }
      ]
    },
    {
      "cell_type": "markdown",
      "metadata": {
        "id": "isBEB0dhc7YB",
        "colab_type": "text"
      },
      "source": [
        "## **Exploratory Data Analysis**"
      ]
    },
    {
      "cell_type": "markdown",
      "metadata": {
        "id": "v9WW9s4Pdk1n",
        "colab_type": "text"
      },
      "source": [
        "Below are some simple visualizations to see existing relationships between the different contraceptive types and other features in our data. "
      ]
    },
    {
      "cell_type": "code",
      "metadata": {
        "id": "48gKVtLmb19c",
        "colab_type": "code",
        "outputId": "76bd5022-2355-42bd-9905-af1e10ca4a80",
        "colab": {
          "base_uri": "https://localhost:8080/",
          "height": 367
        }
      },
      "source": [
        "#Here I'm plotting the relationship between the contraceptive method used and the age of the wives\n",
        "\n",
        "plt.figure(figsize=(6, 5))\n",
        "sns.boxplot(data=birth_control, x='contraceptive', y='wife_age')\n",
        "plt.xticks([0, 1, 2], [\"None\", \"Long-Term\", \"Short-Term\"])\n",
        "plt.xlabel('Duration of Contraceptive Use')\n",
        "plt.ylabel('Wife Age')\n",
        "plt.title('Contraceptive Method and Age of Wife')"
      ],
      "execution_count": 206,
      "outputs": [
        {
          "output_type": "execute_result",
          "data": {
            "text/plain": [
              "Text(0.5, 1.0, 'Contraceptive Method and Age of Wife')"
            ]
          },
          "metadata": {
            "tags": []
          },
          "execution_count": 206
        },
        {
          "output_type": "display_data",
          "data": {
            "image/png": "[encoded data removed]",
            "text/plain": [
              "<Figure size 432x360 with 1 Axes>"
            ]
          },
          "metadata": {
            "tags": [],
            "needs_background": "light"
          }
        }
      ]
    },
    {
      "cell_type": "markdown",
      "metadata": {
        "id": "HS49Hk22fVpq",
        "colab_type": "text"
      },
      "source": [
        "We can see that as women get older, they go from preferring short-term to none to long-term contraception. "
      ]
    },
    {
      "cell_type": "markdown",
      "metadata": {
        "id": "I5K8WJhWhrsA",
        "colab_type": "text"
      },
      "source": [
        "Below, we observe the distribution of wives' ages in our data: "
      ]
    },
    {
      "cell_type": "code",
      "metadata": {
        "id": "Fh8BThOXcVJm",
        "colab_type": "code",
        "outputId": "e618fd3e-021e-4500-8d75-bbb253cc9078",
        "colab": {
          "base_uri": "https://localhost:8080/",
          "height": 421
        }
      },
      "source": [
        "plt.figure(figsize=(9, 6))\n",
        "sns.distplot(birth_control[\"wife_age\"], hist_kws=dict(edgecolor=\"w\", linewidth=2))\n",
        "plt.xlabel(\"Wives' Ages\")\n",
        "plt.ylabel('Proportion of Wives')\n",
        "plt.title(\"Wives' Age Distribution\")"
      ],
      "execution_count": 207,
      "outputs": [
        {
          "output_type": "execute_result",
          "data": {
            "text/plain": [
              "Text(0.5, 1.0, \"Wives' Age Distribution\")"
            ]
          },
          "metadata": {
            "tags": []
          },
          "execution_count": 207
        },
        {
          "output_type": "display_data",
          "data": {
            "image/png": "[encoded data removed]",
            "text/plain": [
              "<Figure size 648x432 with 1 Axes>"
            ]
          },
          "metadata": {
            "tags": [],
            "needs_background": "light"
          }
        }
      ]
    },
    {
      "cell_type": "markdown",
      "metadata": {
        "id": "rTJa6TY3fsDt",
        "colab_type": "text"
      },
      "source": [
        "We can also take a look at the level of education for both the wives and husbands in our data: "
      ]
    },
    {
      "cell_type": "code",
      "metadata": {
        "id": "eK_7YtEeUaai",
        "colab_type": "code",
        "colab": {}
      },
      "source": [
        "wife_educated_count = birth_control['wife_education'].value_counts()\n",
        "husband_educated_count = birth_control['husband_education'].value_counts()"
      ],
      "execution_count": 0,
      "outputs": []
    },
    {
      "cell_type": "code",
      "metadata": {
        "id": "8G3PR76zTYzK",
        "colab_type": "code",
        "outputId": "6ae71fe8-98f6-435b-b549-82edbad4afe4",
        "colab": {
          "base_uri": "https://localhost:8080/",
          "height": 350
        }
      },
      "source": [
        "plt.figure(figsize=(12, 5))\n",
        "\n",
        "plt.subplot(1, 2, 1)\n",
        "sns.barplot(x=wife_educated_count.index, y=wife_educated_count)\n",
        "plt.xticks([0, 1, 2, 3], [\"Low\", \"Lower Middle\", \"Upper Middle\", 'High'])\n",
        "plt.xlabel('Level of Education')\n",
        "plt.ylabel('Number of Wives')\n",
        "plt.title('Levels of Education Attained by Wives')\n",
        "\n",
        "plt.subplot(1, 2, 2)\n",
        "sns.barplot(x=husband_educated_count.index, y=husband_educated_count)\n",
        "plt.xticks([0, 1, 2, 3], [\"Low\", \"Lower Middle\", \"Upper Middle\", 'High'])\n",
        "plt.xlabel('Level of Education')\n",
        "plt.ylabel('Number of Husbands')\n",
        "plt.title('Levels of Education Attained by Husbands');"
      ],
      "execution_count": 209,
      "outputs": [
        {
          "output_type": "display_data",
          "data": {
            "image/png": "[encoded data removed]",
            "text/plain": [
              "<Figure size 864x360 with 2 Axes>"
            ]
          },
          "metadata": {
            "tags": [],
            "needs_background": "light"
          }
        }
      ]
    },
    {
      "cell_type": "markdown",
      "metadata": {
        "id": "8-ZWMQ2BglHO",
        "colab_type": "text"
      },
      "source": [
        "We can see that both wives and husbands in our data are well-educated, with the highest level of education claiming the largest number in both groups."
      ]
    },
    {
      "cell_type": "code",
      "metadata": {
        "id": "bZe_5hnPYrbk",
        "colab_type": "code",
        "colab": {}
      },
      "source": [
        "education_contraception = pd.melt(birth_control[['contraceptive', 'wife_education', 'husband_education']], id_vars=\"contraceptive\", var_name=\"education\", value_name = 'level')"
      ],
      "execution_count": 0,
      "outputs": []
    },
    {
      "cell_type": "code",
      "metadata": {
        "id": "J_JKCj1ZZH1c",
        "colab_type": "code",
        "outputId": "dd0a341f-590e-42fb-c5fb-0a950ea8a85b",
        "colab": {
          "base_uri": "https://localhost:8080/",
          "height": 385
        }
      },
      "source": [
        "sns.catplot(x='contraceptive', y='level', hue='education', data=education_contraception, kind='bar')\n",
        "plt.xticks([0, 1, 2], [\"None\", \"Long-Term\", \"Short-Term\"])\n",
        "plt.xlabel('Duration of Contraceptive Use')\n",
        "plt.ylabel('Average Level of Education')\n",
        "plt.title('Preferred Contraceptive Method and Educational Attainment');"
      ],
      "execution_count": 211,
      "outputs": [
        {
          "output_type": "display_data",
          "data": {
            "image/png": "[encoded data removed]",
            "text/plain": [
              "<Figure size 493.75x360 with 1 Axes>"
            ]
          },
          "metadata": {
            "tags": [],
            "needs_background": "light"
          }
        }
      ]
    },
    {
      "cell_type": "markdown",
      "metadata": {
        "id": "zA1KhTqV4ayj",
        "colab_type": "text"
      },
      "source": [
        "## **Question 1: What is the correlation between contraception prevalence and contraception method, and socioeconomic status?**"
      ]
    },
    {
      "cell_type": "markdown",
      "metadata": {
        "id": "Mis0LBZVN8o_",
        "colab_type": "text"
      },
      "source": [
        "According to the dataset information (https://archive.ics.uci.edu/ml/datasets/Contraceptive+Method+Choice):\n",
        "\n",
        "*   A higher standard-of-living index represents a higher standard of living overall (1 - lowest, 2, 3, 4 - highest)\n",
        "*   The contraceptive methods used are among the following: 1 - No use, 2 - Long-term, 3 - Short-term"
      ]
    },
    {
      "cell_type": "markdown",
      "metadata": {
        "id": "_m5MV7q7N50d",
        "colab_type": "text"
      },
      "source": [
        "I decided to incorporate the foreign datasets to look at contraception prevalence (which is not really observed in the given dataset) in countries around the world. We first address the relationship between **contraception prevalence** and **socioeconomic status** in different countries around the world from one of the found datasets: "
      ]
    },
    {
      "cell_type": "code",
      "metadata": {
        "id": "s1NSBB69PUCw",
        "colab_type": "code",
        "colab": {}
      },
      "source": [
        "country['IncomeGroup'] = country['IncomeGroup'].replace({'High income': '4', 'Upper middle income': '3', 'Lower middle income': '2', 'Low income': '1'}).fillna('0')"
      ],
      "execution_count": 0,
      "outputs": []
    },
    {
      "cell_type": "code",
      "metadata": {
        "id": "lqPDhqslQaJy",
        "colab_type": "code",
        "outputId": "a32d7657-09e5-4f64-e006-c7a91f1245f4",
        "colab": {
          "base_uri": "https://localhost:8080/",
          "height": 419
        }
      },
      "source": [
        "country_income = country[['Country Code', 'Region', 'Country Name', 'IncomeGroup']]\n",
        "country_income"
      ],
      "execution_count": 213,
      "outputs": [
        {
          "output_type": "execute_result",
          "data": {
            "text/html": [
              "<div>\n",
              "<style scoped>\n",
              "    .dataframe tbody tr th:only-of-type {\n",
              "        vertical-align: middle;\n",
              "    }\n",
              "\n",
              "    .dataframe tbody tr th {\n",
              "        vertical-align: top;\n",
              "    }\n",
              "\n",
              "    .dataframe thead th {\n",
              "        text-align: right;\n",
              "    }\n",
              "</style>\n",
              "<table border=\"1\" class=\"dataframe\">\n",
              "  <thead>\n",
              "    <tr style=\"text-align: right;\">\n",
              "      <th></th>\n",
              "      <th>Country Code</th>\n",
              "      <th>Region</th>\n",
              "      <th>Country Name</th>\n",
              "      <th>IncomeGroup</th>\n",
              "    </tr>\n",
              "  </thead>\n",
              "  <tbody>\n",
              "    <tr>\n",
              "      <th>0</th>\n",
              "      <td>ABW</td>\n",
              "      <td>Latin America &amp; Caribbean</td>\n",
              "      <td>Aruba</td>\n",
              "      <td>4</td>\n",
              "    </tr>\n",
              "    <tr>\n",
              "      <th>1</th>\n",
              "      <td>AFG</td>\n",
              "      <td>South Asia</td>\n",
              "      <td>Afghanistan</td>\n",
              "      <td>1</td>\n",
              "    </tr>\n",
              "    <tr>\n",
              "      <th>2</th>\n",
              "      <td>AGO</td>\n",
              "      <td>Sub-Saharan Africa</td>\n",
              "      <td>Angola</td>\n",
              "      <td>2</td>\n",
              "    </tr>\n",
              "    <tr>\n",
              "      <th>3</th>\n",
              "      <td>ALB</td>\n",
              "      <td>Europe &amp; Central Asia</td>\n",
              "      <td>Albania</td>\n",
              "      <td>3</td>\n",
              "    </tr>\n",
              "    <tr>\n",
              "      <th>4</th>\n",
              "      <td>AND</td>\n",
              "      <td>Europe &amp; Central Asia</td>\n",
              "      <td>Andorra</td>\n",
              "      <td>4</td>\n",
              "    </tr>\n",
              "    <tr>\n",
              "      <th>...</th>\n",
              "      <td>...</td>\n",
              "      <td>...</td>\n",
              "      <td>...</td>\n",
              "      <td>...</td>\n",
              "    </tr>\n",
              "    <tr>\n",
              "      <th>258</th>\n",
              "      <td>XKX</td>\n",
              "      <td>Europe &amp; Central Asia</td>\n",
              "      <td>Kosovo</td>\n",
              "      <td>3</td>\n",
              "    </tr>\n",
              "    <tr>\n",
              "      <th>259</th>\n",
              "      <td>YEM</td>\n",
              "      <td>Middle East &amp; North Africa</td>\n",
              "      <td>Yemen, Rep.</td>\n",
              "      <td>1</td>\n",
              "    </tr>\n",
              "    <tr>\n",
              "      <th>260</th>\n",
              "      <td>ZAF</td>\n",
              "      <td>Sub-Saharan Africa</td>\n",
              "      <td>South Africa</td>\n",
              "      <td>3</td>\n",
              "    </tr>\n",
              "    <tr>\n",
              "      <th>261</th>\n",
              "      <td>ZMB</td>\n",
              "      <td>Sub-Saharan Africa</td>\n",
              "      <td>Zambia</td>\n",
              "      <td>2</td>\n",
              "    </tr>\n",
              "    <tr>\n",
              "      <th>262</th>\n",
              "      <td>ZWE</td>\n",
              "      <td>Sub-Saharan Africa</td>\n",
              "      <td>Zimbabwe</td>\n",
              "      <td>2</td>\n",
              "    </tr>\n",
              "  </tbody>\n",
              "</table>\n",
              "<p>263 rows × 4 columns</p>\n",
              "</div>"
            ],
            "text/plain": [
              "    Country Code                      Region  Country Name IncomeGroup\n",
              "0            ABW   Latin America & Caribbean         Aruba           4\n",
              "1            AFG                  South Asia   Afghanistan           1\n",
              "2            AGO          Sub-Saharan Africa        Angola           2\n",
              "3            ALB       Europe & Central Asia       Albania           3\n",
              "4            AND       Europe & Central Asia       Andorra           4\n",
              "..           ...                         ...           ...         ...\n",
              "258          XKX       Europe & Central Asia        Kosovo           3\n",
              "259          YEM  Middle East & North Africa   Yemen, Rep.           1\n",
              "260          ZAF          Sub-Saharan Africa  South Africa           3\n",
              "261          ZMB          Sub-Saharan Africa        Zambia           2\n",
              "262          ZWE          Sub-Saharan Africa      Zimbabwe           2\n",
              "\n",
              "[263 rows x 4 columns]"
            ]
          },
          "metadata": {
            "tags": []
          },
          "execution_count": 213
        }
      ]
    },
    {
      "cell_type": "code",
      "metadata": {
        "id": "_n00U7pfg5fo",
        "colab_type": "code",
        "colab": {}
      },
      "source": [
        "#Initializing a new 'Recent Prevalence' column which shows the most recent value of contraception prevalence per country (in %)\n",
        "prev['Recent Prevalence'] = 0 \n",
        "prev = prev.fillna(0) \n",
        "years = prev.iloc[:, 2:-1]"
      ],
      "execution_count": 0,
      "outputs": []
    },
    {
      "cell_type": "code",
      "metadata": {
        "id": "12DG7symhtX8",
        "colab_type": "code",
        "outputId": "ebc8339f-80d5-41cf-97ec-d99d6224a1e5",
        "colab": {
          "base_uri": "https://localhost:8080/",
          "height": 419
        }
      },
      "source": [
        "length, width = years.shape \n",
        "\n",
        "#Replacing the initialized 0 in the 'Recent Prevalence' column with the most recent contraception prevalence\n",
        "for i in range(width): \n",
        "  for j in range(length): \n",
        "    if years.iloc[j, i] != 0: \n",
        "      prev.loc[j,'Recent Prevalence'] = years.iloc[j, i]\n",
        "      # changed prev['Recent Prevalence'].iloc[j] = years.iloc[j, i] to prevent warning\n",
        "\n",
        "recent_prev = prev[['Country Name', 'Country Code', 'Recent Prevalence']]\n",
        "recent_prev"
      ],
      "execution_count": 215,
      "outputs": [
        {
          "output_type": "execute_result",
          "data": {
            "text/html": [
              "<div>\n",
              "<style scoped>\n",
              "    .dataframe tbody tr th:only-of-type {\n",
              "        vertical-align: middle;\n",
              "    }\n",
              "\n",
              "    .dataframe tbody tr th {\n",
              "        vertical-align: top;\n",
              "    }\n",
              "\n",
              "    .dataframe thead th {\n",
              "        text-align: right;\n",
              "    }\n",
              "</style>\n",
              "<table border=\"1\" class=\"dataframe\">\n",
              "  <thead>\n",
              "    <tr style=\"text-align: right;\">\n",
              "      <th></th>\n",
              "      <th>Country Name</th>\n",
              "      <th>Country Code</th>\n",
              "      <th>Recent Prevalence</th>\n",
              "    </tr>\n",
              "  </thead>\n",
              "  <tbody>\n",
              "    <tr>\n",
              "      <th>0</th>\n",
              "      <td>Aruba</td>\n",
              "      <td>ABW</td>\n",
              "      <td>0.0</td>\n",
              "    </tr>\n",
              "    <tr>\n",
              "      <th>1</th>\n",
              "      <td>Afghanistan</td>\n",
              "      <td>AFG</td>\n",
              "      <td>22.5</td>\n",
              "    </tr>\n",
              "    <tr>\n",
              "      <th>2</th>\n",
              "      <td>Angola</td>\n",
              "      <td>AGO</td>\n",
              "      <td>13.7</td>\n",
              "    </tr>\n",
              "    <tr>\n",
              "      <th>3</th>\n",
              "      <td>Albania</td>\n",
              "      <td>ALB</td>\n",
              "      <td>46.0</td>\n",
              "    </tr>\n",
              "    <tr>\n",
              "      <th>4</th>\n",
              "      <td>Andorra</td>\n",
              "      <td>AND</td>\n",
              "      <td>0.0</td>\n",
              "    </tr>\n",
              "    <tr>\n",
              "      <th>...</th>\n",
              "      <td>...</td>\n",
              "      <td>...</td>\n",
              "      <td>...</td>\n",
              "    </tr>\n",
              "    <tr>\n",
              "      <th>259</th>\n",
              "      <td>Kosovo</td>\n",
              "      <td>XKX</td>\n",
              "      <td>0.0</td>\n",
              "    </tr>\n",
              "    <tr>\n",
              "      <th>260</th>\n",
              "      <td>Yemen, Rep.</td>\n",
              "      <td>YEM</td>\n",
              "      <td>33.5</td>\n",
              "    </tr>\n",
              "    <tr>\n",
              "      <th>261</th>\n",
              "      <td>South Africa</td>\n",
              "      <td>ZAF</td>\n",
              "      <td>54.6</td>\n",
              "    </tr>\n",
              "    <tr>\n",
              "      <th>262</th>\n",
              "      <td>Zambia</td>\n",
              "      <td>ZMB</td>\n",
              "      <td>49.0</td>\n",
              "    </tr>\n",
              "    <tr>\n",
              "      <th>263</th>\n",
              "      <td>Zimbabwe</td>\n",
              "      <td>ZWE</td>\n",
              "      <td>66.8</td>\n",
              "    </tr>\n",
              "  </tbody>\n",
              "</table>\n",
              "<p>264 rows × 3 columns</p>\n",
              "</div>"
            ],
            "text/plain": [
              "     Country Name Country Code  Recent Prevalence\n",
              "0           Aruba          ABW                0.0\n",
              "1     Afghanistan          AFG               22.5\n",
              "2          Angola          AGO               13.7\n",
              "3         Albania          ALB               46.0\n",
              "4         Andorra          AND                0.0\n",
              "..            ...          ...                ...\n",
              "259        Kosovo          XKX                0.0\n",
              "260   Yemen, Rep.          YEM               33.5\n",
              "261  South Africa          ZAF               54.6\n",
              "262        Zambia          ZMB               49.0\n",
              "263      Zimbabwe          ZWE               66.8\n",
              "\n",
              "[264 rows x 3 columns]"
            ]
          },
          "metadata": {
            "tags": []
          },
          "execution_count": 215
        }
      ]
    },
    {
      "cell_type": "markdown",
      "metadata": {
        "id": "vNoO-__hixYZ",
        "colab_type": "text"
      },
      "source": [
        "In the above cell, I created a new 'Recent' column to take the most recent contraception prevalence. I used this information for data analysis because contraception was invented around the 1960s, and I believed that data from earlier years would not reflect the shifting attitudes towards contraceptives over time."
      ]
    },
    {
      "cell_type": "markdown",
      "metadata": {
        "id": "v1dr260i6r0d",
        "colab_type": "text"
      },
      "source": [
        "To clean the data, I merged the dataframes for income group and contraception prevalence on the country name/code, and filtered out the conditions where income group is zero (which means there is no/insufficient data about the socioeconomic status of the country in question) and the prevalence is zero (which means that there is no data about the contraception prevalence between the years 1960-2019)."
      ]
    },
    {
      "cell_type": "code",
      "metadata": {
        "id": "ZtREwjJIypDN",
        "colab_type": "code",
        "colab": {}
      },
      "source": [
        "income_prevalence = country_income.merge(recent_prev, how='inner', on=['Country Code', 'Country Name'])\n",
        "income_data = income_prevalence[(income_prevalence['IncomeGroup'] != '0') & (income_prevalence['Recent Prevalence'] != 0)]"
      ],
      "execution_count": 0,
      "outputs": []
    },
    {
      "cell_type": "code",
      "metadata": {
        "id": "RIh5NodYzNB3",
        "colab_type": "code",
        "outputId": "2c42983b-170f-4c3a-df98-30d4df065eef",
        "colab": {
          "base_uri": "https://localhost:8080/",
          "height": 513
        }
      },
      "source": [
        "plt.figure(figsize=(10, 8))\n",
        "sns.boxplot(data=income_data, x='IncomeGroup', y='Recent Prevalence')\n",
        "plt.xticks([0, 1, 2, 3], [\"Low\", \"Lower Middle\", \"Upper Middle\", 'High'])\n",
        "plt.xlabel('Income Level')\n",
        "plt.ylabel('Contraception Prevalence (in %)')\n",
        "plt.title('Contraception Prevalence and Socioeconomic Status');"
      ],
      "execution_count": 217,
      "outputs": [
        {
          "output_type": "display_data",
          "data": {
            "image/png": "[encoded data removed]",
            "text/plain": [
              "<Figure size 720x576 with 1 Axes>"
            ]
          },
          "metadata": {
            "tags": [],
            "needs_background": "light"
          }
        }
      ]
    },
    {
      "cell_type": "code",
      "metadata": {
        "id": "n7vyEJ5V0CFm",
        "colab_type": "code",
        "outputId": "8dab88fa-028c-4f1f-876a-65e12773bca6",
        "colab": {
          "base_uri": "https://localhost:8080/",
          "height": 575
        }
      },
      "source": [
        "income_data['IncomeGroup Int'] = income_data['IncomeGroup'].astype(int)\n",
        "income_data"
      ],
      "execution_count": 218,
      "outputs": [
        {
          "output_type": "stream",
          "text": [
            "/usr/local/lib/python3.6/dist-packages/ipykernel_launcher.py:1: SettingWithCopyWarning:\n",
            "\n",
            "\n",
            "A value is trying to be set on a copy of a slice from a DataFrame.\n",
            "Try using .loc[row_indexer,col_indexer] = value instead\n",
            "\n",
            "See the caveats in the documentation: https://pandas.pydata.org/pandas-docs/stable/user_guide/indexing.html#returning-a-view-versus-a-copy\n",
            "\n"
          ],
          "name": "stderr"
        },
        {
          "output_type": "execute_result",
          "data": {
            "text/html": [
              "<div>\n",
              "<style scoped>\n",
              "    .dataframe tbody tr th:only-of-type {\n",
              "        vertical-align: middle;\n",
              "    }\n",
              "\n",
              "    .dataframe tbody tr th {\n",
              "        vertical-align: top;\n",
              "    }\n",
              "\n",
              "    .dataframe thead th {\n",
              "        text-align: right;\n",
              "    }\n",
              "</style>\n",
              "<table border=\"1\" class=\"dataframe\">\n",
              "  <thead>\n",
              "    <tr style=\"text-align: right;\">\n",
              "      <th></th>\n",
              "      <th>Country Code</th>\n",
              "      <th>Region</th>\n",
              "      <th>Country Name</th>\n",
              "      <th>IncomeGroup</th>\n",
              "      <th>Recent Prevalence</th>\n",
              "      <th>IncomeGroup Int</th>\n",
              "    </tr>\n",
              "  </thead>\n",
              "  <tbody>\n",
              "    <tr>\n",
              "      <th>1</th>\n",
              "      <td>AFG</td>\n",
              "      <td>South Asia</td>\n",
              "      <td>Afghanistan</td>\n",
              "      <td>1</td>\n",
              "      <td>22.5</td>\n",
              "      <td>1</td>\n",
              "    </tr>\n",
              "    <tr>\n",
              "      <th>2</th>\n",
              "      <td>AGO</td>\n",
              "      <td>Sub-Saharan Africa</td>\n",
              "      <td>Angola</td>\n",
              "      <td>2</td>\n",
              "      <td>13.7</td>\n",
              "      <td>2</td>\n",
              "    </tr>\n",
              "    <tr>\n",
              "      <th>3</th>\n",
              "      <td>ALB</td>\n",
              "      <td>Europe &amp; Central Asia</td>\n",
              "      <td>Albania</td>\n",
              "      <td>3</td>\n",
              "      <td>46.0</td>\n",
              "      <td>3</td>\n",
              "    </tr>\n",
              "    <tr>\n",
              "      <th>6</th>\n",
              "      <td>ARE</td>\n",
              "      <td>Middle East &amp; North Africa</td>\n",
              "      <td>United Arab Emirates</td>\n",
              "      <td>4</td>\n",
              "      <td>27.5</td>\n",
              "      <td>4</td>\n",
              "    </tr>\n",
              "    <tr>\n",
              "      <th>7</th>\n",
              "      <td>ARG</td>\n",
              "      <td>Latin America &amp; Caribbean</td>\n",
              "      <td>Argentina</td>\n",
              "      <td>3</td>\n",
              "      <td>81.3</td>\n",
              "      <td>3</td>\n",
              "    </tr>\n",
              "    <tr>\n",
              "      <th>...</th>\n",
              "      <td>...</td>\n",
              "      <td>...</td>\n",
              "      <td>...</td>\n",
              "      <td>...</td>\n",
              "      <td>...</td>\n",
              "      <td>...</td>\n",
              "    </tr>\n",
              "    <tr>\n",
              "      <th>248</th>\n",
              "      <td>WSM</td>\n",
              "      <td>East Asia &amp; Pacific</td>\n",
              "      <td>Samoa</td>\n",
              "      <td>3</td>\n",
              "      <td>26.9</td>\n",
              "      <td>3</td>\n",
              "    </tr>\n",
              "    <tr>\n",
              "      <th>250</th>\n",
              "      <td>YEM</td>\n",
              "      <td>Middle East &amp; North Africa</td>\n",
              "      <td>Yemen, Rep.</td>\n",
              "      <td>1</td>\n",
              "      <td>33.5</td>\n",
              "      <td>1</td>\n",
              "    </tr>\n",
              "    <tr>\n",
              "      <th>251</th>\n",
              "      <td>ZAF</td>\n",
              "      <td>Sub-Saharan Africa</td>\n",
              "      <td>South Africa</td>\n",
              "      <td>3</td>\n",
              "      <td>54.6</td>\n",
              "      <td>3</td>\n",
              "    </tr>\n",
              "    <tr>\n",
              "      <th>252</th>\n",
              "      <td>ZMB</td>\n",
              "      <td>Sub-Saharan Africa</td>\n",
              "      <td>Zambia</td>\n",
              "      <td>2</td>\n",
              "      <td>49.0</td>\n",
              "      <td>2</td>\n",
              "    </tr>\n",
              "    <tr>\n",
              "      <th>253</th>\n",
              "      <td>ZWE</td>\n",
              "      <td>Sub-Saharan Africa</td>\n",
              "      <td>Zimbabwe</td>\n",
              "      <td>2</td>\n",
              "      <td>66.8</td>\n",
              "      <td>2</td>\n",
              "    </tr>\n",
              "  </tbody>\n",
              "</table>\n",
              "<p>188 rows × 6 columns</p>\n",
              "</div>"
            ],
            "text/plain": [
              "    Country Code  ... IncomeGroup Int\n",
              "1            AFG  ...               1\n",
              "2            AGO  ...               2\n",
              "3            ALB  ...               3\n",
              "6            ARE  ...               4\n",
              "7            ARG  ...               3\n",
              "..           ...  ...             ...\n",
              "248          WSM  ...               3\n",
              "250          YEM  ...               1\n",
              "251          ZAF  ...               3\n",
              "252          ZMB  ...               2\n",
              "253          ZWE  ...               2\n",
              "\n",
              "[188 rows x 6 columns]"
            ]
          },
          "metadata": {
            "tags": []
          },
          "execution_count": 218
        }
      ]
    },
    {
      "cell_type": "markdown",
      "metadata": {
        "id": "V5phEMLY74rl",
        "colab_type": "text"
      },
      "source": [
        "As we can see from the boxplot, as income level rises, contraception prevalence appears to rise as well; this shows a positive correlation between the two variables. "
      ]
    },
    {
      "cell_type": "markdown",
      "metadata": {
        "id": "ZNyg1zvw857T",
        "colab_type": "text"
      },
      "source": [
        "Next, we will examine the relationship between **contraception method** and **socioeconomic status**: "
      ]
    },
    {
      "cell_type": "code",
      "metadata": {
        "id": "snBw8esIK0Iw",
        "colab_type": "code",
        "outputId": "3708732f-9dea-4c3f-f1c8-f0fa85d9fa6a",
        "colab": {
          "base_uri": "https://localhost:8080/",
          "height": 419
        }
      },
      "source": [
        "bc_socio = birth_control[['standard_living', 'contraceptive']]\n",
        "bc_socio"
      ],
      "execution_count": 219,
      "outputs": [
        {
          "output_type": "execute_result",
          "data": {
            "text/html": [
              "<div>\n",
              "<style scoped>\n",
              "    .dataframe tbody tr th:only-of-type {\n",
              "        vertical-align: middle;\n",
              "    }\n",
              "\n",
              "    .dataframe tbody tr th {\n",
              "        vertical-align: top;\n",
              "    }\n",
              "\n",
              "    .dataframe thead th {\n",
              "        text-align: right;\n",
              "    }\n",
              "</style>\n",
              "<table border=\"1\" class=\"dataframe\">\n",
              "  <thead>\n",
              "    <tr style=\"text-align: right;\">\n",
              "      <th></th>\n",
              "      <th>standard_living</th>\n",
              "      <th>contraceptive</th>\n",
              "    </tr>\n",
              "  </thead>\n",
              "  <tbody>\n",
              "    <tr>\n",
              "      <th>0</th>\n",
              "      <td>3</td>\n",
              "      <td>1</td>\n",
              "    </tr>\n",
              "    <tr>\n",
              "      <th>1</th>\n",
              "      <td>4</td>\n",
              "      <td>1</td>\n",
              "    </tr>\n",
              "    <tr>\n",
              "      <th>2</th>\n",
              "      <td>4</td>\n",
              "      <td>1</td>\n",
              "    </tr>\n",
              "    <tr>\n",
              "      <th>3</th>\n",
              "      <td>3</td>\n",
              "      <td>1</td>\n",
              "    </tr>\n",
              "    <tr>\n",
              "      <th>4</th>\n",
              "      <td>2</td>\n",
              "      <td>1</td>\n",
              "    </tr>\n",
              "    <tr>\n",
              "      <th>...</th>\n",
              "      <td>...</td>\n",
              "      <td>...</td>\n",
              "    </tr>\n",
              "    <tr>\n",
              "      <th>1468</th>\n",
              "      <td>4</td>\n",
              "      <td>3</td>\n",
              "    </tr>\n",
              "    <tr>\n",
              "      <th>1469</th>\n",
              "      <td>4</td>\n",
              "      <td>3</td>\n",
              "    </tr>\n",
              "    <tr>\n",
              "      <th>1470</th>\n",
              "      <td>4</td>\n",
              "      <td>3</td>\n",
              "    </tr>\n",
              "    <tr>\n",
              "      <th>1471</th>\n",
              "      <td>2</td>\n",
              "      <td>3</td>\n",
              "    </tr>\n",
              "    <tr>\n",
              "      <th>1472</th>\n",
              "      <td>4</td>\n",
              "      <td>3</td>\n",
              "    </tr>\n",
              "  </tbody>\n",
              "</table>\n",
              "<p>1473 rows × 2 columns</p>\n",
              "</div>"
            ],
            "text/plain": [
              "      standard_living  contraceptive\n",
              "0                   3              1\n",
              "1                   4              1\n",
              "2                   4              1\n",
              "3                   3              1\n",
              "4                   2              1\n",
              "...               ...            ...\n",
              "1468                4              3\n",
              "1469                4              3\n",
              "1470                4              3\n",
              "1471                2              3\n",
              "1472                4              3\n",
              "\n",
              "[1473 rows x 2 columns]"
            ]
          },
          "metadata": {
            "tags": []
          },
          "execution_count": 219
        }
      ]
    },
    {
      "cell_type": "code",
      "metadata": {
        "id": "xSyxhRs8MR3t",
        "colab_type": "code",
        "outputId": "c9b710e1-d083-4a4d-dda3-c6438bb7af32",
        "colab": {
          "base_uri": "https://localhost:8080/",
          "height": 34
        }
      },
      "source": [
        "bc1 = bc_socio[bc_socio['contraceptive']==1]['standard_living'].mean()\n",
        "bc2 = bc_socio[bc_socio['contraceptive']==2]['standard_living'].mean()\n",
        "bc3 = bc_socio[bc_socio['contraceptive']==3]['standard_living'].mean()\n",
        "[bc1, bc2, bc3]"
      ],
      "execution_count": 220,
      "outputs": [
        {
          "output_type": "execute_result",
          "data": {
            "text/plain": [
              "[2.95389507154213, 3.4684684684684686, 3.136986301369863]"
            ]
          },
          "metadata": {
            "tags": []
          },
          "execution_count": 220
        }
      ]
    },
    {
      "cell_type": "code",
      "metadata": {
        "id": "iv4zwwil9VjW",
        "colab_type": "code",
        "outputId": "47e84b37-4008-4c77-eecd-2cd0f8e75f32",
        "colab": {
          "base_uri": "https://localhost:8080/",
          "height": 386
        }
      },
      "source": [
        "sns.catplot(data=bc_socio, x='contraceptive', y='standard_living', kind='bar')\n",
        "plt.xticks([0, 1, 2], [\"No Use\", \"Long-Term\", \"Short-Term\"])\n",
        "plt.xlabel('Contraceptive Method')\n",
        "plt.ylabel('Standard of Living')"
      ],
      "execution_count": 221,
      "outputs": [
        {
          "output_type": "execute_result",
          "data": {
            "text/plain": [
              "Text(6.674999999999997, 0.5, 'Standard of Living')"
            ]
          },
          "metadata": {
            "tags": []
          },
          "execution_count": 221
        },
        {
          "output_type": "display_data",
          "data": {
            "image/png": "[encoded data removed]",
            "text/plain": [
              "<Figure size 360x360 with 1 Axes>"
            ]
          },
          "metadata": {
            "tags": [],
            "needs_background": "light"
          }
        }
      ]
    },
    {
      "cell_type": "code",
      "metadata": {
        "id": "EnGEr1I2dPFg",
        "colab_type": "code",
        "outputId": "6b188184-7e94-45a8-db3c-b52c96401881",
        "colab": {
          "base_uri": "https://localhost:8080/",
          "height": 34
        }
      },
      "source": [
        "type(bc_socio['standard_living'].iloc[0])"
      ],
      "execution_count": 222,
      "outputs": [
        {
          "output_type": "execute_result",
          "data": {
            "text/plain": [
              "numpy.int64"
            ]
          },
          "metadata": {
            "tags": []
          },
          "execution_count": 222
        }
      ]
    },
    {
      "cell_type": "markdown",
      "metadata": {
        "id": "A3APXk0MhXVZ",
        "colab_type": "text"
      },
      "source": [
        "(talk about how long-term contraception is the best) "
      ]
    },
    {
      "cell_type": "markdown",
      "metadata": {
        "id": "y8Fe0EEJpSnN",
        "colab_type": "text"
      },
      "source": [
        "## **Question 2: How can we best predict current contraceptive method choice based on demographic and socioeconomic characteristics?**"
      ]
    },
    {
      "cell_type": "markdown",
      "metadata": {
        "id": "bykAKS0grZkF",
        "colab_type": "text"
      },
      "source": [
        "### **Method 1: Cross-Validation**"
      ]
    },
    {
      "cell_type": "markdown",
      "metadata": {
        "id": "prFRb0BDo7zM",
        "colab_type": "text"
      },
      "source": [
        "First, we will perform **cross-validation** on our 'train' set, which was retrieved by conducting a train-test split on our original dataset. "
      ]
    },
    {
      "cell_type": "code",
      "metadata": {
        "id": "jzSF9qARiRR8",
        "colab_type": "code",
        "outputId": "c34010d4-2817-4108-8f53-c7e140241b37",
        "colab": {
          "base_uri": "https://localhost:8080/",
          "height": 439
        }
      },
      "source": [
        "#Here we retrieve the training and validation sets for cross-validation\n",
        "bc_train, val = train_test_split(train, test_size=0.1, random_state=42)\n",
        "bc_train"
      ],
      "execution_count": 223,
      "outputs": [
        {
          "output_type": "execute_result",
          "data": {
            "text/html": [
              "<div>\n",
              "<style scoped>\n",
              "    .dataframe tbody tr th:only-of-type {\n",
              "        vertical-align: middle;\n",
              "    }\n",
              "\n",
              "    .dataframe tbody tr th {\n",
              "        vertical-align: top;\n",
              "    }\n",
              "\n",
              "    .dataframe thead th {\n",
              "        text-align: right;\n",
              "    }\n",
              "</style>\n",
              "<table border=\"1\" class=\"dataframe\">\n",
              "  <thead>\n",
              "    <tr style=\"text-align: right;\">\n",
              "      <th></th>\n",
              "      <th>wife_age</th>\n",
              "      <th>wife_education</th>\n",
              "      <th>husband_education</th>\n",
              "      <th>num_child</th>\n",
              "      <th>wife_religion</th>\n",
              "      <th>wife_work</th>\n",
              "      <th>husband_occupation</th>\n",
              "      <th>standard_living</th>\n",
              "      <th>media_exposure</th>\n",
              "      <th>contraceptive</th>\n",
              "    </tr>\n",
              "  </thead>\n",
              "  <tbody>\n",
              "    <tr>\n",
              "      <th>989</th>\n",
              "      <td>26</td>\n",
              "      <td>3</td>\n",
              "      <td>2</td>\n",
              "      <td>5</td>\n",
              "      <td>1</td>\n",
              "      <td>1</td>\n",
              "      <td>2</td>\n",
              "      <td>2</td>\n",
              "      <td>0</td>\n",
              "      <td>3</td>\n",
              "    </tr>\n",
              "    <tr>\n",
              "      <th>658</th>\n",
              "      <td>32</td>\n",
              "      <td>2</td>\n",
              "      <td>3</td>\n",
              "      <td>5</td>\n",
              "      <td>1</td>\n",
              "      <td>0</td>\n",
              "      <td>2</td>\n",
              "      <td>3</td>\n",
              "      <td>0</td>\n",
              "      <td>3</td>\n",
              "    </tr>\n",
              "    <tr>\n",
              "      <th>1060</th>\n",
              "      <td>42</td>\n",
              "      <td>4</td>\n",
              "      <td>4</td>\n",
              "      <td>1</td>\n",
              "      <td>1</td>\n",
              "      <td>0</td>\n",
              "      <td>1</td>\n",
              "      <td>4</td>\n",
              "      <td>0</td>\n",
              "      <td>1</td>\n",
              "    </tr>\n",
              "    <tr>\n",
              "      <th>1287</th>\n",
              "      <td>24</td>\n",
              "      <td>4</td>\n",
              "      <td>4</td>\n",
              "      <td>1</td>\n",
              "      <td>0</td>\n",
              "      <td>1</td>\n",
              "      <td>2</td>\n",
              "      <td>3</td>\n",
              "      <td>0</td>\n",
              "      <td>2</td>\n",
              "    </tr>\n",
              "    <tr>\n",
              "      <th>109</th>\n",
              "      <td>26</td>\n",
              "      <td>2</td>\n",
              "      <td>3</td>\n",
              "      <td>3</td>\n",
              "      <td>1</td>\n",
              "      <td>1</td>\n",
              "      <td>3</td>\n",
              "      <td>1</td>\n",
              "      <td>0</td>\n",
              "      <td>1</td>\n",
              "    </tr>\n",
              "    <tr>\n",
              "      <th>...</th>\n",
              "      <td>...</td>\n",
              "      <td>...</td>\n",
              "      <td>...</td>\n",
              "      <td>...</td>\n",
              "      <td>...</td>\n",
              "      <td>...</td>\n",
              "      <td>...</td>\n",
              "      <td>...</td>\n",
              "      <td>...</td>\n",
              "      <td>...</td>\n",
              "    </tr>\n",
              "    <tr>\n",
              "      <th>150</th>\n",
              "      <td>44</td>\n",
              "      <td>4</td>\n",
              "      <td>4</td>\n",
              "      <td>3</td>\n",
              "      <td>1</td>\n",
              "      <td>1</td>\n",
              "      <td>2</td>\n",
              "      <td>4</td>\n",
              "      <td>0</td>\n",
              "      <td>1</td>\n",
              "    </tr>\n",
              "    <tr>\n",
              "      <th>1384</th>\n",
              "      <td>36</td>\n",
              "      <td>4</td>\n",
              "      <td>4</td>\n",
              "      <td>3</td>\n",
              "      <td>1</td>\n",
              "      <td>1</td>\n",
              "      <td>1</td>\n",
              "      <td>4</td>\n",
              "      <td>0</td>\n",
              "      <td>3</td>\n",
              "    </tr>\n",
              "    <tr>\n",
              "      <th>747</th>\n",
              "      <td>44</td>\n",
              "      <td>4</td>\n",
              "      <td>4</td>\n",
              "      <td>11</td>\n",
              "      <td>1</td>\n",
              "      <td>1</td>\n",
              "      <td>1</td>\n",
              "      <td>4</td>\n",
              "      <td>0</td>\n",
              "      <td>3</td>\n",
              "    </tr>\n",
              "    <tr>\n",
              "      <th>675</th>\n",
              "      <td>49</td>\n",
              "      <td>4</td>\n",
              "      <td>3</td>\n",
              "      <td>13</td>\n",
              "      <td>1</td>\n",
              "      <td>1</td>\n",
              "      <td>1</td>\n",
              "      <td>4</td>\n",
              "      <td>0</td>\n",
              "      <td>3</td>\n",
              "    </tr>\n",
              "    <tr>\n",
              "      <th>202</th>\n",
              "      <td>36</td>\n",
              "      <td>2</td>\n",
              "      <td>4</td>\n",
              "      <td>2</td>\n",
              "      <td>1</td>\n",
              "      <td>0</td>\n",
              "      <td>2</td>\n",
              "      <td>4</td>\n",
              "      <td>0</td>\n",
              "      <td>1</td>\n",
              "    </tr>\n",
              "  </tbody>\n",
              "</table>\n",
              "<p>1192 rows × 10 columns</p>\n",
              "</div>"
            ],
            "text/plain": [
              "      wife_age  wife_education  ...  media_exposure  contraceptive\n",
              "989         26               3  ...               0              3\n",
              "658         32               2  ...               0              3\n",
              "1060        42               4  ...               0              1\n",
              "1287        24               4  ...               0              2\n",
              "109         26               2  ...               0              1\n",
              "...        ...             ...  ...             ...            ...\n",
              "150         44               4  ...               0              1\n",
              "1384        36               4  ...               0              3\n",
              "747         44               4  ...               0              3\n",
              "675         49               4  ...               0              3\n",
              "202         36               2  ...               0              1\n",
              "\n",
              "[1192 rows x 10 columns]"
            ]
          },
          "metadata": {
            "tags": []
          },
          "execution_count": 223
        }
      ]
    },
    {
      "cell_type": "markdown",
      "metadata": {
        "id": "H8PmXm-T6Sz7",
        "colab_type": "text"
      },
      "source": [
        "To begin, we one-hot-encode the wife's and husband's education levels, and the standard of living because they are all categorical variables (1 = low, 2, 3, 4 = high). \n",
        "\n",
        "Even though these categorical variables were encoded numerically, we still want to one-hot-encode (and not treat them as numerical variables) because we want to treat each level of education and standard of living equally instead of assigning a higher education level/standard of living more weight. "
      ]
    },
    {
      "cell_type": "code",
      "metadata": {
        "id": "8zixuQT_5RrB",
        "colab_type": "code",
        "colab": {}
      },
      "source": [
        "#One-hot-encoding wife education levels\n",
        "\n",
        "def wife_edu(data='train'): \n",
        "  if (data=='test'):\n",
        "    wife_ohe = pd.get_dummies(test['wife_education'])\n",
        "  elif (data=='val'):\n",
        "    wife_ohe = pd.get_dummies(val['wife_education'])\n",
        "  elif (data == 'crossval_train'):\n",
        "    wife_ohe = pd.get_dummies(bc_train['wife_education'])\n",
        "  else:\n",
        "    wife_ohe = pd.get_dummies(train['wife_education'])\n",
        "  wife_ohe = wife_ohe.rename(columns={1: 'w1', 2: 'w2', 3: 'w3', 4: 'w4'})\n",
        "  return wife_ohe"
      ],
      "execution_count": 0,
      "outputs": []
    },
    {
      "cell_type": "code",
      "metadata": {
        "id": "9Jpyiywz7cWX",
        "colab_type": "code",
        "colab": {}
      },
      "source": [
        "#One-hot-encoding husband education levels\n",
        "\n",
        "def husband_edu(data='train'): \n",
        "  if (data=='test'):\n",
        "    husband_ohe = pd.get_dummies(test['husband_education'])\n",
        "  elif (data=='val'):\n",
        "    husband_ohe = pd.get_dummies(val['husband_education'])\n",
        "  elif (data == 'crossval_train'):\n",
        "    husband_ohe = pd.get_dummies(bc_train['husband_education'])\n",
        "  else:\n",
        "    husband_ohe = pd.get_dummies(train['husband_education'])\n",
        "\n",
        "  husband_ohe = husband_ohe.rename(columns={1: 'h1', 2: 'h2', 3: 'h3', 4: 'h4'})\n",
        "  return husband_ohe"
      ],
      "execution_count": 0,
      "outputs": []
    },
    {
      "cell_type": "code",
      "metadata": {
        "id": "TG8XutXgeMcW",
        "colab_type": "code",
        "colab": {}
      },
      "source": [
        "#One-hot-encoding standard of living\n",
        "\n",
        "def living_standard(data='train'): \n",
        "  if (data=='test'):\n",
        "    living_ohe = pd.get_dummies(test['standard_living'])\n",
        "  elif (data=='val'):\n",
        "    living_ohe = pd.get_dummies(val['standard_living'])\n",
        "  elif (data == 'crossval_train'):\n",
        "    living_ohe = pd.get_dummies(bc_train['standard_living'])\n",
        "  else:\n",
        "    living_ohe = pd.get_dummies(train['standard_living'])\n",
        "  living_ohe = living_ohe.rename(columns={1: 'l1', 2: 'l2', 3: 'l3', 4: 'l4'})\n",
        "  return living_ohe"
      ],
      "execution_count": 0,
      "outputs": []
    },
    {
      "cell_type": "markdown",
      "metadata": {
        "id": "oUG-ImZvGHQV",
        "colab_type": "text"
      },
      "source": [
        "Now, we combine the birth control training set with the one-hot-encoded wife and husband education levels:"
      ]
    },
    {
      "cell_type": "markdown",
      "metadata": {
        "id": "pgPcx381aIV-",
        "colab_type": "text"
      },
      "source": [
        "In order to identify the best columns to use for our classification, we plotted a heatmap of correlations. When choosing features by looking at correlations we usually disregard one of two columns if they have very high correlations with one another; however in our situation the highest correlation was 0.61 between husband and wife education which even then is not too high. Thus, we opted to select most of the columns in the dataset. We chose to use wife_age, wife_eduction, husband_education, num_child, standard_living, and media_exposure. \n",
        "\n",
        "I was not initially planning on using num_child because it has the smallest correlation with contraceptive among the previous features. Strangely enough, it made our predictor much more accurate."
      ]
    },
    {
      "cell_type": "code",
      "metadata": {
        "id": "K73OHMhjaEsN",
        "colab_type": "code",
        "outputId": "9421a02e-9595-4b1f-9c82-94b08f58b139",
        "colab": {
          "base_uri": "https://localhost:8080/",
          "height": 906
        }
      },
      "source": [
        "plt.figure(figsize=(14,14))\n",
        "sns.heatmap(bc_train.corr(), annot=True, cmap='coolwarm', vmin=-1);"
      ],
      "execution_count": 227,
      "outputs": [
        {
          "output_type": "display_data",
          "data": {
            "image/png": "[encoded data removed]",
            "text/plain": [
              "<Figure size 1008x1008 with 2 Axes>"
            ]
          },
          "metadata": {
            "tags": [],
            "needs_background": "light"
          }
        }
      ]
    },
    {
      "cell_type": "code",
      "metadata": {
        "id": "WjMnrssekbbE",
        "colab_type": "code",
        "outputId": "61b59669-36ec-4ce1-9080-d1c5a48be374",
        "colab": {
          "base_uri": "https://localhost:8080/",
          "height": 382
        }
      },
      "source": [
        "plt.figure(figsize=(15,5))\n",
        "\n",
        "plt.subplot(1, 3, 1)\n",
        "sns.heatmap(pd.concat([wife_edu('train'), bc_train['contraceptive']], axis=1).corr(), annot=True, cmap='coolwarm', vmin=-1);\n",
        "\n",
        "plt.subplot(1, 3, 2)\n",
        "sns.heatmap(pd.concat([husband_edu('train'), bc_train['contraceptive']], axis=1).corr(), annot=True, cmap='coolwarm', vmin=-1);\n",
        "\n",
        "plt.subplot(1, 3, 3)\n",
        "sns.heatmap(pd.concat([living_standard('train'), bc_train['contraceptive']], axis=1).corr(), annot=True, cmap='coolwarm', vmin=-1);\n"
      ],
      "execution_count": 228,
      "outputs": [
        {
          "output_type": "display_data",
          "data": {
            "image/png": "[encoded data removed]",
            "text/plain": [
              "<Figure size 1080x360 with 6 Axes>"
            ]
          },
          "metadata": {
            "tags": [],
            "needs_background": "light"
          }
        }
      ]
    },
    {
      "cell_type": "code",
      "metadata": {
        "id": "TCtDi60RLoPy",
        "colab_type": "code",
        "colab": {}
      },
      "source": [
        "def data_test(data='train'): \n",
        "  if (data=='test'):\n",
        "    df = test\n",
        "  elif (data=='val'):\n",
        "    df = val\n",
        "  elif (data == 'crossval_train'):\n",
        "    df = bc_train\n",
        "  else:\n",
        "    df = train\n",
        "  original = df[['wife_age', 'num_child', 'media_exposure']]\n",
        "  bc_train.fillna(0)\n",
        "  \n",
        "  final = pd.concat([original, wife_edu(data), husband_edu(data)], axis=1)\n",
        "  return final"
      ],
      "execution_count": 0,
      "outputs": []
    },
    {
      "cell_type": "markdown",
      "metadata": {
        "id": "yPdGFMCfIDiS",
        "colab_type": "text"
      },
      "source": [
        "We first try to use logistic regression as a predictor: "
      ]
    },
    {
      "cell_type": "code",
      "metadata": {
        "id": "u8-IkyZUoPRZ",
        "colab_type": "code",
        "outputId": "5615b0b8-ccf0-4c63-f3be-59b4a3edf1c9",
        "colab": {
          "base_uri": "https://localhost:8080/",
          "height": 34
        }
      },
      "source": [
        "from sklearn.linear_model import LogisticRegression\n",
        "\n",
        "X_valtrain = data_test(data='crossval_train')\n",
        "Y_valtrain = bc_train['contraceptive']\n",
        "\n",
        "logistic_reg = LogisticRegression(penalty='l2', max_iter=1000)\n",
        "logistic_reg.fit(X_valtrain, Y_valtrain)\n",
        "\n",
        "crossval_training_accuracy = (logistic_reg.predict(X_valtrain) == Y_valtrain).mean()\n",
        "print(\"Training Accuracy for Cross Validation:\", crossval_training_accuracy)"
      ],
      "execution_count": 230,
      "outputs": [
        {
          "output_type": "stream",
          "text": [
            "Training Accuracy for Cross Validation: 0.535234899328859\n"
          ],
          "name": "stdout"
        }
      ]
    },
    {
      "cell_type": "code",
      "metadata": {
        "id": "YPntBB8w08Le",
        "colab_type": "code",
        "outputId": "e2f8a32e-f91b-4138-dcdf-ed6b8d256f27",
        "colab": {
          "base_uri": "https://localhost:8080/",
          "height": 34
        }
      },
      "source": [
        "X_val = data_test(data='val')\n",
        "Y_val = val['contraceptive']\n",
        "\n",
        "val_accuracy = (logistic_reg.predict(X_val) == Y_val).mean()\n",
        "print(\"Validation Accuracy:\", val_accuracy)"
      ],
      "execution_count": 231,
      "outputs": [
        {
          "output_type": "stream",
          "text": [
            "Validation Accuracy: 0.5338345864661654\n"
          ],
          "name": "stdout"
        }
      ]
    },
    {
      "cell_type": "code",
      "metadata": {
        "id": "rViCBa4mTd8a",
        "colab_type": "code",
        "outputId": "ad6c27a4-5d76-4be2-ef35-34f2ca757cd1",
        "colab": {
          "base_uri": "https://localhost:8080/",
          "height": 34
        }
      },
      "source": [
        "X_train = data_test(data = 'train')\n",
        "Y_train = train['contraceptive']\n",
        "logistic_reg.fit(X_train,train['contraceptive'])\n",
        "\n",
        "training_accuracy = (logistic_reg.predict(X_train) == train['contraceptive']).mean()\n",
        "print('Training Accuracy:', training_accuracy)"
      ],
      "execution_count": 232,
      "outputs": [
        {
          "output_type": "stream",
          "text": [
            "Training Accuracy: 0.5358490566037736\n"
          ],
          "name": "stdout"
        }
      ]
    },
    {
      "cell_type": "code",
      "metadata": {
        "id": "jMztx9hHfmGl",
        "colab_type": "code",
        "outputId": "fea1e093-785a-4395-b79d-dbf663822a3a",
        "colab": {
          "base_uri": "https://localhost:8080/",
          "height": 34
        }
      },
      "source": [
        "X_test = data_test(data='test')\n",
        "Y_test = test['contraceptive']\n",
        "test_accuracy = (logistic_reg.predict(X_test) == test['contraceptive']).mean()\n",
        "print(\"Testing Accuracy:\", test_accuracy)"
      ],
      "execution_count": 233,
      "outputs": [
        {
          "output_type": "stream",
          "text": [
            "Testing Accuracy: 0.5472972972972973\n"
          ],
          "name": "stdout"
        }
      ]
    },
    {
      "cell_type": "markdown",
      "metadata": {
        "id": "6xi_MWQkoxko",
        "colab_type": "text"
      },
      "source": [
        "From cross-validation alone, we get a pretty low training, validation, and testing accuracy across the board, sitting at a little over 50%. We can probably explain this by looking at the precision and recall of our model: "
      ]
    },
    {
      "cell_type": "code",
      "metadata": {
        "id": "PFg22pCDLn9j",
        "colab_type": "code",
        "colab": {}
      },
      "source": [
        "from sklearn.linear_model import LogisticRegression\n",
        "\n",
        "model = LogisticRegression(penalty='l2', max_iter=1000)\n",
        "model.fit(X_train.sort_index(), Y_train.sort_index())\n",
        "\n",
        "Y_train_hat = model.predict(X_train.sort_index())"
      ],
      "execution_count": 0,
      "outputs": []
    },
    {
      "cell_type": "markdown",
      "metadata": {
        "id": "M_mxe1xlGMgG",
        "colab_type": "text"
      },
      "source": [
        "We first calculate the precision and recall for the no contraceptive use condition: "
      ]
    },
    {
      "cell_type": "code",
      "metadata": {
        "id": "ZIiCJLXW2KIk",
        "colab_type": "code",
        "colab": {}
      },
      "source": [
        "tp1 = (Y_train_hat == 1) & (Y_train == 1)\n",
        "tn1 = (Y_train_hat != 1) & (Y_train != 1)\n",
        "fp1 = (Y_train_hat == 1) & (Y_train != 1)\n",
        "fn1 = (Y_train_hat != 1) & (Y_train == 1)\n",
        "\n",
        "logistic_predictor_precision_1 = np.sum(tp1) / (np.sum(tp1) + np.sum(fp1))\n",
        "logistic_predictor_recall_1 = np.sum(tp1) / (np.sum(tp1) + np.sum(fn1))\n",
        "#logistic_predictor_far_1 = np.sum(fp1)/(np.sum(fp1)+ np.sum(tn1))"
      ],
      "execution_count": 0,
      "outputs": []
    },
    {
      "cell_type": "code",
      "metadata": {
        "id": "p2zLoHaCbVC2",
        "colab_type": "code",
        "outputId": "714320a5-6068-4d56-bcfc-779705ad015d",
        "colab": {
          "base_uri": "https://localhost:8080/",
          "height": 51
        }
      },
      "source": [
        "print('Logistic Regression Model Precision:',logistic_predictor_precision_1)\n",
        "print('Logistic Regression Model Recall:',logistic_predictor_recall_1)"
      ],
      "execution_count": 236,
      "outputs": [
        {
          "output_type": "stream",
          "text": [
            "Logistic Regression Model Precision: 0.40863787375415284\n",
            "Logistic Regression Model Recall: 0.4392857142857143\n"
          ],
          "name": "stdout"
        }
      ]
    },
    {
      "cell_type": "markdown",
      "metadata": {
        "id": "iLVZToWNH2pL",
        "colab_type": "text"
      },
      "source": [
        "Since the precision is smaller than the recall, we can tell that there are more false positives than negatives for the no contraceptive use condition. This means that there are more long-term or short-term contraceptive use data being misflagged as no contraceptive use. \n"
      ]
    },
    {
      "cell_type": "code",
      "metadata": {
        "id": "h0gUTiMHb-8r",
        "colab_type": "code",
        "outputId": "19d383be-4261-4d60-8758-7331f9d31154",
        "colab": {
          "base_uri": "https://localhost:8080/",
          "height": 34
        }
      },
      "source": [
        "accuracy_1 = (np.sum(tp1) + np.sum(tn1))/ (np.sum(tp1) + np.sum(fp1) + np.sum(tn1) + np.sum(fn1))\n",
        "print('Accuracy:',accuracy_1)"
      ],
      "execution_count": 237,
      "outputs": [
        {
          "output_type": "stream",
          "text": [
            "Accuracy: 0.49433962264150944\n"
          ],
          "name": "stdout"
        }
      ]
    },
    {
      "cell_type": "markdown",
      "metadata": {
        "id": "zh6NGaUtIsiG",
        "colab_type": "text"
      },
      "source": [
        "The accuracy of our model for predicting no contraceptive use is at around 49%. "
      ]
    },
    {
      "cell_type": "markdown",
      "metadata": {
        "id": "lwLsi02kJCUD",
        "colab_type": "text"
      },
      "source": [
        "Next, we calculate the precision and recall for the long-term contraceptive use condition: "
      ]
    },
    {
      "cell_type": "code",
      "metadata": {
        "id": "Dayngp7OE2gD",
        "colab_type": "code",
        "colab": {}
      },
      "source": [
        "tp2 = (Y_train_hat == 2) & (Y_train == 2)\n",
        "tn2 = (Y_train_hat != 2) & (Y_train != 2)\n",
        "fp2 = (Y_train_hat == 2) & (Y_train != 2)\n",
        "fn2 = (Y_train_hat != 2) & (Y_train == 2)\n",
        "\n",
        "logistic_predictor_precision_2 = np.sum(tp2) / (np.sum(tp2) + np.sum(fp2))\n",
        "logistic_predictor_recall_2 = np.sum(tp2) / (np.sum(tp2) + np.sum(fn2))\n",
        "#logistic_predictor_far_2 = np.sum(fp2)/(np.sum(fp2)+ np.sum(tn2))"
      ],
      "execution_count": 0,
      "outputs": []
    },
    {
      "cell_type": "code",
      "metadata": {
        "id": "sgveXBTqE20s",
        "colab_type": "code",
        "outputId": "99658abd-1f17-42b3-ed87-03bced398960",
        "colab": {
          "base_uri": "https://localhost:8080/",
          "height": 51
        }
      },
      "source": [
        "print('Logistic Regression Model Precision:',logistic_predictor_precision_2)\n",
        "print('Logistic Regression Model Recall:',logistic_predictor_recall_2)"
      ],
      "execution_count": 239,
      "outputs": [
        {
          "output_type": "stream",
          "text": [
            "Logistic Regression Model Precision: 0.20725388601036268\n",
            "Logistic Regression Model Recall: 0.1342281879194631\n"
          ],
          "name": "stdout"
        }
      ]
    },
    {
      "cell_type": "markdown",
      "metadata": {
        "id": "X1kxNK1vJN8k",
        "colab_type": "text"
      },
      "source": [
        "Since our precision is larger than the recall, we can tell that there are more false negatives than positives for the long-term contraceptive use condition. This means that there are more long-term uses being mislabeled as no or short-term use. \n"
      ]
    },
    {
      "cell_type": "code",
      "metadata": {
        "id": "ECGNuA4SFKma",
        "colab_type": "code",
        "outputId": "43bebebb-5a40-4971-b8da-30256718c28f",
        "colab": {
          "base_uri": "https://localhost:8080/",
          "height": 34
        }
      },
      "source": [
        "accuracy_2 = (np.sum(tp2) + np.sum(tn2))/ (np.sum(tp2) + np.sum(fp2) + np.sum(tn2) + np.sum(fn2))\n",
        "print('Accuracy:',accuracy_2)"
      ],
      "execution_count": 240,
      "outputs": [
        {
          "output_type": "stream",
          "text": [
            "Accuracy: 0.689811320754717\n"
          ],
          "name": "stdout"
        }
      ]
    },
    {
      "cell_type": "markdown",
      "metadata": {
        "id": "n0KigvKRJVvU",
        "colab_type": "text"
      },
      "source": [
        "The accuracy of our model for predicting long-term contraceptive use is at around 68%. "
      ]
    },
    {
      "cell_type": "markdown",
      "metadata": {
        "id": "Lli6cRQaJeXh",
        "colab_type": "text"
      },
      "source": [
        "Finally, we calculate the precision and recall for the short-term contraceptive use condition: "
      ]
    },
    {
      "cell_type": "code",
      "metadata": {
        "id": "-fMCgIcFFQys",
        "colab_type": "code",
        "colab": {}
      },
      "source": [
        "tp3 = (Y_train_hat == 3) & (Y_train == 3)\n",
        "tn3 = (Y_train_hat != 3) & (Y_train != 3)\n",
        "fp3 = (Y_train_hat == 3) & (Y_train != 3)\n",
        "fn3 = (Y_train_hat != 3) & (Y_train == 3)\n",
        "\n",
        "logistic_predictor_precision_3 = np.sum(tp3) / (np.sum(tp3) + np.sum(fp3))\n",
        "logistic_predictor_recall_3 = np.sum(tp3) / (np.sum(tp3) + np.sum(fn3))\n",
        "#logistic_predictor_far_3 = np.sum(fp3)/(np.sum(fp3)+ np.sum(tn3))"
      ],
      "execution_count": 0,
      "outputs": []
    },
    {
      "cell_type": "code",
      "metadata": {
        "id": "ckBlkZd_FRDw",
        "colab_type": "code",
        "outputId": "60fc0c80-fb10-4d9a-d09a-3539b49c2074",
        "colab": {
          "base_uri": "https://localhost:8080/",
          "height": 51
        }
      },
      "source": [
        "print('Logistic Regression Model Precision:',logistic_predictor_precision_3)\n",
        "print('Logistic Regression Model Recall:',logistic_predictor_recall_3)"
      ],
      "execution_count": 242,
      "outputs": [
        {
          "output_type": "stream",
          "text": [
            "Logistic Regression Model Precision: 0.35094339622641507\n",
            "Logistic Regression Model Recall: 0.39828693790149894\n"
          ],
          "name": "stdout"
        }
      ]
    },
    {
      "cell_type": "markdown",
      "metadata": {
        "id": "B1gw3qtGJrHD",
        "colab_type": "text"
      },
      "source": [
        "Since our precision is smaller than the recall, we can tell that there are more false positives than negatives for the short-term contraceptive use condition. This means that there are more long-term or no use being flagged as short-term use. "
      ]
    },
    {
      "cell_type": "code",
      "metadata": {
        "id": "J10Qt3nhFRUc",
        "colab_type": "code",
        "outputId": "8f07d283-1de7-48d2-99a9-66d6b9f64b56",
        "colab": {
          "base_uri": "https://localhost:8080/",
          "height": 34
        }
      },
      "source": [
        "accuracy_3 = (np.sum(tp3) + np.sum(tn3))/ (np.sum(tp3) + np.sum(fp3) + np.sum(tn3) + np.sum(fn3))\n",
        "print('Accuracy:',accuracy_3)"
      ],
      "execution_count": 243,
      "outputs": [
        {
          "output_type": "stream",
          "text": [
            "Accuracy: 0.5283018867924528\n"
          ],
          "name": "stdout"
        }
      ]
    },
    {
      "cell_type": "markdown",
      "metadata": {
        "id": "y1a_XQHjKFhj",
        "colab_type": "text"
      },
      "source": [
        "The accuracy of our model for predicting short-term contraceptive use is at around 53%. "
      ]
    },
    {
      "cell_type": "markdown",
      "metadata": {
        "id": "xb9cEm8vKdT1",
        "colab_type": "text"
      },
      "source": [
        "For both no- and short-term contraceptive use, we see that more data is being misflagged as no- and short-term use. On the other hand, there are more long-term use data that are being misflagged as something else. Thus, our model is likely overestimating the number of people using long-term contraceptives because it seems to be at the expense of predicting no and short-term use. "
      ]
    },
    {
      "cell_type": "markdown",
      "metadata": {
        "id": "VDseWJq_GWld",
        "colab_type": "text"
      },
      "source": [
        "I think the number of long-term contraceptive use is being overestimated due to the features in our data being more inclined towards long-term contraceptive use; for instance, two of the features that we are using are wife's and husband's education. From the EDA we conducted earlier, we can see that in our data, most of the wives and husbands belong to the highest level of educational attainment, which is correlated with long-term contraceptive use. "
      ]
    },
    {
      "cell_type": "markdown",
      "metadata": {
        "id": "95QEB-xwtCSW",
        "colab_type": "text"
      },
      "source": [
        "### **Method 2: One vs. Rest Classifier**"
      ]
    },
    {
      "cell_type": "code",
      "metadata": {
        "id": "QrPHWi0F16T1",
        "colab_type": "code",
        "outputId": "73b4138c-d56a-4098-95a6-42e3cf06803c",
        "colab": {
          "base_uri": "https://localhost:8080/",
          "height": 102
        }
      },
      "source": [
        "logistic_reg_ovr = LogisticRegression(multi_class = 'ovr', max_iter=500)\n",
        "logistic_reg_ovr.fit(X_train, Y_train)"
      ],
      "execution_count": 244,
      "outputs": [
        {
          "output_type": "execute_result",
          "data": {
            "text/plain": [
              "LogisticRegression(C=1.0, class_weight=None, dual=False, fit_intercept=True,\n",
              "                   intercept_scaling=1, l1_ratio=None, max_iter=500,\n",
              "                   multi_class='ovr', n_jobs=None, penalty='l2',\n",
              "                   random_state=None, solver='lbfgs', tol=0.0001, verbose=0,\n",
              "                   warm_start=False)"
            ]
          },
          "metadata": {
            "tags": []
          },
          "execution_count": 244
        }
      ]
    },
    {
      "cell_type": "code",
      "metadata": {
        "id": "PDgoXBmx2J97",
        "colab_type": "code",
        "outputId": "41bd0120-9b38-4249-b2d5-262952874c9b",
        "colab": {
          "base_uri": "https://localhost:8080/",
          "height": 34
        }
      },
      "source": [
        "logistic_reg_ovr.score(X_train, Y_train)"
      ],
      "execution_count": 245,
      "outputs": [
        {
          "output_type": "execute_result",
          "data": {
            "text/plain": [
              "0.5335849056603773"
            ]
          },
          "metadata": {
            "tags": []
          },
          "execution_count": 245
        }
      ]
    },
    {
      "cell_type": "markdown",
      "metadata": {
        "id": "KLfU_uiQtuRR",
        "colab_type": "text"
      },
      "source": [
        "### **Method 3: Decision Tree Classifier**"
      ]
    },
    {
      "cell_type": "markdown",
      "metadata": {
        "id": "yIIIqk7SqHiG",
        "colab_type": "text"
      },
      "source": [
        "We wanted to try using a decision tree classifier since we would be able to classify without using only linear boundaries as logistic regression lets us. "
      ]
    },
    {
      "cell_type": "code",
      "metadata": {
        "id": "QGCNRhxmsuGJ",
        "colab_type": "code",
        "outputId": "f67c1293-42ed-4bf0-931e-312a4082daa9",
        "colab": {
          "base_uri": "https://localhost:8080/",
          "height": 119
        }
      },
      "source": [
        "decision_tree_model = tree.DecisionTreeClassifier(random_state=100)\n",
        "decision_tree_model.fit(X_train, Y_train)"
      ],
      "execution_count": 246,
      "outputs": [
        {
          "output_type": "execute_result",
          "data": {
            "text/plain": [
              "DecisionTreeClassifier(ccp_alpha=0.0, class_weight=None, criterion='gini',\n",
              "                       max_depth=None, max_features=None, max_leaf_nodes=None,\n",
              "                       min_impurity_decrease=0.0, min_impurity_split=None,\n",
              "                       min_samples_leaf=1, min_samples_split=2,\n",
              "                       min_weight_fraction_leaf=0.0, presort='deprecated',\n",
              "                       random_state=100, splitter='best')"
            ]
          },
          "metadata": {
            "tags": []
          },
          "execution_count": 246
        }
      ]
    },
    {
      "cell_type": "markdown",
      "metadata": {
        "id": "MTV9X9ajr9-O",
        "colab_type": "text"
      },
      "source": [
        "Since Decision trees learn new rules for decision on a class by looking at features we wanted to know what type of data would be most beneficial. \n",
        "\n",
        "We decided to compare the one_hot_encoded data used/chosen for our logistic regression model with using all features without one_hot_encoding since we wanted to try to maximize the amount of features the model had to select on as well as reduce the sparsity.\n",
        "\n",
        "\n",
        "https://towardsdatascience.com/one-hot-encoding-is-making-your-tree-based-ensembles-worse-heres-why-d64b282b5769\n",
        "-by consulting some sources as the one above we were able to see that typically we do not have to one_hot_encode and in some cases it is encouraged to reduce the sparsity and selection."
      ]
    },
    {
      "cell_type": "markdown",
      "metadata": {
        "id": "NK-CWp-rQHj-",
        "colab_type": "text"
      },
      "source": [
        "1. **Using the same features**\n",
        "\n",
        "```\n",
        "['wife_age', 'num_child', 'media_exposure',ohe('wife_edu'), ohe('husb_edu')]\n",
        "```\n",
        "\n"
      ]
    },
    {
      "cell_type": "code",
      "metadata": {
        "id": "G8vnsg-zQr7n",
        "colab_type": "code",
        "outputId": "e0699535-14a2-4de4-ac50-f0b8e6807e7d",
        "colab": {
          "base_uri": "https://localhost:8080/",
          "height": 51
        }
      },
      "source": [
        "decision_tree_model = tree.DecisionTreeClassifier(random_state=100)\n",
        "decision_tree_model.fit(X_train, Y_train)\n",
        "dt_training_accuracy = decision_tree_model.score(X_train, Y_train)\n",
        "dt_test_accuracy = decision_tree_model.score(X_test, Y_test)\n",
        "print(\"Training Accuracy: \" + str(dt_training_accuracy))\n",
        "print (\"Test Accuracy: \" + str(dt_test_accuracy))"
      ],
      "execution_count": 247,
      "outputs": [
        {
          "output_type": "stream",
          "text": [
            "Training Accuracy: 0.8090566037735849\n",
            "Test Accuracy: 0.5675675675675675\n"
          ],
          "name": "stdout"
        }
      ]
    },
    {
      "cell_type": "markdown",
      "metadata": {
        "id": "gOB5FI7gRWN-",
        "colab_type": "text"
      },
      "source": [
        "As we can see from these results, the training accuracy is much higher than the test. We want to avoid overfitting to training data. Thus, we might want to limit the height of our tree by potentially limiting how deep it grows."
      ]
    },
    {
      "cell_type": "code",
      "metadata": {
        "id": "BCD36JItQ2w6",
        "colab_type": "code",
        "outputId": "d32f8de6-885d-4689-fcf2-9e8e39839751",
        "colab": {
          "base_uri": "https://localhost:8080/",
          "height": 517
        }
      },
      "source": [
        "def select_max_depth(decision_tree_model, X_train, Y_train, X_test, Y_test):\n",
        "  des_depth = []\n",
        "  des_train = []\n",
        "  des_test = []\n",
        "  for i in range(1, 46):\n",
        "    decision_tree_model = tree.DecisionTreeClassifier(random_state=100,max_depth=i)\n",
        "    decision_tree_model.fit(X_train, Y_train)\n",
        "    dt_training_accuracy = decision_tree_model.score(X_train, Y_train)\n",
        "    dt_test_accuracy = decision_tree_model.score(X_test, Y_test)\n",
        "    if(i%5 == 0):\n",
        "        print(\"Depth: \" + str(i) + \" Training Accuracy: \" + str(dt_training_accuracy) + \" Test Accuracy: \" + str(dt_test_accuracy))\n",
        "    des_depth.append(i)\n",
        "    des_train.append(dt_training_accuracy)\n",
        "    des_test.append(dt_test_accuracy)\n",
        "\n",
        "  print(\"\\nIdeal Depth: \" + str(np.argmax(des_test)))\n",
        "  print(\"Training Accuracy: \" + str(des_train[np.argmax(des_test)]))\n",
        "  print(\"Validation Accuracy: \" + str(des_test[np.argmax(des_test)]) + \"\\n\")\n",
        "\n",
        "  plt.plot(des_depth,des_train, des_depth,des_test)\n",
        "  plt.ylabel('Accuracy %')\n",
        "  plt.xlabel('Max Depth')\n",
        "  plt.legend([\"Training\",\"Test\"])\n",
        "  plt.show()\n",
        "\n",
        "select_max_depth(decision_tree_model, X_train, Y_train, X_test, Y_test)"
      ],
      "execution_count": 248,
      "outputs": [
        {
          "output_type": "stream",
          "text": [
            "Depth: 5 Training Accuracy: 0.5758490566037736 Test Accuracy: 0.581081081081081\n",
            "Depth: 10 Training Accuracy: 0.6747169811320755 Test Accuracy: 0.5608108108108109\n",
            "Depth: 15 Training Accuracy: 0.7871698113207547 Test Accuracy: 0.5675675675675675\n",
            "Depth: 20 Training Accuracy: 0.8090566037735849 Test Accuracy: 0.5675675675675675\n",
            "Depth: 25 Training Accuracy: 0.8090566037735849 Test Accuracy: 0.5675675675675675\n",
            "Depth: 30 Training Accuracy: 0.8090566037735849 Test Accuracy: 0.5675675675675675\n",
            "Depth: 35 Training Accuracy: 0.8090566037735849 Test Accuracy: 0.5675675675675675\n",
            "Depth: 40 Training Accuracy: 0.8090566037735849 Test Accuracy: 0.5675675675675675\n",
            "Depth: 45 Training Accuracy: 0.8090566037735849 Test Accuracy: 0.5675675675675675\n",
            "\n",
            "Ideal Depth: 4\n",
            "Training Accuracy: 0.5758490566037736\n",
            "Validation Accuracy: 0.581081081081081\n",
            "\n"
          ],
          "name": "stdout"
        },
        {
          "output_type": "display_data",
          "data": {
            "image/png": "[encoded data removed]",
            "text/plain": [
              "<Figure size 432x288 with 1 Axes>"
            ]
          },
          "metadata": {
            "tags": [],
            "needs_background": "light"
          }
        }
      ]
    },
    {
      "cell_type": "markdown",
      "metadata": {
        "id": "UHc5gmxRUEA2",
        "colab_type": "text"
      },
      "source": [
        "As we can see with this with a lower training accuracy our validation accuracy increases. Thus, we should tend towards not as tall of a tree."
      ]
    },
    {
      "cell_type": "markdown",
      "metadata": {
        "id": "IzLVOCxrUJD8",
        "colab_type": "text"
      },
      "source": [
        "**2. Using all features:** \n",
        "\n",
        "```\n",
        "['wife_age', 'wife_education', 'husband_education', 'num_child','wife_religion', 'wife_work', 'husband_occupation', 'standard_living','media_exposure', 'contraceptive']\n",
        "```\n",
        "\n"
      ]
    },
    {
      "cell_type": "code",
      "metadata": {
        "id": "HHcGZlh_zzcz",
        "colab_type": "code",
        "outputId": "a1147315-2568-4080-a90c-3c47f4e6b1b3",
        "colab": {
          "base_uri": "https://localhost:8080/",
          "height": 51
        }
      },
      "source": [
        "X_train_plain = train.iloc[:,:-1]\n",
        "Y_train_plain = train['contraceptive']\n",
        "X_test_plain = test.iloc[:,:-1]\n",
        "Y_test_plain = test['contraceptive']\n",
        "decision_tree_model_plain = tree.DecisionTreeClassifier(random_state=100)\n",
        "decision_tree_model_plain.fit(X_train_plain, Y_train_plain)\n",
        "dt_training_accuracy_plain = decision_tree_model_plain.score(X_train_plain, Y_train_plain)\n",
        "dt_test_accuracy_plain = decision_tree_model_plain.score(X_test_plain, Y_test_plain)\n",
        "decision_tree_model_plain.predict(X_test_plain)\n",
        "print('Training_accuracy:',dt_training_accuracy_plain)\n",
        "print('Test_accuracy:',dt_test_accuracy_plain) "
      ],
      "execution_count": 249,
      "outputs": [
        {
          "output_type": "stream",
          "text": [
            "Training_accuracy: 0.9569811320754718\n",
            "Test_accuracy: 0.5675675675675675\n"
          ],
          "name": "stdout"
        }
      ]
    },
    {
      "cell_type": "markdown",
      "metadata": {
        "id": "WtZxlPnDXYaJ",
        "colab_type": "text"
      },
      "source": [
        "Very high training accuracy due to overfitting -> need to tune parameters"
      ]
    },
    {
      "cell_type": "code",
      "metadata": {
        "id": "CcIJyktvlpsp",
        "colab_type": "code",
        "outputId": "d23ece18-f45a-42eb-ae62-d3b111343ca1",
        "colab": {
          "base_uri": "https://localhost:8080/",
          "height": 517
        }
      },
      "source": [
        "select_max_depth(decision_tree_model_plain, X_train_plain, Y_train_plain, X_test_plain, Y_test_plain)"
      ],
      "execution_count": 250,
      "outputs": [
        {
          "output_type": "stream",
          "text": [
            "Depth: 5 Training Accuracy: 0.5849056603773585 Test Accuracy: 0.5675675675675675\n",
            "Depth: 10 Training Accuracy: 0.7237735849056603 Test Accuracy: 0.5540540540540541\n",
            "Depth: 15 Training Accuracy: 0.9086792452830189 Test Accuracy: 0.5472972972972973\n",
            "Depth: 20 Training Accuracy: 0.9554716981132075 Test Accuracy: 0.5675675675675675\n",
            "Depth: 25 Training Accuracy: 0.9569811320754718 Test Accuracy: 0.5675675675675675\n",
            "Depth: 30 Training Accuracy: 0.9569811320754718 Test Accuracy: 0.5675675675675675\n",
            "Depth: 35 Training Accuracy: 0.9569811320754718 Test Accuracy: 0.5675675675675675\n",
            "Depth: 40 Training Accuracy: 0.9569811320754718 Test Accuracy: 0.5675675675675675\n",
            "Depth: 45 Training Accuracy: 0.9569811320754718 Test Accuracy: 0.5675675675675675\n",
            "\n",
            "Ideal Depth: 5\n",
            "Training Accuracy: 0.5962264150943396\n",
            "Validation Accuracy: 0.5878378378378378\n",
            "\n"
          ],
          "name": "stdout"
        },
        {
          "output_type": "display_data",
          "data": {
            "image/png": "[encoded data removed]",
            "text/plain": [
              "<Figure size 432x288 with 1 Axes>"
            ]
          },
          "metadata": {
            "tags": [],
            "needs_background": "light"
          }
        }
      ]
    },
    {
      "cell_type": "markdown",
      "metadata": {
        "id": "sltP6oZiZYJu",
        "colab_type": "text"
      },
      "source": [
        "Looked into other parameters such as criterion which identifies the impurity measures for classification. The two types are Entropy and Gini(default). Entropy measures how evenly distibutec the pobabilities from one node are. We want to try to achieve 0 entropy by classifying the node to one particular class. Gini, the other type of criterion is the probability that we incorrectly classify.\n",
        "\n",
        "[Entropy/Gini](https://www.bogotobogo.com/python/scikit-learn/scikt_machine_learning_Decision_Tree_Learning_Informatioin_Gain_IG_Impurity_Entropy_Gini_Classification_Error.php)\n"
      ]
    },
    {
      "cell_type": "code",
      "metadata": {
        "id": "Z4IX9R00a0ro",
        "colab_type": "code",
        "outputId": "0875be9f-e94d-41eb-ec83-d8cb85371f9e",
        "colab": {
          "base_uri": "https://localhost:8080/",
          "height": 51
        }
      },
      "source": [
        "decision_tree_model_plain = tree.DecisionTreeClassifier(criterion='entropy',random_state=100,max_depth=6)\n",
        "decision_tree_model_plain.fit(X_train_plain, Y_train_plain)\n",
        "dt_training_accuracy_plain = decision_tree_model_plain.score(X_train_plain, Y_train_plain)\n",
        "dt_test_accuracy_plain = decision_tree_model_plain.score(X_test_plain, Y_test_plain)\n",
        "print('Training_accuracy:',dt_training_accuracy_plain)\n",
        "print('Test_accuracy:',dt_test_accuracy_plain) "
      ],
      "execution_count": 251,
      "outputs": [
        {
          "output_type": "stream",
          "text": [
            "Training_accuracy: 0.5916981132075472\n",
            "Test_accuracy: 0.581081081081081\n"
          ],
          "name": "stdout"
        }
      ]
    },
    {
      "cell_type": "code",
      "metadata": {
        "id": "QNlU15BJNEqB",
        "colab_type": "code",
        "outputId": "66101e6d-1512-44a3-d043-bd17cd0335de",
        "colab": {
          "base_uri": "https://localhost:8080/",
          "height": 922
        }
      },
      "source": [
        "import graphviz\n",
        "dot_data = tree.export_graphviz(decision_tree_model_plain, out_file=None, \n",
        "                      filled=True, rounded=True,  \n",
        "                      special_characters=True)  \n",
        "graph = graphviz.Source(dot_data)\n",
        "graph.render(format=\"png\", filename=\"iris_tree\")\n",
        "graph"
      ],
      "execution_count": 252,
      "outputs": [
        {
          "output_type": "execute_result",
          "data": {
            "text/plain": [
              "<graphviz.files.Source at 0x7f18357318d0>"
            ],
            "image/svg+xml": "<?xml version=\"1.0\" encoding=\"UTF-8\" standalone=\"no\"?>\n<!DOCTYPE svg PUBLIC \"-//W3C//DTD SVG 1.1//EN\"\n \"http://www.w3.org/Graphics/SVG/1.1/DTD/svg11.dtd\">\n<!-- Generated by graphviz version 2.40.1 (20161225.0304)\n -->\n<!-- Title: Tree Pages: 1 -->\n<svg width=\"3736pt\" height=\"661pt\"\n viewBox=\"0.00 0.00 3735.50 661.00\" xmlns=\"http://www.w3.org/2000/svg\" xmlns:xlink=\"http://www.w3.org/1999/xlink\">\n<g id=\"graph0\" class=\"graph\" transform=\"scale(1 1) rotate(0) translate(4 657)\">\n<title>Tree</title>\n<polygon fill=\"#ffffff\" stroke=\"transparent\" points=\"-4,4 -4,-657 3731.5,-657 3731.5,4 -4,4\"/>\n<!-- 0 -->\n<g id=\"node1\" class=\"node\">\n<title>0</title>\n<path fill=\"#fcf1ea\" stroke=\"#000000\" d=\"M693.5,-653C693.5,-653 553.5,-653 553.5,-653 547.5,-653 541.5,-647 541.5,-641 541.5,-641 541.5,-601 541.5,-601 541.5,-595 547.5,-589 553.5,-589 553.5,-589 693.5,-589 693.5,-589 699.5,-589 705.5,-595 705.5,-601 705.5,-601 705.5,-641 705.5,-641 705.5,-647 699.5,-653 693.5,-653\"/>\n<text text-anchor=\"start\" x=\"597\" y=\"-638.8\" font-family=\"Helvetica,sans-Serif\" font-size=\"14.00\" fill=\"#000000\">X</text>\n<text text-anchor=\"start\" x=\"607\" y=\"-638.8\" font-family=\"Helvetica,sans-Serif\" baseline-shift=\"sub\" font-size=\"14.00\" fill=\"#000000\">3</text>\n<text text-anchor=\"start\" x=\"614\" y=\"-638.8\" font-family=\"Helvetica,sans-Serif\" font-size=\"14.00\" fill=\"#000000\"> ≤ 0.5</text>\n<text text-anchor=\"start\" x=\"576.5\" y=\"-624.8\" font-family=\"Helvetica,sans-Serif\" font-size=\"14.00\" fill=\"#000000\">entropy = 1.54</text>\n<text text-anchor=\"start\" x=\"571.5\" y=\"-610.8\" font-family=\"Helvetica,sans-Serif\" font-size=\"14.00\" fill=\"#000000\">samples = 1325</text>\n<text text-anchor=\"start\" x=\"549.5\" y=\"-596.8\" font-family=\"Helvetica,sans-Serif\" font-size=\"14.00\" fill=\"#000000\">value = [560, 298, 467]</text>\n</g>\n<!-- 1 -->\n<g id=\"node2\" class=\"node\">\n<title>1</title>\n<path fill=\"#e6843e\" stroke=\"#000000\" d=\"M458,-553C458,-553 359,-553 359,-553 353,-553 347,-547 347,-541 347,-541 347,-501 347,-501 347,-495 353,-489 359,-489 359,-489 458,-489 458,-489 464,-489 470,-495 470,-501 470,-501 470,-541 470,-541 470,-547 464,-553 458,-553\"/>\n<text text-anchor=\"start\" x=\"378\" y=\"-538.8\" font-family=\"Helvetica,sans-Serif\" font-size=\"14.00\" fill=\"#000000\">X</text>\n<text text-anchor=\"start\" x=\"388\" y=\"-538.8\" font-family=\"Helvetica,sans-Serif\" baseline-shift=\"sub\" font-size=\"14.00\" fill=\"#000000\">0</text>\n<text text-anchor=\"start\" x=\"395\" y=\"-538.8\" font-family=\"Helvetica,sans-Serif\" font-size=\"14.00\" fill=\"#000000\"> ≤ 17.5</text>\n<text text-anchor=\"start\" x=\"357.5\" y=\"-524.8\" font-family=\"Helvetica,sans-Serif\" font-size=\"14.00\" fill=\"#000000\">entropy = 0.162</text>\n<text text-anchor=\"start\" x=\"364.5\" y=\"-510.8\" font-family=\"Helvetica,sans-Serif\" font-size=\"14.00\" fill=\"#000000\">samples = 84</text>\n<text text-anchor=\"start\" x=\"355\" y=\"-496.8\" font-family=\"Helvetica,sans-Serif\" font-size=\"14.00\" fill=\"#000000\">value = [82, 0, 2]</text>\n</g>\n<!-- 0&#45;&gt;1 -->\n<g id=\"edge1\" class=\"edge\">\n<title>0&#45;&gt;1</title>\n<path fill=\"none\" stroke=\"#000000\" d=\"M554.5855,-588.9467C530.516,-577.7516 503.471,-565.1725 479.2541,-553.9089\"/>\n<polygon fill=\"#000000\" stroke=\"#000000\" points=\"480.6666,-550.7058 470.1233,-549.662 477.7144,-557.0529 480.6666,-550.7058\"/>\n<text text-anchor=\"middle\" x=\"478.6968\" y=\"-569.4459\" font-family=\"Helvetica,sans-Serif\" font-size=\"14.00\" fill=\"#000000\">True</text>\n</g>\n<!-- 8 -->\n<g id=\"node9\" class=\"node\">\n<title>8</title>\n<path fill=\"#fffdfc\" stroke=\"#000000\" d=\"M1123.5,-553C1123.5,-553 983.5,-553 983.5,-553 977.5,-553 971.5,-547 971.5,-541 971.5,-541 971.5,-501 971.5,-501 971.5,-495 977.5,-489 983.5,-489 983.5,-489 1123.5,-489 1123.5,-489 1129.5,-489 1135.5,-495 1135.5,-501 1135.5,-501 1135.5,-541 1135.5,-541 1135.5,-547 1129.5,-553 1123.5,-553\"/>\n<text text-anchor=\"start\" x=\"1027\" y=\"-538.8\" font-family=\"Helvetica,sans-Serif\" font-size=\"14.00\" fill=\"#000000\">X</text>\n<text text-anchor=\"start\" x=\"1037\" y=\"-538.8\" font-family=\"Helvetica,sans-Serif\" baseline-shift=\"sub\" font-size=\"14.00\" fill=\"#000000\">1</text>\n<text text-anchor=\"start\" x=\"1044\" y=\"-538.8\" font-family=\"Helvetica,sans-Serif\" font-size=\"14.00\" fill=\"#000000\"> ≤ 2.5</text>\n<text text-anchor=\"start\" x=\"1002.5\" y=\"-524.8\" font-family=\"Helvetica,sans-Serif\" font-size=\"14.00\" fill=\"#000000\">entropy = 1.555</text>\n<text text-anchor=\"start\" x=\"1001.5\" y=\"-510.8\" font-family=\"Helvetica,sans-Serif\" font-size=\"14.00\" fill=\"#000000\">samples = 1241</text>\n<text text-anchor=\"start\" x=\"979.5\" y=\"-496.8\" font-family=\"Helvetica,sans-Serif\" font-size=\"14.00\" fill=\"#000000\">value = [478, 298, 465]</text>\n</g>\n<!-- 0&#45;&gt;8 -->\n<g id=\"edge8\" class=\"edge\">\n<title>0&#45;&gt;8</title>\n<path fill=\"none\" stroke=\"#000000\" d=\"M705.6456,-601.8964C778.6666,-584.9148 885.3132,-560.1132 961.2446,-542.4547\"/>\n<polygon fill=\"#000000\" stroke=\"#000000\" points=\"962.3333,-545.795 971.2806,-540.1208 960.7476,-538.977 962.3333,-545.795\"/>\n<text text-anchor=\"middle\" x=\"958.0666\" y=\"-557.6432\" font-family=\"Helvetica,sans-Serif\" font-size=\"14.00\" fill=\"#000000\">False</text>\n</g>\n<!-- 2 -->\n<g id=\"node3\" class=\"node\">\n<title>2</title>\n<path fill=\"#8139e5\" stroke=\"#000000\" d=\"M317,-447.5C317,-447.5 226,-447.5 226,-447.5 220,-447.5 214,-441.5 214,-435.5 214,-435.5 214,-406.5 214,-406.5 214,-400.5 220,-394.5 226,-394.5 226,-394.5 317,-394.5 317,-394.5 323,-394.5 329,-400.5 329,-406.5 329,-406.5 329,-435.5 329,-435.5 329,-441.5 323,-447.5 317,-447.5\"/>\n<text text-anchor=\"start\" x=\"229\" y=\"-432.3\" font-family=\"Helvetica,sans-Serif\" font-size=\"14.00\" fill=\"#000000\">entropy = 0.0</text>\n<text text-anchor=\"start\" x=\"232\" y=\"-417.3\" font-family=\"Helvetica,sans-Serif\" font-size=\"14.00\" fill=\"#000000\">samples = 1</text>\n<text text-anchor=\"start\" x=\"222\" y=\"-402.3\" font-family=\"Helvetica,sans-Serif\" font-size=\"14.00\" fill=\"#000000\">value = [0, 0, 1]</text>\n</g>\n<!-- 1&#45;&gt;2 -->\n<g id=\"edge2\" class=\"edge\">\n<title>1&#45;&gt;2</title>\n<path fill=\"none\" stroke=\"#000000\" d=\"M364.3982,-488.8089C349.0864,-477.6324 331.9036,-465.0902 316.5186,-453.8603\"/>\n<polygon fill=\"#000000\" stroke=\"#000000\" points=\"318.3204,-450.8423 308.1797,-447.7735 314.1934,-456.4963 318.3204,-450.8423\"/>\n</g>\n<!-- 3 -->\n<g id=\"node4\" class=\"node\">\n<title>3</title>\n<path fill=\"#e5833b\" stroke=\"#000000\" d=\"M458,-453C458,-453 359,-453 359,-453 353,-453 347,-447 347,-441 347,-441 347,-401 347,-401 347,-395 353,-389 359,-389 359,-389 458,-389 458,-389 464,-389 470,-395 470,-401 470,-401 470,-441 470,-441 470,-447 464,-453 458,-453\"/>\n<text text-anchor=\"start\" x=\"382\" y=\"-438.8\" font-family=\"Helvetica,sans-Serif\" font-size=\"14.00\" fill=\"#000000\">X</text>\n<text text-anchor=\"start\" x=\"392\" y=\"-438.8\" font-family=\"Helvetica,sans-Serif\" baseline-shift=\"sub\" font-size=\"14.00\" fill=\"#000000\">6</text>\n<text text-anchor=\"start\" x=\"399\" y=\"-438.8\" font-family=\"Helvetica,sans-Serif\" font-size=\"14.00\" fill=\"#000000\"> ≤ 3.5</text>\n<text text-anchor=\"start\" x=\"357.5\" y=\"-424.8\" font-family=\"Helvetica,sans-Serif\" font-size=\"14.00\" fill=\"#000000\">entropy = 0.094</text>\n<text text-anchor=\"start\" x=\"364.5\" y=\"-410.8\" font-family=\"Helvetica,sans-Serif\" font-size=\"14.00\" fill=\"#000000\">samples = 83</text>\n<text text-anchor=\"start\" x=\"355\" y=\"-396.8\" font-family=\"Helvetica,sans-Serif\" font-size=\"14.00\" fill=\"#000000\">value = [82, 0, 1]</text>\n</g>\n<!-- 1&#45;&gt;3 -->\n<g id=\"edge3\" class=\"edge\">\n<title>1&#45;&gt;3</title>\n<path fill=\"none\" stroke=\"#000000\" d=\"M408.5,-488.8089C408.5,-480.6906 408.5,-471.8517 408.5,-463.3186\"/>\n<polygon fill=\"#000000\" stroke=\"#000000\" points=\"412.0001,-463.1307 408.5,-453.1308 405.0001,-463.1308 412.0001,-463.1307\"/>\n</g>\n<!-- 4 -->\n<g id=\"node5\" class=\"node\">\n<title>4</title>\n<path fill=\"#e58139\" stroke=\"#000000\" d=\"M319,-347.5C319,-347.5 220,-347.5 220,-347.5 214,-347.5 208,-341.5 208,-335.5 208,-335.5 208,-306.5 208,-306.5 208,-300.5 214,-294.5 220,-294.5 220,-294.5 319,-294.5 319,-294.5 325,-294.5 331,-300.5 331,-306.5 331,-306.5 331,-335.5 331,-335.5 331,-341.5 325,-347.5 319,-347.5\"/>\n<text text-anchor=\"start\" x=\"227\" y=\"-332.3\" font-family=\"Helvetica,sans-Serif\" font-size=\"14.00\" fill=\"#000000\">entropy = 0.0</text>\n<text text-anchor=\"start\" x=\"225.5\" y=\"-317.3\" font-family=\"Helvetica,sans-Serif\" font-size=\"14.00\" fill=\"#000000\">samples = 80</text>\n<text text-anchor=\"start\" x=\"216\" y=\"-302.3\" font-family=\"Helvetica,sans-Serif\" font-size=\"14.00\" fill=\"#000000\">value = [80, 0, 0]</text>\n</g>\n<!-- 3&#45;&gt;4 -->\n<g id=\"edge4\" class=\"edge\">\n<title>3&#45;&gt;4</title>\n<path fill=\"none\" stroke=\"#000000\" d=\"M363.7544,-388.8089C348.219,-377.6324 330.7854,-365.0902 315.1759,-353.8603\"/>\n<polygon fill=\"#000000\" stroke=\"#000000\" points=\"316.8768,-350.7724 306.7152,-347.7735 312.7888,-356.4547 316.8768,-350.7724\"/>\n</g>\n<!-- 5 -->\n<g id=\"node6\" class=\"node\">\n<title>5</title>\n<path fill=\"#f2c09c\" stroke=\"#000000\" d=\"M455.5,-353C455.5,-353 361.5,-353 361.5,-353 355.5,-353 349.5,-347 349.5,-341 349.5,-341 349.5,-301 349.5,-301 349.5,-295 355.5,-289 361.5,-289 361.5,-289 455.5,-289 455.5,-289 461.5,-289 467.5,-295 467.5,-301 467.5,-301 467.5,-341 467.5,-341 467.5,-347 461.5,-353 455.5,-353\"/>\n<text text-anchor=\"start\" x=\"378\" y=\"-338.8\" font-family=\"Helvetica,sans-Serif\" font-size=\"14.00\" fill=\"#000000\">X</text>\n<text text-anchor=\"start\" x=\"388\" y=\"-338.8\" font-family=\"Helvetica,sans-Serif\" baseline-shift=\"sub\" font-size=\"14.00\" fill=\"#000000\">0</text>\n<text text-anchor=\"start\" x=\"395\" y=\"-338.8\" font-family=\"Helvetica,sans-Serif\" font-size=\"14.00\" fill=\"#000000\"> ≤ 24.5</text>\n<text text-anchor=\"start\" x=\"357.5\" y=\"-324.8\" font-family=\"Helvetica,sans-Serif\" font-size=\"14.00\" fill=\"#000000\">entropy = 0.918</text>\n<text text-anchor=\"start\" x=\"369\" y=\"-310.8\" font-family=\"Helvetica,sans-Serif\" font-size=\"14.00\" fill=\"#000000\">samples = 3</text>\n<text text-anchor=\"start\" x=\"359\" y=\"-296.8\" font-family=\"Helvetica,sans-Serif\" font-size=\"14.00\" fill=\"#000000\">value = [2, 0, 1]</text>\n</g>\n<!-- 3&#45;&gt;5 -->\n<g id=\"edge5\" class=\"edge\">\n<title>3&#45;&gt;5</title>\n<path fill=\"none\" stroke=\"#000000\" d=\"M408.5,-388.8089C408.5,-380.6906 408.5,-371.8517 408.5,-363.3186\"/>\n<polygon fill=\"#000000\" stroke=\"#000000\" points=\"412.0001,-363.1307 408.5,-353.1308 405.0001,-363.1308 412.0001,-363.1307\"/>\n</g>\n<!-- 6 -->\n<g id=\"node7\" class=\"node\">\n<title>6</title>\n<path fill=\"#8139e5\" stroke=\"#000000\" d=\"M321,-247.5C321,-247.5 230,-247.5 230,-247.5 224,-247.5 218,-241.5 218,-235.5 218,-235.5 218,-206.5 218,-206.5 218,-200.5 224,-194.5 230,-194.5 230,-194.5 321,-194.5 321,-194.5 327,-194.5 333,-200.5 333,-206.5 333,-206.5 333,-235.5 333,-235.5 333,-241.5 327,-247.5 321,-247.5\"/>\n<text text-anchor=\"start\" x=\"233\" y=\"-232.3\" font-family=\"Helvetica,sans-Serif\" font-size=\"14.00\" fill=\"#000000\">entropy = 0.0</text>\n<text text-anchor=\"start\" x=\"236\" y=\"-217.3\" font-family=\"Helvetica,sans-Serif\" font-size=\"14.00\" fill=\"#000000\">samples = 1</text>\n<text text-anchor=\"start\" x=\"226\" y=\"-202.3\" font-family=\"Helvetica,sans-Serif\" font-size=\"14.00\" fill=\"#000000\">value = [0, 0, 1]</text>\n</g>\n<!-- 5&#45;&gt;6 -->\n<g id=\"edge6\" class=\"edge\">\n<title>5&#45;&gt;6</title>\n<path fill=\"none\" stroke=\"#000000\" d=\"M365.6859,-288.8089C350.8211,-277.6324 334.14,-265.0902 319.2042,-253.8603\"/>\n<polygon fill=\"#000000\" stroke=\"#000000\" points=\"321.205,-250.9857 311.1088,-247.7735 316.9982,-256.5807 321.205,-250.9857\"/>\n</g>\n<!-- 7 -->\n<g id=\"node8\" class=\"node\">\n<title>7</title>\n<path fill=\"#e58139\" stroke=\"#000000\" d=\"M454,-247.5C454,-247.5 363,-247.5 363,-247.5 357,-247.5 351,-241.5 351,-235.5 351,-235.5 351,-206.5 351,-206.5 351,-200.5 357,-194.5 363,-194.5 363,-194.5 454,-194.5 454,-194.5 460,-194.5 466,-200.5 466,-206.5 466,-206.5 466,-235.5 466,-235.5 466,-241.5 460,-247.5 454,-247.5\"/>\n<text text-anchor=\"start\" x=\"366\" y=\"-232.3\" font-family=\"Helvetica,sans-Serif\" font-size=\"14.00\" fill=\"#000000\">entropy = 0.0</text>\n<text text-anchor=\"start\" x=\"369\" y=\"-217.3\" font-family=\"Helvetica,sans-Serif\" font-size=\"14.00\" fill=\"#000000\">samples = 2</text>\n<text text-anchor=\"start\" x=\"359\" y=\"-202.3\" font-family=\"Helvetica,sans-Serif\" font-size=\"14.00\" fill=\"#000000\">value = [2, 0, 0]</text>\n</g>\n<!-- 5&#45;&gt;7 -->\n<g id=\"edge7\" class=\"edge\">\n<title>5&#45;&gt;7</title>\n<path fill=\"none\" stroke=\"#000000\" d=\"M408.5,-288.8089C408.5,-278.9777 408.5,-268.0898 408.5,-257.9679\"/>\n<polygon fill=\"#000000\" stroke=\"#000000\" points=\"412.0001,-257.7735 408.5,-247.7735 405.0001,-257.7736 412.0001,-257.7735\"/>\n</g>\n<!-- 9 -->\n<g id=\"node10\" class=\"node\">\n<title>9</title>\n<path fill=\"#f7d9c3\" stroke=\"#000000\" d=\"M1119.5,-453C1119.5,-453 987.5,-453 987.5,-453 981.5,-453 975.5,-447 975.5,-441 975.5,-441 975.5,-401 975.5,-401 975.5,-395 981.5,-389 987.5,-389 987.5,-389 1119.5,-389 1119.5,-389 1125.5,-389 1131.5,-395 1131.5,-401 1131.5,-401 1131.5,-441 1131.5,-441 1131.5,-447 1125.5,-453 1119.5,-453\"/>\n<text text-anchor=\"start\" x=\"1023\" y=\"-438.8\" font-family=\"Helvetica,sans-Serif\" font-size=\"14.00\" fill=\"#000000\">X</text>\n<text text-anchor=\"start\" x=\"1033\" y=\"-438.8\" font-family=\"Helvetica,sans-Serif\" baseline-shift=\"sub\" font-size=\"14.00\" fill=\"#000000\">0</text>\n<text text-anchor=\"start\" x=\"1040\" y=\"-438.8\" font-family=\"Helvetica,sans-Serif\" font-size=\"14.00\" fill=\"#000000\"> ≤ 37.5</text>\n<text text-anchor=\"start\" x=\"1006.5\" y=\"-424.8\" font-family=\"Helvetica,sans-Serif\" font-size=\"14.00\" fill=\"#000000\">entropy = 1.34</text>\n<text text-anchor=\"start\" x=\"1005.5\" y=\"-410.8\" font-family=\"Helvetica,sans-Serif\" font-size=\"14.00\" fill=\"#000000\">samples = 405</text>\n<text text-anchor=\"start\" x=\"983.5\" y=\"-396.8\" font-family=\"Helvetica,sans-Serif\" font-size=\"14.00\" fill=\"#000000\">value = [222, 41, 142]</text>\n</g>\n<!-- 8&#45;&gt;9 -->\n<g id=\"edge9\" class=\"edge\">\n<title>8&#45;&gt;9</title>\n<path fill=\"none\" stroke=\"#000000\" d=\"M1053.5,-488.8089C1053.5,-480.6906 1053.5,-471.8517 1053.5,-463.3186\"/>\n<polygon fill=\"#000000\" stroke=\"#000000\" points=\"1057.0001,-463.1307 1053.5,-453.1308 1050.0001,-463.1308 1057.0001,-463.1307\"/>\n</g>\n<!-- 40 -->\n<g id=\"node41\" class=\"node\">\n<title>40</title>\n<path fill=\"#f1e8fc\" stroke=\"#000000\" d=\"M2536.5,-453C2536.5,-453 2396.5,-453 2396.5,-453 2390.5,-453 2384.5,-447 2384.5,-441 2384.5,-441 2384.5,-401 2384.5,-401 2384.5,-395 2390.5,-389 2396.5,-389 2396.5,-389 2536.5,-389 2536.5,-389 2542.5,-389 2548.5,-395 2548.5,-401 2548.5,-401 2548.5,-441 2548.5,-441 2548.5,-447 2542.5,-453 2536.5,-453\"/>\n<text text-anchor=\"start\" x=\"2436\" y=\"-438.8\" font-family=\"Helvetica,sans-Serif\" font-size=\"14.00\" fill=\"#000000\">X</text>\n<text text-anchor=\"start\" x=\"2446\" y=\"-438.8\" font-family=\"Helvetica,sans-Serif\" baseline-shift=\"sub\" font-size=\"14.00\" fill=\"#000000\">0</text>\n<text text-anchor=\"start\" x=\"2453\" y=\"-438.8\" font-family=\"Helvetica,sans-Serif\" font-size=\"14.00\" fill=\"#000000\"> ≤ 33.5</text>\n<text text-anchor=\"start\" x=\"2415.5\" y=\"-424.8\" font-family=\"Helvetica,sans-Serif\" font-size=\"14.00\" fill=\"#000000\">entropy = 1.576</text>\n<text text-anchor=\"start\" x=\"2418.5\" y=\"-410.8\" font-family=\"Helvetica,sans-Serif\" font-size=\"14.00\" fill=\"#000000\">samples = 836</text>\n<text text-anchor=\"start\" x=\"2392.5\" y=\"-396.8\" font-family=\"Helvetica,sans-Serif\" font-size=\"14.00\" fill=\"#000000\">value = [256, 257, 323]</text>\n</g>\n<!-- 8&#45;&gt;40 -->\n<g id=\"edge40\" class=\"edge\">\n<title>8&#45;&gt;40</title>\n<path fill=\"none\" stroke=\"#000000\" d=\"M1135.5764,-515.1913C1382.0206,-497.7501 2114.5006,-445.9115 2374.0501,-427.5428\"/>\n<polygon fill=\"#000000\" stroke=\"#000000\" points=\"2374.4691,-431.022 2384.1971,-426.8247 2373.9749,-424.0395 2374.4691,-431.022\"/>\n</g>\n<!-- 10 -->\n<g id=\"node11\" class=\"node\">\n<title>10</title>\n<path fill=\"#f4eefd\" stroke=\"#000000\" d=\"M904.5,-353C904.5,-353 772.5,-353 772.5,-353 766.5,-353 760.5,-347 760.5,-341 760.5,-341 760.5,-301 760.5,-301 760.5,-295 766.5,-289 772.5,-289 772.5,-289 904.5,-289 904.5,-289 910.5,-289 916.5,-295 916.5,-301 916.5,-301 916.5,-341 916.5,-341 916.5,-347 910.5,-353 904.5,-353\"/>\n<text text-anchor=\"start\" x=\"812\" y=\"-338.8\" font-family=\"Helvetica,sans-Serif\" font-size=\"14.00\" fill=\"#000000\">X</text>\n<text text-anchor=\"start\" x=\"822\" y=\"-338.8\" font-family=\"Helvetica,sans-Serif\" baseline-shift=\"sub\" font-size=\"14.00\" fill=\"#000000\">3</text>\n<text text-anchor=\"start\" x=\"829\" y=\"-338.8\" font-family=\"Helvetica,sans-Serif\" font-size=\"14.00\" fill=\"#000000\"> ≤ 2.5</text>\n<text text-anchor=\"start\" x=\"787.5\" y=\"-324.8\" font-family=\"Helvetica,sans-Serif\" font-size=\"14.00\" fill=\"#000000\">entropy = 1.361</text>\n<text text-anchor=\"start\" x=\"790.5\" y=\"-310.8\" font-family=\"Helvetica,sans-Serif\" font-size=\"14.00\" fill=\"#000000\">samples = 267</text>\n<text text-anchor=\"start\" x=\"768.5\" y=\"-296.8\" font-family=\"Helvetica,sans-Serif\" font-size=\"14.00\" fill=\"#000000\">value = [114, 26, 127]</text>\n</g>\n<!-- 9&#45;&gt;10 -->\n<g id=\"edge10\" class=\"edge\">\n<title>9&#45;&gt;10</title>\n<path fill=\"none\" stroke=\"#000000\" d=\"M984.5855,-388.9467C962.8871,-378.8545 938.7706,-367.6375 916.4878,-357.2734\"/>\n<polygon fill=\"#000000\" stroke=\"#000000\" points=\"917.9364,-354.0871 907.3931,-353.0433 914.9842,-360.4342 917.9364,-354.0871\"/>\n</g>\n<!-- 25 -->\n<g id=\"node26\" class=\"node\">\n<title>25</title>\n<path fill=\"#eba069\" stroke=\"#000000\" d=\"M1468.5,-353C1468.5,-353 1344.5,-353 1344.5,-353 1338.5,-353 1332.5,-347 1332.5,-341 1332.5,-341 1332.5,-301 1332.5,-301 1332.5,-295 1338.5,-289 1344.5,-289 1344.5,-289 1468.5,-289 1468.5,-289 1474.5,-289 1480.5,-295 1480.5,-301 1480.5,-301 1480.5,-341 1480.5,-341 1480.5,-347 1474.5,-353 1468.5,-353\"/>\n<text text-anchor=\"start\" x=\"1380\" y=\"-338.8\" font-family=\"Helvetica,sans-Serif\" font-size=\"14.00\" fill=\"#000000\">X</text>\n<text text-anchor=\"start\" x=\"1390\" y=\"-338.8\" font-family=\"Helvetica,sans-Serif\" baseline-shift=\"sub\" font-size=\"14.00\" fill=\"#000000\">5</text>\n<text text-anchor=\"start\" x=\"1397\" y=\"-338.8\" font-family=\"Helvetica,sans-Serif\" font-size=\"14.00\" fill=\"#000000\"> ≤ 0.5</text>\n<text text-anchor=\"start\" x=\"1355.5\" y=\"-324.8\" font-family=\"Helvetica,sans-Serif\" font-size=\"14.00\" fill=\"#000000\">entropy = 0.973</text>\n<text text-anchor=\"start\" x=\"1358.5\" y=\"-310.8\" font-family=\"Helvetica,sans-Serif\" font-size=\"14.00\" fill=\"#000000\">samples = 138</text>\n<text text-anchor=\"start\" x=\"1340.5\" y=\"-296.8\" font-family=\"Helvetica,sans-Serif\" font-size=\"14.00\" fill=\"#000000\">value = [108, 15, 15]</text>\n</g>\n<!-- 9&#45;&gt;25 -->\n<g id=\"edge25\" class=\"edge\">\n<title>9&#45;&gt;25</title>\n<path fill=\"none\" stroke=\"#000000\" d=\"M1131.8421,-398.8068C1188.3892,-382.7878 1264.6458,-361.1853 1322.46,-344.8074\"/>\n<polygon fill=\"#000000\" stroke=\"#000000\" points=\"1323.6339,-348.1126 1332.3013,-342.0195 1321.7259,-341.3777 1323.6339,-348.1126\"/>\n</g>\n<!-- 11 -->\n<g id=\"node12\" class=\"node\">\n<title>11</title>\n<path fill=\"#f6d3ba\" stroke=\"#000000\" d=\"M603,-253C603,-253 496,-253 496,-253 490,-253 484,-247 484,-241 484,-241 484,-201 484,-201 484,-195 490,-189 496,-189 496,-189 603,-189 603,-189 609,-189 615,-195 615,-201 615,-201 615,-241 615,-241 615,-247 609,-253 603,-253\"/>\n<text text-anchor=\"start\" x=\"523\" y=\"-238.8\" font-family=\"Helvetica,sans-Serif\" font-size=\"14.00\" fill=\"#000000\">X</text>\n<text text-anchor=\"start\" x=\"533\" y=\"-238.8\" font-family=\"Helvetica,sans-Serif\" baseline-shift=\"sub\" font-size=\"14.00\" fill=\"#000000\">5</text>\n<text text-anchor=\"start\" x=\"540\" y=\"-238.8\" font-family=\"Helvetica,sans-Serif\" font-size=\"14.00\" fill=\"#000000\"> ≤ 0.5</text>\n<text text-anchor=\"start\" x=\"498.5\" y=\"-224.8\" font-family=\"Helvetica,sans-Serif\" font-size=\"14.00\" fill=\"#000000\">entropy = 1.279</text>\n<text text-anchor=\"start\" x=\"501.5\" y=\"-210.8\" font-family=\"Helvetica,sans-Serif\" font-size=\"14.00\" fill=\"#000000\">samples = 101</text>\n<text text-anchor=\"start\" x=\"492\" y=\"-196.8\" font-family=\"Helvetica,sans-Serif\" font-size=\"14.00\" fill=\"#000000\">value = [58, 8, 35]</text>\n</g>\n<!-- 10&#45;&gt;11 -->\n<g id=\"edge11\" class=\"edge\">\n<title>10&#45;&gt;11</title>\n<path fill=\"none\" stroke=\"#000000\" d=\"M760.2924,-293.9386C718.1093,-279.3423 666.3033,-261.4164 624.6065,-246.9884\"/>\n<polygon fill=\"#000000\" stroke=\"#000000\" points=\"625.6508,-243.6462 615.056,-243.6837 623.3617,-250.2614 625.6508,-243.6462\"/>\n</g>\n<!-- 18 -->\n<g id=\"node19\" class=\"node\">\n<title>18</title>\n<path fill=\"#d6bef6\" stroke=\"#000000\" d=\"M896.5,-253C896.5,-253 780.5,-253 780.5,-253 774.5,-253 768.5,-247 768.5,-241 768.5,-241 768.5,-201 768.5,-201 768.5,-195 774.5,-189 780.5,-189 780.5,-189 896.5,-189 896.5,-189 902.5,-189 908.5,-195 908.5,-201 908.5,-201 908.5,-241 908.5,-241 908.5,-247 902.5,-253 896.5,-253\"/>\n<text text-anchor=\"start\" x=\"808\" y=\"-238.8\" font-family=\"Helvetica,sans-Serif\" font-size=\"14.00\" fill=\"#000000\">X</text>\n<text text-anchor=\"start\" x=\"818\" y=\"-238.8\" font-family=\"Helvetica,sans-Serif\" baseline-shift=\"sub\" font-size=\"14.00\" fill=\"#000000\">0</text>\n<text text-anchor=\"start\" x=\"825\" y=\"-238.8\" font-family=\"Helvetica,sans-Serif\" font-size=\"14.00\" fill=\"#000000\"> ≤ 24.5</text>\n<text text-anchor=\"start\" x=\"787.5\" y=\"-224.8\" font-family=\"Helvetica,sans-Serif\" font-size=\"14.00\" fill=\"#000000\">entropy = 1.348</text>\n<text text-anchor=\"start\" x=\"790.5\" y=\"-210.8\" font-family=\"Helvetica,sans-Serif\" font-size=\"14.00\" fill=\"#000000\">samples = 166</text>\n<text text-anchor=\"start\" x=\"776.5\" y=\"-196.8\" font-family=\"Helvetica,sans-Serif\" font-size=\"14.00\" fill=\"#000000\">value = [56, 18, 92]</text>\n</g>\n<!-- 10&#45;&gt;18 -->\n<g id=\"edge18\" class=\"edge\">\n<title>10&#45;&gt;18</title>\n<path fill=\"none\" stroke=\"#000000\" d=\"M838.5,-288.8089C838.5,-280.6906 838.5,-271.8517 838.5,-263.3186\"/>\n<polygon fill=\"#000000\" stroke=\"#000000\" points=\"842.0001,-263.1307 838.5,-253.1308 835.0001,-263.1308 842.0001,-263.1307\"/>\n</g>\n<!-- 12 -->\n<g id=\"node13\" class=\"node\">\n<title>12</title>\n<path fill=\"#eda877\" stroke=\"#000000\" d=\"M244,-153C244,-153 145,-153 145,-153 139,-153 133,-147 133,-141 133,-141 133,-101 133,-101 133,-95 139,-89 145,-89 145,-89 244,-89 244,-89 250,-89 256,-95 256,-101 256,-101 256,-141 256,-141 256,-147 250,-153 244,-153\"/>\n<text text-anchor=\"start\" x=\"164\" y=\"-138.8\" font-family=\"Helvetica,sans-Serif\" font-size=\"14.00\" fill=\"#000000\">X</text>\n<text text-anchor=\"start\" x=\"174\" y=\"-138.8\" font-family=\"Helvetica,sans-Serif\" baseline-shift=\"sub\" font-size=\"14.00\" fill=\"#000000\">0</text>\n<text text-anchor=\"start\" x=\"181\" y=\"-138.8\" font-family=\"Helvetica,sans-Serif\" font-size=\"14.00\" fill=\"#000000\"> ≤ 23.5</text>\n<text text-anchor=\"start\" x=\"143.5\" y=\"-124.8\" font-family=\"Helvetica,sans-Serif\" font-size=\"14.00\" fill=\"#000000\">entropy = 1.087</text>\n<text text-anchor=\"start\" x=\"150.5\" y=\"-110.8\" font-family=\"Helvetica,sans-Serif\" font-size=\"14.00\" fill=\"#000000\">samples = 19</text>\n<text text-anchor=\"start\" x=\"141\" y=\"-96.8\" font-family=\"Helvetica,sans-Serif\" font-size=\"14.00\" fill=\"#000000\">value = [14, 3, 2]</text>\n</g>\n<!-- 11&#45;&gt;12 -->\n<g id=\"edge12\" class=\"edge\">\n<title>11&#45;&gt;12</title>\n<path fill=\"none\" stroke=\"#000000\" d=\"M483.8863,-192.2797C480.73,-191.127 477.5899,-190.0266 474.5,-189 404.9732,-165.9007 323.3562,-146.9754 266.2381,-135.0086\"/>\n<polygon fill=\"#000000\" stroke=\"#000000\" points=\"266.7254,-131.5352 256.2227,-132.9289 265.3022,-138.389 266.7254,-131.5352\"/>\n</g>\n<!-- 15 -->\n<g id=\"node16\" class=\"node\">\n<title>15</title>\n<path fill=\"#f9e3d3\" stroke=\"#000000\" d=\"M534,-153C534,-153 427,-153 427,-153 421,-153 415,-147 415,-141 415,-141 415,-101 415,-101 415,-95 421,-89 427,-89 427,-89 534,-89 534,-89 540,-89 546,-95 546,-101 546,-101 546,-141 546,-141 546,-147 540,-153 534,-153\"/>\n<text text-anchor=\"start\" x=\"454\" y=\"-138.8\" font-family=\"Helvetica,sans-Serif\" font-size=\"14.00\" fill=\"#000000\">X</text>\n<text text-anchor=\"start\" x=\"464\" y=\"-138.8\" font-family=\"Helvetica,sans-Serif\" baseline-shift=\"sub\" font-size=\"14.00\" fill=\"#000000\">7</text>\n<text text-anchor=\"start\" x=\"471\" y=\"-138.8\" font-family=\"Helvetica,sans-Serif\" font-size=\"14.00\" fill=\"#000000\"> ≤ 1.5</text>\n<text text-anchor=\"start\" x=\"429.5\" y=\"-124.8\" font-family=\"Helvetica,sans-Serif\" font-size=\"14.00\" fill=\"#000000\">entropy = 1.256</text>\n<text text-anchor=\"start\" x=\"436.5\" y=\"-110.8\" font-family=\"Helvetica,sans-Serif\" font-size=\"14.00\" fill=\"#000000\">samples = 82</text>\n<text text-anchor=\"start\" x=\"423\" y=\"-96.8\" font-family=\"Helvetica,sans-Serif\" font-size=\"14.00\" fill=\"#000000\">value = [44, 5, 33]</text>\n</g>\n<!-- 11&#45;&gt;15 -->\n<g id=\"edge15\" class=\"edge\">\n<title>11&#45;&gt;15</title>\n<path fill=\"none\" stroke=\"#000000\" d=\"M527.2882,-188.8089C521.3172,-180.1553 514.7813,-170.683 508.5382,-161.635\"/>\n<polygon fill=\"#000000\" stroke=\"#000000\" points=\"511.2303,-159.3738 502.6702,-153.1308 505.4687,-163.3493 511.2303,-159.3738\"/>\n</g>\n<!-- 13 -->\n<g id=\"node14\" class=\"node\">\n<title>13</title>\n<path fill=\"#8139e5\" stroke=\"#000000\" d=\"M103,-53C103,-53 12,-53 12,-53 6,-53 0,-47 0,-41 0,-41 0,-12 0,-12 0,-6 6,0 12,0 12,0 103,0 103,0 109,0 115,-6 115,-12 115,-12 115,-41 115,-41 115,-47 109,-53 103,-53\"/>\n<text text-anchor=\"start\" x=\"15\" y=\"-37.8\" font-family=\"Helvetica,sans-Serif\" font-size=\"14.00\" fill=\"#000000\">entropy = 0.0</text>\n<text text-anchor=\"start\" x=\"18\" y=\"-22.8\" font-family=\"Helvetica,sans-Serif\" font-size=\"14.00\" fill=\"#000000\">samples = 2</text>\n<text text-anchor=\"start\" x=\"8\" y=\"-7.8\" font-family=\"Helvetica,sans-Serif\" font-size=\"14.00\" fill=\"#000000\">value = [0, 0, 2]</text>\n</g>\n<!-- 12&#45;&gt;13 -->\n<g id=\"edge13\" class=\"edge\">\n<title>12&#45;&gt;13</title>\n<path fill=\"none\" stroke=\"#000000\" d=\"M147.7355,-88.7428C133.87,-79.1786 118.6789,-68.7001 104.7809,-59.1135\"/>\n<polygon fill=\"#000000\" stroke=\"#000000\" points=\"106.5369,-56.0729 96.3179,-53.2759 102.5623,-61.835 106.5369,-56.0729\"/>\n</g>\n<!-- 14 -->\n<g id=\"node15\" class=\"node\">\n<title>14</title>\n<path fill=\"#eb9c63\" stroke=\"#000000\" d=\"M244,-53C244,-53 145,-53 145,-53 139,-53 133,-47 133,-41 133,-41 133,-12 133,-12 133,-6 139,0 145,0 145,0 244,0 244,0 250,0 256,-6 256,-12 256,-12 256,-41 256,-41 256,-47 250,-53 244,-53\"/>\n<text text-anchor=\"start\" x=\"143.5\" y=\"-37.8\" font-family=\"Helvetica,sans-Serif\" font-size=\"14.00\" fill=\"#000000\">entropy = 0.672</text>\n<text text-anchor=\"start\" x=\"150.5\" y=\"-22.8\" font-family=\"Helvetica,sans-Serif\" font-size=\"14.00\" fill=\"#000000\">samples = 17</text>\n<text text-anchor=\"start\" x=\"141\" y=\"-7.8\" font-family=\"Helvetica,sans-Serif\" font-size=\"14.00\" fill=\"#000000\">value = [14, 3, 0]</text>\n</g>\n<!-- 12&#45;&gt;14 -->\n<g id=\"edge14\" class=\"edge\">\n<title>12&#45;&gt;14</title>\n<path fill=\"none\" stroke=\"#000000\" d=\"M194.5,-88.7428C194.5,-80.6222 194.5,-71.8426 194.5,-63.5093\"/>\n<polygon fill=\"#000000\" stroke=\"#000000\" points=\"198.0001,-63.2758 194.5,-53.2759 191.0001,-63.2759 198.0001,-63.2758\"/>\n</g>\n<!-- 16 -->\n<g id=\"node17\" class=\"node\">\n<title>16</title>\n<path fill=\"#efb083\" stroke=\"#000000\" d=\"M385,-53C385,-53 286,-53 286,-53 280,-53 274,-47 274,-41 274,-41 274,-12 274,-12 274,-6 280,0 286,0 286,0 385,0 385,0 391,0 397,-6 397,-12 397,-12 397,-41 397,-41 397,-47 391,-53 385,-53\"/>\n<text text-anchor=\"start\" x=\"284.5\" y=\"-37.8\" font-family=\"Helvetica,sans-Serif\" font-size=\"14.00\" fill=\"#000000\">entropy = 0.845</text>\n<text text-anchor=\"start\" x=\"291.5\" y=\"-22.8\" font-family=\"Helvetica,sans-Serif\" font-size=\"14.00\" fill=\"#000000\">samples = 22</text>\n<text text-anchor=\"start\" x=\"282\" y=\"-7.8\" font-family=\"Helvetica,sans-Serif\" font-size=\"14.00\" fill=\"#000000\">value = [16, 0, 6]</text>\n</g>\n<!-- 15&#45;&gt;16 -->\n<g id=\"edge16\" class=\"edge\">\n<title>15&#45;&gt;16</title>\n<path fill=\"none\" stroke=\"#000000\" d=\"M431.0048,-88.7428C416.1911,-79.0883 399.9479,-68.5023 385.1259,-58.8424\"/>\n<polygon fill=\"#000000\" stroke=\"#000000\" points=\"386.8735,-55.8037 376.5847,-53.2759 383.0515,-61.6682 386.8735,-55.8037\"/>\n</g>\n<!-- 17 -->\n<g id=\"node18\" class=\"node\">\n<title>17</title>\n<path fill=\"#fefbf9\" stroke=\"#000000\" d=\"M534,-53C534,-53 427,-53 427,-53 421,-53 415,-47 415,-41 415,-41 415,-12 415,-12 415,-6 421,0 427,0 427,0 534,0 534,0 540,0 546,-6 546,-12 546,-12 546,-41 546,-41 546,-47 540,-53 534,-53\"/>\n<text text-anchor=\"start\" x=\"433.5\" y=\"-37.8\" font-family=\"Helvetica,sans-Serif\" font-size=\"14.00\" fill=\"#000000\">entropy = 1.33</text>\n<text text-anchor=\"start\" x=\"436.5\" y=\"-22.8\" font-family=\"Helvetica,sans-Serif\" font-size=\"14.00\" fill=\"#000000\">samples = 60</text>\n<text text-anchor=\"start\" x=\"423\" y=\"-7.8\" font-family=\"Helvetica,sans-Serif\" font-size=\"14.00\" fill=\"#000000\">value = [28, 5, 27]</text>\n</g>\n<!-- 15&#45;&gt;17 -->\n<g id=\"edge17\" class=\"edge\">\n<title>15&#45;&gt;17</title>\n<path fill=\"none\" stroke=\"#000000\" d=\"M480.5,-88.7428C480.5,-80.6222 480.5,-71.8426 480.5,-63.5093\"/>\n<polygon fill=\"#000000\" stroke=\"#000000\" points=\"484.0001,-63.2758 480.5,-53.2759 477.0001,-63.2759 484.0001,-63.2758\"/>\n</g>\n<!-- 19 -->\n<g id=\"node20\" class=\"node\">\n<title>19</title>\n<path fill=\"#fae6d7\" stroke=\"#000000\" d=\"M806,-153C806,-153 707,-153 707,-153 701,-153 695,-147 695,-141 695,-141 695,-101 695,-101 695,-95 701,-89 707,-89 707,-89 806,-89 806,-89 812,-89 818,-95 818,-101 818,-101 818,-141 818,-141 818,-147 812,-153 806,-153\"/>\n<text text-anchor=\"start\" x=\"730\" y=\"-138.8\" font-family=\"Helvetica,sans-Serif\" font-size=\"14.00\" fill=\"#000000\">X</text>\n<text text-anchor=\"start\" x=\"740\" y=\"-138.8\" font-family=\"Helvetica,sans-Serif\" baseline-shift=\"sub\" font-size=\"14.00\" fill=\"#000000\">7</text>\n<text text-anchor=\"start\" x=\"747\" y=\"-138.8\" font-family=\"Helvetica,sans-Serif\" font-size=\"14.00\" fill=\"#000000\"> ≤ 3.5</text>\n<text text-anchor=\"start\" x=\"705.5\" y=\"-124.8\" font-family=\"Helvetica,sans-Serif\" font-size=\"14.00\" fill=\"#000000\">entropy = 0.991</text>\n<text text-anchor=\"start\" x=\"712.5\" y=\"-110.8\" font-family=\"Helvetica,sans-Serif\" font-size=\"14.00\" fill=\"#000000\">samples = 18</text>\n<text text-anchor=\"start\" x=\"703\" y=\"-96.8\" font-family=\"Helvetica,sans-Serif\" font-size=\"14.00\" fill=\"#000000\">value = [10, 0, 8]</text>\n</g>\n<!-- 18&#45;&gt;19 -->\n<g id=\"edge19\" class=\"edge\">\n<title>18&#45;&gt;19</title>\n<path fill=\"none\" stroke=\"#000000\" d=\"M812.1033,-188.8089C804.861,-179.9769 796.9195,-170.2921 789.3623,-161.0759\"/>\n<polygon fill=\"#000000\" stroke=\"#000000\" points=\"791.8945,-158.6442 782.8472,-153.1308 786.4816,-163.0828 791.8945,-158.6442\"/>\n</g>\n<!-- 22 -->\n<g id=\"node23\" class=\"node\">\n<title>22</title>\n<path fill=\"#d0b5f5\" stroke=\"#000000\" d=\"M964.5,-153C964.5,-153 848.5,-153 848.5,-153 842.5,-153 836.5,-147 836.5,-141 836.5,-141 836.5,-101 836.5,-101 836.5,-95 842.5,-89 848.5,-89 848.5,-89 964.5,-89 964.5,-89 970.5,-89 976.5,-95 976.5,-101 976.5,-101 976.5,-141 976.5,-141 976.5,-147 970.5,-153 964.5,-153\"/>\n<text text-anchor=\"start\" x=\"880\" y=\"-138.8\" font-family=\"Helvetica,sans-Serif\" font-size=\"14.00\" fill=\"#000000\">X</text>\n<text text-anchor=\"start\" x=\"890\" y=\"-138.8\" font-family=\"Helvetica,sans-Serif\" baseline-shift=\"sub\" font-size=\"14.00\" fill=\"#000000\">2</text>\n<text text-anchor=\"start\" x=\"897\" y=\"-138.8\" font-family=\"Helvetica,sans-Serif\" font-size=\"14.00\" fill=\"#000000\"> ≤ 2.5</text>\n<text text-anchor=\"start\" x=\"855.5\" y=\"-124.8\" font-family=\"Helvetica,sans-Serif\" font-size=\"14.00\" fill=\"#000000\">entropy = 1.357</text>\n<text text-anchor=\"start\" x=\"858.5\" y=\"-110.8\" font-family=\"Helvetica,sans-Serif\" font-size=\"14.00\" fill=\"#000000\">samples = 148</text>\n<text text-anchor=\"start\" x=\"844.5\" y=\"-96.8\" font-family=\"Helvetica,sans-Serif\" font-size=\"14.00\" fill=\"#000000\">value = [46, 18, 84]</text>\n</g>\n<!-- 18&#45;&gt;22 -->\n<g id=\"edge22\" class=\"edge\">\n<title>18&#45;&gt;22</title>\n<path fill=\"none\" stroke=\"#000000\" d=\"M860.3899,-188.8089C866.2744,-180.1553 872.7156,-170.683 878.8682,-161.635\"/>\n<polygon fill=\"#000000\" stroke=\"#000000\" points=\"881.9222,-163.3681 884.6511,-153.1308 876.1337,-159.4319 881.9222,-163.3681\"/>\n</g>\n<!-- 20 -->\n<g id=\"node21\" class=\"node\">\n<title>20</title>\n<path fill=\"#e0cef8\" stroke=\"#000000\" d=\"M670.5,-53C670.5,-53 576.5,-53 576.5,-53 570.5,-53 564.5,-47 564.5,-41 564.5,-41 564.5,-12 564.5,-12 564.5,-6 570.5,0 576.5,0 576.5,0 670.5,0 670.5,0 676.5,0 682.5,-6 682.5,-12 682.5,-12 682.5,-41 682.5,-41 682.5,-47 676.5,-53 670.5,-53\"/>\n<text text-anchor=\"start\" x=\"572.5\" y=\"-37.8\" font-family=\"Helvetica,sans-Serif\" font-size=\"14.00\" fill=\"#000000\">entropy = 0.985</text>\n<text text-anchor=\"start\" x=\"579.5\" y=\"-22.8\" font-family=\"Helvetica,sans-Serif\" font-size=\"14.00\" fill=\"#000000\">samples = 14</text>\n<text text-anchor=\"start\" x=\"574\" y=\"-7.8\" font-family=\"Helvetica,sans-Serif\" font-size=\"14.00\" fill=\"#000000\">value = [6, 0, 8]</text>\n</g>\n<!-- 19&#45;&gt;20 -->\n<g id=\"edge20\" class=\"edge\">\n<title>19&#45;&gt;20</title>\n<path fill=\"none\" stroke=\"#000000\" d=\"M711.1009,-88.7428C697.6402,-79.1786 682.8927,-68.7001 669.4004,-59.1135\"/>\n<polygon fill=\"#000000\" stroke=\"#000000\" points=\"671.3636,-56.2148 661.1846,-53.2759 667.3091,-61.9211 671.3636,-56.2148\"/>\n</g>\n<!-- 21 -->\n<g id=\"node22\" class=\"node\">\n<title>21</title>\n<path fill=\"#e58139\" stroke=\"#000000\" d=\"M804,-53C804,-53 713,-53 713,-53 707,-53 701,-47 701,-41 701,-41 701,-12 701,-12 701,-6 707,0 713,0 713,0 804,0 804,0 810,0 816,-6 816,-12 816,-12 816,-41 816,-41 816,-47 810,-53 804,-53\"/>\n<text text-anchor=\"start\" x=\"716\" y=\"-37.8\" font-family=\"Helvetica,sans-Serif\" font-size=\"14.00\" fill=\"#000000\">entropy = 0.0</text>\n<text text-anchor=\"start\" x=\"719\" y=\"-22.8\" font-family=\"Helvetica,sans-Serif\" font-size=\"14.00\" fill=\"#000000\">samples = 4</text>\n<text text-anchor=\"start\" x=\"709\" y=\"-7.8\" font-family=\"Helvetica,sans-Serif\" font-size=\"14.00\" fill=\"#000000\">value = [4, 0, 0]</text>\n</g>\n<!-- 19&#45;&gt;21 -->\n<g id=\"edge21\" class=\"edge\">\n<title>19&#45;&gt;21</title>\n<path fill=\"none\" stroke=\"#000000\" d=\"M757.1827,-88.7428C757.3546,-80.6222 757.5404,-71.8426 757.7167,-63.5093\"/>\n<polygon fill=\"#000000\" stroke=\"#000000\" points=\"761.2208,-63.3477 757.9333,-53.2759 754.2224,-63.1995 761.2208,-63.3477\"/>\n</g>\n<!-- 23 -->\n<g id=\"node24\" class=\"node\">\n<title>23</title>\n<path fill=\"#ede3fb\" stroke=\"#000000\" d=\"M962.5,-53C962.5,-53 846.5,-53 846.5,-53 840.5,-53 834.5,-47 834.5,-41 834.5,-41 834.5,-12 834.5,-12 834.5,-6 840.5,0 846.5,0 846.5,0 962.5,0 962.5,0 968.5,0 974.5,-6 974.5,-12 974.5,-12 974.5,-41 974.5,-41 974.5,-47 968.5,-53 962.5,-53\"/>\n<text text-anchor=\"start\" x=\"853.5\" y=\"-37.8\" font-family=\"Helvetica,sans-Serif\" font-size=\"14.00\" fill=\"#000000\">entropy = 1.518</text>\n<text text-anchor=\"start\" x=\"860.5\" y=\"-22.8\" font-family=\"Helvetica,sans-Serif\" font-size=\"14.00\" fill=\"#000000\">samples = 54</text>\n<text text-anchor=\"start\" x=\"842.5\" y=\"-7.8\" font-family=\"Helvetica,sans-Serif\" font-size=\"14.00\" fill=\"#000000\">value = [19, 11, 24]</text>\n</g>\n<!-- 22&#45;&gt;23 -->\n<g id=\"edge23\" class=\"edge\">\n<title>22&#45;&gt;23</title>\n<path fill=\"none\" stroke=\"#000000\" d=\"M905.8173,-88.7428C905.6454,-80.6222 905.4596,-71.8426 905.2833,-63.5093\"/>\n<polygon fill=\"#000000\" stroke=\"#000000\" points=\"908.7776,-63.1995 905.0667,-53.2759 901.7792,-63.3477 908.7776,-63.1995\"/>\n</g>\n<!-- 24 -->\n<g id=\"node25\" class=\"node\">\n<title>24</title>\n<path fill=\"#c19df2\" stroke=\"#000000\" d=\"M1112,-53C1112,-53 1005,-53 1005,-53 999,-53 993,-47 993,-41 993,-41 993,-12 993,-12 993,-6 999,0 1005,0 1005,0 1112,0 1112,0 1118,0 1124,-6 1124,-12 1124,-12 1124,-41 1124,-41 1124,-47 1118,-53 1112,-53\"/>\n<text text-anchor=\"start\" x=\"1007.5\" y=\"-37.8\" font-family=\"Helvetica,sans-Serif\" font-size=\"14.00\" fill=\"#000000\">entropy = 1.209</text>\n<text text-anchor=\"start\" x=\"1014.5\" y=\"-22.8\" font-family=\"Helvetica,sans-Serif\" font-size=\"14.00\" fill=\"#000000\">samples = 94</text>\n<text text-anchor=\"start\" x=\"1001\" y=\"-7.8\" font-family=\"Helvetica,sans-Serif\" font-size=\"14.00\" fill=\"#000000\">value = [27, 7, 60]</text>\n</g>\n<!-- 22&#45;&gt;24 -->\n<g id=\"edge24\" class=\"edge\">\n<title>22&#45;&gt;24</title>\n<path fill=\"none\" stroke=\"#000000\" d=\"M958.3846,-88.7428C974.0586,-78.9981 991.2592,-68.3043 1006.9136,-58.5718\"/>\n<polygon fill=\"#000000\" stroke=\"#000000\" points=\"1008.7874,-61.5282 1015.4319,-53.2759 1005.0914,-55.5834 1008.7874,-61.5282\"/>\n</g>\n<!-- 26 -->\n<g id=\"node27\" class=\"node\">\n<title>26</title>\n<path fill=\"#eca36e\" stroke=\"#000000\" d=\"M1456,-253C1456,-253 1357,-253 1357,-253 1351,-253 1345,-247 1345,-241 1345,-241 1345,-201 1345,-201 1345,-195 1351,-189 1357,-189 1357,-189 1456,-189 1456,-189 1462,-189 1468,-195 1468,-201 1468,-201 1468,-241 1468,-241 1468,-247 1462,-253 1456,-253\"/>\n<text text-anchor=\"start\" x=\"1380\" y=\"-238.8\" font-family=\"Helvetica,sans-Serif\" font-size=\"14.00\" fill=\"#000000\">X</text>\n<text text-anchor=\"start\" x=\"1390\" y=\"-238.8\" font-family=\"Helvetica,sans-Serif\" baseline-shift=\"sub\" font-size=\"14.00\" fill=\"#000000\">7</text>\n<text text-anchor=\"start\" x=\"1397\" y=\"-238.8\" font-family=\"Helvetica,sans-Serif\" font-size=\"14.00\" fill=\"#000000\"> ≤ 3.5</text>\n<text text-anchor=\"start\" x=\"1355.5\" y=\"-224.8\" font-family=\"Helvetica,sans-Serif\" font-size=\"14.00\" fill=\"#000000\">entropy = 0.746</text>\n<text text-anchor=\"start\" x=\"1362.5\" y=\"-210.8\" font-family=\"Helvetica,sans-Serif\" font-size=\"14.00\" fill=\"#000000\">samples = 33</text>\n<text text-anchor=\"start\" x=\"1353\" y=\"-196.8\" font-family=\"Helvetica,sans-Serif\" font-size=\"14.00\" fill=\"#000000\">value = [26, 0, 7]</text>\n</g>\n<!-- 25&#45;&gt;26 -->\n<g id=\"edge26\" class=\"edge\">\n<title>25&#45;&gt;26</title>\n<path fill=\"none\" stroke=\"#000000\" d=\"M1406.5,-288.8089C1406.5,-280.6906 1406.5,-271.8517 1406.5,-263.3186\"/>\n<polygon fill=\"#000000\" stroke=\"#000000\" points=\"1410.0001,-263.1307 1406.5,-253.1308 1403.0001,-263.1308 1410.0001,-263.1307\"/>\n</g>\n<!-- 33 -->\n<g id=\"node34\" class=\"node\">\n<title>33</title>\n<path fill=\"#eca16c\" stroke=\"#000000\" d=\"M1876,-253C1876,-253 1769,-253 1769,-253 1763,-253 1757,-247 1757,-241 1757,-241 1757,-201 1757,-201 1757,-195 1763,-189 1769,-189 1769,-189 1876,-189 1876,-189 1882,-189 1888,-195 1888,-201 1888,-201 1888,-241 1888,-241 1888,-247 1882,-253 1876,-253\"/>\n<text text-anchor=\"start\" x=\"1796\" y=\"-238.8\" font-family=\"Helvetica,sans-Serif\" font-size=\"14.00\" fill=\"#000000\">X</text>\n<text text-anchor=\"start\" x=\"1806\" y=\"-238.8\" font-family=\"Helvetica,sans-Serif\" baseline-shift=\"sub\" font-size=\"14.00\" fill=\"#000000\">8</text>\n<text text-anchor=\"start\" x=\"1813\" y=\"-238.8\" font-family=\"Helvetica,sans-Serif\" font-size=\"14.00\" fill=\"#000000\"> ≤ 0.5</text>\n<text text-anchor=\"start\" x=\"1771.5\" y=\"-224.8\" font-family=\"Helvetica,sans-Serif\" font-size=\"14.00\" fill=\"#000000\">entropy = 0.963</text>\n<text text-anchor=\"start\" x=\"1774.5\" y=\"-210.8\" font-family=\"Helvetica,sans-Serif\" font-size=\"14.00\" fill=\"#000000\">samples = 105</text>\n<text text-anchor=\"start\" x=\"1765\" y=\"-196.8\" font-family=\"Helvetica,sans-Serif\" font-size=\"14.00\" fill=\"#000000\">value = [82, 15, 8]</text>\n</g>\n<!-- 25&#45;&gt;33 -->\n<g id=\"edge33\" class=\"edge\">\n<title>25&#45;&gt;33</title>\n<path fill=\"none\" stroke=\"#000000\" d=\"M1480.8725,-303.122C1556.0228,-285.057 1671.5312,-257.2906 1747.0608,-239.1344\"/>\n<polygon fill=\"#000000\" stroke=\"#000000\" points=\"1748.0801,-242.4892 1756.9851,-236.7488 1746.444,-235.6831 1748.0801,-242.4892\"/>\n</g>\n<!-- 27 -->\n<g id=\"node28\" class=\"node\">\n<title>27</title>\n<path fill=\"#e68742\" stroke=\"#000000\" d=\"M1387,-153C1387,-153 1288,-153 1288,-153 1282,-153 1276,-147 1276,-141 1276,-141 1276,-101 1276,-101 1276,-95 1282,-89 1288,-89 1288,-89 1387,-89 1387,-89 1393,-89 1399,-95 1399,-101 1399,-101 1399,-141 1399,-141 1399,-147 1393,-153 1387,-153\"/>\n<text text-anchor=\"start\" x=\"1311\" y=\"-138.8\" font-family=\"Helvetica,sans-Serif\" font-size=\"14.00\" fill=\"#000000\">X</text>\n<text text-anchor=\"start\" x=\"1321\" y=\"-138.8\" font-family=\"Helvetica,sans-Serif\" baseline-shift=\"sub\" font-size=\"14.00\" fill=\"#000000\">3</text>\n<text text-anchor=\"start\" x=\"1328\" y=\"-138.8\" font-family=\"Helvetica,sans-Serif\" font-size=\"14.00\" fill=\"#000000\"> ≤ 8.5</text>\n<text text-anchor=\"start\" x=\"1286.5\" y=\"-124.8\" font-family=\"Helvetica,sans-Serif\" font-size=\"14.00\" fill=\"#000000\">entropy = 0.267</text>\n<text text-anchor=\"start\" x=\"1293.5\" y=\"-110.8\" font-family=\"Helvetica,sans-Serif\" font-size=\"14.00\" fill=\"#000000\">samples = 22</text>\n<text text-anchor=\"start\" x=\"1284\" y=\"-96.8\" font-family=\"Helvetica,sans-Serif\" font-size=\"14.00\" fill=\"#000000\">value = [21, 0, 1]</text>\n</g>\n<!-- 26&#45;&gt;27 -->\n<g id=\"edge27\" class=\"edge\">\n<title>26&#45;&gt;27</title>\n<path fill=\"none\" stroke=\"#000000\" d=\"M1384.2882,-188.8089C1378.3172,-180.1553 1371.7813,-170.683 1365.5382,-161.635\"/>\n<polygon fill=\"#000000\" stroke=\"#000000\" points=\"1368.2303,-159.3738 1359.6702,-153.1308 1362.4687,-163.3493 1368.2303,-159.3738\"/>\n</g>\n<!-- 30 -->\n<g id=\"node31\" class=\"node\">\n<title>30</title>\n<path fill=\"#eadefb\" stroke=\"#000000\" d=\"M1523.5,-153C1523.5,-153 1429.5,-153 1429.5,-153 1423.5,-153 1417.5,-147 1417.5,-141 1417.5,-141 1417.5,-101 1417.5,-101 1417.5,-95 1423.5,-89 1429.5,-89 1429.5,-89 1523.5,-89 1523.5,-89 1529.5,-89 1535.5,-95 1535.5,-101 1535.5,-101 1535.5,-141 1535.5,-141 1535.5,-147 1529.5,-153 1523.5,-153\"/>\n<text text-anchor=\"start\" x=\"1450\" y=\"-138.8\" font-family=\"Helvetica,sans-Serif\" font-size=\"14.00\" fill=\"#000000\">X</text>\n<text text-anchor=\"start\" x=\"1460\" y=\"-138.8\" font-family=\"Helvetica,sans-Serif\" baseline-shift=\"sub\" font-size=\"14.00\" fill=\"#000000\">4</text>\n<text text-anchor=\"start\" x=\"1467\" y=\"-138.8\" font-family=\"Helvetica,sans-Serif\" font-size=\"14.00\" fill=\"#000000\"> ≤ 0.5</text>\n<text text-anchor=\"start\" x=\"1425.5\" y=\"-124.8\" font-family=\"Helvetica,sans-Serif\" font-size=\"14.00\" fill=\"#000000\">entropy = 0.994</text>\n<text text-anchor=\"start\" x=\"1432.5\" y=\"-110.8\" font-family=\"Helvetica,sans-Serif\" font-size=\"14.00\" fill=\"#000000\">samples = 11</text>\n<text text-anchor=\"start\" x=\"1427\" y=\"-96.8\" font-family=\"Helvetica,sans-Serif\" font-size=\"14.00\" fill=\"#000000\">value = [5, 0, 6]</text>\n</g>\n<!-- 26&#45;&gt;30 -->\n<g id=\"edge30\" class=\"edge\">\n<title>26&#45;&gt;30</title>\n<path fill=\"none\" stroke=\"#000000\" d=\"M1429.0338,-188.8089C1435.1537,-180.0661 1441.8587,-170.4876 1448.2513,-161.3553\"/>\n<polygon fill=\"#000000\" stroke=\"#000000\" points=\"1451.1411,-163.3302 1454.0085,-153.1308 1445.4065,-159.316 1451.1411,-163.3302\"/>\n</g>\n<!-- 28 -->\n<g id=\"node29\" class=\"node\">\n<title>28</title>\n<path fill=\"#e58139\" stroke=\"#000000\" d=\"M1253,-53C1253,-53 1154,-53 1154,-53 1148,-53 1142,-47 1142,-41 1142,-41 1142,-12 1142,-12 1142,-6 1148,0 1154,0 1154,0 1253,0 1253,0 1259,0 1265,-6 1265,-12 1265,-12 1265,-41 1265,-41 1265,-47 1259,-53 1253,-53\"/>\n<text text-anchor=\"start\" x=\"1161\" y=\"-37.8\" font-family=\"Helvetica,sans-Serif\" font-size=\"14.00\" fill=\"#000000\">entropy = 0.0</text>\n<text text-anchor=\"start\" x=\"1159.5\" y=\"-22.8\" font-family=\"Helvetica,sans-Serif\" font-size=\"14.00\" fill=\"#000000\">samples = 21</text>\n<text text-anchor=\"start\" x=\"1150\" y=\"-7.8\" font-family=\"Helvetica,sans-Serif\" font-size=\"14.00\" fill=\"#000000\">value = [21, 0, 0]</text>\n</g>\n<!-- 27&#45;&gt;28 -->\n<g id=\"edge28\" class=\"edge\">\n<title>27&#45;&gt;28</title>\n<path fill=\"none\" stroke=\"#000000\" d=\"M1291.7596,-88.7428C1278.1977,-79.1786 1263.3392,-68.7001 1249.7456,-59.1135\"/>\n<polygon fill=\"#000000\" stroke=\"#000000\" points=\"1251.6573,-56.1789 1241.4679,-53.2759 1247.623,-61.8994 1251.6573,-56.1789\"/>\n</g>\n<!-- 29 -->\n<g id=\"node30\" class=\"node\">\n<title>29</title>\n<path fill=\"#8139e5\" stroke=\"#000000\" d=\"M1386,-53C1386,-53 1295,-53 1295,-53 1289,-53 1283,-47 1283,-41 1283,-41 1283,-12 1283,-12 1283,-6 1289,0 1295,0 1295,0 1386,0 1386,0 1392,0 1398,-6 1398,-12 1398,-12 1398,-41 1398,-41 1398,-47 1392,-53 1386,-53\"/>\n<text text-anchor=\"start\" x=\"1298\" y=\"-37.8\" font-family=\"Helvetica,sans-Serif\" font-size=\"14.00\" fill=\"#000000\">entropy = 0.0</text>\n<text text-anchor=\"start\" x=\"1301\" y=\"-22.8\" font-family=\"Helvetica,sans-Serif\" font-size=\"14.00\" fill=\"#000000\">samples = 1</text>\n<text text-anchor=\"start\" x=\"1291\" y=\"-7.8\" font-family=\"Helvetica,sans-Serif\" font-size=\"14.00\" fill=\"#000000\">value = [0, 0, 1]</text>\n</g>\n<!-- 27&#45;&gt;29 -->\n<g id=\"edge29\" class=\"edge\">\n<title>27&#45;&gt;29</title>\n<path fill=\"none\" stroke=\"#000000\" d=\"M1338.524,-88.7428C1338.7818,-80.6222 1339.0606,-71.8426 1339.3251,-63.5093\"/>\n<polygon fill=\"#000000\" stroke=\"#000000\" points=\"1342.8308,-63.3819 1339.65,-53.2759 1335.8343,-63.1597 1342.8308,-63.3819\"/>\n</g>\n<!-- 31 -->\n<g id=\"node32\" class=\"node\">\n<title>31</title>\n<path fill=\"#8139e5\" stroke=\"#000000\" d=\"M1519,-53C1519,-53 1428,-53 1428,-53 1422,-53 1416,-47 1416,-41 1416,-41 1416,-12 1416,-12 1416,-6 1422,0 1428,0 1428,0 1519,0 1519,0 1525,0 1531,-6 1531,-12 1531,-12 1531,-41 1531,-41 1531,-47 1525,-53 1519,-53\"/>\n<text text-anchor=\"start\" x=\"1431\" y=\"-37.8\" font-family=\"Helvetica,sans-Serif\" font-size=\"14.00\" fill=\"#000000\">entropy = 0.0</text>\n<text text-anchor=\"start\" x=\"1434\" y=\"-22.8\" font-family=\"Helvetica,sans-Serif\" font-size=\"14.00\" fill=\"#000000\">samples = 3</text>\n<text text-anchor=\"start\" x=\"1424\" y=\"-7.8\" font-family=\"Helvetica,sans-Serif\" font-size=\"14.00\" fill=\"#000000\">value = [0, 0, 3]</text>\n</g>\n<!-- 30&#45;&gt;31 -->\n<g id=\"edge31\" class=\"edge\">\n<title>30&#45;&gt;31</title>\n<path fill=\"none\" stroke=\"#000000\" d=\"M1475.476,-88.7428C1475.2182,-80.6222 1474.9394,-71.8426 1474.6749,-63.5093\"/>\n<polygon fill=\"#000000\" stroke=\"#000000\" points=\"1478.1657,-63.1597 1474.35,-53.2759 1471.1692,-63.3819 1478.1657,-63.1597\"/>\n</g>\n<!-- 32 -->\n<g id=\"node33\" class=\"node\">\n<title>32</title>\n<path fill=\"#f5cdb0\" stroke=\"#000000\" d=\"M1655.5,-53C1655.5,-53 1561.5,-53 1561.5,-53 1555.5,-53 1549.5,-47 1549.5,-41 1549.5,-41 1549.5,-12 1549.5,-12 1549.5,-6 1555.5,0 1561.5,0 1561.5,0 1655.5,0 1655.5,0 1661.5,0 1667.5,-6 1667.5,-12 1667.5,-12 1667.5,-41 1667.5,-41 1667.5,-47 1661.5,-53 1655.5,-53\"/>\n<text text-anchor=\"start\" x=\"1557.5\" y=\"-37.8\" font-family=\"Helvetica,sans-Serif\" font-size=\"14.00\" fill=\"#000000\">entropy = 0.954</text>\n<text text-anchor=\"start\" x=\"1569\" y=\"-22.8\" font-family=\"Helvetica,sans-Serif\" font-size=\"14.00\" fill=\"#000000\">samples = 8</text>\n<text text-anchor=\"start\" x=\"1559\" y=\"-7.8\" font-family=\"Helvetica,sans-Serif\" font-size=\"14.00\" fill=\"#000000\">value = [5, 0, 3]</text>\n</g>\n<!-- 30&#45;&gt;32 -->\n<g id=\"edge32\" class=\"edge\">\n<title>30&#45;&gt;32</title>\n<path fill=\"none\" stroke=\"#000000\" d=\"M1521.5577,-88.7428C1534.9172,-79.1786 1549.5539,-68.7001 1562.9447,-59.1135\"/>\n<polygon fill=\"#000000\" stroke=\"#000000\" points=\"1565.0051,-61.9429 1571.0988,-53.2759 1560.9303,-56.2511 1565.0051,-61.9429\"/>\n</g>\n<!-- 34 -->\n<g id=\"node35\" class=\"node\">\n<title>34</title>\n<path fill=\"#efaf82\" stroke=\"#000000\" d=\"M1876,-153C1876,-153 1769,-153 1769,-153 1763,-153 1757,-147 1757,-141 1757,-141 1757,-101 1757,-101 1757,-95 1763,-89 1769,-89 1769,-89 1876,-89 1876,-89 1882,-89 1888,-95 1888,-101 1888,-101 1888,-141 1888,-141 1888,-147 1882,-153 1876,-153\"/>\n<text text-anchor=\"start\" x=\"1792\" y=\"-138.8\" font-family=\"Helvetica,sans-Serif\" font-size=\"14.00\" fill=\"#000000\">X</text>\n<text text-anchor=\"start\" x=\"1802\" y=\"-138.8\" font-family=\"Helvetica,sans-Serif\" baseline-shift=\"sub\" font-size=\"14.00\" fill=\"#000000\">0</text>\n<text text-anchor=\"start\" x=\"1809\" y=\"-138.8\" font-family=\"Helvetica,sans-Serif\" font-size=\"14.00\" fill=\"#000000\"> ≤ 46.5</text>\n<text text-anchor=\"start\" x=\"1771.5\" y=\"-124.8\" font-family=\"Helvetica,sans-Serif\" font-size=\"14.00\" fill=\"#000000\">entropy = 1.159</text>\n<text text-anchor=\"start\" x=\"1778.5\" y=\"-110.8\" font-family=\"Helvetica,sans-Serif\" font-size=\"14.00\" fill=\"#000000\">samples = 74</text>\n<text text-anchor=\"start\" x=\"1765\" y=\"-96.8\" font-family=\"Helvetica,sans-Serif\" font-size=\"14.00\" fill=\"#000000\">value = [52, 14, 8]</text>\n</g>\n<!-- 33&#45;&gt;34 -->\n<g id=\"edge34\" class=\"edge\">\n<title>33&#45;&gt;34</title>\n<path fill=\"none\" stroke=\"#000000\" d=\"M1822.5,-188.8089C1822.5,-180.6906 1822.5,-171.8517 1822.5,-163.3186\"/>\n<polygon fill=\"#000000\" stroke=\"#000000\" points=\"1826.0001,-163.1307 1822.5,-153.1308 1819.0001,-163.1308 1826.0001,-163.1307\"/>\n</g>\n<!-- 37 -->\n<g id=\"node38\" class=\"node\">\n<title>37</title>\n<path fill=\"#e68540\" stroke=\"#000000\" d=\"M2087,-153C2087,-153 1988,-153 1988,-153 1982,-153 1976,-147 1976,-141 1976,-141 1976,-101 1976,-101 1976,-95 1982,-89 1988,-89 1988,-89 2087,-89 2087,-89 2093,-89 2099,-95 2099,-101 2099,-101 2099,-141 2099,-141 2099,-147 2093,-153 2087,-153\"/>\n<text text-anchor=\"start\" x=\"2011\" y=\"-138.8\" font-family=\"Helvetica,sans-Serif\" font-size=\"14.00\" fill=\"#000000\">X</text>\n<text text-anchor=\"start\" x=\"2021\" y=\"-138.8\" font-family=\"Helvetica,sans-Serif\" baseline-shift=\"sub\" font-size=\"14.00\" fill=\"#000000\">7</text>\n<text text-anchor=\"start\" x=\"2028\" y=\"-138.8\" font-family=\"Helvetica,sans-Serif\" font-size=\"14.00\" fill=\"#000000\"> ≤ 3.5</text>\n<text text-anchor=\"start\" x=\"1986.5\" y=\"-124.8\" font-family=\"Helvetica,sans-Serif\" font-size=\"14.00\" fill=\"#000000\">entropy = 0.206</text>\n<text text-anchor=\"start\" x=\"1993.5\" y=\"-110.8\" font-family=\"Helvetica,sans-Serif\" font-size=\"14.00\" fill=\"#000000\">samples = 31</text>\n<text text-anchor=\"start\" x=\"1984\" y=\"-96.8\" font-family=\"Helvetica,sans-Serif\" font-size=\"14.00\" fill=\"#000000\">value = [30, 1, 0]</text>\n</g>\n<!-- 33&#45;&gt;37 -->\n<g id=\"edge37\" class=\"edge\">\n<title>33&#45;&gt;37</title>\n<path fill=\"none\" stroke=\"#000000\" d=\"M1888.1753,-190.4533C1913.0318,-178.8922 1941.4228,-165.6871 1966.7277,-153.9174\"/>\n<polygon fill=\"#000000\" stroke=\"#000000\" points=\"1968.3075,-157.0427 1975.8986,-149.6518 1965.3553,-150.6956 1968.3075,-157.0427\"/>\n</g>\n<!-- 35 -->\n<g id=\"node36\" class=\"node\">\n<title>35</title>\n<path fill=\"#f2c29f\" stroke=\"#000000\" d=\"M1805,-53C1805,-53 1698,-53 1698,-53 1692,-53 1686,-47 1686,-41 1686,-41 1686,-12 1686,-12 1686,-6 1692,0 1698,0 1698,0 1805,0 1805,0 1811,0 1817,-6 1817,-12 1817,-12 1817,-41 1817,-41 1817,-47 1811,-53 1805,-53\"/>\n<text text-anchor=\"start\" x=\"1700.5\" y=\"-37.8\" font-family=\"Helvetica,sans-Serif\" font-size=\"14.00\" fill=\"#000000\">entropy = 1.347</text>\n<text text-anchor=\"start\" x=\"1707.5\" y=\"-22.8\" font-family=\"Helvetica,sans-Serif\" font-size=\"14.00\" fill=\"#000000\">samples = 51</text>\n<text text-anchor=\"start\" x=\"1694\" y=\"-7.8\" font-family=\"Helvetica,sans-Serif\" font-size=\"14.00\" fill=\"#000000\">value = [31, 12, 8]</text>\n</g>\n<!-- 34&#45;&gt;35 -->\n<g id=\"edge35\" class=\"edge\">\n<title>34&#45;&gt;35</title>\n<path fill=\"none\" stroke=\"#000000\" d=\"M1798.2644,-88.7428C1791.6209,-79.9004 1784.3903,-70.2765 1777.6449,-61.2985\"/>\n<polygon fill=\"#000000\" stroke=\"#000000\" points=\"1780.4224,-59.1684 1771.6173,-53.2759 1774.8259,-63.3732 1780.4224,-59.1684\"/>\n</g>\n<!-- 36 -->\n<g id=\"node37\" class=\"node\">\n<title>36</title>\n<path fill=\"#e78d4c\" stroke=\"#000000\" d=\"M1946,-53C1946,-53 1847,-53 1847,-53 1841,-53 1835,-47 1835,-41 1835,-41 1835,-12 1835,-12 1835,-6 1841,0 1847,0 1847,0 1946,0 1946,0 1952,0 1958,-6 1958,-12 1958,-12 1958,-41 1958,-41 1958,-47 1952,-53 1946,-53\"/>\n<text text-anchor=\"start\" x=\"1845.5\" y=\"-37.8\" font-family=\"Helvetica,sans-Serif\" font-size=\"14.00\" fill=\"#000000\">entropy = 0.426</text>\n<text text-anchor=\"start\" x=\"1852.5\" y=\"-22.8\" font-family=\"Helvetica,sans-Serif\" font-size=\"14.00\" fill=\"#000000\">samples = 23</text>\n<text text-anchor=\"start\" x=\"1843\" y=\"-7.8\" font-family=\"Helvetica,sans-Serif\" font-size=\"14.00\" fill=\"#000000\">value = [21, 2, 0]</text>\n</g>\n<!-- 34&#45;&gt;36 -->\n<g id=\"edge36\" class=\"edge\">\n<title>34&#45;&gt;36</title>\n<path fill=\"none\" stroke=\"#000000\" d=\"M1847.7596,-88.7428C1854.6838,-79.9004 1862.22,-70.2765 1869.2504,-61.2985\"/>\n<polygon fill=\"#000000\" stroke=\"#000000\" points=\"1872.1229,-63.3071 1875.5327,-53.2759 1866.6116,-58.9913 1872.1229,-63.3071\"/>\n</g>\n<!-- 38 -->\n<g id=\"node39\" class=\"node\">\n<title>38</title>\n<path fill=\"#e58139\" stroke=\"#000000\" d=\"M2087,-53C2087,-53 1988,-53 1988,-53 1982,-53 1976,-47 1976,-41 1976,-41 1976,-12 1976,-12 1976,-6 1982,0 1988,0 1988,0 2087,0 2087,0 2093,0 2099,-6 2099,-12 2099,-12 2099,-41 2099,-41 2099,-47 2093,-53 2087,-53\"/>\n<text text-anchor=\"start\" x=\"1995\" y=\"-37.8\" font-family=\"Helvetica,sans-Serif\" font-size=\"14.00\" fill=\"#000000\">entropy = 0.0</text>\n<text text-anchor=\"start\" x=\"1993.5\" y=\"-22.8\" font-family=\"Helvetica,sans-Serif\" font-size=\"14.00\" fill=\"#000000\">samples = 26</text>\n<text text-anchor=\"start\" x=\"1984\" y=\"-7.8\" font-family=\"Helvetica,sans-Serif\" font-size=\"14.00\" fill=\"#000000\">value = [26, 0, 0]</text>\n</g>\n<!-- 37&#45;&gt;38 -->\n<g id=\"edge38\" class=\"edge\">\n<title>37&#45;&gt;38</title>\n<path fill=\"none\" stroke=\"#000000\" d=\"M2037.5,-88.7428C2037.5,-80.6222 2037.5,-71.8426 2037.5,-63.5093\"/>\n<polygon fill=\"#000000\" stroke=\"#000000\" points=\"2041.0001,-63.2758 2037.5,-53.2759 2034.0001,-63.2759 2041.0001,-63.2758\"/>\n</g>\n<!-- 39 -->\n<g id=\"node40\" class=\"node\">\n<title>39</title>\n<path fill=\"#eca06a\" stroke=\"#000000\" d=\"M2223.5,-53C2223.5,-53 2129.5,-53 2129.5,-53 2123.5,-53 2117.5,-47 2117.5,-41 2117.5,-41 2117.5,-12 2117.5,-12 2117.5,-6 2123.5,0 2129.5,0 2129.5,0 2223.5,0 2223.5,0 2229.5,0 2235.5,-6 2235.5,-12 2235.5,-12 2235.5,-41 2235.5,-41 2235.5,-47 2229.5,-53 2223.5,-53\"/>\n<text text-anchor=\"start\" x=\"2125.5\" y=\"-37.8\" font-family=\"Helvetica,sans-Serif\" font-size=\"14.00\" fill=\"#000000\">entropy = 0.722</text>\n<text text-anchor=\"start\" x=\"2137\" y=\"-22.8\" font-family=\"Helvetica,sans-Serif\" font-size=\"14.00\" fill=\"#000000\">samples = 5</text>\n<text text-anchor=\"start\" x=\"2127\" y=\"-7.8\" font-family=\"Helvetica,sans-Serif\" font-size=\"14.00\" fill=\"#000000\">value = [4, 1, 0]</text>\n</g>\n<!-- 37&#45;&gt;39 -->\n<g id=\"edge39\" class=\"edge\">\n<title>37&#45;&gt;39</title>\n<path fill=\"none\" stroke=\"#000000\" d=\"M2084.9471,-88.7428C2099.0151,-79.1786 2114.4279,-68.7001 2128.5289,-59.1135\"/>\n<polygon fill=\"#000000\" stroke=\"#000000\" points=\"2130.8134,-61.7926 2137.1154,-53.2759 2126.8777,-56.0038 2130.8134,-61.7926\"/>\n</g>\n<!-- 41 -->\n<g id=\"node42\" class=\"node\">\n<title>41</title>\n<path fill=\"#ddc9f8\" stroke=\"#000000\" d=\"M2536.5,-353C2536.5,-353 2396.5,-353 2396.5,-353 2390.5,-353 2384.5,-347 2384.5,-341 2384.5,-341 2384.5,-301 2384.5,-301 2384.5,-295 2390.5,-289 2396.5,-289 2396.5,-289 2536.5,-289 2536.5,-289 2542.5,-289 2548.5,-295 2548.5,-301 2548.5,-301 2548.5,-341 2548.5,-341 2548.5,-347 2542.5,-353 2536.5,-353\"/>\n<text text-anchor=\"start\" x=\"2440\" y=\"-338.8\" font-family=\"Helvetica,sans-Serif\" font-size=\"14.00\" fill=\"#000000\">X</text>\n<text text-anchor=\"start\" x=\"2450\" y=\"-338.8\" font-family=\"Helvetica,sans-Serif\" baseline-shift=\"sub\" font-size=\"14.00\" fill=\"#000000\">6</text>\n<text text-anchor=\"start\" x=\"2457\" y=\"-338.8\" font-family=\"Helvetica,sans-Serif\" font-size=\"14.00\" fill=\"#000000\"> ≤ 1.5</text>\n<text text-anchor=\"start\" x=\"2415.5\" y=\"-324.8\" font-family=\"Helvetica,sans-Serif\" font-size=\"14.00\" fill=\"#000000\">entropy = 1.521</text>\n<text text-anchor=\"start\" x=\"2418.5\" y=\"-310.8\" font-family=\"Helvetica,sans-Serif\" font-size=\"14.00\" fill=\"#000000\">samples = 462</text>\n<text text-anchor=\"start\" x=\"2392.5\" y=\"-296.8\" font-family=\"Helvetica,sans-Serif\" font-size=\"14.00\" fill=\"#000000\">value = [129, 113, 220]</text>\n</g>\n<!-- 40&#45;&gt;41 -->\n<g id=\"edge41\" class=\"edge\">\n<title>40&#45;&gt;41</title>\n<path fill=\"none\" stroke=\"#000000\" d=\"M2466.5,-388.8089C2466.5,-380.6906 2466.5,-371.8517 2466.5,-363.3186\"/>\n<polygon fill=\"#000000\" stroke=\"#000000\" points=\"2470.0001,-363.1307 2466.5,-353.1308 2463.0001,-363.1308 2470.0001,-363.1307\"/>\n</g>\n<!-- 52 -->\n<g id=\"node53\" class=\"node\">\n<title>52</title>\n<path fill=\"#f1fdf6\" stroke=\"#000000\" d=\"M3091.5,-353C3091.5,-353 2951.5,-353 2951.5,-353 2945.5,-353 2939.5,-347 2939.5,-341 2939.5,-341 2939.5,-301 2939.5,-301 2939.5,-295 2945.5,-289 2951.5,-289 2951.5,-289 3091.5,-289 3091.5,-289 3097.5,-289 3103.5,-295 3103.5,-301 3103.5,-301 3103.5,-341 3103.5,-341 3103.5,-347 3097.5,-353 3091.5,-353\"/>\n<text text-anchor=\"start\" x=\"2995\" y=\"-338.8\" font-family=\"Helvetica,sans-Serif\" font-size=\"14.00\" fill=\"#000000\">X</text>\n<text text-anchor=\"start\" x=\"3005\" y=\"-338.8\" font-family=\"Helvetica,sans-Serif\" baseline-shift=\"sub\" font-size=\"14.00\" fill=\"#000000\">3</text>\n<text text-anchor=\"start\" x=\"3012\" y=\"-338.8\" font-family=\"Helvetica,sans-Serif\" font-size=\"14.00\" fill=\"#000000\"> ≤ 1.5</text>\n<text text-anchor=\"start\" x=\"2970.5\" y=\"-324.8\" font-family=\"Helvetica,sans-Serif\" font-size=\"14.00\" fill=\"#000000\">entropy = 1.572</text>\n<text text-anchor=\"start\" x=\"2973.5\" y=\"-310.8\" font-family=\"Helvetica,sans-Serif\" font-size=\"14.00\" fill=\"#000000\">samples = 374</text>\n<text text-anchor=\"start\" x=\"2947.5\" y=\"-296.8\" font-family=\"Helvetica,sans-Serif\" font-size=\"14.00\" fill=\"#000000\">value = [127, 144, 103]</text>\n</g>\n<!-- 40&#45;&gt;52 -->\n<g id=\"edge52\" class=\"edge\">\n<title>40&#45;&gt;52</title>\n<path fill=\"none\" stroke=\"#000000\" d=\"M2548.6908,-406.1908C2650.4173,-387.8618 2823.1685,-356.7354 2929.3085,-337.6111\"/>\n<polygon fill=\"#000000\" stroke=\"#000000\" points=\"2930.1467,-341.0165 2939.3676,-335.7986 2928.9054,-334.1274 2930.1467,-341.0165\"/>\n</g>\n<!-- 42 -->\n<g id=\"node43\" class=\"node\">\n<title>42</title>\n<path fill=\"#fbf9fe\" stroke=\"#000000\" d=\"M2443.5,-253C2443.5,-253 2327.5,-253 2327.5,-253 2321.5,-253 2315.5,-247 2315.5,-241 2315.5,-241 2315.5,-201 2315.5,-201 2315.5,-195 2321.5,-189 2327.5,-189 2327.5,-189 2443.5,-189 2443.5,-189 2449.5,-189 2455.5,-195 2455.5,-201 2455.5,-201 2455.5,-241 2455.5,-241 2455.5,-247 2449.5,-253 2443.5,-253\"/>\n<text text-anchor=\"start\" x=\"2359\" y=\"-238.8\" font-family=\"Helvetica,sans-Serif\" font-size=\"14.00\" fill=\"#000000\">X</text>\n<text text-anchor=\"start\" x=\"2369\" y=\"-238.8\" font-family=\"Helvetica,sans-Serif\" baseline-shift=\"sub\" font-size=\"14.00\" fill=\"#000000\">2</text>\n<text text-anchor=\"start\" x=\"2376\" y=\"-238.8\" font-family=\"Helvetica,sans-Serif\" font-size=\"14.00\" fill=\"#000000\"> ≤ 3.5</text>\n<text text-anchor=\"start\" x=\"2334.5\" y=\"-224.8\" font-family=\"Helvetica,sans-Serif\" font-size=\"14.00\" fill=\"#000000\">entropy = 1.582</text>\n<text text-anchor=\"start\" x=\"2337.5\" y=\"-210.8\" font-family=\"Helvetica,sans-Serif\" font-size=\"14.00\" fill=\"#000000\">samples = 145</text>\n<text text-anchor=\"start\" x=\"2323.5\" y=\"-196.8\" font-family=\"Helvetica,sans-Serif\" font-size=\"14.00\" fill=\"#000000\">value = [44, 49, 52]</text>\n</g>\n<!-- 41&#45;&gt;42 -->\n<g id=\"edge42\" class=\"edge\">\n<title>41&#45;&gt;42</title>\n<path fill=\"none\" stroke=\"#000000\" d=\"M2440.4252,-288.8089C2433.2713,-279.9769 2425.4266,-270.2921 2417.9615,-261.0759\"/>\n<polygon fill=\"#000000\" stroke=\"#000000\" points=\"2420.5399,-258.6984 2411.5259,-253.1308 2415.1004,-263.1044 2420.5399,-258.6984\"/>\n</g>\n<!-- 47 -->\n<g id=\"node48\" class=\"node\">\n<title>47</title>\n<path fill=\"#d2b8f6\" stroke=\"#000000\" d=\"M2609.5,-253C2609.5,-253 2485.5,-253 2485.5,-253 2479.5,-253 2473.5,-247 2473.5,-241 2473.5,-241 2473.5,-201 2473.5,-201 2473.5,-195 2479.5,-189 2485.5,-189 2485.5,-189 2609.5,-189 2609.5,-189 2615.5,-189 2621.5,-195 2621.5,-201 2621.5,-201 2621.5,-241 2621.5,-241 2621.5,-247 2615.5,-253 2609.5,-253\"/>\n<text text-anchor=\"start\" x=\"2521\" y=\"-238.8\" font-family=\"Helvetica,sans-Serif\" font-size=\"14.00\" fill=\"#000000\">X</text>\n<text text-anchor=\"start\" x=\"2531\" y=\"-238.8\" font-family=\"Helvetica,sans-Serif\" baseline-shift=\"sub\" font-size=\"14.00\" fill=\"#000000\">2</text>\n<text text-anchor=\"start\" x=\"2538\" y=\"-238.8\" font-family=\"Helvetica,sans-Serif\" font-size=\"14.00\" fill=\"#000000\"> ≤ 1.5</text>\n<text text-anchor=\"start\" x=\"2496.5\" y=\"-224.8\" font-family=\"Helvetica,sans-Serif\" font-size=\"14.00\" fill=\"#000000\">entropy = 1.461</text>\n<text text-anchor=\"start\" x=\"2499.5\" y=\"-210.8\" font-family=\"Helvetica,sans-Serif\" font-size=\"14.00\" fill=\"#000000\">samples = 317</text>\n<text text-anchor=\"start\" x=\"2481.5\" y=\"-196.8\" font-family=\"Helvetica,sans-Serif\" font-size=\"14.00\" fill=\"#000000\">value = [85, 64, 168]</text>\n</g>\n<!-- 41&#45;&gt;47 -->\n<g id=\"edge47\" class=\"edge\">\n<title>41&#45;&gt;47</title>\n<path fill=\"none\" stroke=\"#000000\" d=\"M2492.5748,-288.8089C2499.7287,-279.9769 2507.5734,-270.2921 2515.0385,-261.0759\"/>\n<polygon fill=\"#000000\" stroke=\"#000000\" points=\"2517.8996,-263.1044 2521.4741,-253.1308 2512.4601,-258.6984 2517.8996,-263.1044\"/>\n</g>\n<!-- 43 -->\n<g id=\"node44\" class=\"node\">\n<title>43</title>\n<path fill=\"#39e581\" stroke=\"#000000\" d=\"M2290,-147.5C2290,-147.5 2199,-147.5 2199,-147.5 2193,-147.5 2187,-141.5 2187,-135.5 2187,-135.5 2187,-106.5 2187,-106.5 2187,-100.5 2193,-94.5 2199,-94.5 2199,-94.5 2290,-94.5 2290,-94.5 2296,-94.5 2302,-100.5 2302,-106.5 2302,-106.5 2302,-135.5 2302,-135.5 2302,-141.5 2296,-147.5 2290,-147.5\"/>\n<text text-anchor=\"start\" x=\"2202\" y=\"-132.3\" font-family=\"Helvetica,sans-Serif\" font-size=\"14.00\" fill=\"#000000\">entropy = 0.0</text>\n<text text-anchor=\"start\" x=\"2205\" y=\"-117.3\" font-family=\"Helvetica,sans-Serif\" font-size=\"14.00\" fill=\"#000000\">samples = 3</text>\n<text text-anchor=\"start\" x=\"2195\" y=\"-102.3\" font-family=\"Helvetica,sans-Serif\" font-size=\"14.00\" fill=\"#000000\">value = [0, 3, 0]</text>\n</g>\n<!-- 42&#45;&gt;43 -->\n<g id=\"edge43\" class=\"edge\">\n<title>42&#45;&gt;43</title>\n<path fill=\"none\" stroke=\"#000000\" d=\"M2340.1106,-188.8089C2324.3516,-177.6324 2306.6672,-165.0902 2290.8331,-153.8603\"/>\n<polygon fill=\"#000000\" stroke=\"#000000\" points=\"2292.4323,-150.7037 2282.2507,-147.7735 2288.3828,-156.4134 2292.4323,-150.7037\"/>\n</g>\n<!-- 44 -->\n<g id=\"node45\" class=\"node\">\n<title>44</title>\n<path fill=\"#f7f3fd\" stroke=\"#000000\" d=\"M2448.5,-153C2448.5,-153 2332.5,-153 2332.5,-153 2326.5,-153 2320.5,-147 2320.5,-141 2320.5,-141 2320.5,-101 2320.5,-101 2320.5,-95 2326.5,-89 2332.5,-89 2332.5,-89 2448.5,-89 2448.5,-89 2454.5,-89 2460.5,-95 2460.5,-101 2460.5,-101 2460.5,-141 2460.5,-141 2460.5,-147 2454.5,-153 2448.5,-153\"/>\n<text text-anchor=\"start\" x=\"2360\" y=\"-138.8\" font-family=\"Helvetica,sans-Serif\" font-size=\"14.00\" fill=\"#000000\">X</text>\n<text text-anchor=\"start\" x=\"2370\" y=\"-138.8\" font-family=\"Helvetica,sans-Serif\" baseline-shift=\"sub\" font-size=\"14.00\" fill=\"#000000\">0</text>\n<text text-anchor=\"start\" x=\"2377\" y=\"-138.8\" font-family=\"Helvetica,sans-Serif\" font-size=\"14.00\" fill=\"#000000\"> ≤ 20.5</text>\n<text text-anchor=\"start\" x=\"2339.5\" y=\"-124.8\" font-family=\"Helvetica,sans-Serif\" font-size=\"14.00\" fill=\"#000000\">entropy = 1.581</text>\n<text text-anchor=\"start\" x=\"2342.5\" y=\"-110.8\" font-family=\"Helvetica,sans-Serif\" font-size=\"14.00\" fill=\"#000000\">samples = 142</text>\n<text text-anchor=\"start\" x=\"2328.5\" y=\"-96.8\" font-family=\"Helvetica,sans-Serif\" font-size=\"14.00\" fill=\"#000000\">value = [44, 46, 52]</text>\n</g>\n<!-- 42&#45;&gt;44 -->\n<g id=\"edge44\" class=\"edge\">\n<title>42&#45;&gt;44</title>\n<path fill=\"none\" stroke=\"#000000\" d=\"M2387.1096,-188.8089C2387.5155,-180.6906 2387.9574,-171.8517 2388.3841,-163.3186\"/>\n<polygon fill=\"#000000\" stroke=\"#000000\" points=\"2391.8896,-163.2931 2388.8935,-153.1308 2384.8984,-162.9435 2391.8896,-163.2931\"/>\n</g>\n<!-- 45 -->\n<g id=\"node46\" class=\"node\">\n<title>45</title>\n<path fill=\"#c09cf2\" stroke=\"#000000\" d=\"M2359.5,-53C2359.5,-53 2265.5,-53 2265.5,-53 2259.5,-53 2253.5,-47 2253.5,-41 2253.5,-41 2253.5,-12 2253.5,-12 2253.5,-6 2259.5,0 2265.5,0 2265.5,0 2359.5,0 2359.5,0 2365.5,0 2371.5,-6 2371.5,-12 2371.5,-12 2371.5,-41 2371.5,-41 2371.5,-47 2365.5,-53 2359.5,-53\"/>\n<text text-anchor=\"start\" x=\"2261.5\" y=\"-37.8\" font-family=\"Helvetica,sans-Serif\" font-size=\"14.00\" fill=\"#000000\">entropy = 0.918</text>\n<text text-anchor=\"start\" x=\"2273\" y=\"-22.8\" font-family=\"Helvetica,sans-Serif\" font-size=\"14.00\" fill=\"#000000\">samples = 6</text>\n<text text-anchor=\"start\" x=\"2263\" y=\"-7.8\" font-family=\"Helvetica,sans-Serif\" font-size=\"14.00\" fill=\"#000000\">value = [2, 0, 4]</text>\n</g>\n<!-- 44&#45;&gt;45 -->\n<g id=\"edge45\" class=\"edge\">\n<title>44&#45;&gt;45</title>\n<path fill=\"none\" stroke=\"#000000\" d=\"M2363.875,-88.7428C2356.502,-79.8102 2348.4708,-70.08 2340.9959,-61.0238\"/>\n<polygon fill=\"#000000\" stroke=\"#000000\" points=\"2343.6657,-58.7601 2334.6007,-53.2759 2338.2671,-63.2161 2343.6657,-58.7601\"/>\n</g>\n<!-- 46 -->\n<g id=\"node47\" class=\"node\">\n<title>46</title>\n<path fill=\"#fcfbfe\" stroke=\"#000000\" d=\"M2517.5,-53C2517.5,-53 2401.5,-53 2401.5,-53 2395.5,-53 2389.5,-47 2389.5,-41 2389.5,-41 2389.5,-12 2389.5,-12 2389.5,-6 2395.5,0 2401.5,0 2401.5,0 2517.5,0 2517.5,0 2523.5,0 2529.5,-6 2529.5,-12 2529.5,-12 2529.5,-41 2529.5,-41 2529.5,-47 2523.5,-53 2517.5,-53\"/>\n<text text-anchor=\"start\" x=\"2408.5\" y=\"-37.8\" font-family=\"Helvetica,sans-Serif\" font-size=\"14.00\" fill=\"#000000\">entropy = 1.583</text>\n<text text-anchor=\"start\" x=\"2411.5\" y=\"-22.8\" font-family=\"Helvetica,sans-Serif\" font-size=\"14.00\" fill=\"#000000\">samples = 136</text>\n<text text-anchor=\"start\" x=\"2397.5\" y=\"-7.8\" font-family=\"Helvetica,sans-Serif\" font-size=\"14.00\" fill=\"#000000\">value = [42, 46, 48]</text>\n</g>\n<!-- 44&#45;&gt;46 -->\n<g id=\"edge46\" class=\"edge\">\n<title>44&#45;&gt;46</title>\n<path fill=\"none\" stroke=\"#000000\" d=\"M2414.0529,-88.7428C2420.4434,-79.9906 2427.3928,-70.4728 2433.8908,-61.5735\"/>\n<polygon fill=\"#000000\" stroke=\"#000000\" points=\"2436.8791,-63.4161 2439.9494,-53.2759 2431.2257,-59.2882 2436.8791,-63.4161\"/>\n</g>\n<!-- 48 -->\n<g id=\"node49\" class=\"node\">\n<title>48</title>\n<path fill=\"#39e581\" stroke=\"#000000\" d=\"M2588,-147.5C2588,-147.5 2497,-147.5 2497,-147.5 2491,-147.5 2485,-141.5 2485,-135.5 2485,-135.5 2485,-106.5 2485,-106.5 2485,-100.5 2491,-94.5 2497,-94.5 2497,-94.5 2588,-94.5 2588,-94.5 2594,-94.5 2600,-100.5 2600,-106.5 2600,-106.5 2600,-135.5 2600,-135.5 2600,-141.5 2594,-147.5 2588,-147.5\"/>\n<text text-anchor=\"start\" x=\"2500\" y=\"-132.3\" font-family=\"Helvetica,sans-Serif\" font-size=\"14.00\" fill=\"#000000\">entropy = 0.0</text>\n<text text-anchor=\"start\" x=\"2503\" y=\"-117.3\" font-family=\"Helvetica,sans-Serif\" font-size=\"14.00\" fill=\"#000000\">samples = 4</text>\n<text text-anchor=\"start\" x=\"2493\" y=\"-102.3\" font-family=\"Helvetica,sans-Serif\" font-size=\"14.00\" fill=\"#000000\">value = [0, 4, 0]</text>\n</g>\n<!-- 47&#45;&gt;48 -->\n<g id=\"edge48\" class=\"edge\">\n<title>47&#45;&gt;48</title>\n<path fill=\"none\" stroke=\"#000000\" d=\"M2545.8904,-188.8089C2545.3989,-178.9777 2544.8545,-168.0898 2544.3484,-157.9679\"/>\n<polygon fill=\"#000000\" stroke=\"#000000\" points=\"2547.8338,-157.5862 2543.8387,-147.7735 2540.8425,-157.9359 2547.8338,-157.5862\"/>\n</g>\n<!-- 49 -->\n<g id=\"node50\" class=\"node\">\n<title>49</title>\n<path fill=\"#d1b7f6\" stroke=\"#000000\" d=\"M2754.5,-153C2754.5,-153 2630.5,-153 2630.5,-153 2624.5,-153 2618.5,-147 2618.5,-141 2618.5,-141 2618.5,-101 2618.5,-101 2618.5,-95 2624.5,-89 2630.5,-89 2630.5,-89 2754.5,-89 2754.5,-89 2760.5,-89 2766.5,-95 2766.5,-101 2766.5,-101 2766.5,-141 2766.5,-141 2766.5,-147 2760.5,-153 2754.5,-153\"/>\n<text text-anchor=\"start\" x=\"2666\" y=\"-138.8\" font-family=\"Helvetica,sans-Serif\" font-size=\"14.00\" fill=\"#000000\">X</text>\n<text text-anchor=\"start\" x=\"2676\" y=\"-138.8\" font-family=\"Helvetica,sans-Serif\" baseline-shift=\"sub\" font-size=\"14.00\" fill=\"#000000\">3</text>\n<text text-anchor=\"start\" x=\"2683\" y=\"-138.8\" font-family=\"Helvetica,sans-Serif\" font-size=\"14.00\" fill=\"#000000\"> ≤ 2.5</text>\n<text text-anchor=\"start\" x=\"2641.5\" y=\"-124.8\" font-family=\"Helvetica,sans-Serif\" font-size=\"14.00\" fill=\"#000000\">entropy = 1.449</text>\n<text text-anchor=\"start\" x=\"2644.5\" y=\"-110.8\" font-family=\"Helvetica,sans-Serif\" font-size=\"14.00\" fill=\"#000000\">samples = 313</text>\n<text text-anchor=\"start\" x=\"2626.5\" y=\"-96.8\" font-family=\"Helvetica,sans-Serif\" font-size=\"14.00\" fill=\"#000000\">value = [85, 60, 168]</text>\n</g>\n<!-- 47&#45;&gt;49 -->\n<g id=\"edge49\" class=\"edge\">\n<title>47&#45;&gt;49</title>\n<path fill=\"none\" stroke=\"#000000\" d=\"M2594.1771,-188.8089C2608.0184,-179.2632 2623.3042,-168.7213 2637.6152,-158.8516\"/>\n<polygon fill=\"#000000\" stroke=\"#000000\" points=\"2639.6653,-161.6894 2645.9104,-153.1308 2635.6912,-155.9269 2639.6653,-161.6894\"/>\n</g>\n<!-- 50 -->\n<g id=\"node51\" class=\"node\">\n<title>50</title>\n<path fill=\"#e4d5fa\" stroke=\"#000000\" d=\"M2675.5,-53C2675.5,-53 2559.5,-53 2559.5,-53 2553.5,-53 2547.5,-47 2547.5,-41 2547.5,-41 2547.5,-12 2547.5,-12 2547.5,-6 2553.5,0 2559.5,0 2559.5,0 2675.5,0 2675.5,0 2681.5,0 2687.5,-6 2687.5,-12 2687.5,-12 2687.5,-41 2687.5,-41 2687.5,-47 2681.5,-53 2675.5,-53\"/>\n<text text-anchor=\"start\" x=\"2566.5\" y=\"-37.8\" font-family=\"Helvetica,sans-Serif\" font-size=\"14.00\" fill=\"#000000\">entropy = 1.486</text>\n<text text-anchor=\"start\" x=\"2569.5\" y=\"-22.8\" font-family=\"Helvetica,sans-Serif\" font-size=\"14.00\" fill=\"#000000\">samples = 186</text>\n<text text-anchor=\"start\" x=\"2555.5\" y=\"-7.8\" font-family=\"Helvetica,sans-Serif\" font-size=\"14.00\" fill=\"#000000\">value = [63, 34, 89]</text>\n</g>\n<!-- 49&#45;&gt;50 -->\n<g id=\"edge50\" class=\"edge\">\n<title>49&#45;&gt;50</title>\n<path fill=\"none\" stroke=\"#000000\" d=\"M2666.899,-88.7428C2659.8813,-79.9004 2652.2433,-70.2765 2645.1178,-61.2985\"/>\n<polygon fill=\"#000000\" stroke=\"#000000\" points=\"2647.7088,-58.933 2638.7507,-53.2759 2642.2258,-63.2846 2647.7088,-58.933\"/>\n</g>\n<!-- 51 -->\n<g id=\"node52\" class=\"node\">\n<title>51</title>\n<path fill=\"#bd97f1\" stroke=\"#000000\" d=\"M2833.5,-53C2833.5,-53 2717.5,-53 2717.5,-53 2711.5,-53 2705.5,-47 2705.5,-41 2705.5,-41 2705.5,-12 2705.5,-12 2705.5,-6 2711.5,0 2717.5,0 2717.5,0 2833.5,0 2833.5,0 2839.5,0 2845.5,-6 2845.5,-12 2845.5,-12 2845.5,-41 2845.5,-41 2845.5,-47 2839.5,-53 2833.5,-53\"/>\n<text text-anchor=\"start\" x=\"2724.5\" y=\"-37.8\" font-family=\"Helvetica,sans-Serif\" font-size=\"14.00\" fill=\"#000000\">entropy = 1.333</text>\n<text text-anchor=\"start\" x=\"2727.5\" y=\"-22.8\" font-family=\"Helvetica,sans-Serif\" font-size=\"14.00\" fill=\"#000000\">samples = 127</text>\n<text text-anchor=\"start\" x=\"2713.5\" y=\"-7.8\" font-family=\"Helvetica,sans-Serif\" font-size=\"14.00\" fill=\"#000000\">value = [22, 26, 79]</text>\n</g>\n<!-- 49&#45;&gt;51 -->\n<g id=\"edge51\" class=\"edge\">\n<title>49&#45;&gt;51</title>\n<path fill=\"none\" stroke=\"#000000\" d=\"M2720.8317,-88.7428C2728.6773,-79.8102 2737.2234,-70.08 2745.1775,-61.0238\"/>\n<polygon fill=\"#000000\" stroke=\"#000000\" points=\"2748.0131,-63.099 2751.9826,-53.2759 2742.7537,-58.4796 2748.0131,-63.099\"/>\n</g>\n<!-- 53 -->\n<g id=\"node54\" class=\"node\">\n<title>53</title>\n<path fill=\"#e99559\" stroke=\"#000000\" d=\"M3071,-253C3071,-253 2972,-253 2972,-253 2966,-253 2960,-247 2960,-241 2960,-241 2960,-201 2960,-201 2960,-195 2966,-189 2972,-189 2972,-189 3071,-189 3071,-189 3077,-189 3083,-195 3083,-201 3083,-201 3083,-241 3083,-241 3083,-247 3077,-253 3071,-253\"/>\n<text text-anchor=\"start\" x=\"2991\" y=\"-238.8\" font-family=\"Helvetica,sans-Serif\" font-size=\"14.00\" fill=\"#000000\">X</text>\n<text text-anchor=\"start\" x=\"3001\" y=\"-238.8\" font-family=\"Helvetica,sans-Serif\" baseline-shift=\"sub\" font-size=\"14.00\" fill=\"#000000\">0</text>\n<text text-anchor=\"start\" x=\"3008\" y=\"-238.8\" font-family=\"Helvetica,sans-Serif\" font-size=\"14.00\" fill=\"#000000\"> ≤ 41.5</text>\n<text text-anchor=\"start\" x=\"2970.5\" y=\"-224.8\" font-family=\"Helvetica,sans-Serif\" font-size=\"14.00\" fill=\"#000000\">entropy = 0.579</text>\n<text text-anchor=\"start\" x=\"2977.5\" y=\"-210.8\" font-family=\"Helvetica,sans-Serif\" font-size=\"14.00\" fill=\"#000000\">samples = 29</text>\n<text text-anchor=\"start\" x=\"2968\" y=\"-196.8\" font-family=\"Helvetica,sans-Serif\" font-size=\"14.00\" fill=\"#000000\">value = [25, 0, 4]</text>\n</g>\n<!-- 52&#45;&gt;53 -->\n<g id=\"edge53\" class=\"edge\">\n<title>52&#45;&gt;53</title>\n<path fill=\"none\" stroke=\"#000000\" d=\"M3021.5,-288.8089C3021.5,-280.6906 3021.5,-271.8517 3021.5,-263.3186\"/>\n<polygon fill=\"#000000\" stroke=\"#000000\" points=\"3025.0001,-263.1307 3021.5,-253.1308 3018.0001,-263.1308 3025.0001,-263.1307\"/>\n</g>\n<!-- 58 -->\n<g id=\"node59\" class=\"node\">\n<title>58</title>\n<path fill=\"#ddfbe9\" stroke=\"#000000\" d=\"M3368.5,-253C3368.5,-253 3236.5,-253 3236.5,-253 3230.5,-253 3224.5,-247 3224.5,-241 3224.5,-241 3224.5,-201 3224.5,-201 3224.5,-195 3230.5,-189 3236.5,-189 3236.5,-189 3368.5,-189 3368.5,-189 3374.5,-189 3380.5,-195 3380.5,-201 3380.5,-201 3380.5,-241 3380.5,-241 3380.5,-247 3374.5,-253 3368.5,-253\"/>\n<text text-anchor=\"start\" x=\"3276\" y=\"-238.8\" font-family=\"Helvetica,sans-Serif\" font-size=\"14.00\" fill=\"#000000\">X</text>\n<text text-anchor=\"start\" x=\"3286\" y=\"-238.8\" font-family=\"Helvetica,sans-Serif\" baseline-shift=\"sub\" font-size=\"14.00\" fill=\"#000000\">1</text>\n<text text-anchor=\"start\" x=\"3293\" y=\"-238.8\" font-family=\"Helvetica,sans-Serif\" font-size=\"14.00\" fill=\"#000000\"> ≤ 3.5</text>\n<text text-anchor=\"start\" x=\"3251.5\" y=\"-224.8\" font-family=\"Helvetica,sans-Serif\" font-size=\"14.00\" fill=\"#000000\">entropy = 1.563</text>\n<text text-anchor=\"start\" x=\"3254.5\" y=\"-210.8\" font-family=\"Helvetica,sans-Serif\" font-size=\"14.00\" fill=\"#000000\">samples = 345</text>\n<text text-anchor=\"start\" x=\"3232.5\" y=\"-196.8\" font-family=\"Helvetica,sans-Serif\" font-size=\"14.00\" fill=\"#000000\">value = [102, 144, 99]</text>\n</g>\n<!-- 52&#45;&gt;58 -->\n<g id=\"edge58\" class=\"edge\">\n<title>52&#45;&gt;58</title>\n<path fill=\"none\" stroke=\"#000000\" d=\"M3103.5322,-291.807C3138.3293,-279.4237 3178.95,-264.968 3214.383,-252.3584\"/>\n<polygon fill=\"#000000\" stroke=\"#000000\" points=\"3215.9825,-255.5042 3224.2302,-248.854 3213.6355,-248.9094 3215.9825,-255.5042\"/>\n</g>\n<!-- 54 -->\n<g id=\"node55\" class=\"node\">\n<title>54</title>\n<path fill=\"#eeaf81\" stroke=\"#000000\" d=\"M3001,-153C3001,-153 2902,-153 2902,-153 2896,-153 2890,-147 2890,-141 2890,-141 2890,-101 2890,-101 2890,-95 2896,-89 2902,-89 2902,-89 3001,-89 3001,-89 3007,-89 3013,-95 3013,-101 3013,-101 3013,-141 3013,-141 3013,-147 3007,-153 3001,-153\"/>\n<text text-anchor=\"start\" x=\"2925\" y=\"-138.8\" font-family=\"Helvetica,sans-Serif\" font-size=\"14.00\" fill=\"#000000\">X</text>\n<text text-anchor=\"start\" x=\"2935\" y=\"-138.8\" font-family=\"Helvetica,sans-Serif\" baseline-shift=\"sub\" font-size=\"14.00\" fill=\"#000000\">1</text>\n<text text-anchor=\"start\" x=\"2942\" y=\"-138.8\" font-family=\"Helvetica,sans-Serif\" font-size=\"14.00\" fill=\"#000000\"> ≤ 3.5</text>\n<text text-anchor=\"start\" x=\"2900.5\" y=\"-124.8\" font-family=\"Helvetica,sans-Serif\" font-size=\"14.00\" fill=\"#000000\">entropy = 0.837</text>\n<text text-anchor=\"start\" x=\"2907.5\" y=\"-110.8\" font-family=\"Helvetica,sans-Serif\" font-size=\"14.00\" fill=\"#000000\">samples = 15</text>\n<text text-anchor=\"start\" x=\"2898\" y=\"-96.8\" font-family=\"Helvetica,sans-Serif\" font-size=\"14.00\" fill=\"#000000\">value = [11, 0, 4]</text>\n</g>\n<!-- 53&#45;&gt;54 -->\n<g id=\"edge54\" class=\"edge\">\n<title>53&#45;&gt;54</title>\n<path fill=\"none\" stroke=\"#000000\" d=\"M2998.9662,-188.8089C2992.8463,-180.0661 2986.1413,-170.4876 2979.7487,-161.3553\"/>\n<polygon fill=\"#000000\" stroke=\"#000000\" points=\"2982.5935,-159.316 2973.9915,-153.1308 2976.8589,-163.3302 2982.5935,-159.316\"/>\n</g>\n<!-- 57 -->\n<g id=\"node58\" class=\"node\">\n<title>57</title>\n<path fill=\"#e58139\" stroke=\"#000000\" d=\"M3142,-147.5C3142,-147.5 3043,-147.5 3043,-147.5 3037,-147.5 3031,-141.5 3031,-135.5 3031,-135.5 3031,-106.5 3031,-106.5 3031,-100.5 3037,-94.5 3043,-94.5 3043,-94.5 3142,-94.5 3142,-94.5 3148,-94.5 3154,-100.5 3154,-106.5 3154,-106.5 3154,-135.5 3154,-135.5 3154,-141.5 3148,-147.5 3142,-147.5\"/>\n<text text-anchor=\"start\" x=\"3050\" y=\"-132.3\" font-family=\"Helvetica,sans-Serif\" font-size=\"14.00\" fill=\"#000000\">entropy = 0.0</text>\n<text text-anchor=\"start\" x=\"3048.5\" y=\"-117.3\" font-family=\"Helvetica,sans-Serif\" font-size=\"14.00\" fill=\"#000000\">samples = 14</text>\n<text text-anchor=\"start\" x=\"3039\" y=\"-102.3\" font-family=\"Helvetica,sans-Serif\" font-size=\"14.00\" fill=\"#000000\">value = [14, 0, 0]</text>\n</g>\n<!-- 53&#45;&gt;57 -->\n<g id=\"edge57\" class=\"edge\">\n<title>53&#45;&gt;57</title>\n<path fill=\"none\" stroke=\"#000000\" d=\"M3044.3557,-188.8089C3051.7767,-178.3568 3060.0457,-166.7103 3067.6076,-156.0597\"/>\n<polygon fill=\"#000000\" stroke=\"#000000\" points=\"3070.5554,-157.9536 3073.4908,-147.7735 3064.8477,-153.9011 3070.5554,-157.9536\"/>\n</g>\n<!-- 55 -->\n<g id=\"node56\" class=\"node\">\n<title>55</title>\n<path fill=\"#e58139\" stroke=\"#000000\" d=\"M2967,-53C2967,-53 2876,-53 2876,-53 2870,-53 2864,-47 2864,-41 2864,-41 2864,-12 2864,-12 2864,-6 2870,0 2876,0 2876,0 2967,0 2967,0 2973,0 2979,-6 2979,-12 2979,-12 2979,-41 2979,-41 2979,-47 2973,-53 2967,-53\"/>\n<text text-anchor=\"start\" x=\"2879\" y=\"-37.8\" font-family=\"Helvetica,sans-Serif\" font-size=\"14.00\" fill=\"#000000\">entropy = 0.0</text>\n<text text-anchor=\"start\" x=\"2882\" y=\"-22.8\" font-family=\"Helvetica,sans-Serif\" font-size=\"14.00\" fill=\"#000000\">samples = 7</text>\n<text text-anchor=\"start\" x=\"2872\" y=\"-7.8\" font-family=\"Helvetica,sans-Serif\" font-size=\"14.00\" fill=\"#000000\">value = [7, 0, 0]</text>\n</g>\n<!-- 54&#45;&gt;55 -->\n<g id=\"edge55\" class=\"edge\">\n<title>54&#45;&gt;55</title>\n<path fill=\"none\" stroke=\"#000000\" d=\"M2941.2596,-88.7428C2938.6244,-80.4418 2935.7705,-71.452 2933.0728,-62.9544\"/>\n<polygon fill=\"#000000\" stroke=\"#000000\" points=\"2936.3621,-61.7481 2930.0003,-53.2759 2929.6902,-63.8662 2936.3621,-61.7481\"/>\n</g>\n<!-- 56 -->\n<g id=\"node57\" class=\"node\">\n<title>56</title>\n<path fill=\"#ffffff\" stroke=\"#000000\" d=\"M3100,-53C3100,-53 3009,-53 3009,-53 3003,-53 2997,-47 2997,-41 2997,-41 2997,-12 2997,-12 2997,-6 3003,0 3009,0 3009,0 3100,0 3100,0 3106,0 3112,-6 3112,-12 3112,-12 3112,-41 3112,-41 3112,-47 3106,-53 3100,-53\"/>\n<text text-anchor=\"start\" x=\"3012\" y=\"-37.8\" font-family=\"Helvetica,sans-Serif\" font-size=\"14.00\" fill=\"#000000\">entropy = 1.0</text>\n<text text-anchor=\"start\" x=\"3015\" y=\"-22.8\" font-family=\"Helvetica,sans-Serif\" font-size=\"14.00\" fill=\"#000000\">samples = 8</text>\n<text text-anchor=\"start\" x=\"3005\" y=\"-7.8\" font-family=\"Helvetica,sans-Serif\" font-size=\"14.00\" fill=\"#000000\">value = [4, 0, 4]</text>\n</g>\n<!-- 54&#45;&gt;56 -->\n<g id=\"edge56\" class=\"edge\">\n<title>54&#45;&gt;56</title>\n<path fill=\"none\" stroke=\"#000000\" d=\"M2986.6587,-88.7428C2996.6898,-79.5395 3007.6436,-69.4896 3017.7661,-60.2025\"/>\n<polygon fill=\"#000000\" stroke=\"#000000\" points=\"3020.3133,-62.6154 3025.3157,-53.2759 3015.5809,-57.4574 3020.3133,-62.6154\"/>\n</g>\n<!-- 59 -->\n<g id=\"node60\" class=\"node\">\n<title>59</title>\n<path fill=\"#f8dcc8\" stroke=\"#000000\" d=\"M3360.5,-153C3360.5,-153 3244.5,-153 3244.5,-153 3238.5,-153 3232.5,-147 3232.5,-141 3232.5,-141 3232.5,-101 3232.5,-101 3232.5,-95 3238.5,-89 3244.5,-89 3244.5,-89 3360.5,-89 3360.5,-89 3366.5,-89 3372.5,-95 3372.5,-101 3372.5,-101 3372.5,-141 3372.5,-141 3372.5,-147 3366.5,-153 3360.5,-153\"/>\n<text text-anchor=\"start\" x=\"3272\" y=\"-138.8\" font-family=\"Helvetica,sans-Serif\" font-size=\"14.00\" fill=\"#000000\">X</text>\n<text text-anchor=\"start\" x=\"3282\" y=\"-138.8\" font-family=\"Helvetica,sans-Serif\" baseline-shift=\"sub\" font-size=\"14.00\" fill=\"#000000\">0</text>\n<text text-anchor=\"start\" x=\"3289\" y=\"-138.8\" font-family=\"Helvetica,sans-Serif\" font-size=\"14.00\" fill=\"#000000\"> ≤ 36.5</text>\n<text text-anchor=\"start\" x=\"3251.5\" y=\"-124.8\" font-family=\"Helvetica,sans-Serif\" font-size=\"14.00\" fill=\"#000000\">entropy = 1.518</text>\n<text text-anchor=\"start\" x=\"3254.5\" y=\"-110.8\" font-family=\"Helvetica,sans-Serif\" font-size=\"14.00\" fill=\"#000000\">samples = 119</text>\n<text text-anchor=\"start\" x=\"3240.5\" y=\"-96.8\" font-family=\"Helvetica,sans-Serif\" font-size=\"14.00\" fill=\"#000000\">value = [57, 33, 29]</text>\n</g>\n<!-- 58&#45;&gt;59 -->\n<g id=\"edge59\" class=\"edge\">\n<title>58&#45;&gt;59</title>\n<path fill=\"none\" stroke=\"#000000\" d=\"M3302.5,-188.8089C3302.5,-180.6906 3302.5,-171.8517 3302.5,-163.3186\"/>\n<polygon fill=\"#000000\" stroke=\"#000000\" points=\"3306.0001,-163.1307 3302.5,-153.1308 3299.0001,-163.1308 3306.0001,-163.1307\"/>\n</g>\n<!-- 62 -->\n<g id=\"node63\" class=\"node\">\n<title>62</title>\n<path fill=\"#cbf8de\" stroke=\"#000000\" d=\"M3557.5,-153C3557.5,-153 3433.5,-153 3433.5,-153 3427.5,-153 3421.5,-147 3421.5,-141 3421.5,-141 3421.5,-101 3421.5,-101 3421.5,-95 3427.5,-89 3433.5,-89 3433.5,-89 3557.5,-89 3557.5,-89 3563.5,-89 3569.5,-95 3569.5,-101 3569.5,-101 3569.5,-141 3569.5,-141 3569.5,-147 3563.5,-153 3557.5,-153\"/>\n<text text-anchor=\"start\" x=\"3469\" y=\"-138.8\" font-family=\"Helvetica,sans-Serif\" font-size=\"14.00\" fill=\"#000000\">X</text>\n<text text-anchor=\"start\" x=\"3479\" y=\"-138.8\" font-family=\"Helvetica,sans-Serif\" baseline-shift=\"sub\" font-size=\"14.00\" fill=\"#000000\">3</text>\n<text text-anchor=\"start\" x=\"3486\" y=\"-138.8\" font-family=\"Helvetica,sans-Serif\" font-size=\"14.00\" fill=\"#000000\"> ≤ 2.5</text>\n<text text-anchor=\"start\" x=\"3444.5\" y=\"-124.8\" font-family=\"Helvetica,sans-Serif\" font-size=\"14.00\" fill=\"#000000\">entropy = 1.491</text>\n<text text-anchor=\"start\" x=\"3447.5\" y=\"-110.8\" font-family=\"Helvetica,sans-Serif\" font-size=\"14.00\" fill=\"#000000\">samples = 226</text>\n<text text-anchor=\"start\" x=\"3429.5\" y=\"-96.8\" font-family=\"Helvetica,sans-Serif\" font-size=\"14.00\" fill=\"#000000\">value = [45, 111, 70]</text>\n</g>\n<!-- 58&#45;&gt;62 -->\n<g id=\"edge62\" class=\"edge\">\n<title>58&#45;&gt;62</title>\n<path fill=\"none\" stroke=\"#000000\" d=\"M3364.3628,-188.9467C3383.5811,-178.989 3404.9128,-167.9364 3424.6914,-157.6884\"/>\n<polygon fill=\"#000000\" stroke=\"#000000\" points=\"3426.3877,-160.7515 3433.6564,-153.0433 3423.1673,-154.5362 3426.3877,-160.7515\"/>\n</g>\n<!-- 60 -->\n<g id=\"node61\" class=\"node\">\n<title>60</title>\n<path fill=\"#d9fae7\" stroke=\"#000000\" d=\"M3241,-53C3241,-53 3142,-53 3142,-53 3136,-53 3130,-47 3130,-41 3130,-41 3130,-12 3130,-12 3130,-6 3136,0 3142,0 3142,0 3241,0 3241,0 3247,0 3253,-6 3253,-12 3253,-12 3253,-41 3253,-41 3253,-47 3247,-53 3241,-53\"/>\n<text text-anchor=\"start\" x=\"3140.5\" y=\"-37.8\" font-family=\"Helvetica,sans-Serif\" font-size=\"14.00\" fill=\"#000000\">entropy = 1.552</text>\n<text text-anchor=\"start\" x=\"3147.5\" y=\"-22.8\" font-family=\"Helvetica,sans-Serif\" font-size=\"14.00\" fill=\"#000000\">samples = 30</text>\n<text text-anchor=\"start\" x=\"3138\" y=\"-7.8\" font-family=\"Helvetica,sans-Serif\" font-size=\"14.00\" fill=\"#000000\">value = [9, 13, 8]</text>\n</g>\n<!-- 59&#45;&gt;60 -->\n<g id=\"edge60\" class=\"edge\">\n<title>59&#45;&gt;60</title>\n<path fill=\"none\" stroke=\"#000000\" d=\"M3264.6106,-88.7428C3253.6944,-79.4493 3241.7642,-69.2925 3230.7664,-59.9295\"/>\n<polygon fill=\"#000000\" stroke=\"#000000\" points=\"3232.8342,-57.0933 3222.951,-53.2759 3228.2965,-62.4234 3232.8342,-57.0933\"/>\n</g>\n<!-- 61 -->\n<g id=\"node62\" class=\"node\">\n<title>61</title>\n<path fill=\"#f5cdb0\" stroke=\"#000000\" d=\"M3399.5,-53C3399.5,-53 3283.5,-53 3283.5,-53 3277.5,-53 3271.5,-47 3271.5,-41 3271.5,-41 3271.5,-12 3271.5,-12 3271.5,-6 3277.5,0 3283.5,0 3283.5,0 3399.5,0 3399.5,0 3405.5,0 3411.5,-6 3411.5,-12 3411.5,-12 3411.5,-41 3411.5,-41 3411.5,-47 3405.5,-53 3399.5,-53\"/>\n<text text-anchor=\"start\" x=\"3290.5\" y=\"-37.8\" font-family=\"Helvetica,sans-Serif\" font-size=\"14.00\" fill=\"#000000\">entropy = 1.456</text>\n<text text-anchor=\"start\" x=\"3297.5\" y=\"-22.8\" font-family=\"Helvetica,sans-Serif\" font-size=\"14.00\" fill=\"#000000\">samples = 89</text>\n<text text-anchor=\"start\" x=\"3279.5\" y=\"-7.8\" font-family=\"Helvetica,sans-Serif\" font-size=\"14.00\" fill=\"#000000\">value = [48, 20, 21]</text>\n</g>\n<!-- 59&#45;&gt;61 -->\n<g id=\"edge61\" class=\"edge\">\n<title>59&#45;&gt;61</title>\n<path fill=\"none\" stroke=\"#000000\" d=\"M3315.8125,-88.7428C3319.2756,-80.3515 3323.0291,-71.2565 3326.5696,-62.6775\"/>\n<polygon fill=\"#000000\" stroke=\"#000000\" points=\"3329.87,-63.8548 3330.4496,-53.2759 3323.3994,-61.1844 3329.87,-63.8548\"/>\n</g>\n<!-- 63 -->\n<g id=\"node64\" class=\"node\">\n<title>63</title>\n<path fill=\"#f9f5fe\" stroke=\"#000000\" d=\"M3549,-53C3549,-53 3442,-53 3442,-53 3436,-53 3430,-47 3430,-41 3430,-41 3430,-12 3430,-12 3430,-6 3436,0 3442,0 3442,0 3549,0 3549,0 3555,0 3561,-6 3561,-12 3561,-12 3561,-41 3561,-41 3561,-47 3555,-53 3549,-53\"/>\n<text text-anchor=\"start\" x=\"3444.5\" y=\"-37.8\" font-family=\"Helvetica,sans-Serif\" font-size=\"14.00\" fill=\"#000000\">entropy = 1.501</text>\n<text text-anchor=\"start\" x=\"3451.5\" y=\"-22.8\" font-family=\"Helvetica,sans-Serif\" font-size=\"14.00\" fill=\"#000000\">samples = 33</text>\n<text text-anchor=\"start\" x=\"3438\" y=\"-7.8\" font-family=\"Helvetica,sans-Serif\" font-size=\"14.00\" fill=\"#000000\">value = [13, 6, 14]</text>\n</g>\n<!-- 62&#45;&gt;63 -->\n<g id=\"edge63\" class=\"edge\">\n<title>62&#45;&gt;63</title>\n<path fill=\"none\" stroke=\"#000000\" d=\"M3495.5,-88.7428C3495.5,-80.6222 3495.5,-71.8426 3495.5,-63.5093\"/>\n<polygon fill=\"#000000\" stroke=\"#000000\" points=\"3499.0001,-63.2758 3495.5,-53.2759 3492.0001,-63.2759 3499.0001,-63.2758\"/>\n</g>\n<!-- 64 -->\n<g id=\"node65\" class=\"node\">\n<title>64</title>\n<path fill=\"#b8f6d2\" stroke=\"#000000\" d=\"M3715.5,-53C3715.5,-53 3591.5,-53 3591.5,-53 3585.5,-53 3579.5,-47 3579.5,-41 3579.5,-41 3579.5,-12 3579.5,-12 3579.5,-6 3585.5,0 3591.5,0 3591.5,0 3715.5,0 3715.5,0 3721.5,0 3727.5,-6 3727.5,-12 3727.5,-12 3727.5,-41 3727.5,-41 3727.5,-47 3721.5,-53 3715.5,-53\"/>\n<text text-anchor=\"start\" x=\"3602.5\" y=\"-37.8\" font-family=\"Helvetica,sans-Serif\" font-size=\"14.00\" fill=\"#000000\">entropy = 1.426</text>\n<text text-anchor=\"start\" x=\"3605.5\" y=\"-22.8\" font-family=\"Helvetica,sans-Serif\" font-size=\"14.00\" fill=\"#000000\">samples = 193</text>\n<text text-anchor=\"start\" x=\"3587.5\" y=\"-7.8\" font-family=\"Helvetica,sans-Serif\" font-size=\"14.00\" fill=\"#000000\">value = [32, 105, 56]</text>\n</g>\n<!-- 62&#45;&gt;64 -->\n<g id=\"edge64\" class=\"edge\">\n<title>62&#45;&gt;64</title>\n<path fill=\"none\" stroke=\"#000000\" d=\"M3549.4327,-88.7428C3565.8008,-78.953 3583.7705,-68.2053 3600.1032,-58.4367\"/>\n<polygon fill=\"#000000\" stroke=\"#000000\" points=\"3602.2024,-61.2595 3608.9879,-53.1227 3598.6093,-55.252 3602.2024,-61.2595\"/>\n</g>\n</g>\n</svg>\n"
          },
          "metadata": {
            "tags": []
          },
          "execution_count": 252
        }
      ]
    },
    {
      "cell_type": "markdown",
      "metadata": {
        "id": "Q_R9itx-aMrd",
        "colab_type": "text"
      },
      "source": [
        "As we can see our final decision tree that we choose to use has a max depth of 6 and gives a **training accuracy of 0.586** and a **testing accuracy of 0.601**. The structure of our tree is shown above."
      ]
    },
    {
      "cell_type": "markdown",
      "metadata": {
        "id": "KFka8BHPt3Gk",
        "colab_type": "text"
      },
      "source": [
        "### **Method 4: Random Forest Classifier**"
      ]
    },
    {
      "cell_type": "markdown",
      "metadata": {
        "id": "mjTno_R2h2I-",
        "colab_type": "text"
      },
      "source": [
        "Following the same procedure for RFC:"
      ]
    },
    {
      "cell_type": "code",
      "metadata": {
        "id": "jMgZbpY00VaZ",
        "colab_type": "code",
        "outputId": "d8a1038b-6801-4143-d384-87dd4c68cc14",
        "colab": {
          "base_uri": "https://localhost:8080/",
          "height": 517
        }
      },
      "source": [
        "random_forest_model = ensemble.RandomForestClassifier(criterion=\"gini\",n_estimators=100, random_state=42,max_depth=8)\n",
        "random_forest_model.fit(X_train_plain, Y_train_plain)\n",
        "\n",
        "rf_train_accuracy = random_forest_model.score(X_train_plain, Y_train_plain)\n",
        "rf_test_accuracy = random_forest_model.score(X_test_plain, Y_test_plain)\n",
        "\n",
        "des_depth = []\n",
        "des_train = []\n",
        "des_test = []\n",
        "for i in range(1, 46):\n",
        "  random_forest_model = ensemble.RandomForestClassifier(random_state=100,max_depth=i)\n",
        "  random_forest_model.fit(X_train_plain, Y_train_plain)\n",
        "  dt_training_accuracy = random_forest_model.score(X_train_plain, Y_train_plain)\n",
        "  dt_test_accuracy = random_forest_model.score(X_test_plain, Y_test_plain)\n",
        "  if(i%5 == 0):\n",
        "      print(\"Depth: \" + str(i) + \" Training Accuracy: \" + str(dt_training_accuracy) + \" Test Accuracy: \" + str(dt_test_accuracy))\n",
        "  des_depth.append(i)\n",
        "  des_train.append(dt_training_accuracy)\n",
        "  des_test.append(dt_test_accuracy)\n",
        "print(\"\\nIdeal Depth: \" + str(np.argmax(des_test)))\n",
        "print(\"Training Accuracy: \" + str(des_train[np.argmax(des_test)]))\n",
        "print(\"Test Accuracy: \" + str(des_test[np.argmax(des_test)]) + \"\\n\")\n",
        "\n",
        "plt.plot(des_depth,des_train, des_depth,des_test)\n",
        "plt.ylabel('Accuracy %')\n",
        "plt.xlabel('Max Depth')\n",
        "plt.legend([\"Training\",\"Test\"])\n",
        "plt.show()"
      ],
      "execution_count": 253,
      "outputs": [
        {
          "output_type": "stream",
          "text": [
            "Depth: 5 Training Accuracy: 0.609056603773585 Test Accuracy: 0.5472972972972973\n",
            "Depth: 10 Training Accuracy: 0.8301886792452831 Test Accuracy: 0.5945945945945946\n",
            "Depth: 15 Training Accuracy: 0.9539622641509434 Test Accuracy: 0.5675675675675675\n",
            "Depth: 20 Training Accuracy: 0.9569811320754718 Test Accuracy: 0.5743243243243243\n",
            "Depth: 25 Training Accuracy: 0.9569811320754718 Test Accuracy: 0.5608108108108109\n",
            "Depth: 30 Training Accuracy: 0.9569811320754718 Test Accuracy: 0.5608108108108109\n",
            "Depth: 35 Training Accuracy: 0.9569811320754718 Test Accuracy: 0.5608108108108109\n",
            "Depth: 40 Training Accuracy: 0.9569811320754718 Test Accuracy: 0.5608108108108109\n",
            "Depth: 45 Training Accuracy: 0.9569811320754718 Test Accuracy: 0.5608108108108109\n",
            "\n",
            "Ideal Depth: 7\n",
            "Training Accuracy: 0.7116981132075472\n",
            "Test Accuracy: 0.6013513513513513\n",
            "\n"
          ],
          "name": "stdout"
        },
        {
          "output_type": "display_data",
          "data": {
            "image/png": "[encoded data removed]",
            "text/plain": [
              "<Figure size 432x288 with 1 Axes>"
            ]
          },
          "metadata": {
            "tags": [],
            "needs_background": "light"
          }
        }
      ]
    },
    {
      "cell_type": "markdown",
      "metadata": {
        "id": "dhxB7qeKvG98",
        "colab_type": "text"
      },
      "source": [
        "### **Method 5: Lasso Regularization**"
      ]
    },
    {
      "cell_type": "code",
      "metadata": {
        "id": "lWlj1FEMvKjO",
        "colab_type": "code",
        "colab": {}
      },
      "source": [
        "from sklearn.linear_model import Lasso, LogisticRegression\n",
        "from sklearn.feature_selection import SelectFromModel\n",
        "from sklearn.preprocessing import StandardScaler"
      ],
      "execution_count": 0,
      "outputs": []
    },
    {
      "cell_type": "markdown",
      "metadata": {
        "id": "S7CAnNZ5gN2V",
        "colab_type": "text"
      },
      "source": [
        "See if we can re-evaluate feature selection using Lasso regularization. After evaluating we see that we should opt to use all the columns if possible."
      ]
    },
    {
      "cell_type": "code",
      "metadata": {
        "id": "JTRVCpU4BAoo",
        "colab_type": "code",
        "outputId": "d087a4c1-183b-4e31-9be5-3a191938cea6",
        "colab": {
          "base_uri": "https://localhost:8080/",
          "height": 68
        }
      },
      "source": [
        "scaler = StandardScaler()\n",
        "scaler.fit(X_train.fillna(0))\n",
        "sel_ = SelectFromModel(LogisticRegression(C=1, penalty='l1',solver='liblinear' ))\n",
        "sel_.fit(scaler.transform(X_train.fillna(0)), Y_train)\n",
        "selected_feat = X_train.columns[(sel_.get_support())]\n",
        "selected_feat"
      ],
      "execution_count": 255,
      "outputs": [
        {
          "output_type": "execute_result",
          "data": {
            "text/plain": [
              "Index(['wife_age', 'num_child', 'media_exposure', 'w1', 'w2', 'w4', 'h1', 'h2',\n",
              "       'h3', 'h4'],\n",
              "      dtype='object')"
            ]
          },
          "metadata": {
            "tags": []
          },
          "execution_count": 255
        }
      ]
    },
    {
      "cell_type": "code",
      "metadata": {
        "id": "b-j9vAMQhXrS",
        "colab_type": "code",
        "outputId": "309fe5d7-4051-476a-c47e-dfe9aae208a6",
        "colab": {
          "base_uri": "https://localhost:8080/",
          "height": 34
        }
      },
      "source": [
        "model_lasso =  LogisticRegression(solver='liblinear',penalty='l1')\n",
        "model_lasso.fit(X_train, Y_train)\n",
        "training_accuracy = (model_lasso.predict(X_train) == Y_train).mean()\n",
        "print(\"Training Accuracy:\", training_accuracy)"
      ],
      "execution_count": 256,
      "outputs": [
        {
          "output_type": "stream",
          "text": [
            "Training Accuracy: 0.5335849056603773\n"
          ],
          "name": "stdout"
        }
      ]
    },
    {
      "cell_type": "code",
      "metadata": {
        "id": "3z52VwXPBURU",
        "colab_type": "code",
        "outputId": "f94843a1-e918-455b-8d18-bf6c7aaa256a",
        "colab": {
          "base_uri": "https://localhost:8080/",
          "height": 34
        }
      },
      "source": [
        "testing_accuracy = (model_lasso.predict(X_test) == test['contraceptive']).mean()\n",
        "print(\"Testing Accuracy:\", test_accuracy)"
      ],
      "execution_count": 257,
      "outputs": [
        {
          "output_type": "stream",
          "text": [
            "Testing Accuracy: 0.5472972972972973\n"
          ],
          "name": "stdout"
        }
      ]
    },
    {
      "cell_type": "markdown",
      "metadata": {
        "id": "pyKp6v5ZYOo9",
        "colab_type": "text"
      },
      "source": [
        "### **Question 3: What factors can be used to determine if a wife is still working after having children?**"
      ]
    },
    {
      "cell_type": "markdown",
      "metadata": {
        "id": "3gzhYpdHEnoD",
        "colab_type": "text"
      },
      "source": [
        "First, we will plot some visualizations to understand the relationship between different factors in our dataset and whether a mother works after having children."
      ]
    },
    {
      "cell_type": "markdown",
      "metadata": {
        "id": "PaWf__bYE4sO",
        "colab_type": "text"
      },
      "source": [
        "By grouping the data by whether or not the wife was working and then plotting the result we can see that how wife working may affect the resulting features in the data. Next we will create boxplots for each variable isn the birth_control dataset to see how the different variable values differ between moms who work and moms who do not work."
      ]
    },
    {
      "cell_type": "code",
      "metadata": {
        "id": "LCCY0iZG2L8Y",
        "colab_type": "code",
        "colab": {}
      },
      "source": [
        "\n",
        "#boxplot = train.boxplot(by='wife_work',fontsize='large',figsize=(18,18))"
      ],
      "execution_count": 0,
      "outputs": []
    },
    {
      "cell_type": "code",
      "metadata": {
        "id": "c3ZVGdxqQ3rZ",
        "colab_type": "code",
        "outputId": "2405f693-ed16-4688-e434-04401e8a0378",
        "colab": {
          "base_uri": "https://localhost:8080/",
          "height": 513
        }
      },
      "source": [
        "plt.figure(figsize=(10, 8))\n",
        "df = birth_control.copy()\n",
        "df['wife_work'] = df['wife_work'].replace(0,'yes')\n",
        "df['wife_work'] = df['wife_work'].replace(1,'no')\n",
        "sns.boxplot(data=df, x='wife_work', y='num_child')\n",
        "plt.xlabel('Wife Working?')\n",
        "plt.ylabel('Number of Children')\n",
        "plt.title('Number of Children per Working and Non-working Wives');"
      ],
      "execution_count": 259,
      "outputs": [
        {
          "output_type": "display_data",
          "data": {
            "image/png": "[encoded data removed]",
            "text/plain": [
              "<Figure size 720x576 with 1 Axes>"
            ]
          },
          "metadata": {
            "tags": [],
            "needs_background": "light"
          }
        }
      ]
    },
    {
      "cell_type": "code",
      "metadata": {
        "id": "GHJ1lVXpBsC4",
        "colab_type": "code",
        "outputId": "c70f59be-94a4-44cc-8bf0-3f39ab8299f1",
        "colab": {
          "base_uri": "https://localhost:8080/",
          "height": 513
        }
      },
      "source": [
        "plt.figure(figsize=(10, 8))\n",
        "sns.boxplot(data=df, x='wife_work', y='wife_age')\n",
        "plt.xlabel('Wife Working?')\n",
        "plt.ylabel('Number of Children')\n",
        "plt.title('Distribution of Ages per Working and Non-working Wives');"
      ],
      "execution_count": 260,
      "outputs": [
        {
          "output_type": "display_data",
          "data": {
            "image/png": "[encoded data removed]",
            "text/plain": [
              "<Figure size 720x576 with 1 Axes>"
            ]
          },
          "metadata": {
            "tags": [],
            "needs_background": "light"
          }
        }
      ]
    },
    {
      "cell_type": "markdown",
      "metadata": {
        "id": "GHLa4uAtIhfD",
        "colab_type": "text"
      },
      "source": [
        "*The boxplots above show the some variables differ between women who work and women who do not work. The distributuion of age for women who work and women who do not work is relatively similar (the median and range are very close). On the other hand, it looks like the distribution of the number of children they have is different between working and non-working women. Women who work have a slightly higher number of children (in terms of median). This visualization can be used to help us figure out what factors we could possibly use to help determine if a wife is working or not after having children. *"
      ]
    },
    {
      "cell_type": "code",
      "metadata": {
        "id": "1Toc0EbqKo5U",
        "colab_type": "code",
        "colab": {}
      },
      "source": [
        "#Here we retrieve the training and validation sets for cross-validation\n",
        "#work_train, work_val = train_test_split(train, test_size=0.1, random_state=42)"
      ],
      "execution_count": 0,
      "outputs": []
    },
    {
      "cell_type": "code",
      "metadata": {
        "id": "xtctU3vhMBoq",
        "colab_type": "code",
        "colab": {}
      },
      "source": [
        "#plt.figure(figsize=(10, 8))\n",
        "#sns.boxplot(data=birth_control, x='wife_work', y='num_child')\n",
        "#plt.xlabel('Wife Working?')\n",
        "#plt.ylabel('Number of Children')\n",
        "#plt.title('Number of Children per Working and Non-working Wives');"
      ],
      "execution_count": 0,
      "outputs": []
    },
    {
      "cell_type": "code",
      "metadata": {
        "id": "mRDpsDBkNfgX",
        "colab_type": "code",
        "outputId": "9da92b29-8ba8-40ea-b121-5cf21dfc217c",
        "colab": {
          "base_uri": "https://localhost:8080/",
          "height": 621
        }
      },
      "source": [
        "bc = birth_control.groupby(['wife_education','wife_work']).agg(len)\n",
        "bc = bc.reset_index()\n",
        "bc = bc.iloc[:,0:3]\n",
        "bc = bc.rename(columns = {'wife_age':'Number of Women'})\n",
        "bc['Number of Women'] = bc['Number of Women']/1473\n",
        "bc['wife_work'] = bc['wife_work'].replace(0,'Wife Works')\n",
        "bc['wife_work'] = bc['wife_work'].replace(1,'Wife does not Work')\n",
        "plt.figure(figsize=(10,10))\n",
        "fig = sns.barplot(x = 'wife_education', y = 'Number of Women', hue = 'wife_work', data = bc)\n",
        "plt.xticks([0, 1, 2, 3], [\"Low\", \"Lower Middle\", \"Upper Middle\", 'High'])\n",
        "fig.set_xlabel('Wife Education Status')\n",
        "fig.set_ylabel('Proportion of Women')\n",
        "fig.set_title('Distribution of Working and Non-Working Women with Different Education Levels');\n",
        "\n"
      ],
      "execution_count": 263,
      "outputs": [
        {
          "output_type": "display_data",
          "data": {
            "image/png": "[encoded data removed]",
            "text/plain": [
              "<Figure size 720x720 with 1 Axes>"
            ]
          },
          "metadata": {
            "tags": [],
            "needs_background": "light"
          }
        }
      ]
    },
    {
      "cell_type": "markdown",
      "metadata": {
        "id": "QISPKRRSefd0",
        "colab_type": "text"
      },
      "source": [
        "The plot above shows that the proportion of women that work increases as education level increases. Furthermore, within each education level, the proportion of women that do not work is relativley half or less than half of the proportion of women that are working."
      ]
    },
    {
      "cell_type": "code",
      "metadata": {
        "id": "VznMtLkgpcat",
        "colab_type": "code",
        "outputId": "0e7485e9-f12a-412f-bae2-9ec89fdb0c49",
        "colab": {
          "base_uri": "https://localhost:8080/",
          "height": 606
        }
      },
      "source": [
        "bc_religion = birth_control.groupby(['contraceptive','wife_work']).agg(len).reset_index().iloc[:,0:3].rename(columns={'wife_age':'Number of Women'})\n",
        "plt.figure(figsize=(10,10))\n",
        "fig = sns.barplot(x = 'contraceptive', y = 'Number of Women', hue = 'wife_work', data = bc_religion)"
      ],
      "execution_count": 264,
      "outputs": [
        {
          "output_type": "display_data",
          "data": {
            "image/png": "[encoded data removed]",
            "text/plain": [
              "<Figure size 720x720 with 1 Axes>"
            ]
          },
          "metadata": {
            "tags": [],
            "needs_background": "light"
          }
        }
      ]
    },
    {
      "cell_type": "markdown",
      "metadata": {
        "id": "p0UQr6emPHP_",
        "colab_type": "text"
      },
      "source": [
        "### **Method 1:Cross Validation**"
      ]
    },
    {
      "cell_type": "markdown",
      "metadata": {
        "id": "d3yDPWZ_TBnI",
        "colab_type": "text"
      },
      "source": [
        "## Features"
      ]
    },
    {
      "cell_type": "markdown",
      "metadata": {
        "id": "2asLp4v1P8Jq",
        "colab_type": "text"
      },
      "source": [
        "We will perfrom cross validation to see what model will be the best without overfitting or underfitting."
      ]
    },
    {
      "cell_type": "code",
      "metadata": {
        "id": "1SrweR9uUxCp",
        "colab_type": "code",
        "colab": {}
      },
      "source": [
        "#Standardizing Numerical Variables\n",
        "def standardize(data):\n",
        "  return ((data - np.mean(data))/np.std(data)).values"
      ],
      "execution_count": 0,
      "outputs": []
    },
    {
      "cell_type": "markdown",
      "metadata": {
        "id": "5MiUlhdaU1rq",
        "colab_type": "text"
      },
      "source": [
        "First we will one hot encode contraceptive and husband_occupation so we can include it as a features.\n"
      ]
    },
    {
      "cell_type": "code",
      "metadata": {
        "id": "yRvTB_4FTWWo",
        "colab_type": "code",
        "colab": {}
      },
      "source": [
        "#One-hot-encoding type of contraceptive\n",
        "\n",
        "def contraceptive(data='train'): \n",
        "  if (data=='test'):\n",
        "    wife_ohe = pd.get_dummies(test['contraceptive'])\n",
        "  elif (data=='val'):\n",
        "    wife_ohe = pd.get_dummies(val['contraceptive'])\n",
        "  else:\n",
        "    wife_ohe = pd.get_dummies(train['contraceptive'])\n",
        "  wife_ohe = wife_ohe.rename(columns={1: 'None', 2: 'Long Term', 3: 'Short Term'})\n",
        "  return wife_ohe"
      ],
      "execution_count": 0,
      "outputs": []
    },
    {
      "cell_type": "code",
      "metadata": {
        "id": "75Tc2nCpWE7t",
        "colab_type": "code",
        "colab": {}
      },
      "source": [
        "#One-hot-encoding husband occupation\n",
        "def husband_occupation(data='train'): \n",
        "  if (data=='test'):\n",
        "    husb_ohe = pd.get_dummies(test['husband_occupation'])\n",
        "  elif (data=='val'):\n",
        "    husb_ohe = pd.get_dummies(val['husband_occupation'])\n",
        "  else:\n",
        "    husb_ohe = pd.get_dummies(train['husband_occupation'])\n",
        "  \n",
        "  return husb_ohe\n",
        "\n"
      ],
      "execution_count": 0,
      "outputs": []
    },
    {
      "cell_type": "code",
      "metadata": {
        "id": "uRthVUKiVUPt",
        "colab_type": "code",
        "colab": {}
      },
      "source": [
        "#Creates dataframe with columns passed to it\n",
        "def create_df(num_cols=[],ohe_cols=[], data = 'train'):\n",
        "  if (data=='test'):\n",
        "    df = test\n",
        "  else:\n",
        "    df = train\n",
        "  original = df.copy() \n",
        "  original = original[num_cols]\n",
        "  if 'wife_age' in num_cols:\n",
        "    original['wife_age'] = standardize(original['wife_age'])\n",
        "  if 'num_child' in num_cols:\n",
        "    original['num_child'] = standardize(original['num_child'])\n",
        "  if 'wife_edu' in ohe_cols:\n",
        "    original = pd.concat([original, wife_edu(data)], axis=1)\n",
        "  if 'husband_edu' in ohe_cols:\n",
        "    original = pd.concat([original, husband_edu(data)], axis=1)\n",
        "  if 'contraceptive' in ohe_cols:\n",
        "    original = pd.concat([original, contraceptive(data)], axis=1)\n",
        "  if 'living_standard' in ohe_cols:\n",
        "    original = pd.concat([original, living_standard(data)], axis=1)\n",
        "  if 'husband_occupation' in ohe_cols:\n",
        "    original = pd.concat([original, husband_occupation(data)], axis=1)\n",
        "  original.fillna(0) \n",
        "   \n",
        "  \n",
        "  return original.fillna(0)"
      ],
      "execution_count": 0,
      "outputs": []
    },
    {
      "cell_type": "code",
      "metadata": {
        "id": "waMMaGbIaRaP",
        "colab_type": "code",
        "colab": {}
      },
      "source": [
        "chi_features = []\n",
        "#features: wife_age\n",
        "work1 = create_df(['wife_age'])\n",
        "#features: num_child\n",
        "work2 = create_df(['num_child'])\n",
        "#featuers: num_child, wife_age\n",
        "work3 = create_df(['num_child','wife_age'])\n",
        "#features: wife_edu, contraceptive, living_standard\n",
        "work4 = create_df([],['wife_edu','contraceptive','living_standard'])\n",
        "#features: num_child, wife_edu, contraceptive\n",
        "work5 = create_df(['num_child'],['wife_edu','contraceptive'])\n",
        "#featuers: num_child, wife_age, wife_edu, contraceptive, living_standard\n",
        "work6 = create_df(['num_child','wife_age'],['wife_edu','contraceptive','living_standard'])\n",
        "#features: num_child, wife_age, wife_edu, contraceptive, living_standard, husband_occupation, husband_education\n",
        "work7 = create_df(['num_child','wife_age'],['wife_edu','contraceptive','living_standard','husband_occupation','husband_education'])\n",
        "\n",
        "\n",
        "chi_features = [work1,work2,work3,work4,work5,work6,work7]"
      ],
      "execution_count": 0,
      "outputs": []
    },
    {
      "cell_type": "code",
      "metadata": {
        "id": "zU11AttBPKwN",
        "colab_type": "code",
        "colab": {}
      },
      "source": [
        "#import sklearn\n",
        "from sklearn.model_selection import cross_val_score\n",
        "from sklearn.metrics import accuracy_score, make_scorer"
      ],
      "execution_count": 0,
      "outputs": []
    },
    {
      "cell_type": "code",
      "metadata": {
        "id": "2XK-GZRnP7QF",
        "colab_type": "code",
        "colab": {}
      },
      "source": [
        "lr_model = LogisticRegression(penalty='l2', max_iter=1000)"
      ],
      "execution_count": 0,
      "outputs": []
    },
    {
      "cell_type": "code",
      "metadata": {
        "id": "C7XQyTWXP7f8",
        "colab_type": "code",
        "outputId": "c8617a9c-87cf-4275-8cc5-c408b7aadc5b",
        "colab": {
          "base_uri": "https://localhost:8080/",
          "height": 156
        }
      },
      "source": [
        "Y_train_work = train['wife_work']\n",
        "vals = []\n",
        "for i in chi_features:\n",
        "  cross_val = cross_val_score(lr_model,i,Y_train_work, scoring = make_scorer(accuracy_score),cv = 5)\n",
        "  vals = np.append(vals,np.mean(cross_val))\n",
        "print('Features Used: wife_age; Accuracy:',vals[0])\n",
        "print('Features Used: num_child; Accuracy:',vals[1])\n",
        "print('Features Used: num_child, wife_age; Accuracy:',vals[2])\n",
        "print('Features Used: wife_edu, contraceptive, living_standard; Accuracy:',vals[3])\n",
        "print('Features Used: num_child, wife_edu, contraceptive; Accuracy:',vals[4])\n",
        "print('Features Used: num_child, wife_age, wife_edu, contraceptive, living_standard; Accuracy:',vals[5])\n",
        "print('Features Used: num_child, wife_age, wife_edu, contraceptive, living_standard, huband_edu, husband_occupation; Accuracy:',vals[6])"
      ],
      "execution_count": 272,
      "outputs": [
        {
          "output_type": "stream",
          "text": [
            "Features Used: wife_age; Accuracy: 0.7471698113207547\n",
            "Features Used: num_child; Accuracy: 0.7471698113207547\n",
            "Features Used: num_child, wife_age; Accuracy: 0.7471698113207547\n",
            "Features Used: wife_edu, contraceptive, living_standard; Accuracy: 0.7471698113207547\n",
            "Features Used: num_child, wife_edu, contraceptive; Accuracy: 0.7471698113207547\n",
            "Features Used: num_child, wife_age, wife_edu, contraceptive, living_standard; Accuracy: 0.7464150943396226\n",
            "Features Used: num_child, wife_age, wife_edu, contraceptive, living_standard, huband_edu, husband_occupation; Accuracy: 0.7464150943396226\n"
          ],
          "name": "stdout"
        }
      ]
    },
    {
      "cell_type": "markdown",
      "metadata": {
        "id": "n8wMmx_dmUTY",
        "colab_type": "text"
      },
      "source": [
        "As you can, all the models have the same accuracy, which may mean that the features are co-related with one another and that they are not that good predictors of a wife's working status. "
      ]
    },
    {
      "cell_type": "markdown",
      "metadata": {
        "id": "2RR0Wyt5LQZh",
        "colab_type": "text"
      },
      "source": [
        "### Logistic Regression with Chosen Model"
      ]
    },
    {
      "cell_type": "markdown",
      "metadata": {
        "id": "NHNqnHDgLepn",
        "colab_type": "text"
      },
      "source": [
        "Before creating the model, we will calculate the probability that the wife is working from the entire dataset we were given."
      ]
    },
    {
      "cell_type": "code",
      "metadata": {
        "id": "5mQjUp6OLdcM",
        "colab_type": "code",
        "outputId": "6b223726-7b2f-4d8c-da5f-12ffc4d89c6b",
        "colab": {
          "base_uri": "https://localhost:8080/",
          "height": 34
        }
      },
      "source": [
        "pr_working = np.mean(birth_control['wife_work'])\n",
        "print(\"Proability of wife working:\", pr_working)"
      ],
      "execution_count": 273,
      "outputs": [
        {
          "output_type": "stream",
          "text": [
            "Proability of wife working: 0.7494908350305499\n"
          ],
          "name": "stdout"
        }
      ]
    },
    {
      "cell_type": "code",
      "metadata": {
        "id": "TNBR1IxgwV2N",
        "colab_type": "code",
        "outputId": "d66ea856-b24b-4d83-ddc8-dbb89ba6d288",
        "colab": {
          "base_uri": "https://localhost:8080/",
          "height": 102
        }
      },
      "source": [
        "lr_model = LogisticRegression(penalty='l2', max_iter=1000)\n",
        "lr_model.fit(work5, Y_train_work)"
      ],
      "execution_count": 274,
      "outputs": [
        {
          "output_type": "execute_result",
          "data": {
            "text/plain": [
              "LogisticRegression(C=1.0, class_weight=None, dual=False, fit_intercept=True,\n",
              "                   intercept_scaling=1, l1_ratio=None, max_iter=1000,\n",
              "                   multi_class='auto', n_jobs=None, penalty='l2',\n",
              "                   random_state=None, solver='lbfgs', tol=0.0001, verbose=0,\n",
              "                   warm_start=False)"
            ]
          },
          "metadata": {
            "tags": []
          },
          "execution_count": 274
        }
      ]
    },
    {
      "cell_type": "code",
      "metadata": {
        "id": "v19mydysyE2w",
        "colab_type": "code",
        "outputId": "56f70a47-c6be-4a73-fbba-587207254813",
        "colab": {
          "base_uri": "https://localhost:8080/",
          "height": 34
        }
      },
      "source": [
        "training_accuracy = (lr_model.predict(work5) == Y_train_work).mean()\n",
        "print(\"Training Accuracy:\", training_accuracy)"
      ],
      "execution_count": 275,
      "outputs": [
        {
          "output_type": "stream",
          "text": [
            "Training Accuracy: 0.7471698113207547\n"
          ],
          "name": "stdout"
        }
      ]
    },
    {
      "cell_type": "code",
      "metadata": {
        "id": "CgybL23GthEq",
        "colab_type": "code",
        "outputId": "05a60e36-37e8-4302-b12a-fedd1f1c4f35",
        "colab": {
          "base_uri": "https://localhost:8080/",
          "height": 34
        }
      },
      "source": [
        "test_transformed = create_df(['num_child'],['wife_edu','contraceptive'],'test')\n",
        "test_accuracy = (lr_model.predict(test_transformed) == test['wife_work']).mean()\n",
        "print('Test Accuracy:', test_accuracy)"
      ],
      "execution_count": 276,
      "outputs": [
        {
          "output_type": "stream",
          "text": [
            "Test Accuracy: 0.7702702702702703\n"
          ],
          "name": "stdout"
        }
      ]
    },
    {
      "cell_type": "markdown",
      "metadata": {
        "id": "CzS8dggRrHuQ",
        "colab_type": "text"
      },
      "source": [
        "### Precision and Recall"
      ]
    },
    {
      "cell_type": "code",
      "metadata": {
        "id": "MUOszwXxrQQ5",
        "colab_type": "code",
        "colab": {}
      },
      "source": [
        "Y_hat = lr_model.predict(work5)\n",
        "Y = test['wife_work']\n",
        "\n",
        "tp = (Y_train_hat == 1) & (Y_train == 1)\n",
        "tn = (Y_train_hat != 1) & (Y_train != 1)\n",
        "fp = (Y_train_hat == 1) & (Y_train != 1)\n",
        "fn = (Y_train_hat != 1) & (Y_train == 1)\n",
        "\n",
        "logistic_predictor_precision = np.sum(tp) / (np.sum(tp) + np.sum(fp))\n",
        "logistic_predictor_recall = np.sum(tp) / (np.sum(tp) + np.sum(fn))\n",
        "#logistic_predictor_far_3 = np.sum(fp3)/(np.sum(fp3)+ np.sum(tn3))"
      ],
      "execution_count": 0,
      "outputs": []
    },
    {
      "cell_type": "code",
      "metadata": {
        "id": "fTDEcTQnr4-j",
        "colab_type": "code",
        "outputId": "f73fd056-8a01-4cfe-9f65-dc14bf2a1a76",
        "colab": {
          "base_uri": "https://localhost:8080/",
          "height": 51
        }
      },
      "source": [
        "print('Precision:',logistic_predictor_precision)\n",
        "print('Recall:',logistic_predictor_recall)"
      ],
      "execution_count": 278,
      "outputs": [
        {
          "output_type": "stream",
          "text": [
            "Precision: 0.40863787375415284\n",
            "Recall: 0.4392857142857143\n"
          ],
          "name": "stdout"
        }
      ]
    },
    {
      "cell_type": "markdown",
      "metadata": {
        "id": "soBpTzSy4nF-",
        "colab_type": "text"
      },
      "source": [
        "### **Method 2: Logistic Regression with Probability**"
      ]
    },
    {
      "cell_type": "code",
      "metadata": {
        "id": "g8KS-fTAyOp2",
        "colab_type": "code",
        "colab": {}
      },
      "source": [
        "probs = lr_model.predict_proba(work5)"
      ],
      "execution_count": 0,
      "outputs": []
    },
    {
      "cell_type": "code",
      "metadata": {
        "id": "n3AeuTaU3DVl",
        "colab_type": "code",
        "colab": {}
      },
      "source": [
        " def threshold_predict(model, X, threshold): \n",
        "    return np.where(lr_model.predict_proba(X)[:,1] > threshold, 1.0, 0.0)"
      ],
      "execution_count": 0,
      "outputs": []
    },
    {
      "cell_type": "code",
      "metadata": {
        "id": "V6wrAYDZ3G2C",
        "colab_type": "code",
        "colab": {}
      },
      "source": [
        "def accuracy(threshold, X, Y):\n",
        "    return np.mean(threshold_predict(lr_model, X, threshold) == Y)"
      ],
      "execution_count": 0,
      "outputs": []
    },
    {
      "cell_type": "code",
      "metadata": {
        "id": "9j5cHVuK3Lkj",
        "colab_type": "code",
        "colab": {}
      },
      "source": [
        "thresholds = np.linspace(0, 1, 100)\n",
        "X = work5.to_numpy()\n",
        "Y = Y_train_work.to_numpy()\n",
        "accs = [accuracy(t, X, Y) for t in thresholds]"
      ],
      "execution_count": 0,
      "outputs": []
    },
    {
      "cell_type": "code",
      "metadata": {
        "id": "jc70ZW7b4QID",
        "colab_type": "code",
        "colab": {}
      },
      "source": [
        "def make_scorer(threshold, metric):\n",
        "    return lambda model, x, y: metric(y, threshold_predict(model, x, threshold)) "
      ],
      "execution_count": 0,
      "outputs": []
    },
    {
      "cell_type": "code",
      "metadata": {
        "id": "KIE0UTIS4RSr",
        "colab_type": "code",
        "colab": {}
      },
      "source": [
        "cv_accs = [\n",
        "    np.mean(cross_val_score(lr_model, work5, Y_train_work, \n",
        "                            scoring=make_scorer(t, accuracy_score), \n",
        "                            cv=5))\n",
        "    for t in thresholds\n",
        "]"
      ],
      "execution_count": 0,
      "outputs": []
    },
    {
      "cell_type": "code",
      "metadata": {
        "id": "uU9m8eov4ZAq",
        "colab_type": "code",
        "outputId": "3124379a-3e17-4512-fabc-7d1a2cf83f18",
        "colab": {
          "base_uri": "https://localhost:8080/",
          "height": 542
        }
      },
      "source": [
        "import plotly.express as px\n",
        "\n",
        "fig = px.line(x=thresholds, y=cv_accs)\n",
        "fig.update_xaxes(title=\"threshold\")\n",
        "fig.update_yaxes(title=\"Accuracy\")"
      ],
      "execution_count": 285,
      "outputs": [
        {
          "output_type": "display_data",
          "data": {
            "text/html": [
              "<html>\n",
              "<head><meta charset=\"utf-8\" /></head>\n",
              "<body>\n",
              "    <div>\n",
              "            <script src=\"https://cdnjs.cloudflare.com/ajax/libs/mathjax/2.7.5/MathJax.js?config=TeX-AMS-MML_SVG\"></script><script type=\"text/javascript\">if (window.MathJax) {MathJax.Hub.Config({SVG: {font: \"STIX-Web\"}});}</script>\n",
              "                <script type=\"text/javascript\">window.PlotlyConfig = {MathJaxConfig: 'local'};</script>\n",
              "        <script src=\"https://cdn.plot.ly/plotly-latest.min.js\"></script>    \n",
              "            <div id=\"070bcdde-bd77-4026-9df7-3297134b234b\" class=\"plotly-graph-div\" style=\"height:525px; width:100%;\"></div>\n",
              "            <script type=\"text/javascript\">\n",
              "                \n",
              "                    window.PLOTLYENV=window.PLOTLYENV || {};\n",
              "                    \n",
              "                if (document.getElementById(\"070bcdde-bd77-4026-9df7-3297134b234b\")) {\n",
              "                    Plotly.newPlot(\n",
              "                        '070bcdde-bd77-4026-9df7-3297134b234b',\n",
              "                        [{\"hoverlabel\": {\"namelength\": 0}, \"hovertemplate\": \"x=%{x}<br>y=%{y}\", \"legendgroup\": \"\", \"line\": {\"color\": \"#636efa\", \"dash\": \"solid\"}, \"mode\": \"lines\", \"name\": \"\", \"showlegend\": false, \"type\": \"scatter\", \"x\": [0.0, 0.010101010101010102, 0.020202020202020204, 0.030303030303030304, 0.04040404040404041, 0.05050505050505051, 0.06060606060606061, 0.07070707070707072, 0.08080808080808081, 0.09090909090909091, 0.10101010101010102, 0.11111111111111112, 0.12121212121212122, 0.13131313131313133, 0.14141414141414144, 0.15151515151515152, 0.16161616161616163, 0.17171717171717174, 0.18181818181818182, 0.19191919191919193, 0.20202020202020204, 0.21212121212121213, 0.22222222222222224, 0.23232323232323235, 0.24242424242424243, 0.25252525252525254, 0.26262626262626265, 0.27272727272727276, 0.2828282828282829, 0.29292929292929293, 0.30303030303030304, 0.31313131313131315, 0.32323232323232326, 0.33333333333333337, 0.3434343434343435, 0.3535353535353536, 0.36363636363636365, 0.37373737373737376, 0.38383838383838387, 0.393939393939394, 0.4040404040404041, 0.4141414141414142, 0.42424242424242425, 0.43434343434343436, 0.4444444444444445, 0.4545454545454546, 0.4646464646464647, 0.4747474747474748, 0.48484848484848486, 0.494949494949495, 0.5050505050505051, 0.5151515151515152, 0.5252525252525253, 0.5353535353535354, 0.5454545454545455, 0.5555555555555556, 0.5656565656565657, 0.5757575757575758, 0.5858585858585859, 0.595959595959596, 0.6060606060606061, 0.6161616161616162, 0.6262626262626263, 0.6363636363636365, 0.6464646464646465, 0.6565656565656566, 0.6666666666666667, 0.6767676767676768, 0.686868686868687, 0.696969696969697, 0.7070707070707072, 0.7171717171717172, 0.7272727272727273, 0.7373737373737375, 0.7474747474747475, 0.7575757575757577, 0.7676767676767677, 0.7777777777777778, 0.787878787878788, 0.797979797979798, 0.8080808080808082, 0.8181818181818182, 0.8282828282828284, 0.8383838383838385, 0.8484848484848485, 0.8585858585858587, 0.8686868686868687, 0.8787878787878789, 0.888888888888889, 0.8989898989898991, 0.9090909090909092, 0.9191919191919192, 0.9292929292929294, 0.9393939393939394, 0.9494949494949496, 0.9595959595959597, 0.9696969696969697, 0.9797979797979799, 0.98989898989899, 1.0], \"xaxis\": \"x\", \"y\": [0.7471698113207547, 0.7471698113207547, 0.7471698113207547, 0.7471698113207547, 0.7471698113207547, 0.7471698113207547, 0.7471698113207547, 0.7471698113207547, 0.7471698113207547, 0.7471698113207547, 0.7471698113207547, 0.7471698113207547, 0.7471698113207547, 0.7471698113207547, 0.7471698113207547, 0.7471698113207547, 0.7471698113207547, 0.7471698113207547, 0.7471698113207547, 0.7471698113207547, 0.7471698113207547, 0.7471698113207547, 0.7471698113207547, 0.7471698113207547, 0.7471698113207547, 0.7471698113207547, 0.7471698113207547, 0.7471698113207547, 0.7471698113207547, 0.7471698113207547, 0.7471698113207547, 0.7471698113207547, 0.7471698113207547, 0.7471698113207547, 0.7471698113207547, 0.7471698113207547, 0.7471698113207547, 0.7471698113207547, 0.7471698113207547, 0.7471698113207547, 0.7471698113207547, 0.7471698113207547, 0.7471698113207547, 0.7471698113207547, 0.7471698113207547, 0.7471698113207547, 0.7471698113207547, 0.7471698113207547, 0.7471698113207547, 0.7471698113207547, 0.7471698113207547, 0.7471698113207547, 0.7471698113207547, 0.7471698113207547, 0.7471698113207547, 0.7471698113207547, 0.7471698113207547, 0.7471698113207547, 0.7471698113207547, 0.7471698113207547, 0.7471698113207547, 0.7471698113207547, 0.7471698113207547, 0.7516981132075472, 0.7516981132075472, 0.7320754716981132, 0.7320754716981132, 0.7222641509433962, 0.7169811320754716, 0.6928301886792452, 0.680754716981132, 0.6392452830188678, 0.6075471698113207, 0.5592452830188679, 0.5539622641509434, 0.5124528301886793, 0.4943396226415094, 0.44000000000000006, 0.4218867924528301, 0.37886792452830187, 0.33886792452830183, 0.32075471698113206, 0.2958490566037736, 0.27999999999999997, 0.270188679245283, 0.2641509433962264, 0.2596226415094339, 0.2573584905660377, 0.2550943396226415, 0.25358490566037734, 0.25358490566037734, 0.2528301886792453, 0.2528301886792453, 0.2528301886792453, 0.2528301886792453, 0.2528301886792453, 0.2528301886792453, 0.2528301886792453, 0.2528301886792453, 0.2528301886792453], \"yaxis\": \"y\"}],\n",
              "                        {\"legend\": {\"tracegroupgap\": 0}, \"margin\": {\"t\": 60}, \"template\": {\"data\": {\"bar\": [{\"error_x\": {\"color\": \"#2a3f5f\"}, \"error_y\": {\"color\": \"#2a3f5f\"}, \"marker\": {\"line\": {\"color\": \"#E5ECF6\", \"width\": 0.5}}, \"type\": \"bar\"}], \"barpolar\": [{\"marker\": {\"line\": {\"color\": \"#E5ECF6\", \"width\": 0.5}}, \"type\": \"barpolar\"}], \"carpet\": [{\"aaxis\": {\"endlinecolor\": \"#2a3f5f\", \"gridcolor\": \"white\", \"linecolor\": \"white\", \"minorgridcolor\": \"white\", \"startlinecolor\": \"#2a3f5f\"}, \"baxis\": {\"endlinecolor\": \"#2a3f5f\", \"gridcolor\": \"white\", \"linecolor\": \"white\", \"minorgridcolor\": \"white\", \"startlinecolor\": \"#2a3f5f\"}, \"type\": \"carpet\"}], \"choropleth\": [{\"colorbar\": {\"outlinewidth\": 0, \"ticks\": \"\"}, \"type\": \"choropleth\"}], \"contour\": [{\"colorbar\": {\"outlinewidth\": 0, \"ticks\": \"\"}, \"colorscale\": [[0.0, \"#0d0887\"], [0.1111111111111111, \"#46039f\"], [0.2222222222222222, \"#7201a8\"], [0.3333333333333333, \"#9c179e\"], [0.4444444444444444, \"#bd3786\"], [0.5555555555555556, \"#d8576b\"], [0.6666666666666666, \"#ed7953\"], [0.7777777777777778, \"#fb9f3a\"], [0.8888888888888888, \"#fdca26\"], [1.0, \"#f0f921\"]], \"type\": \"contour\"}], \"contourcarpet\": [{\"colorbar\": {\"outlinewidth\": 0, \"ticks\": \"\"}, \"type\": \"contourcarpet\"}], \"heatmap\": [{\"colorbar\": {\"outlinewidth\": 0, \"ticks\": \"\"}, \"colorscale\": [[0.0, \"#0d0887\"], [0.1111111111111111, \"#46039f\"], [0.2222222222222222, \"#7201a8\"], [0.3333333333333333, \"#9c179e\"], [0.4444444444444444, \"#bd3786\"], [0.5555555555555556, \"#d8576b\"], [0.6666666666666666, \"#ed7953\"], [0.7777777777777778, \"#fb9f3a\"], [0.8888888888888888, \"#fdca26\"], [1.0, \"#f0f921\"]], \"type\": \"heatmap\"}], \"heatmapgl\": [{\"colorbar\": {\"outlinewidth\": 0, \"ticks\": \"\"}, \"colorscale\": [[0.0, \"#0d0887\"], [0.1111111111111111, \"#46039f\"], [0.2222222222222222, \"#7201a8\"], [0.3333333333333333, \"#9c179e\"], [0.4444444444444444, \"#bd3786\"], [0.5555555555555556, \"#d8576b\"], [0.6666666666666666, \"#ed7953\"], [0.7777777777777778, \"#fb9f3a\"], [0.8888888888888888, \"#fdca26\"], [1.0, \"#f0f921\"]], \"type\": \"heatmapgl\"}], \"histogram\": [{\"marker\": {\"colorbar\": {\"outlinewidth\": 0, \"ticks\": \"\"}}, \"type\": \"histogram\"}], \"histogram2d\": [{\"colorbar\": {\"outlinewidth\": 0, \"ticks\": \"\"}, \"colorscale\": [[0.0, \"#0d0887\"], [0.1111111111111111, \"#46039f\"], [0.2222222222222222, \"#7201a8\"], [0.3333333333333333, \"#9c179e\"], [0.4444444444444444, \"#bd3786\"], [0.5555555555555556, \"#d8576b\"], [0.6666666666666666, \"#ed7953\"], [0.7777777777777778, \"#fb9f3a\"], [0.8888888888888888, \"#fdca26\"], [1.0, \"#f0f921\"]], \"type\": \"histogram2d\"}], \"histogram2dcontour\": [{\"colorbar\": {\"outlinewidth\": 0, \"ticks\": \"\"}, \"colorscale\": [[0.0, \"#0d0887\"], [0.1111111111111111, \"#46039f\"], [0.2222222222222222, \"#7201a8\"], [0.3333333333333333, \"#9c179e\"], [0.4444444444444444, \"#bd3786\"], [0.5555555555555556, \"#d8576b\"], [0.6666666666666666, \"#ed7953\"], [0.7777777777777778, \"#fb9f3a\"], [0.8888888888888888, \"#fdca26\"], [1.0, \"#f0f921\"]], \"type\": \"histogram2dcontour\"}], \"mesh3d\": [{\"colorbar\": {\"outlinewidth\": 0, \"ticks\": \"\"}, \"type\": \"mesh3d\"}], \"parcoords\": [{\"line\": {\"colorbar\": {\"outlinewidth\": 0, \"ticks\": \"\"}}, \"type\": \"parcoords\"}], \"pie\": [{\"automargin\": true, \"type\": \"pie\"}], \"scatter\": [{\"marker\": {\"colorbar\": {\"outlinewidth\": 0, \"ticks\": \"\"}}, \"type\": \"scatter\"}], \"scatter3d\": [{\"line\": {\"colorbar\": {\"outlinewidth\": 0, \"ticks\": \"\"}}, \"marker\": {\"colorbar\": {\"outlinewidth\": 0, \"ticks\": \"\"}}, \"type\": \"scatter3d\"}], \"scattercarpet\": [{\"marker\": {\"colorbar\": {\"outlinewidth\": 0, \"ticks\": \"\"}}, \"type\": \"scattercarpet\"}], \"scattergeo\": [{\"marker\": {\"colorbar\": {\"outlinewidth\": 0, \"ticks\": \"\"}}, \"type\": \"scattergeo\"}], \"scattergl\": [{\"marker\": {\"colorbar\": {\"outlinewidth\": 0, \"ticks\": \"\"}}, \"type\": \"scattergl\"}], \"scattermapbox\": [{\"marker\": {\"colorbar\": {\"outlinewidth\": 0, \"ticks\": \"\"}}, \"type\": \"scattermapbox\"}], \"scatterpolar\": [{\"marker\": {\"colorbar\": {\"outlinewidth\": 0, \"ticks\": \"\"}}, \"type\": \"scatterpolar\"}], \"scatterpolargl\": [{\"marker\": {\"colorbar\": {\"outlinewidth\": 0, \"ticks\": \"\"}}, \"type\": \"scatterpolargl\"}], \"scatterternary\": [{\"marker\": {\"colorbar\": {\"outlinewidth\": 0, \"ticks\": \"\"}}, \"type\": \"scatterternary\"}], \"surface\": [{\"colorbar\": {\"outlinewidth\": 0, \"ticks\": \"\"}, \"colorscale\": [[0.0, \"#0d0887\"], [0.1111111111111111, \"#46039f\"], [0.2222222222222222, \"#7201a8\"], [0.3333333333333333, \"#9c179e\"], [0.4444444444444444, \"#bd3786\"], [0.5555555555555556, \"#d8576b\"], [0.6666666666666666, \"#ed7953\"], [0.7777777777777778, \"#fb9f3a\"], [0.8888888888888888, \"#fdca26\"], [1.0, \"#f0f921\"]], \"type\": \"surface\"}], \"table\": [{\"cells\": {\"fill\": {\"color\": \"#EBF0F8\"}, \"line\": {\"color\": \"white\"}}, \"header\": {\"fill\": {\"color\": \"#C8D4E3\"}, \"line\": {\"color\": \"white\"}}, \"type\": \"table\"}]}, \"layout\": {\"annotationdefaults\": {\"arrowcolor\": \"#2a3f5f\", \"arrowhead\": 0, \"arrowwidth\": 1}, \"coloraxis\": {\"colorbar\": {\"outlinewidth\": 0, \"ticks\": \"\"}}, \"colorscale\": {\"diverging\": [[0, \"#8e0152\"], [0.1, \"#c51b7d\"], [0.2, \"#de77ae\"], [0.3, \"#f1b6da\"], [0.4, \"#fde0ef\"], [0.5, \"#f7f7f7\"], [0.6, \"#e6f5d0\"], [0.7, \"#b8e186\"], [0.8, \"#7fbc41\"], [0.9, \"#4d9221\"], [1, \"#276419\"]], \"sequential\": [[0.0, \"#0d0887\"], [0.1111111111111111, \"#46039f\"], [0.2222222222222222, \"#7201a8\"], [0.3333333333333333, \"#9c179e\"], [0.4444444444444444, \"#bd3786\"], [0.5555555555555556, \"#d8576b\"], [0.6666666666666666, \"#ed7953\"], [0.7777777777777778, \"#fb9f3a\"], [0.8888888888888888, \"#fdca26\"], [1.0, \"#f0f921\"]], \"sequentialminus\": [[0.0, \"#0d0887\"], [0.1111111111111111, \"#46039f\"], [0.2222222222222222, \"#7201a8\"], [0.3333333333333333, \"#9c179e\"], [0.4444444444444444, \"#bd3786\"], [0.5555555555555556, \"#d8576b\"], [0.6666666666666666, \"#ed7953\"], [0.7777777777777778, \"#fb9f3a\"], [0.8888888888888888, \"#fdca26\"], [1.0, \"#f0f921\"]]}, \"colorway\": [\"#636efa\", \"#EF553B\", \"#00cc96\", \"#ab63fa\", \"#FFA15A\", \"#19d3f3\", \"#FF6692\", \"#B6E880\", \"#FF97FF\", \"#FECB52\"], \"font\": {\"color\": \"#2a3f5f\"}, \"geo\": {\"bgcolor\": \"white\", \"lakecolor\": \"white\", \"landcolor\": \"#E5ECF6\", \"showlakes\": true, \"showland\": true, \"subunitcolor\": \"white\"}, \"hoverlabel\": {\"align\": \"left\"}, \"hovermode\": \"closest\", \"mapbox\": {\"style\": \"light\"}, \"paper_bgcolor\": \"white\", \"plot_bgcolor\": \"#E5ECF6\", \"polar\": {\"angularaxis\": {\"gridcolor\": \"white\", \"linecolor\": \"white\", \"ticks\": \"\"}, \"bgcolor\": \"#E5ECF6\", \"radialaxis\": {\"gridcolor\": \"white\", \"linecolor\": \"white\", \"ticks\": \"\"}}, \"scene\": {\"xaxis\": {\"backgroundcolor\": \"#E5ECF6\", \"gridcolor\": \"white\", \"gridwidth\": 2, \"linecolor\": \"white\", \"showbackground\": true, \"ticks\": \"\", \"zerolinecolor\": \"white\"}, \"yaxis\": {\"backgroundcolor\": \"#E5ECF6\", \"gridcolor\": \"white\", \"gridwidth\": 2, \"linecolor\": \"white\", \"showbackground\": true, \"ticks\": \"\", \"zerolinecolor\": \"white\"}, \"zaxis\": {\"backgroundcolor\": \"#E5ECF6\", \"gridcolor\": \"white\", \"gridwidth\": 2, \"linecolor\": \"white\", \"showbackground\": true, \"ticks\": \"\", \"zerolinecolor\": \"white\"}}, \"shapedefaults\": {\"line\": {\"color\": \"#2a3f5f\"}}, \"ternary\": {\"aaxis\": {\"gridcolor\": \"white\", \"linecolor\": \"white\", \"ticks\": \"\"}, \"baxis\": {\"gridcolor\": \"white\", \"linecolor\": \"white\", \"ticks\": \"\"}, \"bgcolor\": \"#E5ECF6\", \"caxis\": {\"gridcolor\": \"white\", \"linecolor\": \"white\", \"ticks\": \"\"}}, \"title\": {\"x\": 0.05}, \"xaxis\": {\"automargin\": true, \"gridcolor\": \"white\", \"linecolor\": \"white\", \"ticks\": \"\", \"title\": {\"standoff\": 15}, \"zerolinecolor\": \"white\", \"zerolinewidth\": 2}, \"yaxis\": {\"automargin\": true, \"gridcolor\": \"white\", \"linecolor\": \"white\", \"ticks\": \"\", \"title\": {\"standoff\": 15}, \"zerolinecolor\": \"white\", \"zerolinewidth\": 2}}}, \"xaxis\": {\"anchor\": \"y\", \"domain\": [0.0, 1.0], \"title\": {\"text\": \"threshold\"}}, \"yaxis\": {\"anchor\": \"x\", \"domain\": [0.0, 1.0], \"title\": {\"text\": \"Accuracy\"}}},\n",
              "                        {\"responsive\": true}\n",
              "                    ).then(function(){\n",
              "                            \n",
              "var gd = document.getElementById('070bcdde-bd77-4026-9df7-3297134b234b');\n",
              "var x = new MutationObserver(function (mutations, observer) {{\n",
              "        var display = window.getComputedStyle(gd).display;\n",
              "        if (!display || display === 'none') {{\n",
              "            console.log([gd, 'removed!']);\n",
              "            Plotly.purge(gd);\n",
              "            observer.disconnect();\n",
              "        }}\n",
              "}});\n",
              "\n",
              "// Listen for the removal of the full notebook cells\n",
              "var notebookContainer = gd.closest('#notebook-container');\n",
              "if (notebookContainer) {{\n",
              "    x.observe(notebookContainer, {childList: true});\n",
              "}}\n",
              "\n",
              "// Listen for the clearing of the current output cell\n",
              "var outputEl = gd.closest('.output');\n",
              "if (outputEl) {{\n",
              "    x.observe(outputEl, {childList: true});\n",
              "}}\n",
              "\n",
              "                        })\n",
              "                };\n",
              "                \n",
              "            </script>\n",
              "        </div>\n",
              "</body>\n",
              "</html>"
            ]
          },
          "metadata": {
            "tags": []
          }
        }
      ]
    },
    {
      "cell_type": "code",
      "metadata": {
        "id": "ue4yD_ip5BsE",
        "colab_type": "code",
        "outputId": "495e42b0-ff8a-4237-e1e8-7db15b65e361",
        "colab": {
          "base_uri": "https://localhost:8080/",
          "height": 34
        }
      },
      "source": [
        "prob_training_accuracy= (np.where(lr_model.predict_proba(work5)[:,1]> 0.676, 1.0, 0.0).astype(int) == Y_train_work).mean()\n",
        "print('Training Accuracy with adjusted Proability Threshold:', prob_training_accuracy)"
      ],
      "execution_count": 286,
      "outputs": [
        {
          "output_type": "stream",
          "text": [
            "Training Accuracy with adjusted Proability Threshold: 0.7222641509433962\n"
          ],
          "name": "stdout"
        }
      ]
    },
    {
      "cell_type": "code",
      "metadata": {
        "id": "X7XoJMi_7eO2",
        "colab_type": "code",
        "outputId": "43e5eb5e-52d3-4113-97db-ed0467320bfa",
        "colab": {
          "base_uri": "https://localhost:8080/",
          "height": 34
        }
      },
      "source": [
        "prob_test_accuracy = (np.where(lr_model.predict_proba(test_transformed)[:,1] > 0.676,1.0,0.0).astype(int) == test['wife_work']).mean()\n",
        "print('Test Accuracy with adjusted Probability Threshold:',prob_test_accuracy)"
      ],
      "execution_count": 287,
      "outputs": [
        {
          "output_type": "stream",
          "text": [
            "Test Accuracy with adjusted Probability Threshold: 0.7432432432432432\n"
          ],
          "name": "stdout"
        }
      ]
    },
    {
      "cell_type": "markdown",
      "metadata": {
        "id": "ZMQ90C4QSN_K",
        "colab_type": "text"
      },
      "source": [
        "### **Method 3: Lasso Regularization**"
      ]
    },
    {
      "cell_type": "code",
      "metadata": {
        "id": "awvpGgEIRf1V",
        "colab_type": "code",
        "outputId": "cc668257-8f6b-4c33-c5d0-1282c1143d12",
        "colab": {
          "base_uri": "https://localhost:8080/",
          "height": 34
        }
      },
      "source": [
        " model_lasso.fit(work5, Y_train_work)\n",
        "training_accuracy_lasso = (model_lasso.predict(work5) == Y_train_work).mean()\n",
        "print(\"Training Accuracy:\", training_accuracy_lasso)"
      ],
      "execution_count": 288,
      "outputs": [
        {
          "output_type": "stream",
          "text": [
            "Training Accuracy: 0.7471698113207547\n"
          ],
          "name": "stdout"
        }
      ]
    },
    {
      "cell_type": "code",
      "metadata": {
        "id": "RvcyxjxXbqPN",
        "colab_type": "code",
        "outputId": "9e67c666-7e83-4218-f49f-03f40597351e",
        "colab": {
          "base_uri": "https://localhost:8080/",
          "height": 34
        }
      },
      "source": [
        "test_accuracy_lasso = (model_lasso.predict(test_transformed) == test['wife_work']).mean()\n",
        "print('Test Accuracy:',test_accuracy_lasso)"
      ],
      "execution_count": 289,
      "outputs": [
        {
          "output_type": "stream",
          "text": [
            "Test Accuracy: 0.7702702702702703\n"
          ],
          "name": "stdout"
        }
      ]
    },
    {
      "cell_type": "markdown",
      "metadata": {
        "id": "e0SKmcNL94Op",
        "colab_type": "text"
      },
      "source": [
        "## **Clustering?**"
      ]
    },
    {
      "cell_type": "code",
      "metadata": {
        "id": "BxyBmPjj96yL",
        "colab_type": "code",
        "colab": {}
      },
      "source": [
        ""
      ],
      "execution_count": 0,
      "outputs": []
    },
    {
      "cell_type": "markdown",
      "metadata": {
        "id": "DeH1cKYw97bI",
        "colab_type": "text"
      },
      "source": [
        "## **Conclusion**"
      ]
    },
    {
      "cell_type": "code",
      "metadata": {
        "id": "b6FGz-BP-ANb",
        "colab_type": "code",
        "colab": {}
      },
      "source": [
        ""
      ],
      "execution_count": 0,
      "outputs": []
    }
  ]
}