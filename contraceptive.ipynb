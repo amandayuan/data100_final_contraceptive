{
  "nbformat": 4,
  "nbformat_minor": 0,
  "metadata": {
    "colab": {
      "name": "contraceptive.ipynb",
      "provenance": [],
      "collapsed_sections": [],
      "include_colab_link": true
    },
    "kernelspec": {
      "name": "python3",
      "display_name": "Python 3"
    }
  },
  "cells": [
    {
      "cell_type": "markdown",
      "metadata": {
        "id": "view-in-github",
        "colab_type": "text"
      },
      "source": [
        "<a href=\"https://colab.research.google.com/github/amandayuan/data100_final_contraceptive/blob/master/contraceptive.ipynb\" target=\"_parent\"><img src=\"https://colab.research.google.com/assets/colab-badge.svg\" alt=\"Open In Colab\"/></a>"
      ]
    },
    {
      "cell_type": "markdown",
      "metadata": {
        "id": "_oe3pDNcGG2A",
        "colab_type": "text"
      },
      "source": [
        "# **Data 100 Final Project: Contraceptive Analysis**"
      ]
    },
    {
      "cell_type": "markdown",
      "metadata": {
        "id": "Uf55eEbwHB2h",
        "colab_type": "text"
      },
      "source": [
        "For our final project, we are using contraceptive datasets to address the following questions: \n",
        "\n",
        "\n",
        "1. What is the relationship between contraceptive prevalence and contraceptive method, and socioeconomic status?\n",
        "2. Which demographic and socioeconomic characteristics best predict current contraceptive method choice? \n",
        "3. Which factors can be used to determine if a wife is still working after having children? \n",
        "\n",
        "\n"
      ]
    },
    {
      "cell_type": "markdown",
      "metadata": {
        "id": "Phdol4kulGji",
        "colab_type": "text"
      },
      "source": [
        "Amanda: Pulled student contraceptive dataset and two external datasets, answered question 1 and worked on cross-validation for question 2.\n",
        "\n",
        "Esha: Added to Q2 lasso / visualization /feature selection working on Q3\n",
        "\n",
        "Asha: Also working on number 3 - logistic regression and visulization, will try pca"
      ]
    },
    {
      "cell_type": "code",
      "metadata": {
        "id": "GvZRg2YiGlDQ",
        "colab_type": "code",
        "colab": {
          "base_uri": "https://localhost:8080/",
          "height": 71
        },
        "outputId": "f9b1f66d-a7e3-403c-e935-3037c82615b2"
      },
      "source": [
        "import numpy as np\n",
        "import pandas as pd\n",
        "\n",
        "import matplotlib\n",
        "import matplotlib.pyplot as plt\n",
        "import matplotlib.gridspec as gridspec\n",
        "from matplotlib.colors import ListedColormap\n",
        "\n",
        "import seaborn as sns"
      ],
      "execution_count": 1,
      "outputs": [
        {
          "output_type": "stream",
          "text": [
            "/usr/local/lib/python3.6/dist-packages/statsmodels/tools/_testing.py:19: FutureWarning: pandas.util.testing is deprecated. Use the functions in the public API at pandas.testing instead.\n",
            "  import pandas.util.testing as tm\n"
          ],
          "name": "stderr"
        }
      ]
    },
    {
      "cell_type": "code",
      "metadata": {
        "id": "PcvvWBaushHS",
        "colab_type": "code",
        "colab": {}
      },
      "source": [
        "from sklearn.linear_model import LinearRegression\n",
        "from sklearn.linear_model import LogisticRegression\n",
        "from sklearn.metrics import mean_squared_error\n",
        "from sklearn.metrics import mean_absolute_error\n",
        "from sklearn.model_selection import train_test_split\n",
        "from sklearn.preprocessing import PolynomialFeatures\n",
        "from sklearn.preprocessing import StandardScaler\n",
        "from sklearn.pipeline import Pipeline\n",
        "from sklearn import tree\n",
        "from sklearn import ensemble"
      ],
      "execution_count": 0,
      "outputs": []
    },
    {
      "cell_type": "code",
      "metadata": {
        "id": "hYGCz1agGywc",
        "colab_type": "code",
        "colab": {}
      },
      "source": [
        "#Given dataset \n",
        "birth_control = pd.read_csv('https://raw.githubusercontent.com/amandayuan/data100_final_contraceptive/master/data/contraceptive_for_students.csv')\n",
        "\n",
        "#Imported datasets from different sources\n",
        "country_original = pd.read_csv('https://raw.githubusercontent.com/amandayuan/data100_final_contraceptive/master/data/country_socioeconomic_status.csv')\n",
        "prevalence_original = pd.read_csv('https://raw.githubusercontent.com/amandayuan/data100_final_contraceptive/master/data/prevalence_by_year.csv')\n",
        "\n",
        "from sklearn.model_selection import train_test_split\n",
        "\n",
        "train, test = train_test_split(birth_control, test_size=0.1, random_state=42)"
      ],
      "execution_count": 0,
      "outputs": []
    },
    {
      "cell_type": "markdown",
      "metadata": {
        "id": "h1eJMmiOjttJ",
        "colab_type": "text"
      },
      "source": [
        "I found two separate datasets that could assist in answering our questions: \n",
        "\n",
        "\n",
        "*   country_original lists each country and its standard of living in the 'IncomeGroup' column\n",
        "*   prevalence_original lists the annual prevalence of contraception overall in each country between the years 1960 - 2019\n",
        "\n"
      ]
    },
    {
      "cell_type": "code",
      "metadata": {
        "id": "ZMg3Hz1dHAWM",
        "colab_type": "code",
        "outputId": "bf016e25-fdca-4490-dda9-86ed798ecda4",
        "colab": {
          "base_uri": "https://localhost:8080/",
          "height": 439
        }
      },
      "source": [
        "birth_control"
      ],
      "execution_count": 4,
      "outputs": [
        {
          "output_type": "execute_result",
          "data": {
            "text/html": [
              "<div>\n",
              "<style scoped>\n",
              "    .dataframe tbody tr th:only-of-type {\n",
              "        vertical-align: middle;\n",
              "    }\n",
              "\n",
              "    .dataframe tbody tr th {\n",
              "        vertical-align: top;\n",
              "    }\n",
              "\n",
              "    .dataframe thead th {\n",
              "        text-align: right;\n",
              "    }\n",
              "</style>\n",
              "<table border=\"1\" class=\"dataframe\">\n",
              "  <thead>\n",
              "    <tr style=\"text-align: right;\">\n",
              "      <th></th>\n",
              "      <th>wife_age</th>\n",
              "      <th>wife_education</th>\n",
              "      <th>husband_education</th>\n",
              "      <th>num_child</th>\n",
              "      <th>wife_religion</th>\n",
              "      <th>wife_work</th>\n",
              "      <th>husband_occupation</th>\n",
              "      <th>standard_living</th>\n",
              "      <th>media_exposure</th>\n",
              "      <th>contraceptive</th>\n",
              "    </tr>\n",
              "  </thead>\n",
              "  <tbody>\n",
              "    <tr>\n",
              "      <th>0</th>\n",
              "      <td>24</td>\n",
              "      <td>2</td>\n",
              "      <td>3</td>\n",
              "      <td>3</td>\n",
              "      <td>1</td>\n",
              "      <td>1</td>\n",
              "      <td>2</td>\n",
              "      <td>3</td>\n",
              "      <td>0</td>\n",
              "      <td>1</td>\n",
              "    </tr>\n",
              "    <tr>\n",
              "      <th>1</th>\n",
              "      <td>45</td>\n",
              "      <td>1</td>\n",
              "      <td>3</td>\n",
              "      <td>10</td>\n",
              "      <td>1</td>\n",
              "      <td>1</td>\n",
              "      <td>3</td>\n",
              "      <td>4</td>\n",
              "      <td>0</td>\n",
              "      <td>1</td>\n",
              "    </tr>\n",
              "    <tr>\n",
              "      <th>2</th>\n",
              "      <td>43</td>\n",
              "      <td>2</td>\n",
              "      <td>3</td>\n",
              "      <td>7</td>\n",
              "      <td>1</td>\n",
              "      <td>1</td>\n",
              "      <td>3</td>\n",
              "      <td>4</td>\n",
              "      <td>0</td>\n",
              "      <td>1</td>\n",
              "    </tr>\n",
              "    <tr>\n",
              "      <th>3</th>\n",
              "      <td>42</td>\n",
              "      <td>3</td>\n",
              "      <td>2</td>\n",
              "      <td>9</td>\n",
              "      <td>1</td>\n",
              "      <td>1</td>\n",
              "      <td>3</td>\n",
              "      <td>3</td>\n",
              "      <td>0</td>\n",
              "      <td>1</td>\n",
              "    </tr>\n",
              "    <tr>\n",
              "      <th>4</th>\n",
              "      <td>36</td>\n",
              "      <td>3</td>\n",
              "      <td>3</td>\n",
              "      <td>8</td>\n",
              "      <td>1</td>\n",
              "      <td>1</td>\n",
              "      <td>3</td>\n",
              "      <td>2</td>\n",
              "      <td>0</td>\n",
              "      <td>1</td>\n",
              "    </tr>\n",
              "    <tr>\n",
              "      <th>...</th>\n",
              "      <td>...</td>\n",
              "      <td>...</td>\n",
              "      <td>...</td>\n",
              "      <td>...</td>\n",
              "      <td>...</td>\n",
              "      <td>...</td>\n",
              "      <td>...</td>\n",
              "      <td>...</td>\n",
              "      <td>...</td>\n",
              "      <td>...</td>\n",
              "    </tr>\n",
              "    <tr>\n",
              "      <th>1468</th>\n",
              "      <td>33</td>\n",
              "      <td>4</td>\n",
              "      <td>4</td>\n",
              "      <td>2</td>\n",
              "      <td>1</td>\n",
              "      <td>0</td>\n",
              "      <td>2</td>\n",
              "      <td>4</td>\n",
              "      <td>0</td>\n",
              "      <td>3</td>\n",
              "    </tr>\n",
              "    <tr>\n",
              "      <th>1469</th>\n",
              "      <td>33</td>\n",
              "      <td>4</td>\n",
              "      <td>4</td>\n",
              "      <td>3</td>\n",
              "      <td>1</td>\n",
              "      <td>1</td>\n",
              "      <td>1</td>\n",
              "      <td>4</td>\n",
              "      <td>0</td>\n",
              "      <td>3</td>\n",
              "    </tr>\n",
              "    <tr>\n",
              "      <th>1470</th>\n",
              "      <td>39</td>\n",
              "      <td>3</td>\n",
              "      <td>3</td>\n",
              "      <td>8</td>\n",
              "      <td>1</td>\n",
              "      <td>0</td>\n",
              "      <td>1</td>\n",
              "      <td>4</td>\n",
              "      <td>0</td>\n",
              "      <td>3</td>\n",
              "    </tr>\n",
              "    <tr>\n",
              "      <th>1471</th>\n",
              "      <td>33</td>\n",
              "      <td>3</td>\n",
              "      <td>3</td>\n",
              "      <td>4</td>\n",
              "      <td>1</td>\n",
              "      <td>0</td>\n",
              "      <td>2</td>\n",
              "      <td>2</td>\n",
              "      <td>0</td>\n",
              "      <td>3</td>\n",
              "    </tr>\n",
              "    <tr>\n",
              "      <th>1472</th>\n",
              "      <td>17</td>\n",
              "      <td>3</td>\n",
              "      <td>3</td>\n",
              "      <td>1</td>\n",
              "      <td>1</td>\n",
              "      <td>1</td>\n",
              "      <td>2</td>\n",
              "      <td>4</td>\n",
              "      <td>0</td>\n",
              "      <td>3</td>\n",
              "    </tr>\n",
              "  </tbody>\n",
              "</table>\n",
              "<p>1473 rows × 10 columns</p>\n",
              "</div>"
            ],
            "text/plain": [
              "      wife_age  wife_education  ...  media_exposure  contraceptive\n",
              "0           24               2  ...               0              1\n",
              "1           45               1  ...               0              1\n",
              "2           43               2  ...               0              1\n",
              "3           42               3  ...               0              1\n",
              "4           36               3  ...               0              1\n",
              "...        ...             ...  ...             ...            ...\n",
              "1468        33               4  ...               0              3\n",
              "1469        33               4  ...               0              3\n",
              "1470        39               3  ...               0              3\n",
              "1471        33               3  ...               0              3\n",
              "1472        17               3  ...               0              3\n",
              "\n",
              "[1473 rows x 10 columns]"
            ]
          },
          "metadata": {
            "tags": []
          },
          "execution_count": 4
        }
      ]
    },
    {
      "cell_type": "code",
      "metadata": {
        "id": "4nYu2HU6W30b",
        "colab_type": "code",
        "outputId": "269514a6-2884-473f-b22f-1fe858493fd0",
        "colab": {
          "base_uri": "https://localhost:8080/",
          "height": 419
        }
      },
      "source": [
        "country_original"
      ],
      "execution_count": 5,
      "outputs": [
        {
          "output_type": "execute_result",
          "data": {
            "text/html": [
              "<div>\n",
              "<style scoped>\n",
              "    .dataframe tbody tr th:only-of-type {\n",
              "        vertical-align: middle;\n",
              "    }\n",
              "\n",
              "    .dataframe tbody tr th {\n",
              "        vertical-align: top;\n",
              "    }\n",
              "\n",
              "    .dataframe thead th {\n",
              "        text-align: right;\n",
              "    }\n",
              "</style>\n",
              "<table border=\"1\" class=\"dataframe\">\n",
              "  <thead>\n",
              "    <tr style=\"text-align: right;\">\n",
              "      <th></th>\n",
              "      <th>Country Code</th>\n",
              "      <th>Region</th>\n",
              "      <th>IncomeGroup</th>\n",
              "      <th>SpecialNotes</th>\n",
              "      <th>TableName</th>\n",
              "      <th>Unnamed: 5</th>\n",
              "    </tr>\n",
              "  </thead>\n",
              "  <tbody>\n",
              "    <tr>\n",
              "      <th>0</th>\n",
              "      <td>ABW</td>\n",
              "      <td>Latin America &amp; Caribbean</td>\n",
              "      <td>High income</td>\n",
              "      <td>NaN</td>\n",
              "      <td>Aruba</td>\n",
              "      <td>NaN</td>\n",
              "    </tr>\n",
              "    <tr>\n",
              "      <th>1</th>\n",
              "      <td>AFG</td>\n",
              "      <td>South Asia</td>\n",
              "      <td>Low income</td>\n",
              "      <td>NaN</td>\n",
              "      <td>Afghanistan</td>\n",
              "      <td>NaN</td>\n",
              "    </tr>\n",
              "    <tr>\n",
              "      <th>2</th>\n",
              "      <td>AGO</td>\n",
              "      <td>Sub-Saharan Africa</td>\n",
              "      <td>Lower middle income</td>\n",
              "      <td>NaN</td>\n",
              "      <td>Angola</td>\n",
              "      <td>NaN</td>\n",
              "    </tr>\n",
              "    <tr>\n",
              "      <th>3</th>\n",
              "      <td>ALB</td>\n",
              "      <td>Europe &amp; Central Asia</td>\n",
              "      <td>Upper middle income</td>\n",
              "      <td>NaN</td>\n",
              "      <td>Albania</td>\n",
              "      <td>NaN</td>\n",
              "    </tr>\n",
              "    <tr>\n",
              "      <th>4</th>\n",
              "      <td>AND</td>\n",
              "      <td>Europe &amp; Central Asia</td>\n",
              "      <td>High income</td>\n",
              "      <td>NaN</td>\n",
              "      <td>Andorra</td>\n",
              "      <td>NaN</td>\n",
              "    </tr>\n",
              "    <tr>\n",
              "      <th>...</th>\n",
              "      <td>...</td>\n",
              "      <td>...</td>\n",
              "      <td>...</td>\n",
              "      <td>...</td>\n",
              "      <td>...</td>\n",
              "      <td>...</td>\n",
              "    </tr>\n",
              "    <tr>\n",
              "      <th>258</th>\n",
              "      <td>XKX</td>\n",
              "      <td>Europe &amp; Central Asia</td>\n",
              "      <td>Upper middle income</td>\n",
              "      <td>NaN</td>\n",
              "      <td>Kosovo</td>\n",
              "      <td>NaN</td>\n",
              "    </tr>\n",
              "    <tr>\n",
              "      <th>259</th>\n",
              "      <td>YEM</td>\n",
              "      <td>Middle East &amp; North Africa</td>\n",
              "      <td>Low income</td>\n",
              "      <td>NaN</td>\n",
              "      <td>Yemen, Rep.</td>\n",
              "      <td>NaN</td>\n",
              "    </tr>\n",
              "    <tr>\n",
              "      <th>260</th>\n",
              "      <td>ZAF</td>\n",
              "      <td>Sub-Saharan Africa</td>\n",
              "      <td>Upper middle income</td>\n",
              "      <td>Fiscal year end: March 31; reporting period fo...</td>\n",
              "      <td>South Africa</td>\n",
              "      <td>NaN</td>\n",
              "    </tr>\n",
              "    <tr>\n",
              "      <th>261</th>\n",
              "      <td>ZMB</td>\n",
              "      <td>Sub-Saharan Africa</td>\n",
              "      <td>Lower middle income</td>\n",
              "      <td>National accounts data were rebased to reflect...</td>\n",
              "      <td>Zambia</td>\n",
              "      <td>NaN</td>\n",
              "    </tr>\n",
              "    <tr>\n",
              "      <th>262</th>\n",
              "      <td>ZWE</td>\n",
              "      <td>Sub-Saharan Africa</td>\n",
              "      <td>Lower middle income</td>\n",
              "      <td>NaN</td>\n",
              "      <td>Zimbabwe</td>\n",
              "      <td>NaN</td>\n",
              "    </tr>\n",
              "  </tbody>\n",
              "</table>\n",
              "<p>263 rows × 6 columns</p>\n",
              "</div>"
            ],
            "text/plain": [
              "    Country Code                      Region  ...     TableName Unnamed: 5\n",
              "0            ABW   Latin America & Caribbean  ...         Aruba        NaN\n",
              "1            AFG                  South Asia  ...   Afghanistan        NaN\n",
              "2            AGO          Sub-Saharan Africa  ...        Angola        NaN\n",
              "3            ALB       Europe & Central Asia  ...       Albania        NaN\n",
              "4            AND       Europe & Central Asia  ...       Andorra        NaN\n",
              "..           ...                         ...  ...           ...        ...\n",
              "258          XKX       Europe & Central Asia  ...        Kosovo        NaN\n",
              "259          YEM  Middle East & North Africa  ...   Yemen, Rep.        NaN\n",
              "260          ZAF          Sub-Saharan Africa  ...  South Africa        NaN\n",
              "261          ZMB          Sub-Saharan Africa  ...        Zambia        NaN\n",
              "262          ZWE          Sub-Saharan Africa  ...      Zimbabwe        NaN\n",
              "\n",
              "[263 rows x 6 columns]"
            ]
          },
          "metadata": {
            "tags": []
          },
          "execution_count": 5
        }
      ]
    },
    {
      "cell_type": "code",
      "metadata": {
        "id": "Qof20Kbxa_q5",
        "colab_type": "code",
        "outputId": "b61b73e9-0a77-4d72-8cba-53e1acd662a2",
        "colab": {
          "base_uri": "https://localhost:8080/",
          "height": 966
        }
      },
      "source": [
        "prevalence_original"
      ],
      "execution_count": 6,
      "outputs": [
        {
          "output_type": "execute_result",
          "data": {
            "text/html": [
              "<div>\n",
              "<style scoped>\n",
              "    .dataframe tbody tr th:only-of-type {\n",
              "        vertical-align: middle;\n",
              "    }\n",
              "\n",
              "    .dataframe tbody tr th {\n",
              "        vertical-align: top;\n",
              "    }\n",
              "\n",
              "    .dataframe thead th {\n",
              "        text-align: right;\n",
              "    }\n",
              "</style>\n",
              "<table border=\"1\" class=\"dataframe\">\n",
              "  <thead>\n",
              "    <tr style=\"text-align: right;\">\n",
              "      <th></th>\n",
              "      <th>Country Name</th>\n",
              "      <th>Country Code</th>\n",
              "      <th>Indicator Name</th>\n",
              "      <th>Indicator Code</th>\n",
              "      <th>1960</th>\n",
              "      <th>1961</th>\n",
              "      <th>1962</th>\n",
              "      <th>1963</th>\n",
              "      <th>1964</th>\n",
              "      <th>1965</th>\n",
              "      <th>1966</th>\n",
              "      <th>1967</th>\n",
              "      <th>1968</th>\n",
              "      <th>1969</th>\n",
              "      <th>1970</th>\n",
              "      <th>1971</th>\n",
              "      <th>1972</th>\n",
              "      <th>1973</th>\n",
              "      <th>1974</th>\n",
              "      <th>1975</th>\n",
              "      <th>1976</th>\n",
              "      <th>1977</th>\n",
              "      <th>1978</th>\n",
              "      <th>1979</th>\n",
              "      <th>1980</th>\n",
              "      <th>1981</th>\n",
              "      <th>1982</th>\n",
              "      <th>1983</th>\n",
              "      <th>1984</th>\n",
              "      <th>1985</th>\n",
              "      <th>1986</th>\n",
              "      <th>1987</th>\n",
              "      <th>1988</th>\n",
              "      <th>1989</th>\n",
              "      <th>1990</th>\n",
              "      <th>1991</th>\n",
              "      <th>1992</th>\n",
              "      <th>1993</th>\n",
              "      <th>1994</th>\n",
              "      <th>1995</th>\n",
              "      <th>1996</th>\n",
              "      <th>1997</th>\n",
              "      <th>1998</th>\n",
              "      <th>1999</th>\n",
              "      <th>2000</th>\n",
              "      <th>2001</th>\n",
              "      <th>2002</th>\n",
              "      <th>2003</th>\n",
              "      <th>2004</th>\n",
              "      <th>2005</th>\n",
              "      <th>2006</th>\n",
              "      <th>2007</th>\n",
              "      <th>2008</th>\n",
              "      <th>2009</th>\n",
              "      <th>2010</th>\n",
              "      <th>2011</th>\n",
              "      <th>2012</th>\n",
              "      <th>2013</th>\n",
              "      <th>2014</th>\n",
              "      <th>2015</th>\n",
              "      <th>2016</th>\n",
              "      <th>2017</th>\n",
              "      <th>2018</th>\n",
              "      <th>2019</th>\n",
              "      <th>Unnamed: 64</th>\n",
              "    </tr>\n",
              "  </thead>\n",
              "  <tbody>\n",
              "    <tr>\n",
              "      <th>0</th>\n",
              "      <td>Aruba</td>\n",
              "      <td>ABW</td>\n",
              "      <td>Contraceptive prevalence, any methods (% of wo...</td>\n",
              "      <td>SP.DYN.CONU.ZS</td>\n",
              "      <td>NaN</td>\n",
              "      <td>NaN</td>\n",
              "      <td>NaN</td>\n",
              "      <td>NaN</td>\n",
              "      <td>NaN</td>\n",
              "      <td>NaN</td>\n",
              "      <td>NaN</td>\n",
              "      <td>NaN</td>\n",
              "      <td>NaN</td>\n",
              "      <td>NaN</td>\n",
              "      <td>NaN</td>\n",
              "      <td>NaN</td>\n",
              "      <td>NaN</td>\n",
              "      <td>NaN</td>\n",
              "      <td>NaN</td>\n",
              "      <td>NaN</td>\n",
              "      <td>NaN</td>\n",
              "      <td>NaN</td>\n",
              "      <td>NaN</td>\n",
              "      <td>NaN</td>\n",
              "      <td>NaN</td>\n",
              "      <td>NaN</td>\n",
              "      <td>NaN</td>\n",
              "      <td>NaN</td>\n",
              "      <td>NaN</td>\n",
              "      <td>NaN</td>\n",
              "      <td>NaN</td>\n",
              "      <td>NaN</td>\n",
              "      <td>NaN</td>\n",
              "      <td>NaN</td>\n",
              "      <td>NaN</td>\n",
              "      <td>NaN</td>\n",
              "      <td>NaN</td>\n",
              "      <td>NaN</td>\n",
              "      <td>NaN</td>\n",
              "      <td>NaN</td>\n",
              "      <td>NaN</td>\n",
              "      <td>NaN</td>\n",
              "      <td>NaN</td>\n",
              "      <td>NaN</td>\n",
              "      <td>NaN</td>\n",
              "      <td>NaN</td>\n",
              "      <td>NaN</td>\n",
              "      <td>NaN</td>\n",
              "      <td>NaN</td>\n",
              "      <td>NaN</td>\n",
              "      <td>NaN</td>\n",
              "      <td>NaN</td>\n",
              "      <td>NaN</td>\n",
              "      <td>NaN</td>\n",
              "      <td>NaN</td>\n",
              "      <td>NaN</td>\n",
              "      <td>NaN</td>\n",
              "      <td>NaN</td>\n",
              "      <td>NaN</td>\n",
              "      <td>NaN</td>\n",
              "      <td>NaN</td>\n",
              "      <td>NaN</td>\n",
              "      <td>NaN</td>\n",
              "      <td>NaN</td>\n",
              "      <td>NaN</td>\n",
              "    </tr>\n",
              "    <tr>\n",
              "      <th>1</th>\n",
              "      <td>Afghanistan</td>\n",
              "      <td>AFG</td>\n",
              "      <td>Contraceptive prevalence, any methods (% of wo...</td>\n",
              "      <td>SP.DYN.CONU.ZS</td>\n",
              "      <td>NaN</td>\n",
              "      <td>NaN</td>\n",
              "      <td>NaN</td>\n",
              "      <td>NaN</td>\n",
              "      <td>NaN</td>\n",
              "      <td>NaN</td>\n",
              "      <td>NaN</td>\n",
              "      <td>NaN</td>\n",
              "      <td>NaN</td>\n",
              "      <td>NaN</td>\n",
              "      <td>NaN</td>\n",
              "      <td>NaN</td>\n",
              "      <td>NaN</td>\n",
              "      <td>1.6</td>\n",
              "      <td>NaN</td>\n",
              "      <td>NaN</td>\n",
              "      <td>NaN</td>\n",
              "      <td>NaN</td>\n",
              "      <td>NaN</td>\n",
              "      <td>NaN</td>\n",
              "      <td>NaN</td>\n",
              "      <td>NaN</td>\n",
              "      <td>NaN</td>\n",
              "      <td>NaN</td>\n",
              "      <td>NaN</td>\n",
              "      <td>NaN</td>\n",
              "      <td>NaN</td>\n",
              "      <td>NaN</td>\n",
              "      <td>NaN</td>\n",
              "      <td>NaN</td>\n",
              "      <td>NaN</td>\n",
              "      <td>NaN</td>\n",
              "      <td>NaN</td>\n",
              "      <td>NaN</td>\n",
              "      <td>NaN</td>\n",
              "      <td>NaN</td>\n",
              "      <td>NaN</td>\n",
              "      <td>NaN</td>\n",
              "      <td>NaN</td>\n",
              "      <td>NaN</td>\n",
              "      <td>5.3</td>\n",
              "      <td>NaN</td>\n",
              "      <td>NaN</td>\n",
              "      <td>10.3</td>\n",
              "      <td>NaN</td>\n",
              "      <td>13.6</td>\n",
              "      <td>18.6</td>\n",
              "      <td>NaN</td>\n",
              "      <td>22.8</td>\n",
              "      <td>NaN</td>\n",
              "      <td>21.8</td>\n",
              "      <td>21.2</td>\n",
              "      <td>NaN</td>\n",
              "      <td>NaN</td>\n",
              "      <td>NaN</td>\n",
              "      <td>22.5</td>\n",
              "      <td>NaN</td>\n",
              "      <td>NaN</td>\n",
              "      <td>NaN</td>\n",
              "      <td>NaN</td>\n",
              "      <td>NaN</td>\n",
              "    </tr>\n",
              "    <tr>\n",
              "      <th>2</th>\n",
              "      <td>Angola</td>\n",
              "      <td>AGO</td>\n",
              "      <td>Contraceptive prevalence, any methods (% of wo...</td>\n",
              "      <td>SP.DYN.CONU.ZS</td>\n",
              "      <td>NaN</td>\n",
              "      <td>NaN</td>\n",
              "      <td>NaN</td>\n",
              "      <td>NaN</td>\n",
              "      <td>NaN</td>\n",
              "      <td>NaN</td>\n",
              "      <td>NaN</td>\n",
              "      <td>NaN</td>\n",
              "      <td>NaN</td>\n",
              "      <td>NaN</td>\n",
              "      <td>NaN</td>\n",
              "      <td>NaN</td>\n",
              "      <td>NaN</td>\n",
              "      <td>NaN</td>\n",
              "      <td>NaN</td>\n",
              "      <td>NaN</td>\n",
              "      <td>NaN</td>\n",
              "      <td>NaN</td>\n",
              "      <td>NaN</td>\n",
              "      <td>NaN</td>\n",
              "      <td>NaN</td>\n",
              "      <td>NaN</td>\n",
              "      <td>NaN</td>\n",
              "      <td>NaN</td>\n",
              "      <td>NaN</td>\n",
              "      <td>NaN</td>\n",
              "      <td>NaN</td>\n",
              "      <td>NaN</td>\n",
              "      <td>NaN</td>\n",
              "      <td>NaN</td>\n",
              "      <td>NaN</td>\n",
              "      <td>NaN</td>\n",
              "      <td>NaN</td>\n",
              "      <td>NaN</td>\n",
              "      <td>NaN</td>\n",
              "      <td>NaN</td>\n",
              "      <td>8.1</td>\n",
              "      <td>NaN</td>\n",
              "      <td>NaN</td>\n",
              "      <td>NaN</td>\n",
              "      <td>NaN</td>\n",
              "      <td>6.2</td>\n",
              "      <td>NaN</td>\n",
              "      <td>NaN</td>\n",
              "      <td>NaN</td>\n",
              "      <td>NaN</td>\n",
              "      <td>NaN</td>\n",
              "      <td>NaN</td>\n",
              "      <td>NaN</td>\n",
              "      <td>17.7</td>\n",
              "      <td>NaN</td>\n",
              "      <td>NaN</td>\n",
              "      <td>NaN</td>\n",
              "      <td>NaN</td>\n",
              "      <td>NaN</td>\n",
              "      <td>NaN</td>\n",
              "      <td>13.7</td>\n",
              "      <td>NaN</td>\n",
              "      <td>NaN</td>\n",
              "      <td>NaN</td>\n",
              "      <td>NaN</td>\n",
              "    </tr>\n",
              "    <tr>\n",
              "      <th>3</th>\n",
              "      <td>Albania</td>\n",
              "      <td>ALB</td>\n",
              "      <td>Contraceptive prevalence, any methods (% of wo...</td>\n",
              "      <td>SP.DYN.CONU.ZS</td>\n",
              "      <td>NaN</td>\n",
              "      <td>NaN</td>\n",
              "      <td>NaN</td>\n",
              "      <td>NaN</td>\n",
              "      <td>NaN</td>\n",
              "      <td>NaN</td>\n",
              "      <td>NaN</td>\n",
              "      <td>NaN</td>\n",
              "      <td>NaN</td>\n",
              "      <td>NaN</td>\n",
              "      <td>NaN</td>\n",
              "      <td>NaN</td>\n",
              "      <td>NaN</td>\n",
              "      <td>NaN</td>\n",
              "      <td>NaN</td>\n",
              "      <td>NaN</td>\n",
              "      <td>NaN</td>\n",
              "      <td>NaN</td>\n",
              "      <td>NaN</td>\n",
              "      <td>NaN</td>\n",
              "      <td>NaN</td>\n",
              "      <td>NaN</td>\n",
              "      <td>NaN</td>\n",
              "      <td>NaN</td>\n",
              "      <td>NaN</td>\n",
              "      <td>NaN</td>\n",
              "      <td>NaN</td>\n",
              "      <td>NaN</td>\n",
              "      <td>NaN</td>\n",
              "      <td>NaN</td>\n",
              "      <td>NaN</td>\n",
              "      <td>NaN</td>\n",
              "      <td>NaN</td>\n",
              "      <td>NaN</td>\n",
              "      <td>NaN</td>\n",
              "      <td>NaN</td>\n",
              "      <td>NaN</td>\n",
              "      <td>NaN</td>\n",
              "      <td>NaN</td>\n",
              "      <td>NaN</td>\n",
              "      <td>57.5</td>\n",
              "      <td>NaN</td>\n",
              "      <td>75.1</td>\n",
              "      <td>NaN</td>\n",
              "      <td>NaN</td>\n",
              "      <td>60.1</td>\n",
              "      <td>NaN</td>\n",
              "      <td>NaN</td>\n",
              "      <td>NaN</td>\n",
              "      <td>69.3</td>\n",
              "      <td>NaN</td>\n",
              "      <td>NaN</td>\n",
              "      <td>NaN</td>\n",
              "      <td>NaN</td>\n",
              "      <td>NaN</td>\n",
              "      <td>NaN</td>\n",
              "      <td>NaN</td>\n",
              "      <td>NaN</td>\n",
              "      <td>46.0</td>\n",
              "      <td>NaN</td>\n",
              "      <td>NaN</td>\n",
              "    </tr>\n",
              "    <tr>\n",
              "      <th>4</th>\n",
              "      <td>Andorra</td>\n",
              "      <td>AND</td>\n",
              "      <td>Contraceptive prevalence, any methods (% of wo...</td>\n",
              "      <td>SP.DYN.CONU.ZS</td>\n",
              "      <td>NaN</td>\n",
              "      <td>NaN</td>\n",
              "      <td>NaN</td>\n",
              "      <td>NaN</td>\n",
              "      <td>NaN</td>\n",
              "      <td>NaN</td>\n",
              "      <td>NaN</td>\n",
              "      <td>NaN</td>\n",
              "      <td>NaN</td>\n",
              "      <td>NaN</td>\n",
              "      <td>NaN</td>\n",
              "      <td>NaN</td>\n",
              "      <td>NaN</td>\n",
              "      <td>NaN</td>\n",
              "      <td>NaN</td>\n",
              "      <td>NaN</td>\n",
              "      <td>NaN</td>\n",
              "      <td>NaN</td>\n",
              "      <td>NaN</td>\n",
              "      <td>NaN</td>\n",
              "      <td>NaN</td>\n",
              "      <td>NaN</td>\n",
              "      <td>NaN</td>\n",
              "      <td>NaN</td>\n",
              "      <td>NaN</td>\n",
              "      <td>NaN</td>\n",
              "      <td>NaN</td>\n",
              "      <td>NaN</td>\n",
              "      <td>NaN</td>\n",
              "      <td>NaN</td>\n",
              "      <td>NaN</td>\n",
              "      <td>NaN</td>\n",
              "      <td>NaN</td>\n",
              "      <td>NaN</td>\n",
              "      <td>NaN</td>\n",
              "      <td>NaN</td>\n",
              "      <td>NaN</td>\n",
              "      <td>NaN</td>\n",
              "      <td>NaN</td>\n",
              "      <td>NaN</td>\n",
              "      <td>NaN</td>\n",
              "      <td>NaN</td>\n",
              "      <td>NaN</td>\n",
              "      <td>NaN</td>\n",
              "      <td>NaN</td>\n",
              "      <td>NaN</td>\n",
              "      <td>NaN</td>\n",
              "      <td>NaN</td>\n",
              "      <td>NaN</td>\n",
              "      <td>NaN</td>\n",
              "      <td>NaN</td>\n",
              "      <td>NaN</td>\n",
              "      <td>NaN</td>\n",
              "      <td>NaN</td>\n",
              "      <td>NaN</td>\n",
              "      <td>NaN</td>\n",
              "      <td>NaN</td>\n",
              "      <td>NaN</td>\n",
              "      <td>NaN</td>\n",
              "      <td>NaN</td>\n",
              "      <td>NaN</td>\n",
              "    </tr>\n",
              "    <tr>\n",
              "      <th>...</th>\n",
              "      <td>...</td>\n",
              "      <td>...</td>\n",
              "      <td>...</td>\n",
              "      <td>...</td>\n",
              "      <td>...</td>\n",
              "      <td>...</td>\n",
              "      <td>...</td>\n",
              "      <td>...</td>\n",
              "      <td>...</td>\n",
              "      <td>...</td>\n",
              "      <td>...</td>\n",
              "      <td>...</td>\n",
              "      <td>...</td>\n",
              "      <td>...</td>\n",
              "      <td>...</td>\n",
              "      <td>...</td>\n",
              "      <td>...</td>\n",
              "      <td>...</td>\n",
              "      <td>...</td>\n",
              "      <td>...</td>\n",
              "      <td>...</td>\n",
              "      <td>...</td>\n",
              "      <td>...</td>\n",
              "      <td>...</td>\n",
              "      <td>...</td>\n",
              "      <td>...</td>\n",
              "      <td>...</td>\n",
              "      <td>...</td>\n",
              "      <td>...</td>\n",
              "      <td>...</td>\n",
              "      <td>...</td>\n",
              "      <td>...</td>\n",
              "      <td>...</td>\n",
              "      <td>...</td>\n",
              "      <td>...</td>\n",
              "      <td>...</td>\n",
              "      <td>...</td>\n",
              "      <td>...</td>\n",
              "      <td>...</td>\n",
              "      <td>...</td>\n",
              "      <td>...</td>\n",
              "      <td>...</td>\n",
              "      <td>...</td>\n",
              "      <td>...</td>\n",
              "      <td>...</td>\n",
              "      <td>...</td>\n",
              "      <td>...</td>\n",
              "      <td>...</td>\n",
              "      <td>...</td>\n",
              "      <td>...</td>\n",
              "      <td>...</td>\n",
              "      <td>...</td>\n",
              "      <td>...</td>\n",
              "      <td>...</td>\n",
              "      <td>...</td>\n",
              "      <td>...</td>\n",
              "      <td>...</td>\n",
              "      <td>...</td>\n",
              "      <td>...</td>\n",
              "      <td>...</td>\n",
              "      <td>...</td>\n",
              "      <td>...</td>\n",
              "      <td>...</td>\n",
              "      <td>...</td>\n",
              "      <td>...</td>\n",
              "    </tr>\n",
              "    <tr>\n",
              "      <th>259</th>\n",
              "      <td>Kosovo</td>\n",
              "      <td>XKX</td>\n",
              "      <td>Contraceptive prevalence, any methods (% of wo...</td>\n",
              "      <td>SP.DYN.CONU.ZS</td>\n",
              "      <td>NaN</td>\n",
              "      <td>NaN</td>\n",
              "      <td>NaN</td>\n",
              "      <td>NaN</td>\n",
              "      <td>NaN</td>\n",
              "      <td>NaN</td>\n",
              "      <td>NaN</td>\n",
              "      <td>NaN</td>\n",
              "      <td>NaN</td>\n",
              "      <td>NaN</td>\n",
              "      <td>NaN</td>\n",
              "      <td>NaN</td>\n",
              "      <td>NaN</td>\n",
              "      <td>NaN</td>\n",
              "      <td>NaN</td>\n",
              "      <td>NaN</td>\n",
              "      <td>NaN</td>\n",
              "      <td>NaN</td>\n",
              "      <td>NaN</td>\n",
              "      <td>NaN</td>\n",
              "      <td>NaN</td>\n",
              "      <td>NaN</td>\n",
              "      <td>NaN</td>\n",
              "      <td>NaN</td>\n",
              "      <td>NaN</td>\n",
              "      <td>NaN</td>\n",
              "      <td>NaN</td>\n",
              "      <td>NaN</td>\n",
              "      <td>NaN</td>\n",
              "      <td>NaN</td>\n",
              "      <td>NaN</td>\n",
              "      <td>NaN</td>\n",
              "      <td>NaN</td>\n",
              "      <td>NaN</td>\n",
              "      <td>NaN</td>\n",
              "      <td>NaN</td>\n",
              "      <td>NaN</td>\n",
              "      <td>NaN</td>\n",
              "      <td>NaN</td>\n",
              "      <td>NaN</td>\n",
              "      <td>NaN</td>\n",
              "      <td>NaN</td>\n",
              "      <td>NaN</td>\n",
              "      <td>NaN</td>\n",
              "      <td>NaN</td>\n",
              "      <td>NaN</td>\n",
              "      <td>NaN</td>\n",
              "      <td>NaN</td>\n",
              "      <td>NaN</td>\n",
              "      <td>NaN</td>\n",
              "      <td>NaN</td>\n",
              "      <td>NaN</td>\n",
              "      <td>NaN</td>\n",
              "      <td>NaN</td>\n",
              "      <td>NaN</td>\n",
              "      <td>NaN</td>\n",
              "      <td>NaN</td>\n",
              "      <td>NaN</td>\n",
              "      <td>NaN</td>\n",
              "      <td>NaN</td>\n",
              "      <td>NaN</td>\n",
              "    </tr>\n",
              "    <tr>\n",
              "      <th>260</th>\n",
              "      <td>Yemen, Rep.</td>\n",
              "      <td>YEM</td>\n",
              "      <td>Contraceptive prevalence, any methods (% of wo...</td>\n",
              "      <td>SP.DYN.CONU.ZS</td>\n",
              "      <td>NaN</td>\n",
              "      <td>NaN</td>\n",
              "      <td>NaN</td>\n",
              "      <td>NaN</td>\n",
              "      <td>NaN</td>\n",
              "      <td>NaN</td>\n",
              "      <td>NaN</td>\n",
              "      <td>NaN</td>\n",
              "      <td>NaN</td>\n",
              "      <td>NaN</td>\n",
              "      <td>NaN</td>\n",
              "      <td>NaN</td>\n",
              "      <td>NaN</td>\n",
              "      <td>NaN</td>\n",
              "      <td>NaN</td>\n",
              "      <td>NaN</td>\n",
              "      <td>NaN</td>\n",
              "      <td>NaN</td>\n",
              "      <td>NaN</td>\n",
              "      <td>1.7</td>\n",
              "      <td>NaN</td>\n",
              "      <td>NaN</td>\n",
              "      <td>NaN</td>\n",
              "      <td>NaN</td>\n",
              "      <td>NaN</td>\n",
              "      <td>NaN</td>\n",
              "      <td>NaN</td>\n",
              "      <td>NaN</td>\n",
              "      <td>NaN</td>\n",
              "      <td>NaN</td>\n",
              "      <td>NaN</td>\n",
              "      <td>NaN</td>\n",
              "      <td>9.7</td>\n",
              "      <td>NaN</td>\n",
              "      <td>NaN</td>\n",
              "      <td>NaN</td>\n",
              "      <td>NaN</td>\n",
              "      <td>20.8</td>\n",
              "      <td>NaN</td>\n",
              "      <td>NaN</td>\n",
              "      <td>NaN</td>\n",
              "      <td>NaN</td>\n",
              "      <td>NaN</td>\n",
              "      <td>23.1</td>\n",
              "      <td>NaN</td>\n",
              "      <td>NaN</td>\n",
              "      <td>27.7</td>\n",
              "      <td>NaN</td>\n",
              "      <td>NaN</td>\n",
              "      <td>NaN</td>\n",
              "      <td>NaN</td>\n",
              "      <td>NaN</td>\n",
              "      <td>NaN</td>\n",
              "      <td>33.5</td>\n",
              "      <td>NaN</td>\n",
              "      <td>NaN</td>\n",
              "      <td>NaN</td>\n",
              "      <td>NaN</td>\n",
              "      <td>NaN</td>\n",
              "      <td>NaN</td>\n",
              "      <td>NaN</td>\n",
              "    </tr>\n",
              "    <tr>\n",
              "      <th>261</th>\n",
              "      <td>South Africa</td>\n",
              "      <td>ZAF</td>\n",
              "      <td>Contraceptive prevalence, any methods (% of wo...</td>\n",
              "      <td>SP.DYN.CONU.ZS</td>\n",
              "      <td>NaN</td>\n",
              "      <td>NaN</td>\n",
              "      <td>NaN</td>\n",
              "      <td>NaN</td>\n",
              "      <td>NaN</td>\n",
              "      <td>NaN</td>\n",
              "      <td>NaN</td>\n",
              "      <td>NaN</td>\n",
              "      <td>NaN</td>\n",
              "      <td>NaN</td>\n",
              "      <td>NaN</td>\n",
              "      <td>NaN</td>\n",
              "      <td>NaN</td>\n",
              "      <td>NaN</td>\n",
              "      <td>NaN</td>\n",
              "      <td>NaN</td>\n",
              "      <td>NaN</td>\n",
              "      <td>NaN</td>\n",
              "      <td>NaN</td>\n",
              "      <td>NaN</td>\n",
              "      <td>48.0</td>\n",
              "      <td>NaN</td>\n",
              "      <td>NaN</td>\n",
              "      <td>NaN</td>\n",
              "      <td>NaN</td>\n",
              "      <td>NaN</td>\n",
              "      <td>NaN</td>\n",
              "      <td>NaN</td>\n",
              "      <td>49.7</td>\n",
              "      <td>NaN</td>\n",
              "      <td>57.0</td>\n",
              "      <td>NaN</td>\n",
              "      <td>NaN</td>\n",
              "      <td>NaN</td>\n",
              "      <td>NaN</td>\n",
              "      <td>NaN</td>\n",
              "      <td>NaN</td>\n",
              "      <td>NaN</td>\n",
              "      <td>56.3</td>\n",
              "      <td>NaN</td>\n",
              "      <td>NaN</td>\n",
              "      <td>NaN</td>\n",
              "      <td>NaN</td>\n",
              "      <td>59.9</td>\n",
              "      <td>NaN</td>\n",
              "      <td>NaN</td>\n",
              "      <td>NaN</td>\n",
              "      <td>NaN</td>\n",
              "      <td>NaN</td>\n",
              "      <td>NaN</td>\n",
              "      <td>NaN</td>\n",
              "      <td>NaN</td>\n",
              "      <td>NaN</td>\n",
              "      <td>NaN</td>\n",
              "      <td>NaN</td>\n",
              "      <td>NaN</td>\n",
              "      <td>54.6</td>\n",
              "      <td>NaN</td>\n",
              "      <td>NaN</td>\n",
              "      <td>NaN</td>\n",
              "      <td>NaN</td>\n",
              "    </tr>\n",
              "    <tr>\n",
              "      <th>262</th>\n",
              "      <td>Zambia</td>\n",
              "      <td>ZMB</td>\n",
              "      <td>Contraceptive prevalence, any methods (% of wo...</td>\n",
              "      <td>SP.DYN.CONU.ZS</td>\n",
              "      <td>NaN</td>\n",
              "      <td>NaN</td>\n",
              "      <td>NaN</td>\n",
              "      <td>NaN</td>\n",
              "      <td>NaN</td>\n",
              "      <td>NaN</td>\n",
              "      <td>NaN</td>\n",
              "      <td>NaN</td>\n",
              "      <td>NaN</td>\n",
              "      <td>NaN</td>\n",
              "      <td>NaN</td>\n",
              "      <td>NaN</td>\n",
              "      <td>NaN</td>\n",
              "      <td>NaN</td>\n",
              "      <td>NaN</td>\n",
              "      <td>NaN</td>\n",
              "      <td>NaN</td>\n",
              "      <td>NaN</td>\n",
              "      <td>NaN</td>\n",
              "      <td>NaN</td>\n",
              "      <td>NaN</td>\n",
              "      <td>NaN</td>\n",
              "      <td>NaN</td>\n",
              "      <td>NaN</td>\n",
              "      <td>NaN</td>\n",
              "      <td>NaN</td>\n",
              "      <td>NaN</td>\n",
              "      <td>NaN</td>\n",
              "      <td>NaN</td>\n",
              "      <td>NaN</td>\n",
              "      <td>NaN</td>\n",
              "      <td>NaN</td>\n",
              "      <td>15.2</td>\n",
              "      <td>NaN</td>\n",
              "      <td>NaN</td>\n",
              "      <td>NaN</td>\n",
              "      <td>25.9</td>\n",
              "      <td>NaN</td>\n",
              "      <td>NaN</td>\n",
              "      <td>22.0</td>\n",
              "      <td>NaN</td>\n",
              "      <td>NaN</td>\n",
              "      <td>34.2</td>\n",
              "      <td>NaN</td>\n",
              "      <td>NaN</td>\n",
              "      <td>NaN</td>\n",
              "      <td>NaN</td>\n",
              "      <td>40.8</td>\n",
              "      <td>NaN</td>\n",
              "      <td>NaN</td>\n",
              "      <td>NaN</td>\n",
              "      <td>NaN</td>\n",
              "      <td>NaN</td>\n",
              "      <td>NaN</td>\n",
              "      <td>49.0</td>\n",
              "      <td>NaN</td>\n",
              "      <td>NaN</td>\n",
              "      <td>NaN</td>\n",
              "      <td>NaN</td>\n",
              "      <td>NaN</td>\n",
              "      <td>NaN</td>\n",
              "    </tr>\n",
              "    <tr>\n",
              "      <th>263</th>\n",
              "      <td>Zimbabwe</td>\n",
              "      <td>ZWE</td>\n",
              "      <td>Contraceptive prevalence, any methods (% of wo...</td>\n",
              "      <td>SP.DYN.CONU.ZS</td>\n",
              "      <td>NaN</td>\n",
              "      <td>NaN</td>\n",
              "      <td>NaN</td>\n",
              "      <td>NaN</td>\n",
              "      <td>NaN</td>\n",
              "      <td>NaN</td>\n",
              "      <td>NaN</td>\n",
              "      <td>NaN</td>\n",
              "      <td>NaN</td>\n",
              "      <td>NaN</td>\n",
              "      <td>NaN</td>\n",
              "      <td>NaN</td>\n",
              "      <td>NaN</td>\n",
              "      <td>NaN</td>\n",
              "      <td>NaN</td>\n",
              "      <td>NaN</td>\n",
              "      <td>NaN</td>\n",
              "      <td>NaN</td>\n",
              "      <td>NaN</td>\n",
              "      <td>NaN</td>\n",
              "      <td>NaN</td>\n",
              "      <td>NaN</td>\n",
              "      <td>NaN</td>\n",
              "      <td>NaN</td>\n",
              "      <td>38.4</td>\n",
              "      <td>NaN</td>\n",
              "      <td>NaN</td>\n",
              "      <td>NaN</td>\n",
              "      <td>43.1</td>\n",
              "      <td>NaN</td>\n",
              "      <td>NaN</td>\n",
              "      <td>NaN</td>\n",
              "      <td>NaN</td>\n",
              "      <td>NaN</td>\n",
              "      <td>48.1</td>\n",
              "      <td>NaN</td>\n",
              "      <td>NaN</td>\n",
              "      <td>NaN</td>\n",
              "      <td>NaN</td>\n",
              "      <td>53.5</td>\n",
              "      <td>NaN</td>\n",
              "      <td>NaN</td>\n",
              "      <td>NaN</td>\n",
              "      <td>NaN</td>\n",
              "      <td>NaN</td>\n",
              "      <td>NaN</td>\n",
              "      <td>60.2</td>\n",
              "      <td>NaN</td>\n",
              "      <td>NaN</td>\n",
              "      <td>64.9</td>\n",
              "      <td>NaN</td>\n",
              "      <td>58.5</td>\n",
              "      <td>NaN</td>\n",
              "      <td>NaN</td>\n",
              "      <td>66.9</td>\n",
              "      <td>66.8</td>\n",
              "      <td>NaN</td>\n",
              "      <td>NaN</td>\n",
              "      <td>NaN</td>\n",
              "      <td>NaN</td>\n",
              "      <td>NaN</td>\n",
              "    </tr>\n",
              "  </tbody>\n",
              "</table>\n",
              "<p>264 rows × 65 columns</p>\n",
              "</div>"
            ],
            "text/plain": [
              "     Country Name Country Code  ... 2019 Unnamed: 64\n",
              "0           Aruba          ABW  ...  NaN         NaN\n",
              "1     Afghanistan          AFG  ...  NaN         NaN\n",
              "2          Angola          AGO  ...  NaN         NaN\n",
              "3         Albania          ALB  ...  NaN         NaN\n",
              "4         Andorra          AND  ...  NaN         NaN\n",
              "..            ...          ...  ...  ...         ...\n",
              "259        Kosovo          XKX  ...  NaN         NaN\n",
              "260   Yemen, Rep.          YEM  ...  NaN         NaN\n",
              "261  South Africa          ZAF  ...  NaN         NaN\n",
              "262        Zambia          ZMB  ...  NaN         NaN\n",
              "263      Zimbabwe          ZWE  ...  NaN         NaN\n",
              "\n",
              "[264 rows x 65 columns]"
            ]
          },
          "metadata": {
            "tags": []
          },
          "execution_count": 6
        }
      ]
    },
    {
      "cell_type": "code",
      "metadata": {
        "id": "N2W4A8ltbNdD",
        "colab_type": "code",
        "outputId": "6a0d3f84-908e-48dd-de99-645a22fb4655",
        "colab": {
          "base_uri": "https://localhost:8080/",
          "height": 419
        }
      },
      "source": [
        "country = country_original[['Country Code', 'Region', 'IncomeGroup', 'TableName']]\n",
        "country = country.rename(columns={'TableName':'Country Name'})\n",
        "country"
      ],
      "execution_count": 7,
      "outputs": [
        {
          "output_type": "execute_result",
          "data": {
            "text/html": [
              "<div>\n",
              "<style scoped>\n",
              "    .dataframe tbody tr th:only-of-type {\n",
              "        vertical-align: middle;\n",
              "    }\n",
              "\n",
              "    .dataframe tbody tr th {\n",
              "        vertical-align: top;\n",
              "    }\n",
              "\n",
              "    .dataframe thead th {\n",
              "        text-align: right;\n",
              "    }\n",
              "</style>\n",
              "<table border=\"1\" class=\"dataframe\">\n",
              "  <thead>\n",
              "    <tr style=\"text-align: right;\">\n",
              "      <th></th>\n",
              "      <th>Country Code</th>\n",
              "      <th>Region</th>\n",
              "      <th>IncomeGroup</th>\n",
              "      <th>Country Name</th>\n",
              "    </tr>\n",
              "  </thead>\n",
              "  <tbody>\n",
              "    <tr>\n",
              "      <th>0</th>\n",
              "      <td>ABW</td>\n",
              "      <td>Latin America &amp; Caribbean</td>\n",
              "      <td>High income</td>\n",
              "      <td>Aruba</td>\n",
              "    </tr>\n",
              "    <tr>\n",
              "      <th>1</th>\n",
              "      <td>AFG</td>\n",
              "      <td>South Asia</td>\n",
              "      <td>Low income</td>\n",
              "      <td>Afghanistan</td>\n",
              "    </tr>\n",
              "    <tr>\n",
              "      <th>2</th>\n",
              "      <td>AGO</td>\n",
              "      <td>Sub-Saharan Africa</td>\n",
              "      <td>Lower middle income</td>\n",
              "      <td>Angola</td>\n",
              "    </tr>\n",
              "    <tr>\n",
              "      <th>3</th>\n",
              "      <td>ALB</td>\n",
              "      <td>Europe &amp; Central Asia</td>\n",
              "      <td>Upper middle income</td>\n",
              "      <td>Albania</td>\n",
              "    </tr>\n",
              "    <tr>\n",
              "      <th>4</th>\n",
              "      <td>AND</td>\n",
              "      <td>Europe &amp; Central Asia</td>\n",
              "      <td>High income</td>\n",
              "      <td>Andorra</td>\n",
              "    </tr>\n",
              "    <tr>\n",
              "      <th>...</th>\n",
              "      <td>...</td>\n",
              "      <td>...</td>\n",
              "      <td>...</td>\n",
              "      <td>...</td>\n",
              "    </tr>\n",
              "    <tr>\n",
              "      <th>258</th>\n",
              "      <td>XKX</td>\n",
              "      <td>Europe &amp; Central Asia</td>\n",
              "      <td>Upper middle income</td>\n",
              "      <td>Kosovo</td>\n",
              "    </tr>\n",
              "    <tr>\n",
              "      <th>259</th>\n",
              "      <td>YEM</td>\n",
              "      <td>Middle East &amp; North Africa</td>\n",
              "      <td>Low income</td>\n",
              "      <td>Yemen, Rep.</td>\n",
              "    </tr>\n",
              "    <tr>\n",
              "      <th>260</th>\n",
              "      <td>ZAF</td>\n",
              "      <td>Sub-Saharan Africa</td>\n",
              "      <td>Upper middle income</td>\n",
              "      <td>South Africa</td>\n",
              "    </tr>\n",
              "    <tr>\n",
              "      <th>261</th>\n",
              "      <td>ZMB</td>\n",
              "      <td>Sub-Saharan Africa</td>\n",
              "      <td>Lower middle income</td>\n",
              "      <td>Zambia</td>\n",
              "    </tr>\n",
              "    <tr>\n",
              "      <th>262</th>\n",
              "      <td>ZWE</td>\n",
              "      <td>Sub-Saharan Africa</td>\n",
              "      <td>Lower middle income</td>\n",
              "      <td>Zimbabwe</td>\n",
              "    </tr>\n",
              "  </tbody>\n",
              "</table>\n",
              "<p>263 rows × 4 columns</p>\n",
              "</div>"
            ],
            "text/plain": [
              "    Country Code                      Region          IncomeGroup  Country Name\n",
              "0            ABW   Latin America & Caribbean          High income         Aruba\n",
              "1            AFG                  South Asia           Low income   Afghanistan\n",
              "2            AGO          Sub-Saharan Africa  Lower middle income        Angola\n",
              "3            ALB       Europe & Central Asia  Upper middle income       Albania\n",
              "4            AND       Europe & Central Asia          High income       Andorra\n",
              "..           ...                         ...                  ...           ...\n",
              "258          XKX       Europe & Central Asia  Upper middle income        Kosovo\n",
              "259          YEM  Middle East & North Africa           Low income   Yemen, Rep.\n",
              "260          ZAF          Sub-Saharan Africa  Upper middle income  South Africa\n",
              "261          ZMB          Sub-Saharan Africa  Lower middle income        Zambia\n",
              "262          ZWE          Sub-Saharan Africa  Lower middle income      Zimbabwe\n",
              "\n",
              "[263 rows x 4 columns]"
            ]
          },
          "metadata": {
            "tags": []
          },
          "execution_count": 7
        }
      ]
    },
    {
      "cell_type": "code",
      "metadata": {
        "id": "eDVg4SzKdeTV",
        "colab_type": "code",
        "outputId": "c7f7f861-14de-40ae-f9f2-a5055bcb6456",
        "colab": {
          "base_uri": "https://localhost:8080/",
          "height": 490
        }
      },
      "source": [
        "prev = prevalence_original.drop(columns=['Indicator Name', 'Indicator Code', 'Unnamed: 64'])\n",
        "prev"
      ],
      "execution_count": 8,
      "outputs": [
        {
          "output_type": "execute_result",
          "data": {
            "text/html": [
              "<div>\n",
              "<style scoped>\n",
              "    .dataframe tbody tr th:only-of-type {\n",
              "        vertical-align: middle;\n",
              "    }\n",
              "\n",
              "    .dataframe tbody tr th {\n",
              "        vertical-align: top;\n",
              "    }\n",
              "\n",
              "    .dataframe thead th {\n",
              "        text-align: right;\n",
              "    }\n",
              "</style>\n",
              "<table border=\"1\" class=\"dataframe\">\n",
              "  <thead>\n",
              "    <tr style=\"text-align: right;\">\n",
              "      <th></th>\n",
              "      <th>Country Name</th>\n",
              "      <th>Country Code</th>\n",
              "      <th>1960</th>\n",
              "      <th>1961</th>\n",
              "      <th>1962</th>\n",
              "      <th>1963</th>\n",
              "      <th>1964</th>\n",
              "      <th>1965</th>\n",
              "      <th>1966</th>\n",
              "      <th>1967</th>\n",
              "      <th>1968</th>\n",
              "      <th>1969</th>\n",
              "      <th>1970</th>\n",
              "      <th>1971</th>\n",
              "      <th>1972</th>\n",
              "      <th>1973</th>\n",
              "      <th>1974</th>\n",
              "      <th>1975</th>\n",
              "      <th>1976</th>\n",
              "      <th>1977</th>\n",
              "      <th>1978</th>\n",
              "      <th>1979</th>\n",
              "      <th>1980</th>\n",
              "      <th>1981</th>\n",
              "      <th>1982</th>\n",
              "      <th>1983</th>\n",
              "      <th>1984</th>\n",
              "      <th>1985</th>\n",
              "      <th>1986</th>\n",
              "      <th>1987</th>\n",
              "      <th>1988</th>\n",
              "      <th>1989</th>\n",
              "      <th>1990</th>\n",
              "      <th>1991</th>\n",
              "      <th>1992</th>\n",
              "      <th>1993</th>\n",
              "      <th>1994</th>\n",
              "      <th>1995</th>\n",
              "      <th>1996</th>\n",
              "      <th>1997</th>\n",
              "      <th>1998</th>\n",
              "      <th>1999</th>\n",
              "      <th>2000</th>\n",
              "      <th>2001</th>\n",
              "      <th>2002</th>\n",
              "      <th>2003</th>\n",
              "      <th>2004</th>\n",
              "      <th>2005</th>\n",
              "      <th>2006</th>\n",
              "      <th>2007</th>\n",
              "      <th>2008</th>\n",
              "      <th>2009</th>\n",
              "      <th>2010</th>\n",
              "      <th>2011</th>\n",
              "      <th>2012</th>\n",
              "      <th>2013</th>\n",
              "      <th>2014</th>\n",
              "      <th>2015</th>\n",
              "      <th>2016</th>\n",
              "      <th>2017</th>\n",
              "      <th>2018</th>\n",
              "      <th>2019</th>\n",
              "    </tr>\n",
              "  </thead>\n",
              "  <tbody>\n",
              "    <tr>\n",
              "      <th>0</th>\n",
              "      <td>Aruba</td>\n",
              "      <td>ABW</td>\n",
              "      <td>NaN</td>\n",
              "      <td>NaN</td>\n",
              "      <td>NaN</td>\n",
              "      <td>NaN</td>\n",
              "      <td>NaN</td>\n",
              "      <td>NaN</td>\n",
              "      <td>NaN</td>\n",
              "      <td>NaN</td>\n",
              "      <td>NaN</td>\n",
              "      <td>NaN</td>\n",
              "      <td>NaN</td>\n",
              "      <td>NaN</td>\n",
              "      <td>NaN</td>\n",
              "      <td>NaN</td>\n",
              "      <td>NaN</td>\n",
              "      <td>NaN</td>\n",
              "      <td>NaN</td>\n",
              "      <td>NaN</td>\n",
              "      <td>NaN</td>\n",
              "      <td>NaN</td>\n",
              "      <td>NaN</td>\n",
              "      <td>NaN</td>\n",
              "      <td>NaN</td>\n",
              "      <td>NaN</td>\n",
              "      <td>NaN</td>\n",
              "      <td>NaN</td>\n",
              "      <td>NaN</td>\n",
              "      <td>NaN</td>\n",
              "      <td>NaN</td>\n",
              "      <td>NaN</td>\n",
              "      <td>NaN</td>\n",
              "      <td>NaN</td>\n",
              "      <td>NaN</td>\n",
              "      <td>NaN</td>\n",
              "      <td>NaN</td>\n",
              "      <td>NaN</td>\n",
              "      <td>NaN</td>\n",
              "      <td>NaN</td>\n",
              "      <td>NaN</td>\n",
              "      <td>NaN</td>\n",
              "      <td>NaN</td>\n",
              "      <td>NaN</td>\n",
              "      <td>NaN</td>\n",
              "      <td>NaN</td>\n",
              "      <td>NaN</td>\n",
              "      <td>NaN</td>\n",
              "      <td>NaN</td>\n",
              "      <td>NaN</td>\n",
              "      <td>NaN</td>\n",
              "      <td>NaN</td>\n",
              "      <td>NaN</td>\n",
              "      <td>NaN</td>\n",
              "      <td>NaN</td>\n",
              "      <td>NaN</td>\n",
              "      <td>NaN</td>\n",
              "      <td>NaN</td>\n",
              "      <td>NaN</td>\n",
              "      <td>NaN</td>\n",
              "      <td>NaN</td>\n",
              "      <td>NaN</td>\n",
              "    </tr>\n",
              "    <tr>\n",
              "      <th>1</th>\n",
              "      <td>Afghanistan</td>\n",
              "      <td>AFG</td>\n",
              "      <td>NaN</td>\n",
              "      <td>NaN</td>\n",
              "      <td>NaN</td>\n",
              "      <td>NaN</td>\n",
              "      <td>NaN</td>\n",
              "      <td>NaN</td>\n",
              "      <td>NaN</td>\n",
              "      <td>NaN</td>\n",
              "      <td>NaN</td>\n",
              "      <td>NaN</td>\n",
              "      <td>NaN</td>\n",
              "      <td>NaN</td>\n",
              "      <td>NaN</td>\n",
              "      <td>1.6</td>\n",
              "      <td>NaN</td>\n",
              "      <td>NaN</td>\n",
              "      <td>NaN</td>\n",
              "      <td>NaN</td>\n",
              "      <td>NaN</td>\n",
              "      <td>NaN</td>\n",
              "      <td>NaN</td>\n",
              "      <td>NaN</td>\n",
              "      <td>NaN</td>\n",
              "      <td>NaN</td>\n",
              "      <td>NaN</td>\n",
              "      <td>NaN</td>\n",
              "      <td>NaN</td>\n",
              "      <td>NaN</td>\n",
              "      <td>NaN</td>\n",
              "      <td>NaN</td>\n",
              "      <td>NaN</td>\n",
              "      <td>NaN</td>\n",
              "      <td>NaN</td>\n",
              "      <td>NaN</td>\n",
              "      <td>NaN</td>\n",
              "      <td>NaN</td>\n",
              "      <td>NaN</td>\n",
              "      <td>NaN</td>\n",
              "      <td>NaN</td>\n",
              "      <td>NaN</td>\n",
              "      <td>5.3</td>\n",
              "      <td>NaN</td>\n",
              "      <td>NaN</td>\n",
              "      <td>10.3</td>\n",
              "      <td>NaN</td>\n",
              "      <td>13.6</td>\n",
              "      <td>18.6</td>\n",
              "      <td>NaN</td>\n",
              "      <td>22.8</td>\n",
              "      <td>NaN</td>\n",
              "      <td>21.8</td>\n",
              "      <td>21.2</td>\n",
              "      <td>NaN</td>\n",
              "      <td>NaN</td>\n",
              "      <td>NaN</td>\n",
              "      <td>22.5</td>\n",
              "      <td>NaN</td>\n",
              "      <td>NaN</td>\n",
              "      <td>NaN</td>\n",
              "      <td>NaN</td>\n",
              "    </tr>\n",
              "    <tr>\n",
              "      <th>2</th>\n",
              "      <td>Angola</td>\n",
              "      <td>AGO</td>\n",
              "      <td>NaN</td>\n",
              "      <td>NaN</td>\n",
              "      <td>NaN</td>\n",
              "      <td>NaN</td>\n",
              "      <td>NaN</td>\n",
              "      <td>NaN</td>\n",
              "      <td>NaN</td>\n",
              "      <td>NaN</td>\n",
              "      <td>NaN</td>\n",
              "      <td>NaN</td>\n",
              "      <td>NaN</td>\n",
              "      <td>NaN</td>\n",
              "      <td>NaN</td>\n",
              "      <td>NaN</td>\n",
              "      <td>NaN</td>\n",
              "      <td>NaN</td>\n",
              "      <td>NaN</td>\n",
              "      <td>NaN</td>\n",
              "      <td>NaN</td>\n",
              "      <td>NaN</td>\n",
              "      <td>NaN</td>\n",
              "      <td>NaN</td>\n",
              "      <td>NaN</td>\n",
              "      <td>NaN</td>\n",
              "      <td>NaN</td>\n",
              "      <td>NaN</td>\n",
              "      <td>NaN</td>\n",
              "      <td>NaN</td>\n",
              "      <td>NaN</td>\n",
              "      <td>NaN</td>\n",
              "      <td>NaN</td>\n",
              "      <td>NaN</td>\n",
              "      <td>NaN</td>\n",
              "      <td>NaN</td>\n",
              "      <td>NaN</td>\n",
              "      <td>NaN</td>\n",
              "      <td>8.1</td>\n",
              "      <td>NaN</td>\n",
              "      <td>NaN</td>\n",
              "      <td>NaN</td>\n",
              "      <td>NaN</td>\n",
              "      <td>6.2</td>\n",
              "      <td>NaN</td>\n",
              "      <td>NaN</td>\n",
              "      <td>NaN</td>\n",
              "      <td>NaN</td>\n",
              "      <td>NaN</td>\n",
              "      <td>NaN</td>\n",
              "      <td>NaN</td>\n",
              "      <td>17.7</td>\n",
              "      <td>NaN</td>\n",
              "      <td>NaN</td>\n",
              "      <td>NaN</td>\n",
              "      <td>NaN</td>\n",
              "      <td>NaN</td>\n",
              "      <td>NaN</td>\n",
              "      <td>13.7</td>\n",
              "      <td>NaN</td>\n",
              "      <td>NaN</td>\n",
              "      <td>NaN</td>\n",
              "    </tr>\n",
              "    <tr>\n",
              "      <th>3</th>\n",
              "      <td>Albania</td>\n",
              "      <td>ALB</td>\n",
              "      <td>NaN</td>\n",
              "      <td>NaN</td>\n",
              "      <td>NaN</td>\n",
              "      <td>NaN</td>\n",
              "      <td>NaN</td>\n",
              "      <td>NaN</td>\n",
              "      <td>NaN</td>\n",
              "      <td>NaN</td>\n",
              "      <td>NaN</td>\n",
              "      <td>NaN</td>\n",
              "      <td>NaN</td>\n",
              "      <td>NaN</td>\n",
              "      <td>NaN</td>\n",
              "      <td>NaN</td>\n",
              "      <td>NaN</td>\n",
              "      <td>NaN</td>\n",
              "      <td>NaN</td>\n",
              "      <td>NaN</td>\n",
              "      <td>NaN</td>\n",
              "      <td>NaN</td>\n",
              "      <td>NaN</td>\n",
              "      <td>NaN</td>\n",
              "      <td>NaN</td>\n",
              "      <td>NaN</td>\n",
              "      <td>NaN</td>\n",
              "      <td>NaN</td>\n",
              "      <td>NaN</td>\n",
              "      <td>NaN</td>\n",
              "      <td>NaN</td>\n",
              "      <td>NaN</td>\n",
              "      <td>NaN</td>\n",
              "      <td>NaN</td>\n",
              "      <td>NaN</td>\n",
              "      <td>NaN</td>\n",
              "      <td>NaN</td>\n",
              "      <td>NaN</td>\n",
              "      <td>NaN</td>\n",
              "      <td>NaN</td>\n",
              "      <td>NaN</td>\n",
              "      <td>NaN</td>\n",
              "      <td>57.5</td>\n",
              "      <td>NaN</td>\n",
              "      <td>75.1</td>\n",
              "      <td>NaN</td>\n",
              "      <td>NaN</td>\n",
              "      <td>60.1</td>\n",
              "      <td>NaN</td>\n",
              "      <td>NaN</td>\n",
              "      <td>NaN</td>\n",
              "      <td>69.3</td>\n",
              "      <td>NaN</td>\n",
              "      <td>NaN</td>\n",
              "      <td>NaN</td>\n",
              "      <td>NaN</td>\n",
              "      <td>NaN</td>\n",
              "      <td>NaN</td>\n",
              "      <td>NaN</td>\n",
              "      <td>NaN</td>\n",
              "      <td>46.0</td>\n",
              "      <td>NaN</td>\n",
              "    </tr>\n",
              "    <tr>\n",
              "      <th>4</th>\n",
              "      <td>Andorra</td>\n",
              "      <td>AND</td>\n",
              "      <td>NaN</td>\n",
              "      <td>NaN</td>\n",
              "      <td>NaN</td>\n",
              "      <td>NaN</td>\n",
              "      <td>NaN</td>\n",
              "      <td>NaN</td>\n",
              "      <td>NaN</td>\n",
              "      <td>NaN</td>\n",
              "      <td>NaN</td>\n",
              "      <td>NaN</td>\n",
              "      <td>NaN</td>\n",
              "      <td>NaN</td>\n",
              "      <td>NaN</td>\n",
              "      <td>NaN</td>\n",
              "      <td>NaN</td>\n",
              "      <td>NaN</td>\n",
              "      <td>NaN</td>\n",
              "      <td>NaN</td>\n",
              "      <td>NaN</td>\n",
              "      <td>NaN</td>\n",
              "      <td>NaN</td>\n",
              "      <td>NaN</td>\n",
              "      <td>NaN</td>\n",
              "      <td>NaN</td>\n",
              "      <td>NaN</td>\n",
              "      <td>NaN</td>\n",
              "      <td>NaN</td>\n",
              "      <td>NaN</td>\n",
              "      <td>NaN</td>\n",
              "      <td>NaN</td>\n",
              "      <td>NaN</td>\n",
              "      <td>NaN</td>\n",
              "      <td>NaN</td>\n",
              "      <td>NaN</td>\n",
              "      <td>NaN</td>\n",
              "      <td>NaN</td>\n",
              "      <td>NaN</td>\n",
              "      <td>NaN</td>\n",
              "      <td>NaN</td>\n",
              "      <td>NaN</td>\n",
              "      <td>NaN</td>\n",
              "      <td>NaN</td>\n",
              "      <td>NaN</td>\n",
              "      <td>NaN</td>\n",
              "      <td>NaN</td>\n",
              "      <td>NaN</td>\n",
              "      <td>NaN</td>\n",
              "      <td>NaN</td>\n",
              "      <td>NaN</td>\n",
              "      <td>NaN</td>\n",
              "      <td>NaN</td>\n",
              "      <td>NaN</td>\n",
              "      <td>NaN</td>\n",
              "      <td>NaN</td>\n",
              "      <td>NaN</td>\n",
              "      <td>NaN</td>\n",
              "      <td>NaN</td>\n",
              "      <td>NaN</td>\n",
              "      <td>NaN</td>\n",
              "      <td>NaN</td>\n",
              "    </tr>\n",
              "    <tr>\n",
              "      <th>...</th>\n",
              "      <td>...</td>\n",
              "      <td>...</td>\n",
              "      <td>...</td>\n",
              "      <td>...</td>\n",
              "      <td>...</td>\n",
              "      <td>...</td>\n",
              "      <td>...</td>\n",
              "      <td>...</td>\n",
              "      <td>...</td>\n",
              "      <td>...</td>\n",
              "      <td>...</td>\n",
              "      <td>...</td>\n",
              "      <td>...</td>\n",
              "      <td>...</td>\n",
              "      <td>...</td>\n",
              "      <td>...</td>\n",
              "      <td>...</td>\n",
              "      <td>...</td>\n",
              "      <td>...</td>\n",
              "      <td>...</td>\n",
              "      <td>...</td>\n",
              "      <td>...</td>\n",
              "      <td>...</td>\n",
              "      <td>...</td>\n",
              "      <td>...</td>\n",
              "      <td>...</td>\n",
              "      <td>...</td>\n",
              "      <td>...</td>\n",
              "      <td>...</td>\n",
              "      <td>...</td>\n",
              "      <td>...</td>\n",
              "      <td>...</td>\n",
              "      <td>...</td>\n",
              "      <td>...</td>\n",
              "      <td>...</td>\n",
              "      <td>...</td>\n",
              "      <td>...</td>\n",
              "      <td>...</td>\n",
              "      <td>...</td>\n",
              "      <td>...</td>\n",
              "      <td>...</td>\n",
              "      <td>...</td>\n",
              "      <td>...</td>\n",
              "      <td>...</td>\n",
              "      <td>...</td>\n",
              "      <td>...</td>\n",
              "      <td>...</td>\n",
              "      <td>...</td>\n",
              "      <td>...</td>\n",
              "      <td>...</td>\n",
              "      <td>...</td>\n",
              "      <td>...</td>\n",
              "      <td>...</td>\n",
              "      <td>...</td>\n",
              "      <td>...</td>\n",
              "      <td>...</td>\n",
              "      <td>...</td>\n",
              "      <td>...</td>\n",
              "      <td>...</td>\n",
              "      <td>...</td>\n",
              "      <td>...</td>\n",
              "      <td>...</td>\n",
              "    </tr>\n",
              "    <tr>\n",
              "      <th>259</th>\n",
              "      <td>Kosovo</td>\n",
              "      <td>XKX</td>\n",
              "      <td>NaN</td>\n",
              "      <td>NaN</td>\n",
              "      <td>NaN</td>\n",
              "      <td>NaN</td>\n",
              "      <td>NaN</td>\n",
              "      <td>NaN</td>\n",
              "      <td>NaN</td>\n",
              "      <td>NaN</td>\n",
              "      <td>NaN</td>\n",
              "      <td>NaN</td>\n",
              "      <td>NaN</td>\n",
              "      <td>NaN</td>\n",
              "      <td>NaN</td>\n",
              "      <td>NaN</td>\n",
              "      <td>NaN</td>\n",
              "      <td>NaN</td>\n",
              "      <td>NaN</td>\n",
              "      <td>NaN</td>\n",
              "      <td>NaN</td>\n",
              "      <td>NaN</td>\n",
              "      <td>NaN</td>\n",
              "      <td>NaN</td>\n",
              "      <td>NaN</td>\n",
              "      <td>NaN</td>\n",
              "      <td>NaN</td>\n",
              "      <td>NaN</td>\n",
              "      <td>NaN</td>\n",
              "      <td>NaN</td>\n",
              "      <td>NaN</td>\n",
              "      <td>NaN</td>\n",
              "      <td>NaN</td>\n",
              "      <td>NaN</td>\n",
              "      <td>NaN</td>\n",
              "      <td>NaN</td>\n",
              "      <td>NaN</td>\n",
              "      <td>NaN</td>\n",
              "      <td>NaN</td>\n",
              "      <td>NaN</td>\n",
              "      <td>NaN</td>\n",
              "      <td>NaN</td>\n",
              "      <td>NaN</td>\n",
              "      <td>NaN</td>\n",
              "      <td>NaN</td>\n",
              "      <td>NaN</td>\n",
              "      <td>NaN</td>\n",
              "      <td>NaN</td>\n",
              "      <td>NaN</td>\n",
              "      <td>NaN</td>\n",
              "      <td>NaN</td>\n",
              "      <td>NaN</td>\n",
              "      <td>NaN</td>\n",
              "      <td>NaN</td>\n",
              "      <td>NaN</td>\n",
              "      <td>NaN</td>\n",
              "      <td>NaN</td>\n",
              "      <td>NaN</td>\n",
              "      <td>NaN</td>\n",
              "      <td>NaN</td>\n",
              "      <td>NaN</td>\n",
              "      <td>NaN</td>\n",
              "    </tr>\n",
              "    <tr>\n",
              "      <th>260</th>\n",
              "      <td>Yemen, Rep.</td>\n",
              "      <td>YEM</td>\n",
              "      <td>NaN</td>\n",
              "      <td>NaN</td>\n",
              "      <td>NaN</td>\n",
              "      <td>NaN</td>\n",
              "      <td>NaN</td>\n",
              "      <td>NaN</td>\n",
              "      <td>NaN</td>\n",
              "      <td>NaN</td>\n",
              "      <td>NaN</td>\n",
              "      <td>NaN</td>\n",
              "      <td>NaN</td>\n",
              "      <td>NaN</td>\n",
              "      <td>NaN</td>\n",
              "      <td>NaN</td>\n",
              "      <td>NaN</td>\n",
              "      <td>NaN</td>\n",
              "      <td>NaN</td>\n",
              "      <td>NaN</td>\n",
              "      <td>NaN</td>\n",
              "      <td>1.7</td>\n",
              "      <td>NaN</td>\n",
              "      <td>NaN</td>\n",
              "      <td>NaN</td>\n",
              "      <td>NaN</td>\n",
              "      <td>NaN</td>\n",
              "      <td>NaN</td>\n",
              "      <td>NaN</td>\n",
              "      <td>NaN</td>\n",
              "      <td>NaN</td>\n",
              "      <td>NaN</td>\n",
              "      <td>NaN</td>\n",
              "      <td>NaN</td>\n",
              "      <td>9.7</td>\n",
              "      <td>NaN</td>\n",
              "      <td>NaN</td>\n",
              "      <td>NaN</td>\n",
              "      <td>NaN</td>\n",
              "      <td>20.8</td>\n",
              "      <td>NaN</td>\n",
              "      <td>NaN</td>\n",
              "      <td>NaN</td>\n",
              "      <td>NaN</td>\n",
              "      <td>NaN</td>\n",
              "      <td>23.1</td>\n",
              "      <td>NaN</td>\n",
              "      <td>NaN</td>\n",
              "      <td>27.7</td>\n",
              "      <td>NaN</td>\n",
              "      <td>NaN</td>\n",
              "      <td>NaN</td>\n",
              "      <td>NaN</td>\n",
              "      <td>NaN</td>\n",
              "      <td>NaN</td>\n",
              "      <td>33.5</td>\n",
              "      <td>NaN</td>\n",
              "      <td>NaN</td>\n",
              "      <td>NaN</td>\n",
              "      <td>NaN</td>\n",
              "      <td>NaN</td>\n",
              "      <td>NaN</td>\n",
              "    </tr>\n",
              "    <tr>\n",
              "      <th>261</th>\n",
              "      <td>South Africa</td>\n",
              "      <td>ZAF</td>\n",
              "      <td>NaN</td>\n",
              "      <td>NaN</td>\n",
              "      <td>NaN</td>\n",
              "      <td>NaN</td>\n",
              "      <td>NaN</td>\n",
              "      <td>NaN</td>\n",
              "      <td>NaN</td>\n",
              "      <td>NaN</td>\n",
              "      <td>NaN</td>\n",
              "      <td>NaN</td>\n",
              "      <td>NaN</td>\n",
              "      <td>NaN</td>\n",
              "      <td>NaN</td>\n",
              "      <td>NaN</td>\n",
              "      <td>NaN</td>\n",
              "      <td>NaN</td>\n",
              "      <td>NaN</td>\n",
              "      <td>NaN</td>\n",
              "      <td>NaN</td>\n",
              "      <td>NaN</td>\n",
              "      <td>48.0</td>\n",
              "      <td>NaN</td>\n",
              "      <td>NaN</td>\n",
              "      <td>NaN</td>\n",
              "      <td>NaN</td>\n",
              "      <td>NaN</td>\n",
              "      <td>NaN</td>\n",
              "      <td>NaN</td>\n",
              "      <td>49.7</td>\n",
              "      <td>NaN</td>\n",
              "      <td>57.0</td>\n",
              "      <td>NaN</td>\n",
              "      <td>NaN</td>\n",
              "      <td>NaN</td>\n",
              "      <td>NaN</td>\n",
              "      <td>NaN</td>\n",
              "      <td>NaN</td>\n",
              "      <td>NaN</td>\n",
              "      <td>56.3</td>\n",
              "      <td>NaN</td>\n",
              "      <td>NaN</td>\n",
              "      <td>NaN</td>\n",
              "      <td>NaN</td>\n",
              "      <td>59.9</td>\n",
              "      <td>NaN</td>\n",
              "      <td>NaN</td>\n",
              "      <td>NaN</td>\n",
              "      <td>NaN</td>\n",
              "      <td>NaN</td>\n",
              "      <td>NaN</td>\n",
              "      <td>NaN</td>\n",
              "      <td>NaN</td>\n",
              "      <td>NaN</td>\n",
              "      <td>NaN</td>\n",
              "      <td>NaN</td>\n",
              "      <td>NaN</td>\n",
              "      <td>54.6</td>\n",
              "      <td>NaN</td>\n",
              "      <td>NaN</td>\n",
              "      <td>NaN</td>\n",
              "    </tr>\n",
              "    <tr>\n",
              "      <th>262</th>\n",
              "      <td>Zambia</td>\n",
              "      <td>ZMB</td>\n",
              "      <td>NaN</td>\n",
              "      <td>NaN</td>\n",
              "      <td>NaN</td>\n",
              "      <td>NaN</td>\n",
              "      <td>NaN</td>\n",
              "      <td>NaN</td>\n",
              "      <td>NaN</td>\n",
              "      <td>NaN</td>\n",
              "      <td>NaN</td>\n",
              "      <td>NaN</td>\n",
              "      <td>NaN</td>\n",
              "      <td>NaN</td>\n",
              "      <td>NaN</td>\n",
              "      <td>NaN</td>\n",
              "      <td>NaN</td>\n",
              "      <td>NaN</td>\n",
              "      <td>NaN</td>\n",
              "      <td>NaN</td>\n",
              "      <td>NaN</td>\n",
              "      <td>NaN</td>\n",
              "      <td>NaN</td>\n",
              "      <td>NaN</td>\n",
              "      <td>NaN</td>\n",
              "      <td>NaN</td>\n",
              "      <td>NaN</td>\n",
              "      <td>NaN</td>\n",
              "      <td>NaN</td>\n",
              "      <td>NaN</td>\n",
              "      <td>NaN</td>\n",
              "      <td>NaN</td>\n",
              "      <td>NaN</td>\n",
              "      <td>NaN</td>\n",
              "      <td>15.2</td>\n",
              "      <td>NaN</td>\n",
              "      <td>NaN</td>\n",
              "      <td>NaN</td>\n",
              "      <td>25.9</td>\n",
              "      <td>NaN</td>\n",
              "      <td>NaN</td>\n",
              "      <td>22.0</td>\n",
              "      <td>NaN</td>\n",
              "      <td>NaN</td>\n",
              "      <td>34.2</td>\n",
              "      <td>NaN</td>\n",
              "      <td>NaN</td>\n",
              "      <td>NaN</td>\n",
              "      <td>NaN</td>\n",
              "      <td>40.8</td>\n",
              "      <td>NaN</td>\n",
              "      <td>NaN</td>\n",
              "      <td>NaN</td>\n",
              "      <td>NaN</td>\n",
              "      <td>NaN</td>\n",
              "      <td>NaN</td>\n",
              "      <td>49.0</td>\n",
              "      <td>NaN</td>\n",
              "      <td>NaN</td>\n",
              "      <td>NaN</td>\n",
              "      <td>NaN</td>\n",
              "      <td>NaN</td>\n",
              "    </tr>\n",
              "    <tr>\n",
              "      <th>263</th>\n",
              "      <td>Zimbabwe</td>\n",
              "      <td>ZWE</td>\n",
              "      <td>NaN</td>\n",
              "      <td>NaN</td>\n",
              "      <td>NaN</td>\n",
              "      <td>NaN</td>\n",
              "      <td>NaN</td>\n",
              "      <td>NaN</td>\n",
              "      <td>NaN</td>\n",
              "      <td>NaN</td>\n",
              "      <td>NaN</td>\n",
              "      <td>NaN</td>\n",
              "      <td>NaN</td>\n",
              "      <td>NaN</td>\n",
              "      <td>NaN</td>\n",
              "      <td>NaN</td>\n",
              "      <td>NaN</td>\n",
              "      <td>NaN</td>\n",
              "      <td>NaN</td>\n",
              "      <td>NaN</td>\n",
              "      <td>NaN</td>\n",
              "      <td>NaN</td>\n",
              "      <td>NaN</td>\n",
              "      <td>NaN</td>\n",
              "      <td>NaN</td>\n",
              "      <td>NaN</td>\n",
              "      <td>38.4</td>\n",
              "      <td>NaN</td>\n",
              "      <td>NaN</td>\n",
              "      <td>NaN</td>\n",
              "      <td>43.1</td>\n",
              "      <td>NaN</td>\n",
              "      <td>NaN</td>\n",
              "      <td>NaN</td>\n",
              "      <td>NaN</td>\n",
              "      <td>NaN</td>\n",
              "      <td>48.1</td>\n",
              "      <td>NaN</td>\n",
              "      <td>NaN</td>\n",
              "      <td>NaN</td>\n",
              "      <td>NaN</td>\n",
              "      <td>53.5</td>\n",
              "      <td>NaN</td>\n",
              "      <td>NaN</td>\n",
              "      <td>NaN</td>\n",
              "      <td>NaN</td>\n",
              "      <td>NaN</td>\n",
              "      <td>NaN</td>\n",
              "      <td>60.2</td>\n",
              "      <td>NaN</td>\n",
              "      <td>NaN</td>\n",
              "      <td>64.9</td>\n",
              "      <td>NaN</td>\n",
              "      <td>58.5</td>\n",
              "      <td>NaN</td>\n",
              "      <td>NaN</td>\n",
              "      <td>66.9</td>\n",
              "      <td>66.8</td>\n",
              "      <td>NaN</td>\n",
              "      <td>NaN</td>\n",
              "      <td>NaN</td>\n",
              "      <td>NaN</td>\n",
              "    </tr>\n",
              "  </tbody>\n",
              "</table>\n",
              "<p>264 rows × 62 columns</p>\n",
              "</div>"
            ],
            "text/plain": [
              "     Country Name Country Code  1960  1961  1962  ...  2015  2016  2017  2018  2019\n",
              "0           Aruba          ABW   NaN   NaN   NaN  ...   NaN   NaN   NaN   NaN   NaN\n",
              "1     Afghanistan          AFG   NaN   NaN   NaN  ...  22.5   NaN   NaN   NaN   NaN\n",
              "2          Angola          AGO   NaN   NaN   NaN  ...   NaN  13.7   NaN   NaN   NaN\n",
              "3         Albania          ALB   NaN   NaN   NaN  ...   NaN   NaN   NaN  46.0   NaN\n",
              "4         Andorra          AND   NaN   NaN   NaN  ...   NaN   NaN   NaN   NaN   NaN\n",
              "..            ...          ...   ...   ...   ...  ...   ...   ...   ...   ...   ...\n",
              "259        Kosovo          XKX   NaN   NaN   NaN  ...   NaN   NaN   NaN   NaN   NaN\n",
              "260   Yemen, Rep.          YEM   NaN   NaN   NaN  ...   NaN   NaN   NaN   NaN   NaN\n",
              "261  South Africa          ZAF   NaN   NaN   NaN  ...   NaN  54.6   NaN   NaN   NaN\n",
              "262        Zambia          ZMB   NaN   NaN   NaN  ...   NaN   NaN   NaN   NaN   NaN\n",
              "263      Zimbabwe          ZWE   NaN   NaN   NaN  ...  66.8   NaN   NaN   NaN   NaN\n",
              "\n",
              "[264 rows x 62 columns]"
            ]
          },
          "metadata": {
            "tags": []
          },
          "execution_count": 8
        }
      ]
    },
    {
      "cell_type": "markdown",
      "metadata": {
        "id": "isBEB0dhc7YB",
        "colab_type": "text"
      },
      "source": [
        "## **Exploratory Data Analysis**"
      ]
    },
    {
      "cell_type": "markdown",
      "metadata": {
        "id": "v9WW9s4Pdk1n",
        "colab_type": "text"
      },
      "source": [
        "Below are some simple visualizations to see existing relationships between the different contraceptive types and other features in our data. "
      ]
    },
    {
      "cell_type": "markdown",
      "metadata": {
        "id": "n1eGDgTSjjbO",
        "colab_type": "text"
      },
      "source": [
        "The first visualization shows the relationship between contraceptive method used and the wives' ages: "
      ]
    },
    {
      "cell_type": "code",
      "metadata": {
        "id": "48gKVtLmb19c",
        "colab_type": "code",
        "outputId": "d4229ae8-b9f7-41b3-f58e-1dfaf8155de5",
        "colab": {
          "base_uri": "https://localhost:8080/",
          "height": 367
        }
      },
      "source": [
        "plt.figure(figsize=(6, 5))\n",
        "sns.boxplot(data=birth_control, x='contraceptive', y='wife_age')\n",
        "plt.xticks([0, 1, 2], [\"None\", \"Long-Term\", \"Short-Term\"])\n",
        "plt.xlabel('Duration of Contraceptive Use')\n",
        "plt.ylabel('Wife Age')\n",
        "plt.title('Contraceptive Method and Age of Wife')"
      ],
      "execution_count": 9,
      "outputs": [
        {
          "output_type": "execute_result",
          "data": {
            "text/plain": [
              "Text(0.5, 1.0, 'Contraceptive Method and Age of Wife')"
            ]
          },
          "metadata": {
            "tags": []
          },
          "execution_count": 9
        },
        {
          "output_type": "display_data",
          "data": {
            "image/png": "[encoded data removed]",
            "text/plain": [
              "<Figure size 432x360 with 1 Axes>"
            ]
          },
          "metadata": {
            "tags": [],
            "needs_background": "light"
          }
        }
      ]
    },
    {
      "cell_type": "markdown",
      "metadata": {
        "id": "HS49Hk22fVpq",
        "colab_type": "text"
      },
      "source": [
        "We can see that as wives' ages increase, they go from preferring short-term contraception to no methods to long-term contraception. \n",
        "\n",
        "This is an interesting pattern--it could be because younger women who don't want to bear children use short-term contraceptive methods in case they want to have children in the future. Meanwhile, as women reach \"child-rearing age\", they temporarily pause the use of contraceptive methods. Later on, when women decide they don't want to have more children, they opt for long-term birth control until they reach menopause. "
      ]
    },
    {
      "cell_type": "markdown",
      "metadata": {
        "id": "I5K8WJhWhrsA",
        "colab_type": "text"
      },
      "source": [
        "Below, we observe the distribution of wives' ages in our data: "
      ]
    },
    {
      "cell_type": "code",
      "metadata": {
        "id": "Fh8BThOXcVJm",
        "colab_type": "code",
        "outputId": "3a4e1deb-ca2a-4098-f1ad-dc54c489a9c2",
        "colab": {
          "base_uri": "https://localhost:8080/",
          "height": 421
        }
      },
      "source": [
        "plt.figure(figsize=(9, 6))\n",
        "sns.distplot(birth_control[\"wife_age\"], hist_kws=dict(edgecolor=\"w\", linewidth=2))\n",
        "plt.xlabel(\"Wives' Ages\")\n",
        "plt.ylabel('Proportion of Wives')\n",
        "plt.title(\"Wives' Age Distribution\")"
      ],
      "execution_count": 10,
      "outputs": [
        {
          "output_type": "execute_result",
          "data": {
            "text/plain": [
              "Text(0.5, 1.0, \"Wives' Age Distribution\")"
            ]
          },
          "metadata": {
            "tags": []
          },
          "execution_count": 10
        },
        {
          "output_type": "display_data",
          "data": {
            "image/png": "[encoded data removed]",
            "text/plain": [
              "<Figure size 648x432 with 1 Axes>"
            ]
          },
          "metadata": {
            "tags": [],
            "needs_background": "light"
          }
        }
      ]
    },
    {
      "cell_type": "markdown",
      "metadata": {
        "id": "rTJa6TY3fsDt",
        "colab_type": "text"
      },
      "source": [
        "We can also take a look at the level of education for both the wives and husbands in our data: "
      ]
    },
    {
      "cell_type": "code",
      "metadata": {
        "id": "eK_7YtEeUaai",
        "colab_type": "code",
        "colab": {}
      },
      "source": [
        "wife_educated_count = birth_control['wife_education'].value_counts()\n",
        "husband_educated_count = birth_control['husband_education'].value_counts()"
      ],
      "execution_count": 0,
      "outputs": []
    },
    {
      "cell_type": "code",
      "metadata": {
        "id": "8G3PR76zTYzK",
        "colab_type": "code",
        "outputId": "15d57561-4ce7-46f8-a740-75c67aaab036",
        "colab": {
          "base_uri": "https://localhost:8080/",
          "height": 350
        }
      },
      "source": [
        "plt.figure(figsize=(12, 5))\n",
        "\n",
        "plt.subplot(1, 2, 1)\n",
        "sns.barplot(x=wife_educated_count.index, y=wife_educated_count)\n",
        "plt.xticks([0, 1, 2, 3], [\"Low\", \"Lower Middle\", \"Upper Middle\", 'High'])\n",
        "plt.xlabel('Level of Education')\n",
        "plt.ylabel('Number of Wives')\n",
        "plt.title('Levels of Education Attained by Wives')\n",
        "\n",
        "plt.subplot(1, 2, 2)\n",
        "sns.barplot(x=husband_educated_count.index, y=husband_educated_count)\n",
        "plt.xticks([0, 1, 2, 3], [\"Low\", \"Lower Middle\", \"Upper Middle\", 'High'])\n",
        "plt.xlabel('Level of Education')\n",
        "plt.ylabel('Number of Husbands')\n",
        "plt.title('Levels of Education Attained by Husbands');"
      ],
      "execution_count": 12,
      "outputs": [
        {
          "output_type": "display_data",
          "data": {
            "image/png": "[encoded data removed]",
            "text/plain": [
              "<Figure size 864x360 with 2 Axes>"
            ]
          },
          "metadata": {
            "tags": [],
            "needs_background": "light"
          }
        }
      ]
    },
    {
      "cell_type": "markdown",
      "metadata": {
        "id": "8-ZWMQ2BglHO",
        "colab_type": "text"
      },
      "source": [
        "We can see that both wives and husbands in our data are well-educated, with the highest level of education claiming the largest number in both groups."
      ]
    },
    {
      "cell_type": "markdown",
      "metadata": {
        "id": "zA1KhTqV4ayj",
        "colab_type": "text"
      },
      "source": [
        "## **Question 1: What is the correlation between contraception prevalence and contraception method, and socioeconomic status?**"
      ]
    },
    {
      "cell_type": "markdown",
      "metadata": {
        "id": "Mis0LBZVN8o_",
        "colab_type": "text"
      },
      "source": [
        "According to the dataset information (https://archive.ics.uci.edu/ml/datasets/Contraceptive+Method+Choice):\n",
        "\n",
        "*   A higher standard-of-living index represents a higher standard of living overall (1 - lowest, 2, 3, 4 - highest)\n",
        "*   The contraceptive methods used are among the following: 1 - No use, 2 - Long-term, 3 - Short-term"
      ]
    },
    {
      "cell_type": "markdown",
      "metadata": {
        "id": "_m5MV7q7N50d",
        "colab_type": "text"
      },
      "source": [
        "I decided to incorporate the foreign datasets to look at contraception prevalence (which is not really observed in the given dataset) in countries around the world. We first address the relationship between **contraception prevalence** and **socioeconomic status** in different countries around the world from one of the found datasets: "
      ]
    },
    {
      "cell_type": "code",
      "metadata": {
        "id": "s1NSBB69PUCw",
        "colab_type": "code",
        "colab": {}
      },
      "source": [
        "country['IncomeGroup'] = country['IncomeGroup'].replace({'High income': '4', 'Upper middle income': '3', 'Lower middle income': '2', 'Low income': '1'}).fillna('0')"
      ],
      "execution_count": 0,
      "outputs": []
    },
    {
      "cell_type": "code",
      "metadata": {
        "id": "lqPDhqslQaJy",
        "colab_type": "code",
        "outputId": "337ea98c-4c8e-4818-855a-04a452f8fe85",
        "colab": {
          "base_uri": "https://localhost:8080/",
          "height": 419
        }
      },
      "source": [
        "country_income = country[['Country Code', 'Region', 'Country Name', 'IncomeGroup']]\n",
        "country_income"
      ],
      "execution_count": 14,
      "outputs": [
        {
          "output_type": "execute_result",
          "data": {
            "text/html": [
              "<div>\n",
              "<style scoped>\n",
              "    .dataframe tbody tr th:only-of-type {\n",
              "        vertical-align: middle;\n",
              "    }\n",
              "\n",
              "    .dataframe tbody tr th {\n",
              "        vertical-align: top;\n",
              "    }\n",
              "\n",
              "    .dataframe thead th {\n",
              "        text-align: right;\n",
              "    }\n",
              "</style>\n",
              "<table border=\"1\" class=\"dataframe\">\n",
              "  <thead>\n",
              "    <tr style=\"text-align: right;\">\n",
              "      <th></th>\n",
              "      <th>Country Code</th>\n",
              "      <th>Region</th>\n",
              "      <th>Country Name</th>\n",
              "      <th>IncomeGroup</th>\n",
              "    </tr>\n",
              "  </thead>\n",
              "  <tbody>\n",
              "    <tr>\n",
              "      <th>0</th>\n",
              "      <td>ABW</td>\n",
              "      <td>Latin America &amp; Caribbean</td>\n",
              "      <td>Aruba</td>\n",
              "      <td>4</td>\n",
              "    </tr>\n",
              "    <tr>\n",
              "      <th>1</th>\n",
              "      <td>AFG</td>\n",
              "      <td>South Asia</td>\n",
              "      <td>Afghanistan</td>\n",
              "      <td>1</td>\n",
              "    </tr>\n",
              "    <tr>\n",
              "      <th>2</th>\n",
              "      <td>AGO</td>\n",
              "      <td>Sub-Saharan Africa</td>\n",
              "      <td>Angola</td>\n",
              "      <td>2</td>\n",
              "    </tr>\n",
              "    <tr>\n",
              "      <th>3</th>\n",
              "      <td>ALB</td>\n",
              "      <td>Europe &amp; Central Asia</td>\n",
              "      <td>Albania</td>\n",
              "      <td>3</td>\n",
              "    </tr>\n",
              "    <tr>\n",
              "      <th>4</th>\n",
              "      <td>AND</td>\n",
              "      <td>Europe &amp; Central Asia</td>\n",
              "      <td>Andorra</td>\n",
              "      <td>4</td>\n",
              "    </tr>\n",
              "    <tr>\n",
              "      <th>...</th>\n",
              "      <td>...</td>\n",
              "      <td>...</td>\n",
              "      <td>...</td>\n",
              "      <td>...</td>\n",
              "    </tr>\n",
              "    <tr>\n",
              "      <th>258</th>\n",
              "      <td>XKX</td>\n",
              "      <td>Europe &amp; Central Asia</td>\n",
              "      <td>Kosovo</td>\n",
              "      <td>3</td>\n",
              "    </tr>\n",
              "    <tr>\n",
              "      <th>259</th>\n",
              "      <td>YEM</td>\n",
              "      <td>Middle East &amp; North Africa</td>\n",
              "      <td>Yemen, Rep.</td>\n",
              "      <td>1</td>\n",
              "    </tr>\n",
              "    <tr>\n",
              "      <th>260</th>\n",
              "      <td>ZAF</td>\n",
              "      <td>Sub-Saharan Africa</td>\n",
              "      <td>South Africa</td>\n",
              "      <td>3</td>\n",
              "    </tr>\n",
              "    <tr>\n",
              "      <th>261</th>\n",
              "      <td>ZMB</td>\n",
              "      <td>Sub-Saharan Africa</td>\n",
              "      <td>Zambia</td>\n",
              "      <td>2</td>\n",
              "    </tr>\n",
              "    <tr>\n",
              "      <th>262</th>\n",
              "      <td>ZWE</td>\n",
              "      <td>Sub-Saharan Africa</td>\n",
              "      <td>Zimbabwe</td>\n",
              "      <td>2</td>\n",
              "    </tr>\n",
              "  </tbody>\n",
              "</table>\n",
              "<p>263 rows × 4 columns</p>\n",
              "</div>"
            ],
            "text/plain": [
              "    Country Code                      Region  Country Name IncomeGroup\n",
              "0            ABW   Latin America & Caribbean         Aruba           4\n",
              "1            AFG                  South Asia   Afghanistan           1\n",
              "2            AGO          Sub-Saharan Africa        Angola           2\n",
              "3            ALB       Europe & Central Asia       Albania           3\n",
              "4            AND       Europe & Central Asia       Andorra           4\n",
              "..           ...                         ...           ...         ...\n",
              "258          XKX       Europe & Central Asia        Kosovo           3\n",
              "259          YEM  Middle East & North Africa   Yemen, Rep.           1\n",
              "260          ZAF          Sub-Saharan Africa  South Africa           3\n",
              "261          ZMB          Sub-Saharan Africa        Zambia           2\n",
              "262          ZWE          Sub-Saharan Africa      Zimbabwe           2\n",
              "\n",
              "[263 rows x 4 columns]"
            ]
          },
          "metadata": {
            "tags": []
          },
          "execution_count": 14
        }
      ]
    },
    {
      "cell_type": "code",
      "metadata": {
        "id": "_n00U7pfg5fo",
        "colab_type": "code",
        "colab": {}
      },
      "source": [
        "#Initializing a new 'Recent Prevalence' column which shows the most recent value of contraception prevalence per country (in %)\n",
        "prev['Recent Prevalence'] = 0 \n",
        "prev = prev.fillna(0) \n",
        "years = prev.iloc[:, 2:-1]"
      ],
      "execution_count": 0,
      "outputs": []
    },
    {
      "cell_type": "code",
      "metadata": {
        "id": "12DG7symhtX8",
        "colab_type": "code",
        "outputId": "4683f45e-2a09-4220-d9da-ce4629cc62cc",
        "colab": {
          "base_uri": "https://localhost:8080/",
          "height": 419
        }
      },
      "source": [
        "length, width = years.shape \n",
        "\n",
        "#Replacing the initialized 0 in the 'Recent Prevalence' column with the most recent contraception prevalence\n",
        "for i in range(width): \n",
        "  for j in range(length): \n",
        "    if years.iloc[j, i] != 0: \n",
        "      prev.loc[j,'Recent Prevalence'] = years.iloc[j, i]\n",
        "      # changed prev['Recent Prevalence'].iloc[j] = years.iloc[j, i] to prevent warning\n",
        "\n",
        "recent_prev = prev[['Country Name', 'Country Code', 'Recent Prevalence']]\n",
        "recent_prev"
      ],
      "execution_count": 16,
      "outputs": [
        {
          "output_type": "execute_result",
          "data": {
            "text/html": [
              "<div>\n",
              "<style scoped>\n",
              "    .dataframe tbody tr th:only-of-type {\n",
              "        vertical-align: middle;\n",
              "    }\n",
              "\n",
              "    .dataframe tbody tr th {\n",
              "        vertical-align: top;\n",
              "    }\n",
              "\n",
              "    .dataframe thead th {\n",
              "        text-align: right;\n",
              "    }\n",
              "</style>\n",
              "<table border=\"1\" class=\"dataframe\">\n",
              "  <thead>\n",
              "    <tr style=\"text-align: right;\">\n",
              "      <th></th>\n",
              "      <th>Country Name</th>\n",
              "      <th>Country Code</th>\n",
              "      <th>Recent Prevalence</th>\n",
              "    </tr>\n",
              "  </thead>\n",
              "  <tbody>\n",
              "    <tr>\n",
              "      <th>0</th>\n",
              "      <td>Aruba</td>\n",
              "      <td>ABW</td>\n",
              "      <td>0.0</td>\n",
              "    </tr>\n",
              "    <tr>\n",
              "      <th>1</th>\n",
              "      <td>Afghanistan</td>\n",
              "      <td>AFG</td>\n",
              "      <td>22.5</td>\n",
              "    </tr>\n",
              "    <tr>\n",
              "      <th>2</th>\n",
              "      <td>Angola</td>\n",
              "      <td>AGO</td>\n",
              "      <td>13.7</td>\n",
              "    </tr>\n",
              "    <tr>\n",
              "      <th>3</th>\n",
              "      <td>Albania</td>\n",
              "      <td>ALB</td>\n",
              "      <td>46.0</td>\n",
              "    </tr>\n",
              "    <tr>\n",
              "      <th>4</th>\n",
              "      <td>Andorra</td>\n",
              "      <td>AND</td>\n",
              "      <td>0.0</td>\n",
              "    </tr>\n",
              "    <tr>\n",
              "      <th>...</th>\n",
              "      <td>...</td>\n",
              "      <td>...</td>\n",
              "      <td>...</td>\n",
              "    </tr>\n",
              "    <tr>\n",
              "      <th>259</th>\n",
              "      <td>Kosovo</td>\n",
              "      <td>XKX</td>\n",
              "      <td>0.0</td>\n",
              "    </tr>\n",
              "    <tr>\n",
              "      <th>260</th>\n",
              "      <td>Yemen, Rep.</td>\n",
              "      <td>YEM</td>\n",
              "      <td>33.5</td>\n",
              "    </tr>\n",
              "    <tr>\n",
              "      <th>261</th>\n",
              "      <td>South Africa</td>\n",
              "      <td>ZAF</td>\n",
              "      <td>54.6</td>\n",
              "    </tr>\n",
              "    <tr>\n",
              "      <th>262</th>\n",
              "      <td>Zambia</td>\n",
              "      <td>ZMB</td>\n",
              "      <td>49.0</td>\n",
              "    </tr>\n",
              "    <tr>\n",
              "      <th>263</th>\n",
              "      <td>Zimbabwe</td>\n",
              "      <td>ZWE</td>\n",
              "      <td>66.8</td>\n",
              "    </tr>\n",
              "  </tbody>\n",
              "</table>\n",
              "<p>264 rows × 3 columns</p>\n",
              "</div>"
            ],
            "text/plain": [
              "     Country Name Country Code  Recent Prevalence\n",
              "0           Aruba          ABW                0.0\n",
              "1     Afghanistan          AFG               22.5\n",
              "2          Angola          AGO               13.7\n",
              "3         Albania          ALB               46.0\n",
              "4         Andorra          AND                0.0\n",
              "..            ...          ...                ...\n",
              "259        Kosovo          XKX                0.0\n",
              "260   Yemen, Rep.          YEM               33.5\n",
              "261  South Africa          ZAF               54.6\n",
              "262        Zambia          ZMB               49.0\n",
              "263      Zimbabwe          ZWE               66.8\n",
              "\n",
              "[264 rows x 3 columns]"
            ]
          },
          "metadata": {
            "tags": []
          },
          "execution_count": 16
        }
      ]
    },
    {
      "cell_type": "markdown",
      "metadata": {
        "id": "vNoO-__hixYZ",
        "colab_type": "text"
      },
      "source": [
        "In the above cell, I created a new 'Recent' column to take the most recent contraception prevalence. I used this information for data analysis because contraception was invented around the 1960s, and I believed that data from earlier years would not reflect the shifting attitudes towards contraceptives over time."
      ]
    },
    {
      "cell_type": "markdown",
      "metadata": {
        "id": "v1dr260i6r0d",
        "colab_type": "text"
      },
      "source": [
        "To clean the data, I merged the dataframes for income group and contraception prevalence on the country name/code, and filtered out the conditions where income group is zero (which means there is no/insufficient data about the socioeconomic status of the country in question) and the prevalence is zero (which means that there is no data about the contraception prevalence between the years 1960-2019)."
      ]
    },
    {
      "cell_type": "code",
      "metadata": {
        "id": "ZtREwjJIypDN",
        "colab_type": "code",
        "colab": {}
      },
      "source": [
        "income_prevalence = country_income.merge(recent_prev, how='inner', on=['Country Code', 'Country Name'])\n",
        "income_data = income_prevalence[(income_prevalence['IncomeGroup'] != '0') & (income_prevalence['Recent Prevalence'] != 0)]"
      ],
      "execution_count": 0,
      "outputs": []
    },
    {
      "cell_type": "code",
      "metadata": {
        "id": "RIh5NodYzNB3",
        "colab_type": "code",
        "outputId": "234b0584-75e3-4c3f-cd50-d8271e1ac534",
        "colab": {
          "base_uri": "https://localhost:8080/",
          "height": 513
        }
      },
      "source": [
        "plt.figure(figsize=(10, 8))\n",
        "sns.boxplot(data=income_data, x='IncomeGroup', y='Recent Prevalence')\n",
        "plt.xticks([0, 1, 2, 3], [\"Low\", \"Lower Middle\", \"Upper Middle\", 'High'])\n",
        "plt.xlabel('Income Level')\n",
        "plt.ylabel('Contraception Prevalence (in %)')\n",
        "plt.title('Contraception Prevalence and Socioeconomic Status');"
      ],
      "execution_count": 18,
      "outputs": [
        {
          "output_type": "display_data",
          "data": {
            "image/png": "[encoded data removed]",
            "text/plain": [
              "<Figure size 720x576 with 1 Axes>"
            ]
          },
          "metadata": {
            "tags": [],
            "needs_background": "light"
          }
        }
      ]
    },
    {
      "cell_type": "markdown",
      "metadata": {
        "id": "V5phEMLY74rl",
        "colab_type": "text"
      },
      "source": [
        "As we can see from the boxplot, as income level rises, contraception prevalence appears to rise as well; this shows a positive correlation between the two variables. "
      ]
    },
    {
      "cell_type": "markdown",
      "metadata": {
        "id": "ZNyg1zvw857T",
        "colab_type": "text"
      },
      "source": [
        "Next, we will examine the relationship between **contraception method** and **socioeconomic status**: "
      ]
    },
    {
      "cell_type": "code",
      "metadata": {
        "id": "snBw8esIK0Iw",
        "colab_type": "code",
        "outputId": "24ba14b8-d572-4e0f-9b60-3a5af770cf97",
        "colab": {
          "base_uri": "https://localhost:8080/",
          "height": 419
        }
      },
      "source": [
        "bc_socio = birth_control[['standard_living', 'contraceptive']]\n",
        "bc_socio"
      ],
      "execution_count": 19,
      "outputs": [
        {
          "output_type": "execute_result",
          "data": {
            "text/html": [
              "<div>\n",
              "<style scoped>\n",
              "    .dataframe tbody tr th:only-of-type {\n",
              "        vertical-align: middle;\n",
              "    }\n",
              "\n",
              "    .dataframe tbody tr th {\n",
              "        vertical-align: top;\n",
              "    }\n",
              "\n",
              "    .dataframe thead th {\n",
              "        text-align: right;\n",
              "    }\n",
              "</style>\n",
              "<table border=\"1\" class=\"dataframe\">\n",
              "  <thead>\n",
              "    <tr style=\"text-align: right;\">\n",
              "      <th></th>\n",
              "      <th>standard_living</th>\n",
              "      <th>contraceptive</th>\n",
              "    </tr>\n",
              "  </thead>\n",
              "  <tbody>\n",
              "    <tr>\n",
              "      <th>0</th>\n",
              "      <td>3</td>\n",
              "      <td>1</td>\n",
              "    </tr>\n",
              "    <tr>\n",
              "      <th>1</th>\n",
              "      <td>4</td>\n",
              "      <td>1</td>\n",
              "    </tr>\n",
              "    <tr>\n",
              "      <th>2</th>\n",
              "      <td>4</td>\n",
              "      <td>1</td>\n",
              "    </tr>\n",
              "    <tr>\n",
              "      <th>3</th>\n",
              "      <td>3</td>\n",
              "      <td>1</td>\n",
              "    </tr>\n",
              "    <tr>\n",
              "      <th>4</th>\n",
              "      <td>2</td>\n",
              "      <td>1</td>\n",
              "    </tr>\n",
              "    <tr>\n",
              "      <th>...</th>\n",
              "      <td>...</td>\n",
              "      <td>...</td>\n",
              "    </tr>\n",
              "    <tr>\n",
              "      <th>1468</th>\n",
              "      <td>4</td>\n",
              "      <td>3</td>\n",
              "    </tr>\n",
              "    <tr>\n",
              "      <th>1469</th>\n",
              "      <td>4</td>\n",
              "      <td>3</td>\n",
              "    </tr>\n",
              "    <tr>\n",
              "      <th>1470</th>\n",
              "      <td>4</td>\n",
              "      <td>3</td>\n",
              "    </tr>\n",
              "    <tr>\n",
              "      <th>1471</th>\n",
              "      <td>2</td>\n",
              "      <td>3</td>\n",
              "    </tr>\n",
              "    <tr>\n",
              "      <th>1472</th>\n",
              "      <td>4</td>\n",
              "      <td>3</td>\n",
              "    </tr>\n",
              "  </tbody>\n",
              "</table>\n",
              "<p>1473 rows × 2 columns</p>\n",
              "</div>"
            ],
            "text/plain": [
              "      standard_living  contraceptive\n",
              "0                   3              1\n",
              "1                   4              1\n",
              "2                   4              1\n",
              "3                   3              1\n",
              "4                   2              1\n",
              "...               ...            ...\n",
              "1468                4              3\n",
              "1469                4              3\n",
              "1470                4              3\n",
              "1471                2              3\n",
              "1472                4              3\n",
              "\n",
              "[1473 rows x 2 columns]"
            ]
          },
          "metadata": {
            "tags": []
          },
          "execution_count": 19
        }
      ]
    },
    {
      "cell_type": "code",
      "metadata": {
        "id": "xSyxhRs8MR3t",
        "colab_type": "code",
        "outputId": "eab7d798-e8f2-4edf-8fb3-41de03415e36",
        "colab": {
          "base_uri": "https://localhost:8080/",
          "height": 34
        }
      },
      "source": [
        "bc1 = bc_socio[bc_socio['contraceptive']==1]['standard_living'].mean()\n",
        "bc2 = bc_socio[bc_socio['contraceptive']==2]['standard_living'].mean()\n",
        "bc3 = bc_socio[bc_socio['contraceptive']==3]['standard_living'].mean()\n",
        "[bc1, bc2, bc3]"
      ],
      "execution_count": 20,
      "outputs": [
        {
          "output_type": "execute_result",
          "data": {
            "text/plain": [
              "[2.95389507154213, 3.4684684684684686, 3.136986301369863]"
            ]
          },
          "metadata": {
            "tags": []
          },
          "execution_count": 20
        }
      ]
    },
    {
      "cell_type": "code",
      "metadata": {
        "id": "3XC8QYuuSUax",
        "colab_type": "code",
        "colab": {}
      },
      "source": [
        "bc_socio = bc_socio.groupby(['standard_living','contraceptive']).agg(len)\n",
        "bc_socio = bc_socio.reset_index()"
      ],
      "execution_count": 0,
      "outputs": []
    },
    {
      "cell_type": "code",
      "metadata": {
        "id": "fHCWXPUqVAJE",
        "colab_type": "code",
        "outputId": "b31beb38-5731-4714-8003-ed89479d562a",
        "colab": {
          "base_uri": "https://localhost:8080/",
          "height": 295
        }
      },
      "source": [
        "bc_socio['Num Women'] = bc_socio.iloc[:,2]\n",
        "bc_socio['Num Women'] = bc_socio['Num Women']/1473\n",
        "bc_socio['contraceptive'] = bc_socio['contraceptive'].replace(1,'None')\n",
        "bc_socio['contraceptive'] = bc_socio['contraceptive'].replace(2,'Long-term')\n",
        "bc_socio['contraceptive'] = bc_socio['contraceptive'].replace(3,'Short-term')\n",
        "\n",
        "fig = sns.barplot(x = 'standard_living', y = 'Num Women', hue = 'contraceptive', data = bc_socio)\n",
        "plt.xticks([0, 1, 2, 3], [\"Low\", \"Lower Middle\", \"Upper Middle\", 'High'])\n",
        "fig.set_xlabel('Standard of Living')\n",
        "fig.set_ylabel('Proportion of Women')\n",
        "fig.set_title('Distribution Women Grouped by Standard of Living and Contraceptive Type');"
      ],
      "execution_count": 22,
      "outputs": [
        {
          "output_type": "display_data",
          "data": {
            "image/png": "[encoded data removed]",
            "text/plain": [
              "<Figure size 432x288 with 1 Axes>"
            ]
          },
          "metadata": {
            "tags": [],
            "needs_background": "light"
          }
        }
      ]
    },
    {
      "cell_type": "markdown",
      "metadata": {
        "id": "A3APXk0MhXVZ",
        "colab_type": "text"
      },
      "source": [
        "As we can see, across all standards of living, no contraceptive method is preferred over short-term, and long-term is preferred the least."
      ]
    },
    {
      "cell_type": "markdown",
      "metadata": {
        "id": "y8Fe0EEJpSnN",
        "colab_type": "text"
      },
      "source": [
        "## **Question 2: How can we best predict current contraceptive method choice based on demographic and socioeconomic characteristics?**"
      ]
    },
    {
      "cell_type": "markdown",
      "metadata": {
        "id": "bykAKS0grZkF",
        "colab_type": "text"
      },
      "source": [
        "### **Method 1: Cross-Validation**"
      ]
    },
    {
      "cell_type": "markdown",
      "metadata": {
        "id": "prFRb0BDo7zM",
        "colab_type": "text"
      },
      "source": [
        "First, we will perform **cross-validation** on our 'train' set, which was retrieved by conducting a train-test split on our original dataset. "
      ]
    },
    {
      "cell_type": "code",
      "metadata": {
        "id": "jzSF9qARiRR8",
        "colab_type": "code",
        "outputId": "891db02d-e3d3-4bb7-d105-d45e6608be93",
        "colab": {
          "base_uri": "https://localhost:8080/",
          "height": 439
        }
      },
      "source": [
        "#Here we retrieve the training and validation sets for cross-validation\n",
        "bc_train, val = train_test_split(train, test_size=0.1, random_state=42)\n",
        "bc_train"
      ],
      "execution_count": 23,
      "outputs": [
        {
          "output_type": "execute_result",
          "data": {
            "text/html": [
              "<div>\n",
              "<style scoped>\n",
              "    .dataframe tbody tr th:only-of-type {\n",
              "        vertical-align: middle;\n",
              "    }\n",
              "\n",
              "    .dataframe tbody tr th {\n",
              "        vertical-align: top;\n",
              "    }\n",
              "\n",
              "    .dataframe thead th {\n",
              "        text-align: right;\n",
              "    }\n",
              "</style>\n",
              "<table border=\"1\" class=\"dataframe\">\n",
              "  <thead>\n",
              "    <tr style=\"text-align: right;\">\n",
              "      <th></th>\n",
              "      <th>wife_age</th>\n",
              "      <th>wife_education</th>\n",
              "      <th>husband_education</th>\n",
              "      <th>num_child</th>\n",
              "      <th>wife_religion</th>\n",
              "      <th>wife_work</th>\n",
              "      <th>husband_occupation</th>\n",
              "      <th>standard_living</th>\n",
              "      <th>media_exposure</th>\n",
              "      <th>contraceptive</th>\n",
              "    </tr>\n",
              "  </thead>\n",
              "  <tbody>\n",
              "    <tr>\n",
              "      <th>989</th>\n",
              "      <td>26</td>\n",
              "      <td>3</td>\n",
              "      <td>2</td>\n",
              "      <td>5</td>\n",
              "      <td>1</td>\n",
              "      <td>1</td>\n",
              "      <td>2</td>\n",
              "      <td>2</td>\n",
              "      <td>0</td>\n",
              "      <td>3</td>\n",
              "    </tr>\n",
              "    <tr>\n",
              "      <th>658</th>\n",
              "      <td>32</td>\n",
              "      <td>2</td>\n",
              "      <td>3</td>\n",
              "      <td>5</td>\n",
              "      <td>1</td>\n",
              "      <td>0</td>\n",
              "      <td>2</td>\n",
              "      <td>3</td>\n",
              "      <td>0</td>\n",
              "      <td>3</td>\n",
              "    </tr>\n",
              "    <tr>\n",
              "      <th>1060</th>\n",
              "      <td>42</td>\n",
              "      <td>4</td>\n",
              "      <td>4</td>\n",
              "      <td>1</td>\n",
              "      <td>1</td>\n",
              "      <td>0</td>\n",
              "      <td>1</td>\n",
              "      <td>4</td>\n",
              "      <td>0</td>\n",
              "      <td>1</td>\n",
              "    </tr>\n",
              "    <tr>\n",
              "      <th>1287</th>\n",
              "      <td>24</td>\n",
              "      <td>4</td>\n",
              "      <td>4</td>\n",
              "      <td>1</td>\n",
              "      <td>0</td>\n",
              "      <td>1</td>\n",
              "      <td>2</td>\n",
              "      <td>3</td>\n",
              "      <td>0</td>\n",
              "      <td>2</td>\n",
              "    </tr>\n",
              "    <tr>\n",
              "      <th>109</th>\n",
              "      <td>26</td>\n",
              "      <td>2</td>\n",
              "      <td>3</td>\n",
              "      <td>3</td>\n",
              "      <td>1</td>\n",
              "      <td>1</td>\n",
              "      <td>3</td>\n",
              "      <td>1</td>\n",
              "      <td>0</td>\n",
              "      <td>1</td>\n",
              "    </tr>\n",
              "    <tr>\n",
              "      <th>...</th>\n",
              "      <td>...</td>\n",
              "      <td>...</td>\n",
              "      <td>...</td>\n",
              "      <td>...</td>\n",
              "      <td>...</td>\n",
              "      <td>...</td>\n",
              "      <td>...</td>\n",
              "      <td>...</td>\n",
              "      <td>...</td>\n",
              "      <td>...</td>\n",
              "    </tr>\n",
              "    <tr>\n",
              "      <th>150</th>\n",
              "      <td>44</td>\n",
              "      <td>4</td>\n",
              "      <td>4</td>\n",
              "      <td>3</td>\n",
              "      <td>1</td>\n",
              "      <td>1</td>\n",
              "      <td>2</td>\n",
              "      <td>4</td>\n",
              "      <td>0</td>\n",
              "      <td>1</td>\n",
              "    </tr>\n",
              "    <tr>\n",
              "      <th>1384</th>\n",
              "      <td>36</td>\n",
              "      <td>4</td>\n",
              "      <td>4</td>\n",
              "      <td>3</td>\n",
              "      <td>1</td>\n",
              "      <td>1</td>\n",
              "      <td>1</td>\n",
              "      <td>4</td>\n",
              "      <td>0</td>\n",
              "      <td>3</td>\n",
              "    </tr>\n",
              "    <tr>\n",
              "      <th>747</th>\n",
              "      <td>44</td>\n",
              "      <td>4</td>\n",
              "      <td>4</td>\n",
              "      <td>11</td>\n",
              "      <td>1</td>\n",
              "      <td>1</td>\n",
              "      <td>1</td>\n",
              "      <td>4</td>\n",
              "      <td>0</td>\n",
              "      <td>3</td>\n",
              "    </tr>\n",
              "    <tr>\n",
              "      <th>675</th>\n",
              "      <td>49</td>\n",
              "      <td>4</td>\n",
              "      <td>3</td>\n",
              "      <td>13</td>\n",
              "      <td>1</td>\n",
              "      <td>1</td>\n",
              "      <td>1</td>\n",
              "      <td>4</td>\n",
              "      <td>0</td>\n",
              "      <td>3</td>\n",
              "    </tr>\n",
              "    <tr>\n",
              "      <th>202</th>\n",
              "      <td>36</td>\n",
              "      <td>2</td>\n",
              "      <td>4</td>\n",
              "      <td>2</td>\n",
              "      <td>1</td>\n",
              "      <td>0</td>\n",
              "      <td>2</td>\n",
              "      <td>4</td>\n",
              "      <td>0</td>\n",
              "      <td>1</td>\n",
              "    </tr>\n",
              "  </tbody>\n",
              "</table>\n",
              "<p>1192 rows × 10 columns</p>\n",
              "</div>"
            ],
            "text/plain": [
              "      wife_age  wife_education  ...  media_exposure  contraceptive\n",
              "989         26               3  ...               0              3\n",
              "658         32               2  ...               0              3\n",
              "1060        42               4  ...               0              1\n",
              "1287        24               4  ...               0              2\n",
              "109         26               2  ...               0              1\n",
              "...        ...             ...  ...             ...            ...\n",
              "150         44               4  ...               0              1\n",
              "1384        36               4  ...               0              3\n",
              "747         44               4  ...               0              3\n",
              "675         49               4  ...               0              3\n",
              "202         36               2  ...               0              1\n",
              "\n",
              "[1192 rows x 10 columns]"
            ]
          },
          "metadata": {
            "tags": []
          },
          "execution_count": 23
        }
      ]
    },
    {
      "cell_type": "markdown",
      "metadata": {
        "id": "uoM3v5BiJeYH",
        "colab_type": "text"
      },
      "source": [
        "In order to identify the best columns to use for our classification, we plotted a heatmap of correlations. "
      ]
    },
    {
      "cell_type": "code",
      "metadata": {
        "id": "K73OHMhjaEsN",
        "colab_type": "code",
        "outputId": "bafb0e8b-9d48-479b-e0c4-51f9c0870847",
        "colab": {
          "base_uri": "https://localhost:8080/",
          "height": 935
        }
      },
      "source": [
        "plt.figure(figsize=(14,14)) \n",
        "sns.heatmap(bc_train.corr(), annot=True, cmap='coolwarm', vmin=-1)\n",
        "plt.title('Correlations of Original Features')"
      ],
      "execution_count": 109,
      "outputs": [
        {
          "output_type": "execute_result",
          "data": {
            "text/plain": [
              "Text(0.5, 1.0, 'Correlations of Original Features')"
            ]
          },
          "metadata": {
            "tags": []
          },
          "execution_count": 109
        },
        {
          "output_type": "display_data",
          "data": {
            "image/png": "[encoded data removed]",
            "text/plain": [
              "<Figure size 1008x1008 with 2 Axes>"
            ]
          },
          "metadata": {
            "tags": [],
            "needs_background": "light"
          }
        }
      ]
    },
    {
      "cell_type": "markdown",
      "metadata": {
        "id": "H8PmXm-T6Sz7",
        "colab_type": "text"
      },
      "source": [
        "To begin, we one-hot-encode the wife's and husband's education levels, and the standard of living because they are all categorical variables (1 = low, 2, 3, 4 = high). \n",
        "\n",
        "Even though these categorical variables were encoded numerically, we still want to one-hot-encode (and not treat them as numerical variables) because we want to treat each level of education and standard of living equally instead of assigning a higher education level/standard of living more weight. "
      ]
    },
    {
      "cell_type": "code",
      "metadata": {
        "id": "8zixuQT_5RrB",
        "colab_type": "code",
        "colab": {}
      },
      "source": [
        "#One-hot-encoding wife education levels\n",
        "\n",
        "def wife_edu(data='train'): \n",
        "  if (data=='test'):\n",
        "    wife_ohe = pd.get_dummies(test['wife_education'])\n",
        "  elif (data=='val'):\n",
        "    wife_ohe = pd.get_dummies(val['wife_education'])\n",
        "  else:\n",
        "    wife_ohe = pd.get_dummies(bc_train['wife_education'])\n",
        "  wife_ohe = wife_ohe.rename(columns={1: 'w1', 2: 'w2', 3: 'w3', 4: 'w4'})\n",
        "  return wife_ohe"
      ],
      "execution_count": 0,
      "outputs": []
    },
    {
      "cell_type": "code",
      "metadata": {
        "id": "9Jpyiywz7cWX",
        "colab_type": "code",
        "colab": {}
      },
      "source": [
        "#One-hot-encoding husband education levels\n",
        "\n",
        "def husband_edu(data='train'): \n",
        "  if (data=='test'):\n",
        "    husband_ohe = pd.get_dummies(test['husband_education'])\n",
        "  elif (data=='val'):\n",
        "    husband_ohe = pd.get_dummies(val['husband_education'])\n",
        "  else:\n",
        "    husband_ohe = pd.get_dummies(bc_train['husband_education'])\n",
        "\n",
        "  husband_ohe = husband_ohe.rename(columns={1: 'h1', 2: 'h2', 3: 'h3', 4: 'h4'})\n",
        "  return husband_ohe"
      ],
      "execution_count": 0,
      "outputs": []
    },
    {
      "cell_type": "code",
      "metadata": {
        "id": "TG8XutXgeMcW",
        "colab_type": "code",
        "colab": {}
      },
      "source": [
        "#One-hot-encoding standard of living\n",
        "\n",
        "def living_standard(data='train'): \n",
        "  if (data=='test'):\n",
        "    living_ohe = pd.get_dummies(test['standard_living'])\n",
        "  elif (data=='val'):\n",
        "    living_ohe = pd.get_dummies(val['standard_living'])\n",
        "  else:\n",
        "    living_ohe = pd.get_dummies(bc_train['standard_living'])\n",
        "  living_ohe = living_ohe.rename(columns={1: 'l1', 2: 'l2', 3: 'l3', 4: 'l4'})\n",
        "  return living_ohe"
      ],
      "execution_count": 0,
      "outputs": []
    },
    {
      "cell_type": "markdown",
      "metadata": {
        "id": "pgPcx381aIV-",
        "colab_type": "text"
      },
      "source": [
        "When choosing features by looking at correlations, we usually disregard one of two columns if they have very high correlations with one another. However in our situation the highest correlation was 0.61 between husband and wife education, which even then is not too high. Thus, we opted to select most of the columns in the dataset. We chose to use wife_age, wife_eduction, husband_education, num_child, standard_living, and media_exposure. \n",
        "\n",
        "I was not initially planning on using num_child because it has the smallest correlation with contraceptive among the previous features. Strangely enough, it made our predictor much more accurate."
      ]
    },
    {
      "cell_type": "code",
      "metadata": {
        "id": "WjMnrssekbbE",
        "colab_type": "code",
        "outputId": "4add27ff-47f3-42b4-ba6c-d615505c0f9a",
        "colab": {
          "base_uri": "https://localhost:8080/",
          "height": 285
        }
      },
      "source": [
        "plt.figure(figsize=(20,4))\n",
        "\n",
        "plt.subplot(1, 3, 1)\n",
        "sns.heatmap(pd.concat([wife_edu('train'), bc_train['contraceptive']], axis=1).corr(), annot=True, cmap='coolwarm', vmin=-1);\n",
        "plt.title(\"Correlations between Wife's Education and Contraceptive\")\n",
        "\n",
        "plt.subplot(1, 3, 2)\n",
        "sns.heatmap(pd.concat([husband_edu('train'), bc_train['contraceptive']], axis=1).corr(), annot=True, cmap='coolwarm', vmin=-1);\n",
        "plt.title(\"Correlations between Husband's Education and Contraceptive\")\n",
        "\n",
        "plt.subplot(1, 3, 3)\n",
        "sns.heatmap(pd.concat([living_standard('train'), bc_train['contraceptive']], axis=1).corr(), annot=True, cmap='coolwarm', vmin=-1);\n",
        "plt.title(\"Correlations between Living Standard and Contraceptive\")"
      ],
      "execution_count": 107,
      "outputs": [
        {
          "output_type": "execute_result",
          "data": {
            "text/plain": [
              "Text(0.5, 1.0, 'Correlations between Living Standard and Contraceptive')"
            ]
          },
          "metadata": {
            "tags": []
          },
          "execution_count": 107
        },
        {
          "output_type": "display_data",
          "data": {
            "image/png": "[encoded data removed]",
            "text/plain": [
              "<Figure size 1440x288 with 6 Axes>"
            ]
          },
          "metadata": {
            "tags": [],
            "needs_background": "light"
          }
        }
      ]
    },
    {
      "cell_type": "markdown",
      "metadata": {
        "id": "oUG-ImZvGHQV",
        "colab_type": "text"
      },
      "source": [
        "Now, we combine the birth control training set with the one-hot-encoded wife and husband education levels"
      ]
    },
    {
      "cell_type": "code",
      "metadata": {
        "id": "Lw1m4p-XZPe1",
        "colab_type": "code",
        "colab": {}
      },
      "source": [
        "def standardize(data): \n",
        "  return ((data - np.mean(data))/np.std(data)).values"
      ],
      "execution_count": 0,
      "outputs": []
    },
    {
      "cell_type": "code",
      "metadata": {
        "id": "ZE1vAnkS1UkO",
        "colab_type": "code",
        "colab": {}
      },
      "source": [
        "#Creates dataframe with columns passed to it\n",
        "def create_df(num_cols=[],ohe_cols=[], data = 'train'):\n",
        "  if (data=='test'):\n",
        "    df = test\n",
        "  elif (data=='val'):\n",
        "    df = val\n",
        "  else:\n",
        "    df = bc_train\n",
        "  original = df.copy() \n",
        "  original = original[num_cols]\n",
        "  if 'wife_age' in num_cols:\n",
        "    original['wife_age'] = standardize(original['wife_age'])\n",
        "  \n",
        "  if 'num_child' in num_cols:\n",
        "    original['num_child'] = standardize(original['num_child'])\n",
        "  if 'wife_edu' in ohe_cols:\n",
        "    original = pd.concat([original, wife_edu(data)], axis=1)\n",
        "  if 'husband_edu' in ohe_cols:\n",
        "    original = pd.concat([original, husband_edu(data)], axis=1)\n",
        "\n",
        "  if 'contraceptive' in ohe_cols:\n",
        "    original = pd.concat([original, contraceptive(data)], axis=1)\n",
        "  if 'living_standard' in ohe_cols:\n",
        "    original = pd.concat([original, living_standard(data)], axis=1)\n",
        "\n",
        "  if 'husband_occupation' in ohe_cols:\n",
        "    original = pd.concat([original, husband_occupation(data)], axis=1)\n",
        "  \n",
        "  original.fillna(0) \n",
        "  return original.fillna(0)"
      ],
      "execution_count": 0,
      "outputs": []
    },
    {
      "cell_type": "code",
      "metadata": {
        "id": "TCtDi60RLoPy",
        "colab_type": "code",
        "colab": {}
      },
      "source": [
        "def data_test(data='train'): \n",
        "  if (data=='test'):\n",
        "    df = test\n",
        "  elif (data=='val'):\n",
        "    df = val\n",
        "  else:\n",
        "    df = bc_train\n",
        "  #original = df[['wife_age', 'num_child', 'media_exposure']]\n",
        "  bc_train.fillna(0)\n",
        "  final = create_df(['wife_age','num_child','media_exposure'],['wife_edu','husband_edu'],data)\n",
        "  \n",
        "  #final = pd.concat([original, wife_edu(data), husband_edu(data)], axis=1)\n",
        "  return final"
      ],
      "execution_count": 0,
      "outputs": []
    },
    {
      "cell_type": "code",
      "metadata": {
        "id": "Wbo24QxVZfUH",
        "colab_type": "code",
        "colab": {}
      },
      "source": [
        "#Create Different models\n",
        "models = []\n",
        "model1 = create_df(['wife_age','media_exposure'],['husband_edu','living_standard',])\n",
        "model2 = create_df(['wife_age'],['husband_edu','living_standard'])\n",
        "model3 = create_df(['wife_age','num_child','media_exposure'],['husband_edu','living_standard'])\n",
        "model4 = create_df(['wife_age','num_child'],['husband_edu','living_standard'])\n",
        "model5 = create_df(['wife_age','num_child','media_exposure'],['husband_edu'])\n",
        "\n",
        "models = [model1, model2, model3, model4, model5]"
      ],
      "execution_count": 0,
      "outputs": []
    },
    {
      "cell_type": "code",
      "metadata": {
        "id": "qNjcjySdaeBr",
        "colab_type": "code",
        "colab": {}
      },
      "source": [
        "from sklearn.model_selection import cross_val_score\n",
        "from sklearn.metrics import accuracy_score, make_scorer\n",
        "from sklearn.linear_model import LogisticRegression"
      ],
      "execution_count": 0,
      "outputs": []
    },
    {
      "cell_type": "code",
      "metadata": {
        "id": "_u76a65FazJ5",
        "colab_type": "code",
        "colab": {}
      },
      "source": [
        "logistic_reg = LogisticRegression(penalty='l2', max_iter=1000)"
      ],
      "execution_count": 0,
      "outputs": []
    },
    {
      "cell_type": "code",
      "metadata": {
        "id": "uO2gH55HY0MX",
        "colab_type": "code",
        "outputId": "c98d0e5d-7fca-47d0-952b-8cddc80db8ed",
        "colab": {
          "base_uri": "https://localhost:8080/",
          "height": 102
        }
      },
      "source": [
        "Y_train = bc_train['contraceptive']\n",
        "vals = []\n",
        "for i in models:\n",
        "  cross_val = cross_val_score(logistic_reg, i, Y_train, scoring = make_scorer(accuracy_score),cv = 5)\n",
        "  vals = np.append(vals,np.mean(cross_val))\n",
        "print('Features Used: wife_age,husband_edu,standard_living,media_exposure; Accuracy:',vals[0])\n",
        "print('Features Used: wife_age, husband_edu,standard_living; Accuracy:',vals[1])\n",
        "print('Features Used: num_child,wife_age, husband_edu,standard_living,media_exposure; Accuracy:',vals[2])\n",
        "print('Features Used: num_child,wife_age, husband_edu,standard_living; Accuracy:',vals[3])\n",
        "print('Features Used: num_child,wife_age, husband_edu,media_exposure; Accuracy:',vals[3])"
      ],
      "execution_count": 43,
      "outputs": [
        {
          "output_type": "stream",
          "text": [
            "Features Used: wife_age,husband_edu,standard_living,media_exposure; Accuracy: 0.45303962589219793\n",
            "Features Used: wife_age, husband_edu,standard_living; Accuracy: 0.44884497732147255\n",
            "Features Used: num_child,wife_age, husband_edu,standard_living,media_exposure; Accuracy: 0.49668084807144613\n",
            "Features Used: num_child,wife_age, husband_edu,standard_living; Accuracy: 0.4891248549629056\n",
            "Features Used: num_child,wife_age, husband_edu,media_exposure; Accuracy: 0.4891248549629056\n"
          ],
          "name": "stdout"
        }
      ]
    },
    {
      "cell_type": "markdown",
      "metadata": {
        "id": "yPdGFMCfIDiS",
        "colab_type": "text"
      },
      "source": [
        "We first try to use logistic regression as a predictor: "
      ]
    },
    {
      "cell_type": "code",
      "metadata": {
        "id": "u8-IkyZUoPRZ",
        "colab_type": "code",
        "outputId": "0ec00ab5-de78-458a-fe06-cc991cd4b205",
        "colab": {
          "base_uri": "https://localhost:8080/",
          "height": 34
        }
      },
      "source": [
        "from sklearn.linear_model import LogisticRegression\n",
        "\n",
        "X_train = data_test()\n",
        "Y_train = bc_train['contraceptive']\n",
        "\n",
        "logistic_reg = LogisticRegression(penalty='l2', max_iter=1000)\n",
        "logistic_reg.fit(X_train, Y_train)\n",
        "\n",
        "training_accuracy = (logistic_reg.predict(X_train) == Y_train).mean()\n",
        "print(\"Training Accuracy for Cross Validation:\", training_accuracy)"
      ],
      "execution_count": 44,
      "outputs": [
        {
          "output_type": "stream",
          "text": [
            "Training Accuracy for Cross Validation: 0.5360738255033557\n"
          ],
          "name": "stdout"
        }
      ]
    },
    {
      "cell_type": "code",
      "metadata": {
        "id": "YPntBB8w08Le",
        "colab_type": "code",
        "outputId": "d8858628-5baa-439a-f491-afcee2751f96",
        "colab": {
          "base_uri": "https://localhost:8080/",
          "height": 34
        }
      },
      "source": [
        "X_val = data_test(data='val')\n",
        "Y_val = val['contraceptive']\n",
        "\n",
        "val_accuracy = (logistic_reg.predict(X_val) == Y_val).mean()\n",
        "print(\"Validation Accuracy:\", val_accuracy)"
      ],
      "execution_count": 45,
      "outputs": [
        {
          "output_type": "stream",
          "text": [
            "Validation Accuracy: 0.5488721804511278\n"
          ],
          "name": "stdout"
        }
      ]
    },
    {
      "cell_type": "code",
      "metadata": {
        "id": "rViCBa4mTd8a",
        "colab_type": "code",
        "colab": {}
      },
      "source": [
        "#X_train = data_test(data = 'train')\n",
        "#Y_train = train['contraceptive']\n",
        "#logistic_reg.fit(X_train,Y_train)\n",
        "\n",
        "#training_accuracy = (logistic_reg.predict(X_train) == train['contraceptive']).mean()\n",
        "#print('Training Accuracy:', training_accuracy)"
      ],
      "execution_count": 0,
      "outputs": []
    },
    {
      "cell_type": "code",
      "metadata": {
        "id": "jMztx9hHfmGl",
        "colab_type": "code",
        "outputId": "32b11ddc-6985-47f0-81ec-a8fe96c83dca",
        "colab": {
          "base_uri": "https://localhost:8080/",
          "height": 34
        }
      },
      "source": [
        "X_test = data_test(data='test')\n",
        "Y_test = test['contraceptive']\n",
        "\n",
        "test_accuracy = (logistic_reg.predict(X_test) == Y_test).mean()\n",
        "print(\"Testing Accuracy:\", test_accuracy)"
      ],
      "execution_count": 47,
      "outputs": [
        {
          "output_type": "stream",
          "text": [
            "Testing Accuracy: 0.5337837837837838\n"
          ],
          "name": "stdout"
        }
      ]
    },
    {
      "cell_type": "markdown",
      "metadata": {
        "id": "6xi_MWQkoxko",
        "colab_type": "text"
      },
      "source": [
        "From cross-validation alone, we get a pretty low training, validation, and testing accuracy across the board, sitting at a little over 50%. We can probably explain this by looking at the precision and recall of our model: "
      ]
    },
    {
      "cell_type": "code",
      "metadata": {
        "id": "PFg22pCDLn9j",
        "colab_type": "code",
        "colab": {}
      },
      "source": [
        "from sklearn.linear_model import LogisticRegression\n",
        "\n",
        "model = LogisticRegression(penalty='l2', max_iter=1000)\n",
        "model.fit(X_train.sort_index(), Y_train.sort_index())\n",
        "\n",
        "Y_train_hat = model.predict(X_train.sort_index())"
      ],
      "execution_count": 0,
      "outputs": []
    },
    {
      "cell_type": "markdown",
      "metadata": {
        "id": "M_mxe1xlGMgG",
        "colab_type": "text"
      },
      "source": [
        "We first calculate the precision and recall for the no contraceptive use condition: "
      ]
    },
    {
      "cell_type": "code",
      "metadata": {
        "id": "ZIiCJLXW2KIk",
        "colab_type": "code",
        "colab": {}
      },
      "source": [
        "tp1 = (Y_train_hat == 1) & (Y_train == 1)\n",
        "tn1 = (Y_train_hat != 1) & (Y_train != 1)\n",
        "fp1 = (Y_train_hat == 1) & (Y_train != 1)\n",
        "fn1 = (Y_train_hat != 1) & (Y_train == 1)\n",
        "\n",
        "logistic_predictor_precision_1 = np.sum(tp1) / (np.sum(tp1) + np.sum(fp1))\n",
        "logistic_predictor_recall_1 = np.sum(tp1) / (np.sum(tp1) + np.sum(fn1))\n",
        "#logistic_predictor_far_1 = np.sum(fp1)/(np.sum(fp1)+ np.sum(tn1))"
      ],
      "execution_count": 0,
      "outputs": []
    },
    {
      "cell_type": "code",
      "metadata": {
        "id": "p2zLoHaCbVC2",
        "colab_type": "code",
        "outputId": "7c1d9140-7028-407e-e286-38fe2ca2a525",
        "colab": {
          "base_uri": "https://localhost:8080/",
          "height": 51
        }
      },
      "source": [
        "print('Logistic Regression Model Precision:',logistic_predictor_precision_1)\n",
        "print('Logistic Regression Model Recall:',logistic_predictor_recall_1)"
      ],
      "execution_count": 50,
      "outputs": [
        {
          "output_type": "stream",
          "text": [
            "Logistic Regression Model Precision: 0.43613138686131386\n",
            "Logistic Regression Model Recall: 0.4704724409448819\n"
          ],
          "name": "stdout"
        }
      ]
    },
    {
      "cell_type": "markdown",
      "metadata": {
        "id": "iLVZToWNH2pL",
        "colab_type": "text"
      },
      "source": [
        "Since the precision is smaller than the recall, we can tell that there are more false positives than negatives for the no contraceptive use condition. This means that there are more long-term or short-term contraceptive use data being misflagged as no contraceptive use. \n"
      ]
    },
    {
      "cell_type": "code",
      "metadata": {
        "id": "h0gUTiMHb-8r",
        "colab_type": "code",
        "outputId": "514f33c8-994b-49b1-ecc0-fe6af7f2984a",
        "colab": {
          "base_uri": "https://localhost:8080/",
          "height": 34
        }
      },
      "source": [
        "accuracy_1 = (np.sum(tp1) + np.sum(tn1))/ (np.sum(tp1) + np.sum(fp1) + np.sum(tn1) + np.sum(fn1))\n",
        "print('Accuracy:',accuracy_1)"
      ],
      "execution_count": 51,
      "outputs": [
        {
          "output_type": "stream",
          "text": [
            "Accuracy: 0.5151006711409396\n"
          ],
          "name": "stdout"
        }
      ]
    },
    {
      "cell_type": "markdown",
      "metadata": {
        "id": "zh6NGaUtIsiG",
        "colab_type": "text"
      },
      "source": [
        "The accuracy of our model for predicting no contraceptive use is at around 51%. "
      ]
    },
    {
      "cell_type": "markdown",
      "metadata": {
        "id": "lwLsi02kJCUD",
        "colab_type": "text"
      },
      "source": [
        "Next, we calculate the precision and recall for the long-term contraceptive use condition: "
      ]
    },
    {
      "cell_type": "code",
      "metadata": {
        "id": "Dayngp7OE2gD",
        "colab_type": "code",
        "colab": {}
      },
      "source": [
        "tp2 = (Y_train_hat == 2) & (Y_train == 2)\n",
        "tn2 = (Y_train_hat != 2) & (Y_train != 2)\n",
        "fp2 = (Y_train_hat == 2) & (Y_train != 2)\n",
        "fn2 = (Y_train_hat != 2) & (Y_train == 2)\n",
        "\n",
        "logistic_predictor_precision_2 = np.sum(tp2) / (np.sum(tp2) + np.sum(fp2))\n",
        "logistic_predictor_recall_2 = np.sum(tp2) / (np.sum(tp2) + np.sum(fn2))\n",
        "#logistic_predictor_far_2 = np.sum(fp2)/(np.sum(fp2)+ np.sum(tn2))"
      ],
      "execution_count": 0,
      "outputs": []
    },
    {
      "cell_type": "code",
      "metadata": {
        "id": "sgveXBTqE20s",
        "colab_type": "code",
        "outputId": "2ccba0e2-c048-4ee2-95dc-8262274705a3",
        "colab": {
          "base_uri": "https://localhost:8080/",
          "height": 51
        }
      },
      "source": [
        "print('Logistic Regression Model Precision:',logistic_predictor_precision_2)\n",
        "print('Logistic Regression Model Recall:',logistic_predictor_recall_2)"
      ],
      "execution_count": 53,
      "outputs": [
        {
          "output_type": "stream",
          "text": [
            "Logistic Regression Model Precision: 0.1952662721893491\n",
            "Logistic Regression Model Recall: 0.12452830188679245\n"
          ],
          "name": "stdout"
        }
      ]
    },
    {
      "cell_type": "markdown",
      "metadata": {
        "id": "X1kxNK1vJN8k",
        "colab_type": "text"
      },
      "source": [
        "Since our precision is larger than the recall, we can tell that there are more false negatives than positives for the long-term contraceptive use condition. This means that there are more long-term uses being mislabeled as no or short-term use. \n"
      ]
    },
    {
      "cell_type": "code",
      "metadata": {
        "id": "ECGNuA4SFKma",
        "colab_type": "code",
        "outputId": "faeeb7a2-43df-4fcd-81f9-ee467e1ad93a",
        "colab": {
          "base_uri": "https://localhost:8080/",
          "height": 34
        }
      },
      "source": [
        "accuracy_2 = (np.sum(tp2) + np.sum(tn2))/ (np.sum(tp2) + np.sum(fp2) + np.sum(tn2) + np.sum(fn2))\n",
        "print('Accuracy:',accuracy_2)"
      ],
      "execution_count": 54,
      "outputs": [
        {
          "output_type": "stream",
          "text": [
            "Accuracy: 0.6912751677852349\n"
          ],
          "name": "stdout"
        }
      ]
    },
    {
      "cell_type": "markdown",
      "metadata": {
        "id": "n0KigvKRJVvU",
        "colab_type": "text"
      },
      "source": [
        "The accuracy of our model for predicting long-term contraceptive use is at around 69%. "
      ]
    },
    {
      "cell_type": "markdown",
      "metadata": {
        "id": "Lli6cRQaJeXh",
        "colab_type": "text"
      },
      "source": [
        "Finally, we calculate the precision and recall for the short-term contraceptive use condition: "
      ]
    },
    {
      "cell_type": "code",
      "metadata": {
        "id": "-fMCgIcFFQys",
        "colab_type": "code",
        "colab": {}
      },
      "source": [
        "tp3 = (Y_train_hat == 3) & (Y_train == 3)\n",
        "tn3 = (Y_train_hat != 3) & (Y_train != 3)\n",
        "fp3 = (Y_train_hat == 3) & (Y_train != 3)\n",
        "fn3 = (Y_train_hat != 3) & (Y_train == 3)\n",
        "\n",
        "logistic_predictor_precision_3 = np.sum(tp3) / (np.sum(tp3) + np.sum(fp3))\n",
        "logistic_predictor_recall_3 = np.sum(tp3) / (np.sum(tp3) + np.sum(fn3))\n",
        "#logistic_predictor_far_3 = np.sum(fp3)/(np.sum(fp3)+ np.sum(tn3))"
      ],
      "execution_count": 0,
      "outputs": []
    },
    {
      "cell_type": "code",
      "metadata": {
        "id": "ckBlkZd_FRDw",
        "colab_type": "code",
        "outputId": "31798c20-754b-48b2-a7c9-8fb0aa158c95",
        "colab": {
          "base_uri": "https://localhost:8080/",
          "height": 51
        }
      },
      "source": [
        "print('Logistic Regression Model Precision:',logistic_predictor_precision_3)\n",
        "print('Logistic Regression Model Recall:',logistic_predictor_recall_3)"
      ],
      "execution_count": 56,
      "outputs": [
        {
          "output_type": "stream",
          "text": [
            "Logistic Regression Model Precision: 0.3431578947368421\n",
            "Logistic Regression Model Recall: 0.38902147971360385\n"
          ],
          "name": "stdout"
        }
      ]
    },
    {
      "cell_type": "markdown",
      "metadata": {
        "id": "B1gw3qtGJrHD",
        "colab_type": "text"
      },
      "source": [
        "Since our precision is smaller than the recall, we can tell that there are more false positives than negatives for the short-term contraceptive use condition. This means that there are more long-term or no use being flagged as short-term use. "
      ]
    },
    {
      "cell_type": "code",
      "metadata": {
        "id": "J10Qt3nhFRUc",
        "colab_type": "code",
        "outputId": "29ac8fb6-d436-49ab-a89a-bca58fda0600",
        "colab": {
          "base_uri": "https://localhost:8080/",
          "height": 34
        }
      },
      "source": [
        "accuracy_3 = (np.sum(tp3) + np.sum(tn3))/ (np.sum(tp3) + np.sum(fp3) + np.sum(tn3) + np.sum(fn3))\n",
        "print('Accuracy:',accuracy_3)"
      ],
      "execution_count": 57,
      "outputs": [
        {
          "output_type": "stream",
          "text": [
            "Accuracy: 0.5234899328859061\n"
          ],
          "name": "stdout"
        }
      ]
    },
    {
      "cell_type": "markdown",
      "metadata": {
        "id": "y1a_XQHjKFhj",
        "colab_type": "text"
      },
      "source": [
        "The accuracy of our model for predicting short-term contraceptive use is at around 52%. "
      ]
    },
    {
      "cell_type": "markdown",
      "metadata": {
        "id": "xb9cEm8vKdT1",
        "colab_type": "text"
      },
      "source": [
        "For both no- and short-term contraceptive use, we see that more data is being misflagged as no- and short-term use. On the other hand, there are more long-term use data that are being misflagged as something else. Thus, our model is likely overestimating the number of people using long-term contraceptives because it seems to be at the expense of predicting no and short-term use. "
      ]
    },
    {
      "cell_type": "markdown",
      "metadata": {
        "id": "VDseWJq_GWld",
        "colab_type": "text"
      },
      "source": [
        "I think the number of long-term contraceptive use is being overestimated due to the features in our data being more inclined towards long-term contraceptive use; for instance, two of the features that we are using are wife's and husband's education. From the EDA we conducted earlier, we can see that in our data, most of the wives and husbands belong to the highest level of educational attainment, which is correlated with long-term contraceptive use. "
      ]
    },
    {
      "cell_type": "markdown",
      "metadata": {
        "id": "95QEB-xwtCSW",
        "colab_type": "text"
      },
      "source": [
        "### **Method 2: One vs. Rest Classifier**"
      ]
    },
    {
      "cell_type": "code",
      "metadata": {
        "id": "QrPHWi0F16T1",
        "colab_type": "code",
        "outputId": "2b2592ee-f328-4df2-de25-9ac62bc18558",
        "colab": {
          "base_uri": "https://localhost:8080/",
          "height": 102
        }
      },
      "source": [
        "logistic_reg_ovr = LogisticRegression(multi_class = 'ovr', max_iter=500)\n",
        "logistic_reg_ovr.fit(X_train, Y_train)"
      ],
      "execution_count": 58,
      "outputs": [
        {
          "output_type": "execute_result",
          "data": {
            "text/plain": [
              "LogisticRegression(C=1.0, class_weight=None, dual=False, fit_intercept=True,\n",
              "                   intercept_scaling=1, l1_ratio=None, max_iter=500,\n",
              "                   multi_class='ovr', n_jobs=None, penalty='l2',\n",
              "                   random_state=None, solver='lbfgs', tol=0.0001, verbose=0,\n",
              "                   warm_start=False)"
            ]
          },
          "metadata": {
            "tags": []
          },
          "execution_count": 58
        }
      ]
    },
    {
      "cell_type": "code",
      "metadata": {
        "id": "PDgoXBmx2J97",
        "colab_type": "code",
        "outputId": "708292b4-3f65-4b8a-9376-43d468b008ed",
        "colab": {
          "base_uri": "https://localhost:8080/",
          "height": 34
        }
      },
      "source": [
        "logistic_reg_ovr.score(X_train, Y_train)"
      ],
      "execution_count": 59,
      "outputs": [
        {
          "output_type": "execute_result",
          "data": {
            "text/plain": [
              "0.5335570469798657"
            ]
          },
          "metadata": {
            "tags": []
          },
          "execution_count": 59
        }
      ]
    },
    {
      "cell_type": "markdown",
      "metadata": {
        "id": "KLfU_uiQtuRR",
        "colab_type": "text"
      },
      "source": [
        "### **Method 3: Decision Tree Classifier**"
      ]
    },
    {
      "cell_type": "markdown",
      "metadata": {
        "id": "yIIIqk7SqHiG",
        "colab_type": "text"
      },
      "source": [
        "We wanted to try using a decision tree classifier since we would be able to classify without using only linear boundaries as logistic regression lets us. "
      ]
    },
    {
      "cell_type": "code",
      "metadata": {
        "id": "QGCNRhxmsuGJ",
        "colab_type": "code",
        "outputId": "8542aaef-b020-40f4-a65a-a65fed1884e1",
        "colab": {
          "base_uri": "https://localhost:8080/",
          "height": 119
        }
      },
      "source": [
        "decision_tree_model = tree.DecisionTreeClassifier(random_state=100)\n",
        "decision_tree_model.fit(X_train, Y_train)"
      ],
      "execution_count": 60,
      "outputs": [
        {
          "output_type": "execute_result",
          "data": {
            "text/plain": [
              "DecisionTreeClassifier(ccp_alpha=0.0, class_weight=None, criterion='gini',\n",
              "                       max_depth=None, max_features=None, max_leaf_nodes=None,\n",
              "                       min_impurity_decrease=0.0, min_impurity_split=None,\n",
              "                       min_samples_leaf=1, min_samples_split=2,\n",
              "                       min_weight_fraction_leaf=0.0, presort='deprecated',\n",
              "                       random_state=100, splitter='best')"
            ]
          },
          "metadata": {
            "tags": []
          },
          "execution_count": 60
        }
      ]
    },
    {
      "cell_type": "markdown",
      "metadata": {
        "id": "MTV9X9ajr9-O",
        "colab_type": "text"
      },
      "source": [
        "Since Decision trees learn new rules for decision on a class by looking at features we wanted to know what type of data would be most beneficial. \n",
        "\n",
        "We decided to compare the one_hot_encoded data used/chosen for our logistic regression model with using all features without one_hot_encoding since we wanted to try to maximize the amount of features the model had to select on as well as reduce the sparsity.\n",
        "\n",
        "\n",
        "https://towardsdatascience.com/one-hot-encoding-is-making-your-tree-based-ensembles-worse-heres-why-d64b282b5769\n",
        "-by consulting some sources as the one above we were able to see that typically we do not have to one_hot_encode and in some cases it is encouraged to reduce the sparsity and selection."
      ]
    },
    {
      "cell_type": "markdown",
      "metadata": {
        "id": "NK-CWp-rQHj-",
        "colab_type": "text"
      },
      "source": [
        "1. **Using the same features**\n",
        "\n",
        "```\n",
        "['wife_age', 'num_child', 'media_exposure',ohe('wife_edu'), ohe('husb_edu')]\n",
        "```\n",
        "\n"
      ]
    },
    {
      "cell_type": "code",
      "metadata": {
        "id": "G8vnsg-zQr7n",
        "colab_type": "code",
        "outputId": "e0f86237-5705-41e0-d4c0-cb8d8e8a63f5",
        "colab": {
          "base_uri": "https://localhost:8080/",
          "height": 51
        }
      },
      "source": [
        "decision_tree_model = tree.DecisionTreeClassifier(random_state=100)\n",
        "decision_tree_model.fit(X_train, Y_train)\n",
        "dt_training_accuracy = decision_tree_model.score(X_train, Y_train)\n",
        "dt_test_accuracy = decision_tree_model.score(X_test, Y_test)\n",
        "print(\"Training Accuracy: \" + str(dt_training_accuracy))\n",
        "print (\"Test Accuracy: \" + str(dt_test_accuracy))"
      ],
      "execution_count": 61,
      "outputs": [
        {
          "output_type": "stream",
          "text": [
            "Training Accuracy: 0.8196308724832215\n",
            "Test Accuracy: 0.4797297297297297\n"
          ],
          "name": "stdout"
        }
      ]
    },
    {
      "cell_type": "markdown",
      "metadata": {
        "id": "gOB5FI7gRWN-",
        "colab_type": "text"
      },
      "source": [
        "As we can see from these results, the training accuracy is much higher than the test. We want to avoid overfitting to training data. Thus, we might want to limit the height of our tree by potentially limiting how deep it grows."
      ]
    },
    {
      "cell_type": "code",
      "metadata": {
        "id": "BCD36JItQ2w6",
        "colab_type": "code",
        "outputId": "334aa7d4-0de2-4d01-c4d5-25ca18eacf2f",
        "colab": {
          "base_uri": "https://localhost:8080/",
          "height": 517
        }
      },
      "source": [
        "def select_max_depth(decision_tree_model, X_train, Y_train, X_test, Y_test):\n",
        "  des_depth = []\n",
        "  des_train = []\n",
        "  des_test = []\n",
        "  for i in range(1, 46):\n",
        "    decision_tree_model = tree.DecisionTreeClassifier(random_state=100,max_depth=i)\n",
        "    decision_tree_model.fit(X_train, Y_train)\n",
        "    dt_training_accuracy = decision_tree_model.score(X_train, Y_train)\n",
        "    dt_test_accuracy = decision_tree_model.score(X_test, Y_test)\n",
        "    if(i%5 == 0):\n",
        "        print(\"Depth: \" + str(i) + \" Training Accuracy: \" + str(dt_training_accuracy) + \" Test Accuracy: \" + str(dt_test_accuracy))\n",
        "    des_depth.append(i)\n",
        "    des_train.append(dt_training_accuracy)\n",
        "    des_test.append(dt_test_accuracy)\n",
        "\n",
        "  print(\"\\nIdeal Depth: \" + str(np.argmax(des_test)))\n",
        "  print(\"Training Accuracy: \" + str(des_train[np.argmax(des_test)]))\n",
        "  print(\"Validation Accuracy: \" + str(des_test[np.argmax(des_test)]) + \"\\n\")\n",
        "\n",
        "  plt.plot(des_depth,des_train, des_depth,des_test)\n",
        "  plt.ylabel('Accuracy %')\n",
        "  plt.xlabel('Max Depth')\n",
        "  plt.legend([\"Training\",\"Test\"])\n",
        "  plt.show()\n",
        "\n",
        "select_max_depth(decision_tree_model, X_train, Y_train, X_test, Y_test)"
      ],
      "execution_count": 62,
      "outputs": [
        {
          "output_type": "stream",
          "text": [
            "Depth: 5 Training Accuracy: 0.5771812080536913 Test Accuracy: 0.5675675675675675\n",
            "Depth: 10 Training Accuracy: 0.6845637583892618 Test Accuracy: 0.5202702702702703\n",
            "Depth: 15 Training Accuracy: 0.802013422818792 Test Accuracy: 0.5\n",
            "Depth: 20 Training Accuracy: 0.8196308724832215 Test Accuracy: 0.4797297297297297\n",
            "Depth: 25 Training Accuracy: 0.8196308724832215 Test Accuracy: 0.4797297297297297\n",
            "Depth: 30 Training Accuracy: 0.8196308724832215 Test Accuracy: 0.4797297297297297\n",
            "Depth: 35 Training Accuracy: 0.8196308724832215 Test Accuracy: 0.4797297297297297\n",
            "Depth: 40 Training Accuracy: 0.8196308724832215 Test Accuracy: 0.4797297297297297\n",
            "Depth: 45 Training Accuracy: 0.8196308724832215 Test Accuracy: 0.4797297297297297\n",
            "\n",
            "Ideal Depth: 3\n",
            "Training Accuracy: 0.5696308724832215\n",
            "Validation Accuracy: 0.5743243243243243\n",
            "\n"
          ],
          "name": "stdout"
        },
        {
          "output_type": "display_data",
          "data": {
            "image/png": "[encoded data removed]",
            "text/plain": [
              "<Figure size 432x288 with 1 Axes>"
            ]
          },
          "metadata": {
            "tags": [],
            "needs_background": "light"
          }
        }
      ]
    },
    {
      "cell_type": "markdown",
      "metadata": {
        "id": "UHc5gmxRUEA2",
        "colab_type": "text"
      },
      "source": [
        "As we can see with this with a lower training accuracy our validation accuracy increases. Thus, we should tend towards not as tall of a tree."
      ]
    },
    {
      "cell_type": "markdown",
      "metadata": {
        "id": "IzLVOCxrUJD8",
        "colab_type": "text"
      },
      "source": [
        "**2. Using all features:** \n",
        "\n",
        "```\n",
        "['wife_age', 'wife_education', 'husband_education', 'num_child','wife_religion', 'wife_work', 'husband_occupation', 'standard_living','media_exposure', 'contraceptive']\n",
        "```\n",
        "\n"
      ]
    },
    {
      "cell_type": "code",
      "metadata": {
        "id": "HHcGZlh_zzcz",
        "colab_type": "code",
        "outputId": "2a326539-24ef-4dcd-aba6-6e9143be2f22",
        "colab": {
          "base_uri": "https://localhost:8080/",
          "height": 51
        }
      },
      "source": [
        "X_train_plain = bc_train.iloc[:,:-1]\n",
        "Y_train_plain = bc_train['contraceptive']\n",
        "X_test_plain = val.iloc[:,:-1]\n",
        "Y_test_plain = val['contraceptive']\n",
        "decision_tree_model_plain = tree.DecisionTreeClassifier(random_state=100)\n",
        "decision_tree_model_plain.fit(X_train_plain, Y_train_plain)\n",
        "dt_training_accuracy_plain = decision_tree_model_plain.score(X_train_plain, Y_train_plain)\n",
        "dt_test_accuracy_plain = decision_tree_model_plain.score(X_test_plain, Y_test_plain)\n",
        "decision_tree_model_plain.predict(X_test_plain)\n",
        "print('Training_accuracy:',dt_training_accuracy_plain)\n",
        "print('Test_accuracy:',dt_test_accuracy_plain) "
      ],
      "execution_count": 63,
      "outputs": [
        {
          "output_type": "stream",
          "text": [
            "Training_accuracy: 0.9605704697986577\n",
            "Test_accuracy: 0.40601503759398494\n"
          ],
          "name": "stdout"
        }
      ]
    },
    {
      "cell_type": "markdown",
      "metadata": {
        "id": "WtZxlPnDXYaJ",
        "colab_type": "text"
      },
      "source": [
        "Very high training accuracy due to overfitting -> need to tune parameters"
      ]
    },
    {
      "cell_type": "code",
      "metadata": {
        "id": "CcIJyktvlpsp",
        "colab_type": "code",
        "outputId": "c272d8a7-b524-49e6-e759-45114fa86f6e",
        "colab": {
          "base_uri": "https://localhost:8080/",
          "height": 517
        }
      },
      "source": [
        "select_max_depth(decision_tree_model_plain, X_train_plain, Y_train_plain, X_test_plain, Y_test_plain)"
      ],
      "execution_count": 64,
      "outputs": [
        {
          "output_type": "stream",
          "text": [
            "Depth: 5 Training Accuracy: 0.5805369127516778 Test Accuracy: 0.5413533834586466\n",
            "Depth: 10 Training Accuracy: 0.738255033557047 Test Accuracy: 0.48872180451127817\n",
            "Depth: 15 Training Accuracy: 0.9119127516778524 Test Accuracy: 0.41353383458646614\n",
            "Depth: 20 Training Accuracy: 0.9605704697986577 Test Accuracy: 0.41353383458646614\n",
            "Depth: 25 Training Accuracy: 0.9605704697986577 Test Accuracy: 0.40601503759398494\n",
            "Depth: 30 Training Accuracy: 0.9605704697986577 Test Accuracy: 0.40601503759398494\n",
            "Depth: 35 Training Accuracy: 0.9605704697986577 Test Accuracy: 0.40601503759398494\n",
            "Depth: 40 Training Accuracy: 0.9605704697986577 Test Accuracy: 0.40601503759398494\n",
            "Depth: 45 Training Accuracy: 0.9605704697986577 Test Accuracy: 0.40601503759398494\n",
            "\n",
            "Ideal Depth: 6\n",
            "Training Accuracy: 0.6241610738255033\n",
            "Validation Accuracy: 0.556390977443609\n",
            "\n"
          ],
          "name": "stdout"
        },
        {
          "output_type": "display_data",
          "data": {
            "image/png": "[encoded data removed]",
            "text/plain": [
              "<Figure size 432x288 with 1 Axes>"
            ]
          },
          "metadata": {
            "tags": [],
            "needs_background": "light"
          }
        }
      ]
    },
    {
      "cell_type": "markdown",
      "metadata": {
        "id": "sltP6oZiZYJu",
        "colab_type": "text"
      },
      "source": [
        "Looked into other parameters such as criterion which identifies the impurity measures for classification. The two types are Entropy and Gini(default). Entropy measures how evenly distibutec the pobabilities from one node are. We want to try to achieve 0 entropy by classifying the node to one particular class. Gini, the other type of criterion is the probability that we incorrectly classify.\n",
        "\n",
        "[Entropy/Gini](https://www.bogotobogo.com/python/scikit-learn/scikt_machine_learning_Decision_Tree_Learning_Informatioin_Gain_IG_Impurity_Entropy_Gini_Classification_Error.php)\n"
      ]
    },
    {
      "cell_type": "markdown",
      "metadata": {
        "id": "PvobUbAusnWO",
        "colab_type": "text"
      },
      "source": [
        "We tested this for both the models, with all features and without:  "
      ]
    },
    {
      "cell_type": "code",
      "metadata": {
        "id": "nts1Bdbcsxt3",
        "colab_type": "code",
        "outputId": "acb39b18-aa9d-4063-96a6-4b3d8f9911cf",
        "colab": {
          "base_uri": "https://localhost:8080/",
          "height": 51
        }
      },
      "source": [
        "decision_tree_model_depth = tree.DecisionTreeClassifier(criterion='entropy',random_state=100,max_depth=5)\n",
        "decision_tree_model_depth.fit(X_train, Y_train)\n",
        "dt_training_accuracy_depth = decision_tree_model_depth.score(X_train, Y_train)\n",
        "dt_test_accuracy_depth = decision_tree_model_depth.score(X_test, Y_test)\n",
        "print('Training_accuracy:',dt_training_accuracy_depth)\n",
        "print('Test_accuracy:',dt_test_accuracy_depth) "
      ],
      "execution_count": 65,
      "outputs": [
        {
          "output_type": "stream",
          "text": [
            "Training_accuracy: 0.5746644295302014\n",
            "Test_accuracy: 0.5675675675675675\n"
          ],
          "name": "stdout"
        }
      ]
    },
    {
      "cell_type": "code",
      "metadata": {
        "id": "XSnfI_9k4LFW",
        "colab_type": "code",
        "outputId": "9c00e096-f72a-4e6c-efb4-8a73569c87cb",
        "colab": {
          "base_uri": "https://localhost:8080/",
          "height": 68
        }
      },
      "source": [
        "X_train.columns"
      ],
      "execution_count": 66,
      "outputs": [
        {
          "output_type": "execute_result",
          "data": {
            "text/plain": [
              "Index(['wife_age', 'num_child', 'media_exposure', 'w1', 'w2', 'w3', 'w4', 'h1',\n",
              "       'h2', 'h3', 'h4'],\n",
              "      dtype='object')"
            ]
          },
          "metadata": {
            "tags": []
          },
          "execution_count": 66
        }
      ]
    },
    {
      "cell_type": "code",
      "metadata": {
        "id": "Z4IX9R00a0ro",
        "colab_type": "code",
        "outputId": "d2a13647-ff1f-4ee0-9dc6-47f4c86ab89f",
        "colab": {
          "base_uri": "https://localhost:8080/",
          "height": 51
        }
      },
      "source": [
        "decision_tree_model_plain = tree.DecisionTreeClassifier(criterion='entropy',random_state=100,max_depth=6)\n",
        "decision_tree_model_plain.fit(X_train_plain, Y_train_plain)\n",
        "dt_training_accuracy_plain = decision_tree_model_plain.score(X_train_plain, Y_train_plain)\n",
        "dt_test_accuracy_plain = decision_tree_model_plain.score(X_test_plain, Y_test_plain)\n",
        "print('Training_accuracy:',dt_training_accuracy_plain)\n",
        "print('Test_accuracy:',dt_test_accuracy_plain) "
      ],
      "execution_count": 67,
      "outputs": [
        {
          "output_type": "stream",
          "text": [
            "Training_accuracy: 0.5864093959731543\n",
            "Test_accuracy: 0.6015037593984962\n"
          ],
          "name": "stdout"
        }
      ]
    },
    {
      "cell_type": "code",
      "metadata": {
        "id": "QNlU15BJNEqB",
        "colab_type": "code",
        "outputId": "df431d1a-ae39-4197-9fc3-cd3bb4f9a7db",
        "colab": {
          "base_uri": "https://localhost:8080/",
          "height": 816
        }
      },
      "source": [
        "import graphviz\n",
        "dot_data = tree.export_graphviz(decision_tree_model_depth, out_file=None, feature_names=['wife_age', 'num_child', 'media_exposure', 'w1', 'w2', 'w3', 'w4', 'h1',\n",
        "       'h2', 'h3', 'h4'], filled=True, rounded=True,  special_characters=True)  \n",
        "graph = graphviz.Source(dot_data)\n",
        "graph.render(format=\"png\", filename=\"iris_tree\")\n",
        "graph"
      ],
      "execution_count": 68,
      "outputs": [
        {
          "output_type": "execute_result",
          "data": {
            "text/plain": [
              "<graphviz.files.Source at 0x7f0dc066c438>"
            ],
            "image/svg+xml": "<?xml version=\"1.0\" encoding=\"UTF-8\" standalone=\"no\"?>\n<!DOCTYPE svg PUBLIC \"-//W3C//DTD SVG 1.1//EN\"\n \"http://www.w3.org/Graphics/SVG/1.1/DTD/svg11.dtd\">\n<!-- Generated by graphviz version 2.40.1 (20161225.0304)\n -->\n<!-- Title: Tree Pages: 1 -->\n<svg width=\"2367pt\" height=\"581pt\"\n viewBox=\"0.00 0.00 2367.00 581.00\" xmlns=\"http://www.w3.org/2000/svg\" xmlns:xlink=\"http://www.w3.org/1999/xlink\">\n<g id=\"graph0\" class=\"graph\" transform=\"scale(1 1) rotate(0) translate(4 577)\">\n<title>Tree</title>\n<polygon fill=\"#ffffff\" stroke=\"transparent\" points=\"-4,4 -4,-577 2363,-577 2363,4 -4,4\"/>\n<!-- 0 -->\n<g id=\"node1\" class=\"node\">\n<title>0</title>\n<path fill=\"#fcf0e8\" stroke=\"#000000\" d=\"M564,-573C564,-573 424,-573 424,-573 418,-573 412,-567 412,-561 412,-561 412,-517 412,-517 412,-511 418,-505 424,-505 424,-505 564,-505 564,-505 570,-505 576,-511 576,-517 576,-517 576,-561 576,-561 576,-567 570,-573 564,-573\"/>\n<text text-anchor=\"start\" x=\"432\" y=\"-557.8\" font-family=\"Helvetica,sans-Serif\" font-size=\"14.00\" fill=\"#000000\">num_child ≤ &#45;1.167</text>\n<text text-anchor=\"start\" x=\"443\" y=\"-542.8\" font-family=\"Helvetica,sans-Serif\" font-size=\"14.00\" fill=\"#000000\">entropy = 1.537</text>\n<text text-anchor=\"start\" x=\"442\" y=\"-527.8\" font-family=\"Helvetica,sans-Serif\" font-size=\"14.00\" fill=\"#000000\">samples = 1192</text>\n<text text-anchor=\"start\" x=\"420\" y=\"-512.8\" font-family=\"Helvetica,sans-Serif\" font-size=\"14.00\" fill=\"#000000\">value = [508, 265, 419]</text>\n</g>\n<!-- 1 -->\n<g id=\"node2\" class=\"node\">\n<title>1</title>\n<path fill=\"#e6843e\" stroke=\"#000000\" d=\"M460.5,-469C460.5,-469 361.5,-469 361.5,-469 355.5,-469 349.5,-463 349.5,-457 349.5,-457 349.5,-413 349.5,-413 349.5,-407 355.5,-401 361.5,-401 361.5,-401 460.5,-401 460.5,-401 466.5,-401 472.5,-407 472.5,-413 472.5,-413 472.5,-457 472.5,-457 472.5,-463 466.5,-469 460.5,-469\"/>\n<text text-anchor=\"start\" x=\"385\" y=\"-453.8\" font-family=\"Helvetica,sans-Serif\" font-size=\"14.00\" fill=\"#000000\">h2 ≤ 0.5</text>\n<text text-anchor=\"start\" x=\"360\" y=\"-438.8\" font-family=\"Helvetica,sans-Serif\" font-size=\"14.00\" fill=\"#000000\">entropy = 0.172</text>\n<text text-anchor=\"start\" x=\"367\" y=\"-423.8\" font-family=\"Helvetica,sans-Serif\" font-size=\"14.00\" fill=\"#000000\">samples = 78</text>\n<text text-anchor=\"start\" x=\"357.5\" y=\"-408.8\" font-family=\"Helvetica,sans-Serif\" font-size=\"14.00\" fill=\"#000000\">value = [76, 0, 2]</text>\n</g>\n<!-- 0&#45;&gt;1 -->\n<g id=\"edge1\" class=\"edge\">\n<title>0&#45;&gt;1</title>\n<path fill=\"none\" stroke=\"#000000\" d=\"M466.8227,-504.9465C459.7288,-496.0578 451.9985,-486.3716 444.614,-477.1188\"/>\n<polygon fill=\"#000000\" stroke=\"#000000\" points=\"447.2118,-474.7628 438.2384,-469.13 441.7406,-479.1293 447.2118,-474.7628\"/>\n<text text-anchor=\"middle\" x=\"435.4484\" y=\"-490.2738\" font-family=\"Helvetica,sans-Serif\" font-size=\"14.00\" fill=\"#000000\">True</text>\n</g>\n<!-- 6 -->\n<g id=\"node7\" class=\"node\">\n<title>6</title>\n<path fill=\"#fefcfb\" stroke=\"#000000\" d=\"M740,-469C740,-469 600,-469 600,-469 594,-469 588,-463 588,-457 588,-457 588,-413 588,-413 588,-407 594,-401 600,-401 600,-401 740,-401 740,-401 746,-401 752,-407 752,-413 752,-413 752,-457 752,-457 752,-463 746,-469 740,-469\"/>\n<text text-anchor=\"start\" x=\"614.5\" y=\"-453.8\" font-family=\"Helvetica,sans-Serif\" font-size=\"14.00\" fill=\"#000000\">wife_age ≤ 0.567</text>\n<text text-anchor=\"start\" x=\"619\" y=\"-438.8\" font-family=\"Helvetica,sans-Serif\" font-size=\"14.00\" fill=\"#000000\">entropy = 1.553</text>\n<text text-anchor=\"start\" x=\"618\" y=\"-423.8\" font-family=\"Helvetica,sans-Serif\" font-size=\"14.00\" fill=\"#000000\">samples = 1114</text>\n<text text-anchor=\"start\" x=\"596\" y=\"-408.8\" font-family=\"Helvetica,sans-Serif\" font-size=\"14.00\" fill=\"#000000\">value = [432, 265, 417]</text>\n</g>\n<!-- 0&#45;&gt;6 -->\n<g id=\"edge6\" class=\"edge\">\n<title>0&#45;&gt;6</title>\n<path fill=\"none\" stroke=\"#000000\" d=\"M551.629,-504.9465C568.1909,-495.1599 586.3888,-484.4066 603.4425,-474.3294\"/>\n<polygon fill=\"#000000\" stroke=\"#000000\" points=\"605.4128,-477.2306 612.2415,-469.13 601.8517,-471.2041 605.4128,-477.2306\"/>\n<text text-anchor=\"middle\" x=\"606.0155\" y=\"-489.6423\" font-family=\"Helvetica,sans-Serif\" font-size=\"14.00\" fill=\"#000000\">False</text>\n</g>\n<!-- 2 -->\n<g id=\"node3\" class=\"node\">\n<title>2</title>\n<path fill=\"#e58139\" stroke=\"#000000\" d=\"M315.5,-357.5C315.5,-357.5 216.5,-357.5 216.5,-357.5 210.5,-357.5 204.5,-351.5 204.5,-345.5 204.5,-345.5 204.5,-316.5 204.5,-316.5 204.5,-310.5 210.5,-304.5 216.5,-304.5 216.5,-304.5 315.5,-304.5 315.5,-304.5 321.5,-304.5 327.5,-310.5 327.5,-316.5 327.5,-316.5 327.5,-345.5 327.5,-345.5 327.5,-351.5 321.5,-357.5 315.5,-357.5\"/>\n<text text-anchor=\"start\" x=\"223.5\" y=\"-342.3\" font-family=\"Helvetica,sans-Serif\" font-size=\"14.00\" fill=\"#000000\">entropy = 0.0</text>\n<text text-anchor=\"start\" x=\"222\" y=\"-327.3\" font-family=\"Helvetica,sans-Serif\" font-size=\"14.00\" fill=\"#000000\">samples = 69</text>\n<text text-anchor=\"start\" x=\"212.5\" y=\"-312.3\" font-family=\"Helvetica,sans-Serif\" font-size=\"14.00\" fill=\"#000000\">value = [69, 0, 0]</text>\n</g>\n<!-- 1&#45;&gt;2 -->\n<g id=\"edge2\" class=\"edge\">\n<title>1&#45;&gt;2</title>\n<path fill=\"none\" stroke=\"#000000\" d=\"M363.5216,-400.9465C346.7821,-388.9403 328.0142,-375.4791 311.4467,-363.5962\"/>\n<polygon fill=\"#000000\" stroke=\"#000000\" points=\"313.1718,-360.5264 303.0059,-357.5422 309.092,-366.2146 313.1718,-360.5264\"/>\n</g>\n<!-- 3 -->\n<g id=\"node4\" class=\"node\">\n<title>3</title>\n<path fill=\"#eca572\" stroke=\"#000000\" d=\"M464.5,-365C464.5,-365 357.5,-365 357.5,-365 351.5,-365 345.5,-359 345.5,-353 345.5,-353 345.5,-309 345.5,-309 345.5,-303 351.5,-297 357.5,-297 357.5,-297 464.5,-297 464.5,-297 470.5,-297 476.5,-303 476.5,-309 476.5,-309 476.5,-353 476.5,-353 476.5,-359 470.5,-365 464.5,-365\"/>\n<text text-anchor=\"start\" x=\"353.5\" y=\"-349.8\" font-family=\"Helvetica,sans-Serif\" font-size=\"14.00\" fill=\"#000000\">wife_age ≤ &#45;1.345</text>\n<text text-anchor=\"start\" x=\"360\" y=\"-334.8\" font-family=\"Helvetica,sans-Serif\" font-size=\"14.00\" fill=\"#000000\">entropy = 0.764</text>\n<text text-anchor=\"start\" x=\"371.5\" y=\"-319.8\" font-family=\"Helvetica,sans-Serif\" font-size=\"14.00\" fill=\"#000000\">samples = 9</text>\n<text text-anchor=\"start\" x=\"361.5\" y=\"-304.8\" font-family=\"Helvetica,sans-Serif\" font-size=\"14.00\" fill=\"#000000\">value = [7, 0, 2]</text>\n</g>\n<!-- 1&#45;&gt;3 -->\n<g id=\"edge3\" class=\"edge\">\n<title>1&#45;&gt;3</title>\n<path fill=\"none\" stroke=\"#000000\" d=\"M411,-400.9465C411,-392.776 411,-383.9318 411,-375.3697\"/>\n<polygon fill=\"#000000\" stroke=\"#000000\" points=\"414.5001,-375.13 411,-365.13 407.5001,-375.13 414.5001,-375.13\"/>\n</g>\n<!-- 4 -->\n<g id=\"node5\" class=\"node\">\n<title>4</title>\n<path fill=\"#8139e5\" stroke=\"#000000\" d=\"M323.5,-253.5C323.5,-253.5 232.5,-253.5 232.5,-253.5 226.5,-253.5 220.5,-247.5 220.5,-241.5 220.5,-241.5 220.5,-212.5 220.5,-212.5 220.5,-206.5 226.5,-200.5 232.5,-200.5 232.5,-200.5 323.5,-200.5 323.5,-200.5 329.5,-200.5 335.5,-206.5 335.5,-212.5 335.5,-212.5 335.5,-241.5 335.5,-241.5 335.5,-247.5 329.5,-253.5 323.5,-253.5\"/>\n<text text-anchor=\"start\" x=\"235.5\" y=\"-238.3\" font-family=\"Helvetica,sans-Serif\" font-size=\"14.00\" fill=\"#000000\">entropy = 0.0</text>\n<text text-anchor=\"start\" x=\"238.5\" y=\"-223.3\" font-family=\"Helvetica,sans-Serif\" font-size=\"14.00\" fill=\"#000000\">samples = 2</text>\n<text text-anchor=\"start\" x=\"228.5\" y=\"-208.3\" font-family=\"Helvetica,sans-Serif\" font-size=\"14.00\" fill=\"#000000\">value = [0, 0, 2]</text>\n</g>\n<!-- 3&#45;&gt;4 -->\n<g id=\"edge4\" class=\"edge\">\n<title>3&#45;&gt;4</title>\n<path fill=\"none\" stroke=\"#000000\" d=\"M367.4508,-296.9465C352.2375,-285.0504 335.1977,-271.726 320.1043,-259.9237\"/>\n<polygon fill=\"#000000\" stroke=\"#000000\" points=\"321.9769,-256.9449 311.9433,-253.5422 317.6649,-262.4592 321.9769,-256.9449\"/>\n</g>\n<!-- 5 -->\n<g id=\"node6\" class=\"node\">\n<title>5</title>\n<path fill=\"#e58139\" stroke=\"#000000\" d=\"M456.5,-253.5C456.5,-253.5 365.5,-253.5 365.5,-253.5 359.5,-253.5 353.5,-247.5 353.5,-241.5 353.5,-241.5 353.5,-212.5 353.5,-212.5 353.5,-206.5 359.5,-200.5 365.5,-200.5 365.5,-200.5 456.5,-200.5 456.5,-200.5 462.5,-200.5 468.5,-206.5 468.5,-212.5 468.5,-212.5 468.5,-241.5 468.5,-241.5 468.5,-247.5 462.5,-253.5 456.5,-253.5\"/>\n<text text-anchor=\"start\" x=\"368.5\" y=\"-238.3\" font-family=\"Helvetica,sans-Serif\" font-size=\"14.00\" fill=\"#000000\">entropy = 0.0</text>\n<text text-anchor=\"start\" x=\"371.5\" y=\"-223.3\" font-family=\"Helvetica,sans-Serif\" font-size=\"14.00\" fill=\"#000000\">samples = 7</text>\n<text text-anchor=\"start\" x=\"361.5\" y=\"-208.3\" font-family=\"Helvetica,sans-Serif\" font-size=\"14.00\" fill=\"#000000\">value = [7, 0, 0]</text>\n</g>\n<!-- 3&#45;&gt;5 -->\n<g id=\"edge5\" class=\"edge\">\n<title>3&#45;&gt;5</title>\n<path fill=\"none\" stroke=\"#000000\" d=\"M411,-296.9465C411,-286.2621 411,-274.4254 411,-263.5742\"/>\n<polygon fill=\"#000000\" stroke=\"#000000\" points=\"414.5001,-263.5421 411,-253.5422 407.5001,-263.5422 414.5001,-263.5421\"/>\n</g>\n<!-- 7 -->\n<g id=\"node8\" class=\"node\">\n<title>7</title>\n<path fill=\"#e6d8fa\" stroke=\"#000000\" d=\"M740,-365C740,-365 600,-365 600,-365 594,-365 588,-359 588,-353 588,-353 588,-309 588,-309 588,-303 594,-297 600,-297 600,-297 740,-297 740,-297 746,-297 752,-303 752,-309 752,-309 752,-353 752,-353 752,-359 746,-365 740,-365\"/>\n<text text-anchor=\"start\" x=\"642.5\" y=\"-349.8\" font-family=\"Helvetica,sans-Serif\" font-size=\"14.00\" fill=\"#000000\">w4 ≤ 0.5</text>\n<text text-anchor=\"start\" x=\"623\" y=\"-334.8\" font-family=\"Helvetica,sans-Serif\" font-size=\"14.00\" fill=\"#000000\">entropy = 1.52</text>\n<text text-anchor=\"start\" x=\"622\" y=\"-319.8\" font-family=\"Helvetica,sans-Serif\" font-size=\"14.00\" fill=\"#000000\">samples = 771</text>\n<text text-anchor=\"start\" x=\"596\" y=\"-304.8\" font-family=\"Helvetica,sans-Serif\" font-size=\"14.00\" fill=\"#000000\">value = [251, 166, 354]</text>\n</g>\n<!-- 6&#45;&gt;7 -->\n<g id=\"edge7\" class=\"edge\">\n<title>6&#45;&gt;7</title>\n<path fill=\"none\" stroke=\"#000000\" d=\"M670,-400.9465C670,-392.776 670,-383.9318 670,-375.3697\"/>\n<polygon fill=\"#000000\" stroke=\"#000000\" points=\"673.5001,-375.13 670,-365.13 666.5001,-375.13 673.5001,-375.13\"/>\n</g>\n<!-- 22 -->\n<g id=\"node23\" class=\"node\">\n<title>22</title>\n<path fill=\"#f6d5bc\" stroke=\"#000000\" d=\"M1567,-365C1567,-365 1443,-365 1443,-365 1437,-365 1431,-359 1431,-353 1431,-353 1431,-309 1431,-309 1431,-303 1437,-297 1443,-297 1443,-297 1567,-297 1567,-297 1573,-297 1579,-303 1579,-309 1579,-309 1579,-353 1579,-353 1579,-359 1573,-365 1567,-365\"/>\n<text text-anchor=\"start\" x=\"1477.5\" y=\"-349.8\" font-family=\"Helvetica,sans-Serif\" font-size=\"14.00\" fill=\"#000000\">w4 ≤ 0.5</text>\n<text text-anchor=\"start\" x=\"1454\" y=\"-334.8\" font-family=\"Helvetica,sans-Serif\" font-size=\"14.00\" fill=\"#000000\">entropy = 1.453</text>\n<text text-anchor=\"start\" x=\"1457\" y=\"-319.8\" font-family=\"Helvetica,sans-Serif\" font-size=\"14.00\" fill=\"#000000\">samples = 343</text>\n<text text-anchor=\"start\" x=\"1439\" y=\"-304.8\" font-family=\"Helvetica,sans-Serif\" font-size=\"14.00\" fill=\"#000000\">value = [181, 99, 63]</text>\n</g>\n<!-- 6&#45;&gt;22 -->\n<g id=\"edge22\" class=\"edge\">\n<title>6&#45;&gt;22</title>\n<path fill=\"none\" stroke=\"#000000\" d=\"M752.3482,-424.7435C911.4764,-404.9239 1259.6684,-361.5563 1420.4913,-341.5256\"/>\n<polygon fill=\"#000000\" stroke=\"#000000\" points=\"1421.3187,-344.9497 1430.8094,-340.2405 1420.4535,-338.0034 1421.3187,-344.9497\"/>\n</g>\n<!-- 8 -->\n<g id=\"node9\" class=\"node\">\n<title>8</title>\n<path fill=\"#eadefb\" stroke=\"#000000\" d=\"M631,-261C631,-261 499,-261 499,-261 493,-261 487,-255 487,-249 487,-249 487,-205 487,-205 487,-199 493,-193 499,-193 499,-193 631,-193 631,-193 637,-193 643,-199 643,-205 643,-205 643,-249 643,-249 643,-255 637,-261 631,-261\"/>\n<text text-anchor=\"start\" x=\"503\" y=\"-245.8\" font-family=\"Helvetica,sans-Serif\" font-size=\"14.00\" fill=\"#000000\">num_child ≤ &#45;0.339</text>\n<text text-anchor=\"start\" x=\"514\" y=\"-230.8\" font-family=\"Helvetica,sans-Serif\" font-size=\"14.00\" fill=\"#000000\">entropy = 1.454</text>\n<text text-anchor=\"start\" x=\"517\" y=\"-215.8\" font-family=\"Helvetica,sans-Serif\" font-size=\"14.00\" fill=\"#000000\">samples = 472</text>\n<text text-anchor=\"start\" x=\"495\" y=\"-200.8\" font-family=\"Helvetica,sans-Serif\" font-size=\"14.00\" fill=\"#000000\">value = [175, 72, 225]</text>\n</g>\n<!-- 7&#45;&gt;8 -->\n<g id=\"edge8\" class=\"edge\">\n<title>7&#45;&gt;8</title>\n<path fill=\"none\" stroke=\"#000000\" d=\"M635.6191,-296.9465C626.3729,-287.7884 616.2721,-277.7838 606.6757,-268.2788\"/>\n<polygon fill=\"#000000\" stroke=\"#000000\" points=\"609.026,-265.6805 599.4582,-261.13 604.1,-270.6539 609.026,-265.6805\"/>\n</g>\n<!-- 15 -->\n<g id=\"node16\" class=\"node\">\n<title>15</title>\n<path fill=\"#e9ddfb\" stroke=\"#000000\" d=\"M825,-261C825,-261 701,-261 701,-261 695,-261 689,-255 689,-249 689,-249 689,-205 689,-205 689,-199 695,-193 701,-193 701,-193 825,-193 825,-193 831,-193 837,-199 837,-205 837,-205 837,-249 837,-249 837,-255 831,-261 825,-261\"/>\n<text text-anchor=\"start\" x=\"701\" y=\"-245.8\" font-family=\"Helvetica,sans-Serif\" font-size=\"14.00\" fill=\"#000000\">num_child ≤ &#45;0.339</text>\n<text text-anchor=\"start\" x=\"716\" y=\"-230.8\" font-family=\"Helvetica,sans-Serif\" font-size=\"14.00\" fill=\"#000000\">entropy = 1.55</text>\n<text text-anchor=\"start\" x=\"715\" y=\"-215.8\" font-family=\"Helvetica,sans-Serif\" font-size=\"14.00\" fill=\"#000000\">samples = 299</text>\n<text text-anchor=\"start\" x=\"697\" y=\"-200.8\" font-family=\"Helvetica,sans-Serif\" font-size=\"14.00\" fill=\"#000000\">value = [76, 94, 129]</text>\n</g>\n<!-- 7&#45;&gt;15 -->\n<g id=\"edge15\" class=\"edge\">\n<title>7&#45;&gt;15</title>\n<path fill=\"none\" stroke=\"#000000\" d=\"M700.4517,-296.9465C708.4806,-287.968 717.237,-278.1758 725.5867,-268.8385\"/>\n<polygon fill=\"#000000\" stroke=\"#000000\" points=\"728.423,-270.9174 732.4799,-261.13 723.205,-266.2512 728.423,-270.9174\"/>\n</g>\n<!-- 9 -->\n<g id=\"node10\" class=\"node\">\n<title>9</title>\n<path fill=\"#f9e4d5\" stroke=\"#000000\" d=\"M282,-157C282,-157 158,-157 158,-157 152,-157 146,-151 146,-145 146,-145 146,-101 146,-101 146,-95 152,-89 158,-89 158,-89 282,-89 282,-89 288,-89 294,-95 294,-101 294,-101 294,-145 294,-145 294,-151 288,-157 282,-157\"/>\n<text text-anchor=\"start\" x=\"162.5\" y=\"-141.8\" font-family=\"Helvetica,sans-Serif\" font-size=\"14.00\" fill=\"#000000\">wife_age ≤ &#45;0.269</text>\n<text text-anchor=\"start\" x=\"169\" y=\"-126.8\" font-family=\"Helvetica,sans-Serif\" font-size=\"14.00\" fill=\"#000000\">entropy = 1.421</text>\n<text text-anchor=\"start\" x=\"172\" y=\"-111.8\" font-family=\"Helvetica,sans-Serif\" font-size=\"14.00\" fill=\"#000000\">samples = 200</text>\n<text text-anchor=\"start\" x=\"154\" y=\"-96.8\" font-family=\"Helvetica,sans-Serif\" font-size=\"14.00\" fill=\"#000000\">value = [100, 27, 73]</text>\n</g>\n<!-- 8&#45;&gt;9 -->\n<g id=\"edge9\" class=\"edge\">\n<title>8&#45;&gt;9</title>\n<path fill=\"none\" stroke=\"#000000\" d=\"M486.9403,-196.3618C483.5916,-195.199 480.2678,-194.0732 477,-193 419.9532,-174.2655 354.6607,-156.5276 304.1624,-143.5948\"/>\n<polygon fill=\"#000000\" stroke=\"#000000\" points=\"304.8214,-140.151 294.2668,-141.0735 303.093,-146.9343 304.8214,-140.151\"/>\n</g>\n<!-- 12 -->\n<g id=\"node13\" class=\"node\">\n<title>12</title>\n<path fill=\"#ceb2f5\" stroke=\"#000000\" d=\"M598,-157C598,-157 474,-157 474,-157 468,-157 462,-151 462,-145 462,-145 462,-101 462,-101 462,-95 468,-89 474,-89 474,-89 598,-89 598,-89 604,-89 610,-95 610,-101 610,-101 610,-145 610,-145 610,-151 604,-157 598,-157\"/>\n<text text-anchor=\"start\" x=\"482.5\" y=\"-141.8\" font-family=\"Helvetica,sans-Serif\" font-size=\"14.00\" fill=\"#000000\">wife_age ≤ &#45;0.03</text>\n<text text-anchor=\"start\" x=\"485\" y=\"-126.8\" font-family=\"Helvetica,sans-Serif\" font-size=\"14.00\" fill=\"#000000\">entropy = 1.411</text>\n<text text-anchor=\"start\" x=\"488\" y=\"-111.8\" font-family=\"Helvetica,sans-Serif\" font-size=\"14.00\" fill=\"#000000\">samples = 272</text>\n<text text-anchor=\"start\" x=\"470\" y=\"-96.8\" font-family=\"Helvetica,sans-Serif\" font-size=\"14.00\" fill=\"#000000\">value = [75, 45, 152]</text>\n</g>\n<!-- 8&#45;&gt;12 -->\n<g id=\"edge12\" class=\"edge\">\n<title>8&#45;&gt;12</title>\n<path fill=\"none\" stroke=\"#000000\" d=\"M555.5043,-192.9465C553.1759,-184.5965 550.6513,-175.5427 548.215,-166.8056\"/>\n<polygon fill=\"#000000\" stroke=\"#000000\" points=\"551.5745,-165.8224 545.517,-157.13 544.8317,-167.7026 551.5745,-165.8224\"/>\n</g>\n<!-- 10 -->\n<g id=\"node11\" class=\"node\">\n<title>10</title>\n<path fill=\"#fdf5ef\" stroke=\"#000000\" d=\"M128,-53C128,-53 12,-53 12,-53 6,-53 0,-47 0,-41 0,-41 0,-12 0,-12 0,-6 6,0 12,0 12,0 128,0 128,0 134,0 140,-6 140,-12 140,-12 140,-41 140,-41 140,-47 134,-53 128,-53\"/>\n<text text-anchor=\"start\" x=\"19\" y=\"-37.8\" font-family=\"Helvetica,sans-Serif\" font-size=\"14.00\" fill=\"#000000\">entropy = 1.431</text>\n<text text-anchor=\"start\" x=\"22\" y=\"-22.8\" font-family=\"Helvetica,sans-Serif\" font-size=\"14.00\" fill=\"#000000\">samples = 173</text>\n<text text-anchor=\"start\" x=\"8\" y=\"-7.8\" font-family=\"Helvetica,sans-Serif\" font-size=\"14.00\" fill=\"#000000\">value = [79, 23, 71]</text>\n</g>\n<!-- 9&#45;&gt;10 -->\n<g id=\"edge10\" class=\"edge\">\n<title>9&#45;&gt;10</title>\n<path fill=\"none\" stroke=\"#000000\" d=\"M167.1156,-88.9777C151.8856,-79.1798 135.3194,-68.5222 120.2536,-58.8298\"/>\n<polygon fill=\"#000000\" stroke=\"#000000\" points=\"121.8816,-55.7154 111.5779,-53.2485 118.0943,-61.6024 121.8816,-55.7154\"/>\n</g>\n<!-- 11 -->\n<g id=\"node12\" class=\"node\">\n<title>11</title>\n<path fill=\"#eca26d\" stroke=\"#000000\" d=\"M269.5,-53C269.5,-53 170.5,-53 170.5,-53 164.5,-53 158.5,-47 158.5,-41 158.5,-41 158.5,-12 158.5,-12 158.5,-6 164.5,0 170.5,0 170.5,0 269.5,0 269.5,0 275.5,0 281.5,-6 281.5,-12 281.5,-12 281.5,-41 281.5,-41 281.5,-47 275.5,-53 269.5,-53\"/>\n<text text-anchor=\"start\" x=\"169\" y=\"-37.8\" font-family=\"Helvetica,sans-Serif\" font-size=\"14.00\" fill=\"#000000\">entropy = 0.968</text>\n<text text-anchor=\"start\" x=\"176\" y=\"-22.8\" font-family=\"Helvetica,sans-Serif\" font-size=\"14.00\" fill=\"#000000\">samples = 27</text>\n<text text-anchor=\"start\" x=\"166.5\" y=\"-7.8\" font-family=\"Helvetica,sans-Serif\" font-size=\"14.00\" fill=\"#000000\">value = [21, 4, 2]</text>\n</g>\n<!-- 9&#45;&gt;11 -->\n<g id=\"edge11\" class=\"edge\">\n<title>9&#45;&gt;11</title>\n<path fill=\"none\" stroke=\"#000000\" d=\"M220,-88.9777C220,-80.7364 220,-71.887 220,-63.5153\"/>\n<polygon fill=\"#000000\" stroke=\"#000000\" points=\"223.5001,-63.2484 220,-53.2485 216.5001,-63.2485 223.5001,-63.2484\"/>\n</g>\n<!-- 13 -->\n<g id=\"node14\" class=\"node\">\n<title>13</title>\n<path fill=\"#c6a6f3\" stroke=\"#000000\" d=\"M436,-53C436,-53 312,-53 312,-53 306,-53 300,-47 300,-41 300,-41 300,-12 300,-12 300,-6 306,0 312,0 312,0 436,0 436,0 442,0 448,-6 448,-12 448,-12 448,-41 448,-41 448,-47 442,-53 436,-53\"/>\n<text text-anchor=\"start\" x=\"323\" y=\"-37.8\" font-family=\"Helvetica,sans-Serif\" font-size=\"14.00\" fill=\"#000000\">entropy = 1.314</text>\n<text text-anchor=\"start\" x=\"326\" y=\"-22.8\" font-family=\"Helvetica,sans-Serif\" font-size=\"14.00\" fill=\"#000000\">samples = 172</text>\n<text text-anchor=\"start\" x=\"308\" y=\"-7.8\" font-family=\"Helvetica,sans-Serif\" font-size=\"14.00\" fill=\"#000000\">value = [48, 20, 104]</text>\n</g>\n<!-- 12&#45;&gt;13 -->\n<g id=\"edge13\" class=\"edge\">\n<title>12&#45;&gt;13</title>\n<path fill=\"none\" stroke=\"#000000\" d=\"M478.8849,-88.9777C462.2059,-79.0424 444.0431,-68.2232 427.5906,-58.4228\"/>\n<polygon fill=\"#000000\" stroke=\"#000000\" points=\"429.029,-55.2058 418.6466,-53.095 425.4467,-61.2197 429.029,-55.2058\"/>\n</g>\n<!-- 14 -->\n<g id=\"node15\" class=\"node\">\n<title>14</title>\n<path fill=\"#dbc6f8\" stroke=\"#000000\" d=\"M594,-53C594,-53 478,-53 478,-53 472,-53 466,-47 466,-41 466,-41 466,-12 466,-12 466,-6 472,0 478,0 478,0 594,0 594,0 600,0 606,-6 606,-12 606,-12 606,-41 606,-41 606,-47 600,-53 594,-53\"/>\n<text text-anchor=\"start\" x=\"485\" y=\"-37.8\" font-family=\"Helvetica,sans-Serif\" font-size=\"14.00\" fill=\"#000000\">entropy = 1.518</text>\n<text text-anchor=\"start\" x=\"488\" y=\"-22.8\" font-family=\"Helvetica,sans-Serif\" font-size=\"14.00\" fill=\"#000000\">samples = 100</text>\n<text text-anchor=\"start\" x=\"474\" y=\"-7.8\" font-family=\"Helvetica,sans-Serif\" font-size=\"14.00\" fill=\"#000000\">value = [27, 25, 48]</text>\n</g>\n<!-- 12&#45;&gt;14 -->\n<g id=\"edge14\" class=\"edge\">\n<title>12&#45;&gt;14</title>\n<path fill=\"none\" stroke=\"#000000\" d=\"M536,-88.9777C536,-80.7364 536,-71.887 536,-63.5153\"/>\n<polygon fill=\"#000000\" stroke=\"#000000\" points=\"539.5001,-63.2484 536,-53.2485 532.5001,-63.2485 539.5001,-63.2484\"/>\n</g>\n<!-- 16 -->\n<g id=\"node17\" class=\"node\">\n<title>16</title>\n<path fill=\"#e8dafa\" stroke=\"#000000\" d=\"M821,-157C821,-157 705,-157 705,-157 699,-157 693,-151 693,-145 693,-145 693,-101 693,-101 693,-95 699,-89 705,-89 705,-89 821,-89 821,-89 827,-89 833,-95 833,-101 833,-101 833,-145 833,-145 833,-151 827,-157 821,-157\"/>\n<text text-anchor=\"start\" x=\"737\" y=\"-141.8\" font-family=\"Helvetica,sans-Serif\" font-size=\"14.00\" fill=\"#000000\">h3 ≤ 0.5</text>\n<text text-anchor=\"start\" x=\"712\" y=\"-126.8\" font-family=\"Helvetica,sans-Serif\" font-size=\"14.00\" fill=\"#000000\">entropy = 1.549</text>\n<text text-anchor=\"start\" x=\"715\" y=\"-111.8\" font-family=\"Helvetica,sans-Serif\" font-size=\"14.00\" fill=\"#000000\">samples = 172</text>\n<text text-anchor=\"start\" x=\"701\" y=\"-96.8\" font-family=\"Helvetica,sans-Serif\" font-size=\"14.00\" fill=\"#000000\">value = [53, 44, 75]</text>\n</g>\n<!-- 15&#45;&gt;16 -->\n<g id=\"edge16\" class=\"edge\">\n<title>15&#45;&gt;16</title>\n<path fill=\"none\" stroke=\"#000000\" d=\"M763,-192.9465C763,-184.776 763,-175.9318 763,-167.3697\"/>\n<polygon fill=\"#000000\" stroke=\"#000000\" points=\"766.5001,-167.13 763,-157.13 759.5001,-167.13 766.5001,-167.13\"/>\n</g>\n<!-- 19 -->\n<g id=\"node20\" class=\"node\">\n<title>19</title>\n<path fill=\"#f8f5fe\" stroke=\"#000000\" d=\"M1035,-157C1035,-157 919,-157 919,-157 913,-157 907,-151 907,-145 907,-145 907,-101 907,-101 907,-95 913,-89 919,-89 919,-89 1035,-89 1035,-89 1041,-89 1047,-95 1047,-101 1047,-101 1047,-145 1047,-145 1047,-151 1041,-157 1035,-157\"/>\n<text text-anchor=\"start\" x=\"919.5\" y=\"-141.8\" font-family=\"Helvetica,sans-Serif\" font-size=\"14.00\" fill=\"#000000\">wife_age ≤ &#45;0.508</text>\n<text text-anchor=\"start\" x=\"926\" y=\"-126.8\" font-family=\"Helvetica,sans-Serif\" font-size=\"14.00\" fill=\"#000000\">entropy = 1.501</text>\n<text text-anchor=\"start\" x=\"929\" y=\"-111.8\" font-family=\"Helvetica,sans-Serif\" font-size=\"14.00\" fill=\"#000000\">samples = 127</text>\n<text text-anchor=\"start\" x=\"915\" y=\"-96.8\" font-family=\"Helvetica,sans-Serif\" font-size=\"14.00\" fill=\"#000000\">value = [23, 50, 54]</text>\n</g>\n<!-- 15&#45;&gt;19 -->\n<g id=\"edge19\" class=\"edge\">\n<title>15&#45;&gt;19</title>\n<path fill=\"none\" stroke=\"#000000\" d=\"M833.0716,-192.9465C853.6713,-182.9354 876.3524,-171.9129 897.4967,-161.6371\"/>\n<polygon fill=\"#000000\" stroke=\"#000000\" points=\"899.3067,-164.649 906.771,-157.13 896.247,-158.3531 899.3067,-164.649\"/>\n</g>\n<!-- 17 -->\n<g id=\"node18\" class=\"node\">\n<title>17</title>\n<path fill=\"#eee4fc\" stroke=\"#000000\" d=\"M752,-53C752,-53 636,-53 636,-53 630,-53 624,-47 624,-41 624,-41 624,-12 624,-12 624,-6 630,0 636,0 636,0 752,0 752,0 758,0 764,-6 764,-12 764,-12 764,-41 764,-41 764,-47 758,-53 752,-53\"/>\n<text text-anchor=\"start\" x=\"643\" y=\"-37.8\" font-family=\"Helvetica,sans-Serif\" font-size=\"14.00\" fill=\"#000000\">entropy = 1.562</text>\n<text text-anchor=\"start\" x=\"646\" y=\"-22.8\" font-family=\"Helvetica,sans-Serif\" font-size=\"14.00\" fill=\"#000000\">samples = 165</text>\n<text text-anchor=\"start\" x=\"632\" y=\"-7.8\" font-family=\"Helvetica,sans-Serif\" font-size=\"14.00\" fill=\"#000000\">value = [53, 44, 68]</text>\n</g>\n<!-- 16&#45;&gt;17 -->\n<g id=\"edge17\" class=\"edge\">\n<title>16&#45;&gt;17</title>\n<path fill=\"none\" stroke=\"#000000\" d=\"M738.6732,-88.9777C732.3221,-80.0954 725.466,-70.5067 719.0768,-61.5711\"/>\n<polygon fill=\"#000000\" stroke=\"#000000\" points=\"721.7893,-59.3472 713.1259,-53.2485 716.0952,-63.4187 721.7893,-59.3472\"/>\n</g>\n<!-- 18 -->\n<g id=\"node19\" class=\"node\">\n<title>18</title>\n<path fill=\"#8139e5\" stroke=\"#000000\" d=\"M885.5,-53C885.5,-53 794.5,-53 794.5,-53 788.5,-53 782.5,-47 782.5,-41 782.5,-41 782.5,-12 782.5,-12 782.5,-6 788.5,0 794.5,0 794.5,0 885.5,0 885.5,0 891.5,0 897.5,-6 897.5,-12 897.5,-12 897.5,-41 897.5,-41 897.5,-47 891.5,-53 885.5,-53\"/>\n<text text-anchor=\"start\" x=\"797.5\" y=\"-37.8\" font-family=\"Helvetica,sans-Serif\" font-size=\"14.00\" fill=\"#000000\">entropy = 0.0</text>\n<text text-anchor=\"start\" x=\"800.5\" y=\"-22.8\" font-family=\"Helvetica,sans-Serif\" font-size=\"14.00\" fill=\"#000000\">samples = 7</text>\n<text text-anchor=\"start\" x=\"790.5\" y=\"-7.8\" font-family=\"Helvetica,sans-Serif\" font-size=\"14.00\" fill=\"#000000\">value = [0, 0, 7]</text>\n</g>\n<!-- 16&#45;&gt;18 -->\n<g id=\"edge18\" class=\"edge\">\n<title>16&#45;&gt;18</title>\n<path fill=\"none\" stroke=\"#000000\" d=\"M790.1473,-88.9777C797.3078,-80.0039 805.0436,-70.3089 812.2361,-61.295\"/>\n<polygon fill=\"#000000\" stroke=\"#000000\" points=\"815.1554,-63.2481 818.6567,-53.2485 809.6837,-58.8821 815.1554,-63.2481\"/>\n</g>\n<!-- 20 -->\n<g id=\"node21\" class=\"node\">\n<title>20</title>\n<path fill=\"#e6d7fa\" stroke=\"#000000\" d=\"M1026.5,-53C1026.5,-53 927.5,-53 927.5,-53 921.5,-53 915.5,-47 915.5,-41 915.5,-41 915.5,-12 915.5,-12 915.5,-6 921.5,0 927.5,0 927.5,0 1026.5,0 1026.5,0 1032.5,0 1038.5,-6 1038.5,-12 1038.5,-12 1038.5,-41 1038.5,-41 1038.5,-47 1032.5,-53 1026.5,-53\"/>\n<text text-anchor=\"start\" x=\"926\" y=\"-37.8\" font-family=\"Helvetica,sans-Serif\" font-size=\"14.00\" fill=\"#000000\">entropy = 1.406</text>\n<text text-anchor=\"start\" x=\"933\" y=\"-22.8\" font-family=\"Helvetica,sans-Serif\" font-size=\"14.00\" fill=\"#000000\">samples = 24</text>\n<text text-anchor=\"start\" x=\"923.5\" y=\"-7.8\" font-family=\"Helvetica,sans-Serif\" font-size=\"14.00\" fill=\"#000000\">value = [9, 3, 12]</text>\n</g>\n<!-- 19&#45;&gt;20 -->\n<g id=\"edge20\" class=\"edge\">\n<title>19&#45;&gt;20</title>\n<path fill=\"none\" stroke=\"#000000\" d=\"M977,-88.9777C977,-80.7364 977,-71.887 977,-63.5153\"/>\n<polygon fill=\"#000000\" stroke=\"#000000\" points=\"980.5001,-63.2484 977,-53.2485 973.5001,-63.2485 980.5001,-63.2484\"/>\n</g>\n<!-- 21 -->\n<g id=\"node22\" class=\"node\">\n<title>21</title>\n<path fill=\"#effdf5\" stroke=\"#000000\" d=\"M1185,-53C1185,-53 1069,-53 1069,-53 1063,-53 1057,-47 1057,-41 1057,-41 1057,-12 1057,-12 1057,-6 1063,0 1069,0 1069,0 1185,0 1185,0 1191,0 1197,-6 1197,-12 1197,-12 1197,-41 1197,-41 1197,-47 1191,-53 1185,-53\"/>\n<text text-anchor=\"start\" x=\"1076\" y=\"-37.8\" font-family=\"Helvetica,sans-Serif\" font-size=\"14.00\" fill=\"#000000\">entropy = 1.436</text>\n<text text-anchor=\"start\" x=\"1079\" y=\"-22.8\" font-family=\"Helvetica,sans-Serif\" font-size=\"14.00\" fill=\"#000000\">samples = 103</text>\n<text text-anchor=\"start\" x=\"1065\" y=\"-7.8\" font-family=\"Helvetica,sans-Serif\" font-size=\"14.00\" fill=\"#000000\">value = [14, 47, 42]</text>\n</g>\n<!-- 19&#45;&gt;21 -->\n<g id=\"edge21\" class=\"edge\">\n<title>19&#45;&gt;21</title>\n<path fill=\"none\" stroke=\"#000000\" d=\"M1029.8844,-88.9777C1045.1144,-79.1798 1061.6806,-68.5222 1076.7464,-58.8298\"/>\n<polygon fill=\"#000000\" stroke=\"#000000\" points=\"1078.9057,-61.6024 1085.4221,-53.2485 1075.1184,-55.7154 1078.9057,-61.6024\"/>\n</g>\n<!-- 23 -->\n<g id=\"node24\" class=\"node\">\n<title>23</title>\n<path fill=\"#eead7e\" stroke=\"#000000\" d=\"M1573.5,-261C1573.5,-261 1436.5,-261 1436.5,-261 1430.5,-261 1424.5,-255 1424.5,-249 1424.5,-249 1424.5,-205 1424.5,-205 1424.5,-199 1430.5,-193 1436.5,-193 1436.5,-193 1573.5,-193 1573.5,-193 1579.5,-193 1585.5,-199 1585.5,-205 1585.5,-205 1585.5,-249 1585.5,-249 1585.5,-255 1579.5,-261 1573.5,-261\"/>\n<text text-anchor=\"start\" x=\"1432.5\" y=\"-245.8\" font-family=\"Helvetica,sans-Serif\" font-size=\"14.00\" fill=\"#000000\">media_exposure ≤ 0.5</text>\n<text text-anchor=\"start\" x=\"1458\" y=\"-230.8\" font-family=\"Helvetica,sans-Serif\" font-size=\"14.00\" fill=\"#000000\">entropy = 1.16</text>\n<text text-anchor=\"start\" x=\"1457\" y=\"-215.8\" font-family=\"Helvetica,sans-Serif\" font-size=\"14.00\" fill=\"#000000\">samples = 199</text>\n<text text-anchor=\"start\" x=\"1439\" y=\"-200.8\" font-family=\"Helvetica,sans-Serif\" font-size=\"14.00\" fill=\"#000000\">value = [141, 32, 26]</text>\n</g>\n<!-- 22&#45;&gt;23 -->\n<g id=\"edge23\" class=\"edge\">\n<title>22&#45;&gt;23</title>\n<path fill=\"none\" stroke=\"#000000\" d=\"M1505,-296.9465C1505,-288.776 1505,-279.9318 1505,-271.3697\"/>\n<polygon fill=\"#000000\" stroke=\"#000000\" points=\"1508.5001,-271.13 1505,-261.13 1501.5001,-271.13 1508.5001,-271.13\"/>\n</g>\n<!-- 30 -->\n<g id=\"node31\" class=\"node\">\n<title>30</title>\n<path fill=\"#ccf8de\" stroke=\"#000000\" d=\"M1975,-261C1975,-261 1859,-261 1859,-261 1853,-261 1847,-255 1847,-249 1847,-249 1847,-205 1847,-205 1847,-199 1853,-193 1859,-193 1859,-193 1975,-193 1975,-193 1981,-193 1987,-199 1987,-205 1987,-205 1987,-249 1987,-249 1987,-255 1981,-261 1975,-261\"/>\n<text text-anchor=\"start\" x=\"1855\" y=\"-245.8\" font-family=\"Helvetica,sans-Serif\" font-size=\"14.00\" fill=\"#000000\">num_child ≤ &#45;0.753</text>\n<text text-anchor=\"start\" x=\"1866\" y=\"-230.8\" font-family=\"Helvetica,sans-Serif\" font-size=\"14.00\" fill=\"#000000\">entropy = 1.531</text>\n<text text-anchor=\"start\" x=\"1869\" y=\"-215.8\" font-family=\"Helvetica,sans-Serif\" font-size=\"14.00\" fill=\"#000000\">samples = 144</text>\n<text text-anchor=\"start\" x=\"1855\" y=\"-200.8\" font-family=\"Helvetica,sans-Serif\" font-size=\"14.00\" fill=\"#000000\">value = [40, 67, 37]</text>\n</g>\n<!-- 22&#45;&gt;30 -->\n<g id=\"edge30\" class=\"edge\">\n<title>22&#45;&gt;30</title>\n<path fill=\"none\" stroke=\"#000000\" d=\"M1579.1332,-312.2868C1651.8573,-293.9292 1762.4079,-266.0233 1837.0661,-247.1775\"/>\n<polygon fill=\"#000000\" stroke=\"#000000\" points=\"1838.0591,-250.5367 1846.8983,-244.6956 1836.3458,-243.7496 1838.0591,-250.5367\"/>\n</g>\n<!-- 24 -->\n<g id=\"node25\" class=\"node\">\n<title>24</title>\n<path fill=\"#f0b88f\" stroke=\"#000000\" d=\"M1487,-157C1487,-157 1363,-157 1363,-157 1357,-157 1351,-151 1351,-145 1351,-145 1351,-101 1351,-101 1351,-95 1357,-89 1363,-89 1363,-89 1487,-89 1487,-89 1493,-89 1499,-95 1499,-101 1499,-101 1499,-145 1499,-145 1499,-151 1493,-157 1487,-157\"/>\n<text text-anchor=\"start\" x=\"1369.5\" y=\"-141.8\" font-family=\"Helvetica,sans-Serif\" font-size=\"14.00\" fill=\"#000000\">wife_age ≤ 1.643</text>\n<text text-anchor=\"start\" x=\"1374\" y=\"-126.8\" font-family=\"Helvetica,sans-Serif\" font-size=\"14.00\" fill=\"#000000\">entropy = 1.287</text>\n<text text-anchor=\"start\" x=\"1377\" y=\"-111.8\" font-family=\"Helvetica,sans-Serif\" font-size=\"14.00\" fill=\"#000000\">samples = 156</text>\n<text text-anchor=\"start\" x=\"1359\" y=\"-96.8\" font-family=\"Helvetica,sans-Serif\" font-size=\"14.00\" fill=\"#000000\">value = [101, 30, 25]</text>\n</g>\n<!-- 23&#45;&gt;24 -->\n<g id=\"edge24\" class=\"edge\">\n<title>23&#45;&gt;24</title>\n<path fill=\"none\" stroke=\"#000000\" d=\"M1478.805,-192.9465C1471.9675,-184.0578 1464.5166,-174.3716 1457.399,-165.1188\"/>\n<polygon fill=\"#000000\" stroke=\"#000000\" points=\"1460.1252,-162.9223 1451.2538,-157.13 1454.5768,-167.1903 1460.1252,-162.9223\"/>\n</g>\n<!-- 27 -->\n<g id=\"node28\" class=\"node\">\n<title>27</title>\n<path fill=\"#e78a47\" stroke=\"#000000\" d=\"M1640.5,-157C1640.5,-157 1529.5,-157 1529.5,-157 1523.5,-157 1517.5,-151 1517.5,-145 1517.5,-145 1517.5,-101 1517.5,-101 1517.5,-95 1523.5,-89 1529.5,-89 1529.5,-89 1640.5,-89 1640.5,-89 1646.5,-89 1652.5,-95 1652.5,-101 1652.5,-101 1652.5,-145 1652.5,-145 1652.5,-151 1646.5,-157 1640.5,-157\"/>\n<text text-anchor=\"start\" x=\"1525.5\" y=\"-141.8\" font-family=\"Helvetica,sans-Serif\" font-size=\"14.00\" fill=\"#000000\">num_child ≤ 2.146</text>\n<text text-anchor=\"start\" x=\"1534\" y=\"-126.8\" font-family=\"Helvetica,sans-Serif\" font-size=\"14.00\" fill=\"#000000\">entropy = 0.429</text>\n<text text-anchor=\"start\" x=\"1541\" y=\"-111.8\" font-family=\"Helvetica,sans-Serif\" font-size=\"14.00\" fill=\"#000000\">samples = 43</text>\n<text text-anchor=\"start\" x=\"1531.5\" y=\"-96.8\" font-family=\"Helvetica,sans-Serif\" font-size=\"14.00\" fill=\"#000000\">value = [40, 2, 1]</text>\n</g>\n<!-- 23&#45;&gt;27 -->\n<g id=\"edge27\" class=\"edge\">\n<title>23&#45;&gt;27</title>\n<path fill=\"none\" stroke=\"#000000\" d=\"M1531.195,-192.9465C1538.0325,-184.0578 1545.4834,-174.3716 1552.601,-165.1188\"/>\n<polygon fill=\"#000000\" stroke=\"#000000\" points=\"1555.4232,-167.1903 1558.7462,-157.13 1549.8748,-162.9223 1555.4232,-167.1903\"/>\n</g>\n<!-- 25 -->\n<g id=\"node26\" class=\"node\">\n<title>25</title>\n<path fill=\"#f3c4a3\" stroke=\"#000000\" d=\"M1343,-53C1343,-53 1227,-53 1227,-53 1221,-53 1215,-47 1215,-41 1215,-41 1215,-12 1215,-12 1215,-6 1221,0 1227,0 1227,0 1343,0 1343,0 1349,0 1355,-6 1355,-12 1355,-12 1355,-41 1355,-41 1355,-47 1349,-53 1343,-53\"/>\n<text text-anchor=\"start\" x=\"1234\" y=\"-37.8\" font-family=\"Helvetica,sans-Serif\" font-size=\"14.00\" fill=\"#000000\">entropy = 1.394</text>\n<text text-anchor=\"start\" x=\"1237\" y=\"-22.8\" font-family=\"Helvetica,sans-Serif\" font-size=\"14.00\" fill=\"#000000\">samples = 113</text>\n<text text-anchor=\"start\" x=\"1223\" y=\"-7.8\" font-family=\"Helvetica,sans-Serif\" font-size=\"14.00\" fill=\"#000000\">value = [66, 25, 22]</text>\n</g>\n<!-- 24&#45;&gt;25 -->\n<g id=\"edge25\" class=\"edge\">\n<title>24&#45;&gt;25</title>\n<path fill=\"none\" stroke=\"#000000\" d=\"M1375.6412,-88.9777C1361.5594,-79.2713 1346.2537,-68.7213 1332.298,-59.1018\"/>\n<polygon fill=\"#000000\" stroke=\"#000000\" points=\"1334.026,-56.042 1323.8061,-53.2485 1330.0533,-61.8055 1334.026,-56.042\"/>\n</g>\n<!-- 26 -->\n<g id=\"node27\" class=\"node\">\n<title>26</title>\n<path fill=\"#ea9c63\" stroke=\"#000000\" d=\"M1484.5,-53C1484.5,-53 1385.5,-53 1385.5,-53 1379.5,-53 1373.5,-47 1373.5,-41 1373.5,-41 1373.5,-12 1373.5,-12 1373.5,-6 1379.5,0 1385.5,0 1385.5,0 1484.5,0 1484.5,0 1490.5,0 1496.5,-6 1496.5,-12 1496.5,-12 1496.5,-41 1496.5,-41 1496.5,-47 1490.5,-53 1484.5,-53\"/>\n<text text-anchor=\"start\" x=\"1384\" y=\"-37.8\" font-family=\"Helvetica,sans-Serif\" font-size=\"14.00\" fill=\"#000000\">entropy = 0.871</text>\n<text text-anchor=\"start\" x=\"1391\" y=\"-22.8\" font-family=\"Helvetica,sans-Serif\" font-size=\"14.00\" fill=\"#000000\">samples = 43</text>\n<text text-anchor=\"start\" x=\"1381.5\" y=\"-7.8\" font-family=\"Helvetica,sans-Serif\" font-size=\"14.00\" fill=\"#000000\">value = [35, 5, 3]</text>\n</g>\n<!-- 24&#45;&gt;26 -->\n<g id=\"edge26\" class=\"edge\">\n<title>24&#45;&gt;26</title>\n<path fill=\"none\" stroke=\"#000000\" d=\"M1428.5256,-88.9777C1429.3891,-80.6449 1430.3171,-71.6903 1431.1931,-63.2364\"/>\n<polygon fill=\"#000000\" stroke=\"#000000\" points=\"1434.6787,-63.556 1432.2281,-53.2485 1427.7159,-62.8344 1434.6787,-63.556\"/>\n</g>\n<!-- 28 -->\n<g id=\"node29\" class=\"node\">\n<title>28</title>\n<path fill=\"#e68844\" stroke=\"#000000\" d=\"M1625.5,-53C1625.5,-53 1526.5,-53 1526.5,-53 1520.5,-53 1514.5,-47 1514.5,-41 1514.5,-41 1514.5,-12 1514.5,-12 1514.5,-6 1520.5,0 1526.5,0 1526.5,0 1625.5,0 1625.5,0 1631.5,0 1637.5,-6 1637.5,-12 1637.5,-12 1637.5,-41 1637.5,-41 1637.5,-47 1631.5,-53 1625.5,-53\"/>\n<text text-anchor=\"start\" x=\"1525\" y=\"-37.8\" font-family=\"Helvetica,sans-Serif\" font-size=\"14.00\" fill=\"#000000\">entropy = 0.297</text>\n<text text-anchor=\"start\" x=\"1532\" y=\"-22.8\" font-family=\"Helvetica,sans-Serif\" font-size=\"14.00\" fill=\"#000000\">samples = 38</text>\n<text text-anchor=\"start\" x=\"1522.5\" y=\"-7.8\" font-family=\"Helvetica,sans-Serif\" font-size=\"14.00\" fill=\"#000000\">value = [36, 2, 0]</text>\n</g>\n<!-- 27&#45;&gt;28 -->\n<g id=\"edge28\" class=\"edge\">\n<title>27&#45;&gt;28</title>\n<path fill=\"none\" stroke=\"#000000\" d=\"M1581.8269,-88.9777C1581.0498,-80.6449 1580.2146,-71.6903 1579.4262,-63.2364\"/>\n<polygon fill=\"#000000\" stroke=\"#000000\" points=\"1582.9083,-62.8802 1578.4947,-53.2485 1575.9385,-63.5303 1582.9083,-62.8802\"/>\n</g>\n<!-- 29 -->\n<g id=\"node30\" class=\"node\">\n<title>29</title>\n<path fill=\"#eca06a\" stroke=\"#000000\" d=\"M1762,-53C1762,-53 1668,-53 1668,-53 1662,-53 1656,-47 1656,-41 1656,-41 1656,-12 1656,-12 1656,-6 1662,0 1668,0 1668,0 1762,0 1762,0 1768,0 1774,-6 1774,-12 1774,-12 1774,-41 1774,-41 1774,-47 1768,-53 1762,-53\"/>\n<text text-anchor=\"start\" x=\"1664\" y=\"-37.8\" font-family=\"Helvetica,sans-Serif\" font-size=\"14.00\" fill=\"#000000\">entropy = 0.722</text>\n<text text-anchor=\"start\" x=\"1675.5\" y=\"-22.8\" font-family=\"Helvetica,sans-Serif\" font-size=\"14.00\" fill=\"#000000\">samples = 5</text>\n<text text-anchor=\"start\" x=\"1665.5\" y=\"-7.8\" font-family=\"Helvetica,sans-Serif\" font-size=\"14.00\" fill=\"#000000\">value = [4, 0, 1]</text>\n</g>\n<!-- 27&#45;&gt;29 -->\n<g id=\"edge29\" class=\"edge\">\n<title>27&#45;&gt;29</title>\n<path fill=\"none\" stroke=\"#000000\" d=\"M1630.8331,-88.9777C1643.7857,-79.3629 1657.8535,-68.9203 1670.7133,-59.3743\"/>\n<polygon fill=\"#000000\" stroke=\"#000000\" points=\"1673.0224,-62.0193 1678.9658,-53.2485 1668.8501,-56.3986 1673.0224,-62.0193\"/>\n</g>\n<!-- 31 -->\n<g id=\"node32\" class=\"node\">\n<title>31</title>\n<path fill=\"#e9965a\" stroke=\"#000000\" d=\"M1968.5,-157C1968.5,-157 1865.5,-157 1865.5,-157 1859.5,-157 1853.5,-151 1853.5,-145 1853.5,-145 1853.5,-101 1853.5,-101 1853.5,-95 1859.5,-89 1865.5,-89 1865.5,-89 1968.5,-89 1968.5,-89 1974.5,-89 1980.5,-95 1980.5,-101 1980.5,-101 1980.5,-145 1980.5,-145 1980.5,-151 1974.5,-157 1968.5,-157\"/>\n<text text-anchor=\"start\" x=\"1861.5\" y=\"-141.8\" font-family=\"Helvetica,sans-Serif\" font-size=\"14.00\" fill=\"#000000\">wife_age ≤ 1.045</text>\n<text text-anchor=\"start\" x=\"1866\" y=\"-126.8\" font-family=\"Helvetica,sans-Serif\" font-size=\"14.00\" fill=\"#000000\">entropy = 0.592</text>\n<text text-anchor=\"start\" x=\"1873\" y=\"-111.8\" font-family=\"Helvetica,sans-Serif\" font-size=\"14.00\" fill=\"#000000\">samples = 14</text>\n<text text-anchor=\"start\" x=\"1863.5\" y=\"-96.8\" font-family=\"Helvetica,sans-Serif\" font-size=\"14.00\" fill=\"#000000\">value = [12, 0, 2]</text>\n</g>\n<!-- 30&#45;&gt;31 -->\n<g id=\"edge31\" class=\"edge\">\n<title>30&#45;&gt;31</title>\n<path fill=\"none\" stroke=\"#000000\" d=\"M1917,-192.9465C1917,-184.776 1917,-175.9318 1917,-167.3697\"/>\n<polygon fill=\"#000000\" stroke=\"#000000\" points=\"1920.5001,-167.13 1917,-157.13 1913.5001,-167.13 1920.5001,-167.13\"/>\n</g>\n<!-- 34 -->\n<g id=\"node35\" class=\"node\">\n<title>34</title>\n<path fill=\"#bcf6d5\" stroke=\"#000000\" d=\"M2193,-157C2193,-157 2077,-157 2077,-157 2071,-157 2065,-151 2065,-145 2065,-145 2065,-101 2065,-101 2065,-95 2071,-89 2077,-89 2077,-89 2193,-89 2193,-89 2199,-89 2205,-95 2205,-101 2205,-101 2205,-145 2205,-145 2205,-151 2199,-157 2193,-157\"/>\n<text text-anchor=\"start\" x=\"2079.5\" y=\"-141.8\" font-family=\"Helvetica,sans-Serif\" font-size=\"14.00\" fill=\"#000000\">wife_age ≤ 1.165</text>\n<text text-anchor=\"start\" x=\"2088\" y=\"-126.8\" font-family=\"Helvetica,sans-Serif\" font-size=\"14.00\" fill=\"#000000\">entropy = 1.48</text>\n<text text-anchor=\"start\" x=\"2087\" y=\"-111.8\" font-family=\"Helvetica,sans-Serif\" font-size=\"14.00\" fill=\"#000000\">samples = 130</text>\n<text text-anchor=\"start\" x=\"2073\" y=\"-96.8\" font-family=\"Helvetica,sans-Serif\" font-size=\"14.00\" fill=\"#000000\">value = [28, 67, 35]</text>\n</g>\n<!-- 30&#45;&gt;34 -->\n<g id=\"edge34\" class=\"edge\">\n<title>30&#45;&gt;34</title>\n<path fill=\"none\" stroke=\"#000000\" d=\"M1987.1765,-193.5213C2009.0559,-183.0834 2033.336,-171.5003 2055.7893,-160.7886\"/>\n<polygon fill=\"#000000\" stroke=\"#000000\" points=\"2057.4364,-163.8808 2064.9549,-156.416 2054.4224,-157.5629 2057.4364,-163.8808\"/>\n</g>\n<!-- 32 -->\n<g id=\"node33\" class=\"node\">\n<title>32</title>\n<path fill=\"#c09cf2\" stroke=\"#000000\" d=\"M1898,-53C1898,-53 1804,-53 1804,-53 1798,-53 1792,-47 1792,-41 1792,-41 1792,-12 1792,-12 1792,-6 1798,0 1804,0 1804,0 1898,0 1898,0 1904,0 1910,-6 1910,-12 1910,-12 1910,-41 1910,-41 1910,-47 1904,-53 1898,-53\"/>\n<text text-anchor=\"start\" x=\"1800\" y=\"-37.8\" font-family=\"Helvetica,sans-Serif\" font-size=\"14.00\" fill=\"#000000\">entropy = 0.918</text>\n<text text-anchor=\"start\" x=\"1811.5\" y=\"-22.8\" font-family=\"Helvetica,sans-Serif\" font-size=\"14.00\" fill=\"#000000\">samples = 3</text>\n<text text-anchor=\"start\" x=\"1801.5\" y=\"-7.8\" font-family=\"Helvetica,sans-Serif\" font-size=\"14.00\" fill=\"#000000\">value = [1, 0, 2]</text>\n</g>\n<!-- 31&#45;&gt;32 -->\n<g id=\"edge32\" class=\"edge\">\n<title>31&#45;&gt;32</title>\n<path fill=\"none\" stroke=\"#000000\" d=\"M1893.7309,-88.9777C1887.656,-80.0954 1881.0979,-70.5067 1874.9865,-61.5711\"/>\n<polygon fill=\"#000000\" stroke=\"#000000\" points=\"1877.8286,-59.5267 1869.2943,-53.2485 1872.0507,-63.4785 1877.8286,-59.5267\"/>\n</g>\n<!-- 33 -->\n<g id=\"node34\" class=\"node\">\n<title>33</title>\n<path fill=\"#e58139\" stroke=\"#000000\" d=\"M2039.5,-53C2039.5,-53 1940.5,-53 1940.5,-53 1934.5,-53 1928.5,-47 1928.5,-41 1928.5,-41 1928.5,-12 1928.5,-12 1928.5,-6 1934.5,0 1940.5,0 1940.5,0 2039.5,0 2039.5,0 2045.5,0 2051.5,-6 2051.5,-12 2051.5,-12 2051.5,-41 2051.5,-41 2051.5,-47 2045.5,-53 2039.5,-53\"/>\n<text text-anchor=\"start\" x=\"1947.5\" y=\"-37.8\" font-family=\"Helvetica,sans-Serif\" font-size=\"14.00\" fill=\"#000000\">entropy = 0.0</text>\n<text text-anchor=\"start\" x=\"1946\" y=\"-22.8\" font-family=\"Helvetica,sans-Serif\" font-size=\"14.00\" fill=\"#000000\">samples = 11</text>\n<text text-anchor=\"start\" x=\"1936.5\" y=\"-7.8\" font-family=\"Helvetica,sans-Serif\" font-size=\"14.00\" fill=\"#000000\">value = [11, 0, 0]</text>\n</g>\n<!-- 31&#45;&gt;33 -->\n<g id=\"edge33\" class=\"edge\">\n<title>31&#45;&gt;33</title>\n<path fill=\"none\" stroke=\"#000000\" d=\"M1942.7371,-88.9777C1949.5256,-80.0039 1956.8596,-70.3089 1963.6784,-61.295\"/>\n<polygon fill=\"#000000\" stroke=\"#000000\" points=\"1966.5237,-63.3352 1969.7654,-53.2485 1960.941,-59.1121 1966.5237,-63.3352\"/>\n</g>\n<!-- 35 -->\n<g id=\"node36\" class=\"node\">\n<title>35</title>\n<path fill=\"#a7f3c7\" stroke=\"#000000\" d=\"M2188.5,-53C2188.5,-53 2081.5,-53 2081.5,-53 2075.5,-53 2069.5,-47 2069.5,-41 2069.5,-41 2069.5,-12 2069.5,-12 2069.5,-6 2075.5,0 2081.5,0 2081.5,0 2188.5,0 2188.5,0 2194.5,0 2200.5,-6 2200.5,-12 2200.5,-12 2200.5,-41 2200.5,-41 2200.5,-47 2194.5,-53 2188.5,-53\"/>\n<text text-anchor=\"start\" x=\"2084\" y=\"-37.8\" font-family=\"Helvetica,sans-Serif\" font-size=\"14.00\" fill=\"#000000\">entropy = 1.309</text>\n<text text-anchor=\"start\" x=\"2091\" y=\"-22.8\" font-family=\"Helvetica,sans-Serif\" font-size=\"14.00\" fill=\"#000000\">samples = 63</text>\n<text text-anchor=\"start\" x=\"2077.5\" y=\"-7.8\" font-family=\"Helvetica,sans-Serif\" font-size=\"14.00\" fill=\"#000000\">value = [7, 38, 18]</text>\n</g>\n<!-- 34&#45;&gt;35 -->\n<g id=\"edge35\" class=\"edge\">\n<title>34&#45;&gt;35</title>\n<path fill=\"none\" stroke=\"#000000\" d=\"M2135,-88.9777C2135,-80.7364 2135,-71.887 2135,-63.5153\"/>\n<polygon fill=\"#000000\" stroke=\"#000000\" points=\"2138.5001,-63.2484 2135,-53.2485 2131.5001,-63.2485 2138.5001,-63.2484\"/>\n</g>\n<!-- 36 -->\n<g id=\"node37\" class=\"node\">\n<title>36</title>\n<path fill=\"#ddfae9\" stroke=\"#000000\" d=\"M2347,-53C2347,-53 2231,-53 2231,-53 2225,-53 2219,-47 2219,-41 2219,-41 2219,-12 2219,-12 2219,-6 2225,0 2231,0 2231,0 2347,0 2347,0 2353,0 2359,-6 2359,-12 2359,-12 2359,-41 2359,-41 2359,-47 2353,-53 2347,-53\"/>\n<text text-anchor=\"start\" x=\"2242\" y=\"-37.8\" font-family=\"Helvetica,sans-Serif\" font-size=\"14.00\" fill=\"#000000\">entropy = 1.55</text>\n<text text-anchor=\"start\" x=\"2245\" y=\"-22.8\" font-family=\"Helvetica,sans-Serif\" font-size=\"14.00\" fill=\"#000000\">samples = 67</text>\n<text text-anchor=\"start\" x=\"2227\" y=\"-7.8\" font-family=\"Helvetica,sans-Serif\" font-size=\"14.00\" fill=\"#000000\">value = [21, 29, 17]</text>\n</g>\n<!-- 34&#45;&gt;36 -->\n<g id=\"edge36\" class=\"edge\">\n<title>34&#45;&gt;36</title>\n<path fill=\"none\" stroke=\"#000000\" d=\"M2189.2946,-88.9777C2204.9308,-79.1798 2221.9387,-68.5222 2237.4063,-58.8298\"/>\n<polygon fill=\"#000000\" stroke=\"#000000\" points=\"2239.698,-61.5242 2246.3133,-53.2485 2235.981,-55.5926 2239.698,-61.5242\"/>\n</g>\n</g>\n</svg>\n"
          },
          "metadata": {
            "tags": []
          },
          "execution_count": 68
        }
      ]
    },
    {
      "cell_type": "markdown",
      "metadata": {
        "id": "Q_R9itx-aMrd",
        "colab_type": "text"
      },
      "source": [
        "As we can see our final decision tree that we choose to use has a max depth of 6 with entropy and gives a **training accuracy of 0.586** and a **testing accuracy of 0.601**. The structure of our tree is shown above."
      ]
    },
    {
      "cell_type": "markdown",
      "metadata": {
        "id": "KFka8BHPt3Gk",
        "colab_type": "text"
      },
      "source": [
        "### **Method 4: Random Forest Classifier**"
      ]
    },
    {
      "cell_type": "markdown",
      "metadata": {
        "id": "mjTno_R2h2I-",
        "colab_type": "text"
      },
      "source": [
        "Following the same procedure for RFC:"
      ]
    },
    {
      "cell_type": "code",
      "metadata": {
        "id": "jMgZbpY00VaZ",
        "colab_type": "code",
        "outputId": "449a6060-93cc-4255-aa96-5e819e812344",
        "colab": {
          "base_uri": "https://localhost:8080/",
          "height": 517
        }
      },
      "source": [
        "random_forest_model = ensemble.RandomForestClassifier(criterion=\"gini\",n_estimators=100, random_state=42,max_depth=8)\n",
        "random_forest_model.fit(X_train_plain, Y_train_plain)\n",
        "\n",
        "rf_train_accuracy = random_forest_model.score(X_train_plain, Y_train_plain)\n",
        "rf_test_accuracy = random_forest_model.score(X_test_plain, Y_test_plain)\n",
        "\n",
        "des_depth = []\n",
        "des_train = []\n",
        "des_test = []\n",
        "for i in range(1, 46):\n",
        "  random_forest_model = ensemble.RandomForestClassifier(random_state=100,max_depth=i)\n",
        "  random_forest_model.fit(X_train_plain, Y_train_plain)\n",
        "  dt_training_accuracy = random_forest_model.score(X_train_plain, Y_train_plain)\n",
        "  dt_test_accuracy = random_forest_model.score(X_test_plain, Y_test_plain)\n",
        "  if(i%5 == 0):\n",
        "      print(\"Depth: \" + str(i) + \" Training Accuracy: \" + str(dt_training_accuracy) + \" Test Accuracy: \" + str(dt_test_accuracy))\n",
        "  des_depth.append(i)\n",
        "  des_train.append(dt_training_accuracy)\n",
        "  des_test.append(dt_test_accuracy)\n",
        "print(\"\\nIdeal Depth: \" + str(np.argmax(des_test)))\n",
        "print(\"Training Accuracy: \" + str(des_train[np.argmax(des_test)]))\n",
        "print(\"Test Accuracy: \" + str(des_test[np.argmax(des_test)]) + \"\\n\")\n",
        "\n",
        "plt.plot(des_depth,des_train, des_depth,des_test)\n",
        "plt.ylabel('Accuracy %')\n",
        "plt.xlabel('Max Depth')\n",
        "plt.legend([\"Training\",\"Test\"])\n",
        "plt.show()"
      ],
      "execution_count": 69,
      "outputs": [
        {
          "output_type": "stream",
          "text": [
            "Depth: 5 Training Accuracy: 0.610738255033557 Test Accuracy: 0.5413533834586466\n",
            "Depth: 10 Training Accuracy: 0.8355704697986577 Test Accuracy: 0.518796992481203\n",
            "Depth: 15 Training Accuracy: 0.9588926174496645 Test Accuracy: 0.5112781954887218\n",
            "Depth: 20 Training Accuracy: 0.9605704697986577 Test Accuracy: 0.5112781954887218\n",
            "Depth: 25 Training Accuracy: 0.9605704697986577 Test Accuracy: 0.5112781954887218\n",
            "Depth: 30 Training Accuracy: 0.9605704697986577 Test Accuracy: 0.5112781954887218\n",
            "Depth: 35 Training Accuracy: 0.9605704697986577 Test Accuracy: 0.5112781954887218\n",
            "Depth: 40 Training Accuracy: 0.9605704697986577 Test Accuracy: 0.5112781954887218\n",
            "Depth: 45 Training Accuracy: 0.9605704697986577 Test Accuracy: 0.5112781954887218\n",
            "\n",
            "Ideal Depth: 5\n",
            "Training Accuracy: 0.6359060402684564\n",
            "Test Accuracy: 0.5714285714285714\n",
            "\n"
          ],
          "name": "stdout"
        },
        {
          "output_type": "display_data",
          "data": {
            "image/png": "[encoded data removed]",
            "text/plain": [
              "<Figure size 432x288 with 1 Axes>"
            ]
          },
          "metadata": {
            "tags": [],
            "needs_background": "light"
          }
        }
      ]
    },
    {
      "cell_type": "markdown",
      "metadata": {
        "id": "dhxB7qeKvG98",
        "colab_type": "text"
      },
      "source": [
        "### **Method 5: Lasso Regularization**\n",
        "\n",
        "---\n",
        "\n"
      ]
    },
    {
      "cell_type": "code",
      "metadata": {
        "id": "lWlj1FEMvKjO",
        "colab_type": "code",
        "colab": {}
      },
      "source": [
        "from sklearn.linear_model import Lasso, LogisticRegression\n",
        "from sklearn.feature_selection import SelectFromModel\n",
        "from sklearn.preprocessing import StandardScaler"
      ],
      "execution_count": 0,
      "outputs": []
    },
    {
      "cell_type": "markdown",
      "metadata": {
        "id": "9unxN4eHLOUS",
        "colab_type": "text"
      },
      "source": [
        "We already have standardized our numerical data to use Lasso Regression. "
      ]
    },
    {
      "cell_type": "markdown",
      "metadata": {
        "id": "S7CAnNZ5gN2V",
        "colab_type": "text"
      },
      "source": [
        "See if we can re-evaluate feature selection using Lasso regularization. After evaluating we see that we should opt to use all the columns except w3 if possible. But since this is a one hot encoded variable we want to keep it."
      ]
    },
    {
      "cell_type": "code",
      "metadata": {
        "id": "JTRVCpU4BAoo",
        "colab_type": "code",
        "outputId": "46c84c8c-ec50-460e-a6f5-d3a144c74a73",
        "colab": {
          "base_uri": "https://localhost:8080/",
          "height": 68
        }
      },
      "source": [
        "scaler = StandardScaler()\n",
        "scaler.fit(X_train)\n",
        "select_col = SelectFromModel(LogisticRegression(penalty='l1',solver='liblinear' ))\n",
        "select_col.fit(scaler.transform(X_train), Y_train)\n",
        "selected_feat = X_train.columns[(select_col.get_support())]\n",
        "selected_feat"
      ],
      "execution_count": 71,
      "outputs": [
        {
          "output_type": "execute_result",
          "data": {
            "text/plain": [
              "Index(['wife_age', 'num_child', 'media_exposure', 'w1', 'w2', 'w4', 'h1', 'h2',\n",
              "       'h3', 'h4'],\n",
              "      dtype='object')"
            ]
          },
          "metadata": {
            "tags": []
          },
          "execution_count": 71
        }
      ]
    },
    {
      "cell_type": "code",
      "metadata": {
        "id": "b-j9vAMQhXrS",
        "colab_type": "code",
        "outputId": "d31d489d-857a-4a98-ac50-47ac129df421",
        "colab": {
          "base_uri": "https://localhost:8080/",
          "height": 34
        }
      },
      "source": [
        "model_lasso =  LogisticRegression(solver='liblinear',penalty='l1')\n",
        "model_lasso.fit(X_train, Y_train)\n",
        "training_accuracy = (model_lasso.predict(X_train) == Y_train).mean()\n",
        "print(\"Training Accuracy:\", training_accuracy)"
      ],
      "execution_count": 72,
      "outputs": [
        {
          "output_type": "stream",
          "text": [
            "Training Accuracy: 0.535234899328859\n"
          ],
          "name": "stdout"
        }
      ]
    },
    {
      "cell_type": "code",
      "metadata": {
        "id": "3z52VwXPBURU",
        "colab_type": "code",
        "outputId": "2e6e3c83-3a61-4662-9953-59baf7829925",
        "colab": {
          "base_uri": "https://localhost:8080/",
          "height": 34
        }
      },
      "source": [
        "testing_accuracy = (model_lasso.predict(X_test) == test['contraceptive']).mean()\n",
        "print(\"Testing Accuracy:\", test_accuracy)"
      ],
      "execution_count": 73,
      "outputs": [
        {
          "output_type": "stream",
          "text": [
            "Testing Accuracy: 0.5337837837837838\n"
          ],
          "name": "stdout"
        }
      ]
    },
    {
      "cell_type": "markdown",
      "metadata": {
        "id": "grSpvl9N3EBs",
        "colab_type": "text"
      },
      "source": [
        "### **Test Accuracy**\n",
        "\n",
        "---"
      ]
    },
    {
      "cell_type": "code",
      "metadata": {
        "id": "1VTgo5bNt5w7",
        "colab_type": "code",
        "outputId": "cb6356ef-048f-4317-f316-e2b35a0249eb",
        "colab": {
          "base_uri": "https://localhost:8080/",
          "height": 34
        }
      },
      "source": [
        "X_test = test.iloc[:,:-1]\n",
        "Y_test = test['contraceptive']\n",
        "decision_tree_model_plain = tree.DecisionTreeClassifier(criterion='entropy',random_state=100,max_depth=6)\n",
        "decision_tree_model_plain.fit(X_train_plain, Y_train_plain)\n",
        "\n",
        "test_accuracy_final = (decision_tree_model_plain.predict(X_test) == Y_test).mean()\n",
        "print(\"Testing Accuracy:\", test_accuracy_final)"
      ],
      "execution_count": 74,
      "outputs": [
        {
          "output_type": "stream",
          "text": [
            "Testing Accuracy: 0.5743243243243243\n"
          ],
          "name": "stdout"
        }
      ]
    },
    {
      "cell_type": "markdown",
      "metadata": {
        "id": "MTMSpEu3vqGl",
        "colab_type": "text"
      },
      "source": [
        "**By evaluating the different models we have and trying to select the ideal features and hyperparameters, we see that we have a test accuracy of 57.43% with the descision tree model using all the features with a max_depth of 6 and entropy.**"
      ]
    },
    {
      "cell_type": "markdown",
      "metadata": {
        "id": "pyKp6v5ZYOo9",
        "colab_type": "text"
      },
      "source": [
        "## **Question 3: What factors can be used to determine if a wife is still working after having children?**"
      ]
    },
    {
      "cell_type": "markdown",
      "metadata": {
        "id": "3gzhYpdHEnoD",
        "colab_type": "text"
      },
      "source": [
        "First, we will plot some visualizations to understand the relationship between different factors in our dataset and whether a mother works after having children."
      ]
    },
    {
      "cell_type": "markdown",
      "metadata": {
        "id": "PaWf__bYE4sO",
        "colab_type": "text"
      },
      "source": [
        "By grouping the data by whether or not the wife was working and then plotting the result we can see that how wife working may affect the resulting features in the data. Next we will create boxplots for each variable isn the birth_control dataset to see how the different variable values differ between moms who work and moms who do not work."
      ]
    },
    {
      "cell_type": "code",
      "metadata": {
        "id": "c3ZVGdxqQ3rZ",
        "colab_type": "code",
        "outputId": "8cc1eaea-984f-4bf5-c234-262aa4a18b02",
        "colab": {
          "base_uri": "https://localhost:8080/",
          "height": 513
        }
      },
      "source": [
        "plt.figure(figsize=(10, 8))\n",
        "df = birth_control.copy()\n",
        "df['wife_work'] = df['wife_work'].replace(0,'yes')\n",
        "df['wife_work'] = df['wife_work'].replace(1,'no')\n",
        "sns.boxplot(data=df, x='wife_work', y='num_child')\n",
        "plt.xlabel('Wife Working?')\n",
        "plt.ylabel('Number of Children')\n",
        "plt.title('Number of Children per Working and Non-working Wives');"
      ],
      "execution_count": 75,
      "outputs": [
        {
          "output_type": "display_data",
          "data": {
            "image/png": "[encoded data removed]",
            "text/plain": [
              "<Figure size 720x576 with 1 Axes>"
            ]
          },
          "metadata": {
            "tags": [],
            "needs_background": "light"
          }
        }
      ]
    },
    {
      "cell_type": "code",
      "metadata": {
        "id": "GHJ1lVXpBsC4",
        "colab_type": "code",
        "outputId": "f479c936-2a02-42a2-9be1-81438f29682c",
        "colab": {
          "base_uri": "https://localhost:8080/",
          "height": 513
        }
      },
      "source": [
        "plt.figure(figsize=(10, 8))\n",
        "sns.boxplot(data=df, x='wife_work', y='wife_age')\n",
        "plt.xlabel('Wife Working?')\n",
        "plt.ylabel('Number of Children')\n",
        "plt.title('Distribution of Ages per Working and Non-working Wives');"
      ],
      "execution_count": 76,
      "outputs": [
        {
          "output_type": "display_data",
          "data": {
            "image/png": "[encoded data removed]",
            "text/plain": [
              "<Figure size 720x576 with 1 Axes>"
            ]
          },
          "metadata": {
            "tags": [],
            "needs_background": "light"
          }
        }
      ]
    },
    {
      "cell_type": "markdown",
      "metadata": {
        "id": "GHLa4uAtIhfD",
        "colab_type": "text"
      },
      "source": [
        "*The boxplots above show the some variables differ between women who work and women who do not work. The distributuion of age for women who work and women who do not work is relatively similar (the median and range are very close). On the other hand, it looks like the distribution of the number of children they have is different between working and non-working women. Women who work have a slightly higher number of children (in terms of median). This visualization can be used to help us figure out what factors we could possibly use to help determine if a wife is working or not after having children. *"
      ]
    },
    {
      "cell_type": "code",
      "metadata": {
        "id": "mRDpsDBkNfgX",
        "colab_type": "code",
        "outputId": "d144754a-ba83-4968-e221-ad22605e3902",
        "colab": {
          "base_uri": "https://localhost:8080/",
          "height": 621
        }
      },
      "source": [
        "bc = birth_control.groupby(['wife_education','wife_work']).agg(len)\n",
        "bc = bc.reset_index()\n",
        "bc = bc.iloc[:,0:3]\n",
        "bc = bc.rename(columns = {'wife_age':'Number of Women'})\n",
        "bc['Number of Women'] = bc['Number of Women']/1473\n",
        "bc['wife_work'] = bc['wife_work'].replace(0,'Wife Works')\n",
        "bc['wife_work'] = bc['wife_work'].replace(1,'Wife does not Work')\n",
        "plt.figure(figsize=(10,10))\n",
        "fig = sns.barplot(x = 'wife_education', y = 'Number of Women', hue = 'wife_work', data = bc)\n",
        "plt.xticks([0, 1, 2, 3], [\"Low\", \"Lower Middle\", \"Upper Middle\", 'High'])\n",
        "fig.set_xlabel('Wife Education Status')\n",
        "fig.set_ylabel('Proportion of Women')\n",
        "fig.set_title('Proportion of Working and Non-Working Women with Different Education Levels');\n",
        "\n"
      ],
      "execution_count": 77,
      "outputs": [
        {
          "output_type": "display_data",
          "data": {
            "image/png": "[encoded data removed]",
            "text/plain": [
              "<Figure size 720x720 with 1 Axes>"
            ]
          },
          "metadata": {
            "tags": [],
            "needs_background": "light"
          }
        }
      ]
    },
    {
      "cell_type": "markdown",
      "metadata": {
        "id": "QISPKRRSefd0",
        "colab_type": "text"
      },
      "source": [
        "The plot above shows that the proportion of women that do not work increases as education level increases. Furthermore, within each education level, the proportion of women that do work is relativley half or less than half of the proportion of women that are not working working."
      ]
    },
    {
      "cell_type": "code",
      "metadata": {
        "id": "VznMtLkgpcat",
        "colab_type": "code",
        "colab": {
          "base_uri": "https://localhost:8080/",
          "height": 621
        },
        "outputId": "08ca1c4e-4aee-4571-b648-fc78b969dc4c"
      },
      "source": [
        "bc_religion = birth_control.groupby(['contraceptive','wife_work']).agg(len).reset_index().iloc[:,0:3].rename(columns={'wife_age':'Number of Women'})\n",
        "bc_religion['wife_work'] = bc_religion['wife_work'].replace(0,'Wife Works')\n",
        "bc_religion['wife_work'] = bc_religion['wife_work'].replace(1,'Wife does not Work')\n",
        "plt.figure(figsize=(10,10))\n",
        "fig = sns.barplot(x = 'contraceptive', y = 'Number of Women', hue = 'wife_work', data = bc_religion)\n",
        "plt.xticks([0, 1, 2], [\"None\", \"Long-term\", \"Short-term\"])\n",
        "fig.set_xlabel('Contraceptive Type')\n",
        "fig.set_ylabel('Number of Women')\n",
        "fig.set_title('Number of Working and Non-working Women per Education Level');"
      ],
      "execution_count": 78,
      "outputs": [
        {
          "output_type": "display_data",
          "data": {
            "image/png": "[encoded data removed]",
            "text/plain": [
              "<Figure size 720x720 with 1 Axes>"
            ]
          },
          "metadata": {
            "tags": [],
            "needs_background": "light"
          }
        }
      ]
    },
    {
      "cell_type": "markdown",
      "metadata": {
        "id": "p0UQr6emPHP_",
        "colab_type": "text"
      },
      "source": [
        "### **Method 1:Cross Validation**"
      ]
    },
    {
      "cell_type": "markdown",
      "metadata": {
        "id": "d3yDPWZ_TBnI",
        "colab_type": "text"
      },
      "source": [
        "### Features"
      ]
    },
    {
      "cell_type": "markdown",
      "metadata": {
        "id": "2asLp4v1P8Jq",
        "colab_type": "text"
      },
      "source": [
        "We will perfrom cross validation to see what model will be the best without overfitting or underfitting."
      ]
    },
    {
      "cell_type": "markdown",
      "metadata": {
        "id": "5MiUlhdaU1rq",
        "colab_type": "text"
      },
      "source": [
        "First we will one hot encode contraceptive and husband_occupation so we can include it as a features.\n"
      ]
    },
    {
      "cell_type": "code",
      "metadata": {
        "id": "yRvTB_4FTWWo",
        "colab_type": "code",
        "colab": {}
      },
      "source": [
        "#One-hot-encoding type of contraceptive\n",
        "\n",
        "def contraceptive(data='train'): \n",
        "  if (data=='test'):\n",
        "    wife_ohe = pd.get_dummies(test['contraceptive'])\n",
        "  elif (data=='val'):\n",
        "    wife_ohe = pd.get_dummies(val['contraceptive'])\n",
        "  else:\n",
        "    wife_ohe = pd.get_dummies(bc_train['contraceptive'])\n",
        "  wife_ohe = wife_ohe.rename(columns={1: 'None', 2: 'Long Term', 3: 'Short Term'})\n",
        "  return wife_ohe"
      ],
      "execution_count": 0,
      "outputs": []
    },
    {
      "cell_type": "code",
      "metadata": {
        "id": "75Tc2nCpWE7t",
        "colab_type": "code",
        "colab": {}
      },
      "source": [
        "#One-hot-encoding husband occupation\n",
        "def husband_occupation(data='train'): \n",
        "  if (data=='test'):\n",
        "    husb_ohe = pd.get_dummies(test['husband_occupation'])\n",
        "  elif (data=='val'):\n",
        "    husb_ohe = pd.get_dummies(val['husband_occupation'])\n",
        "  else:\n",
        "    husb_ohe = pd.get_dummies(bc_train['husband_occupation'])\n",
        "  \n",
        "  return husb_ohe\n",
        "\n"
      ],
      "execution_count": 0,
      "outputs": []
    },
    {
      "cell_type": "code",
      "metadata": {
        "id": "waMMaGbIaRaP",
        "colab_type": "code",
        "colab": {}
      },
      "source": [
        "chi_features = []\n",
        "#features: wife_age\n",
        "work1 = create_df(['wife_age'])\n",
        "#features: num_child\n",
        "work2 = create_df(['num_child'])\n",
        "#featuers: num_child, wife_age\n",
        "work3 = create_df(['num_child','wife_age'])\n",
        "#features: wife_edu, contraceptive, living_standard\n",
        "work4 = create_df([],['wife_edu''contraceptive','living_standard'])\n",
        "#features: num_child, contraceptive\n",
        "work5 = create_df(['num_child'],['contraceptive'])\n",
        "#features: num_child, wife_edu, contraceptive\n",
        "work7 = create_df(['num_child'],['wife_edu','contraceptive'])\n",
        "#featuers: num_child, wife_age, wife_edu, contraceptive, living_standard\n",
        "work6 = create_df(['num_child','wife_age'],['wife_edu','contraceptive','living_standard'])\n",
        "\n",
        "\n",
        "\n",
        "chi_features = [work1,work2,work3,work4,work5,work6,work7]\n"
      ],
      "execution_count": 0,
      "outputs": []
    },
    {
      "cell_type": "code",
      "metadata": {
        "id": "zU11AttBPKwN",
        "colab_type": "code",
        "colab": {}
      },
      "source": [
        "#import sklearn\n",
        "from sklearn.model_selection import cross_val_score\n",
        "from sklearn.metrics import accuracy_score, make_scorer"
      ],
      "execution_count": 0,
      "outputs": []
    },
    {
      "cell_type": "code",
      "metadata": {
        "id": "2XK-GZRnP7QF",
        "colab_type": "code",
        "colab": {}
      },
      "source": [
        "lr_model = LogisticRegression(penalty='l2', max_iter=1000)"
      ],
      "execution_count": 0,
      "outputs": []
    },
    {
      "cell_type": "code",
      "metadata": {
        "id": "C7XQyTWXP7f8",
        "colab_type": "code",
        "outputId": "d426cacb-cfc8-4831-a789-3e93d3b3d9f5",
        "colab": {
          "base_uri": "https://localhost:8080/",
          "height": 136
        }
      },
      "source": [
        "Y_train_work = bc_train['wife_work']\n",
        "vals = []\n",
        "for i in chi_features:\n",
        "  cross_val = cross_val_score(lr_model,i,Y_train_work, scoring = make_scorer(accuracy_score),cv = 5)\n",
        "  vals = np.append(vals,np.mean(cross_val))\n",
        "print('Features Used: wife_age; Accuracy:',vals[0])\n",
        "print('Features Used: num_child; Accuracy:',vals[1])\n",
        "print('Features Used: num_child, wife_age; Accuracy:',vals[2])\n",
        "print('Features Used: wife_edu, contraceptive, living_standard; Accuracy:',vals[3])\n",
        "print('Features Used: num_child, contraceptive; Accuracy:',vals[4])\n",
        "print('Features Used: num_child, wife_age, wife_edu, contraceptive, living_standard; Accuracy:',vals[5])\n",
        "print('Features Used: num_child,  wife_edu, contraceptive; Accuracy:',vals[6])"
      ],
      "execution_count": 85,
      "outputs": [
        {
          "output_type": "stream",
          "text": [
            "Features Used: wife_age; Accuracy: 0.7483210857564784\n",
            "Features Used: num_child; Accuracy: 0.7483210857564784\n",
            "Features Used: num_child, wife_age; Accuracy: 0.7466404134875708\n",
            "Features Used: wife_edu, contraceptive, living_standard; Accuracy: 0.7483210857564784\n",
            "Features Used: num_child, contraceptive; Accuracy: 0.7483210857564784\n",
            "Features Used: num_child, wife_age, wife_edu, contraceptive, living_standard; Accuracy: 0.7466404134875708\n",
            "Features Used: num_child,  wife_edu, contraceptive; Accuracy: 0.7483210857564784\n"
          ],
          "name": "stdout"
        }
      ]
    },
    {
      "cell_type": "markdown",
      "metadata": {
        "id": "n8wMmx_dmUTY",
        "colab_type": "text"
      },
      "source": [
        "As you can, all the models have the same accuracy, which may mean that the features are co-related with one another and that they are not that good predictors of a wife's working status. "
      ]
    },
    {
      "cell_type": "markdown",
      "metadata": {
        "id": "2RR0Wyt5LQZh",
        "colab_type": "text"
      },
      "source": [
        "### Logistic Regression with Chosen Model"
      ]
    },
    {
      "cell_type": "markdown",
      "metadata": {
        "id": "NHNqnHDgLepn",
        "colab_type": "text"
      },
      "source": [
        "Before creating the model, we will calculate the probability that the wife is working from the entire dataset we were given."
      ]
    },
    {
      "cell_type": "code",
      "metadata": {
        "id": "5mQjUp6OLdcM",
        "colab_type": "code",
        "outputId": "67374b33-b597-441d-bf78-779f8e52fb6a",
        "colab": {
          "base_uri": "https://localhost:8080/",
          "height": 34
        }
      },
      "source": [
        "pr_working = np.mean(birth_control['wife_work'])\n",
        "print(\"Proability of wife not working:\", pr_working)"
      ],
      "execution_count": 86,
      "outputs": [
        {
          "output_type": "stream",
          "text": [
            "Proability of wife not working: 0.7494908350305499\n"
          ],
          "name": "stdout"
        }
      ]
    },
    {
      "cell_type": "code",
      "metadata": {
        "id": "TNBR1IxgwV2N",
        "colab_type": "code",
        "outputId": "1e832fdc-735e-42c8-9f5a-8a97a0ab92f9",
        "colab": {
          "base_uri": "https://localhost:8080/",
          "height": 102
        }
      },
      "source": [
        "lr_model = LogisticRegression(penalty='l2', max_iter=1000)\n",
        "lr_model.fit(work5, Y_train_work)"
      ],
      "execution_count": 87,
      "outputs": [
        {
          "output_type": "execute_result",
          "data": {
            "text/plain": [
              "LogisticRegression(C=1.0, class_weight=None, dual=False, fit_intercept=True,\n",
              "                   intercept_scaling=1, l1_ratio=None, max_iter=1000,\n",
              "                   multi_class='auto', n_jobs=None, penalty='l2',\n",
              "                   random_state=None, solver='lbfgs', tol=0.0001, verbose=0,\n",
              "                   warm_start=False)"
            ]
          },
          "metadata": {
            "tags": []
          },
          "execution_count": 87
        }
      ]
    },
    {
      "cell_type": "code",
      "metadata": {
        "id": "v19mydysyE2w",
        "colab_type": "code",
        "outputId": "f8b00e59-c822-448d-d7b6-73f865a5c6bf",
        "colab": {
          "base_uri": "https://localhost:8080/",
          "height": 34
        }
      },
      "source": [
        "training_accuracy = (lr_model.predict(work5) == Y_train_work).mean()\n",
        "print(\"Training Accuracy:\", training_accuracy)"
      ],
      "execution_count": 88,
      "outputs": [
        {
          "output_type": "stream",
          "text": [
            "Training Accuracy: 0.7483221476510067\n"
          ],
          "name": "stdout"
        }
      ]
    },
    {
      "cell_type": "code",
      "metadata": {
        "id": "CgybL23GthEq",
        "colab_type": "code",
        "outputId": "eb05ccbf-8868-4cb7-f895-e6d95bd13c65",
        "colab": {
          "base_uri": "https://localhost:8080/",
          "height": 34
        }
      },
      "source": [
        "test_transformed = create_df(['num_child'],['contraceptive'],'val')\n",
        "test_accuracy = (lr_model.predict(test_transformed) == val['wife_work']).mean()\n",
        "print('Validation Accuracy:', test_accuracy)"
      ],
      "execution_count": 89,
      "outputs": [
        {
          "output_type": "stream",
          "text": [
            "Validation Accuracy: 0.7368421052631579\n"
          ],
          "name": "stdout"
        }
      ]
    },
    {
      "cell_type": "markdown",
      "metadata": {
        "id": "CzS8dggRrHuQ",
        "colab_type": "text"
      },
      "source": [
        "### Precision and Recall"
      ]
    },
    {
      "cell_type": "code",
      "metadata": {
        "id": "MUOszwXxrQQ5",
        "colab_type": "code",
        "colab": {}
      },
      "source": [
        "Y_hat = lr_model.predict(work5)\n",
        "Y_train = bc_train['wife_work'].to_numpy()\n",
        "tp = (Y_hat == 1) & (Y_train == 1)\n",
        "tn = (Y_hat != 1) & (Y_train != 1)\n",
        "fp = (Y_hat == 1) & (Y_train != 1)\n",
        "fn = (Y_hat != 1) & (Y_train == 1)\n",
        "\n",
        "logistic_predictor_precision = np.sum(tp) / (np.sum(tp) + np.sum(fp))\n",
        "logistic_predictor_recall = np.sum(tp) / (np.sum(tp) + np.sum(fn))\n",
        "#logistic_predictor_far_3 = np.sum(fp3)/(np.sum(fp3)+ np.sum(tn3))"
      ],
      "execution_count": 0,
      "outputs": []
    },
    {
      "cell_type": "code",
      "metadata": {
        "id": "fTDEcTQnr4-j",
        "colab_type": "code",
        "outputId": "58438ae4-37fc-41a1-e150-a379d5a0daff",
        "colab": {
          "base_uri": "https://localhost:8080/",
          "height": 51
        }
      },
      "source": [
        "print('Precision:',logistic_predictor_precision)\n",
        "print('Recall:',logistic_predictor_recall)"
      ],
      "execution_count": 91,
      "outputs": [
        {
          "output_type": "stream",
          "text": [
            "Precision: 0.7483221476510067\n",
            "Recall: 1.0\n"
          ],
          "name": "stdout"
        }
      ]
    },
    {
      "cell_type": "markdown",
      "metadata": {
        "id": "soBpTzSy4nF-",
        "colab_type": "text"
      },
      "source": [
        "### **Method 2: Logistic Regression with Probability**"
      ]
    },
    {
      "cell_type": "code",
      "metadata": {
        "id": "g8KS-fTAyOp2",
        "colab_type": "code",
        "colab": {}
      },
      "source": [
        "probs = lr_model.predict_proba(work5)"
      ],
      "execution_count": 0,
      "outputs": []
    },
    {
      "cell_type": "code",
      "metadata": {
        "id": "n3AeuTaU3DVl",
        "colab_type": "code",
        "colab": {}
      },
      "source": [
        " def threshold_predict(model, X, threshold): \n",
        "    return np.where(lr_model.predict_proba(X)[:,1] > threshold, 1.0, 0.0)"
      ],
      "execution_count": 0,
      "outputs": []
    },
    {
      "cell_type": "code",
      "metadata": {
        "id": "V6wrAYDZ3G2C",
        "colab_type": "code",
        "colab": {}
      },
      "source": [
        "def accuracy(threshold, X, Y):\n",
        "    return np.mean(threshold_predict(lr_model, X, threshold) == Y)"
      ],
      "execution_count": 0,
      "outputs": []
    },
    {
      "cell_type": "code",
      "metadata": {
        "id": "9j5cHVuK3Lkj",
        "colab_type": "code",
        "colab": {}
      },
      "source": [
        "thresholds = np.linspace(0, 1, 100)\n",
        "X = work5.to_numpy()\n",
        "Y = Y_train_work.to_numpy()\n",
        "accs = [accuracy(t, X, Y) for t in thresholds]"
      ],
      "execution_count": 0,
      "outputs": []
    },
    {
      "cell_type": "code",
      "metadata": {
        "id": "jc70ZW7b4QID",
        "colab_type": "code",
        "colab": {}
      },
      "source": [
        "def make_scorer(threshold, metric):\n",
        "    return lambda model, x, y: metric(y, threshold_predict(model, x, threshold)) "
      ],
      "execution_count": 0,
      "outputs": []
    },
    {
      "cell_type": "code",
      "metadata": {
        "id": "KIE0UTIS4RSr",
        "colab_type": "code",
        "colab": {}
      },
      "source": [
        "cv_accs = [\n",
        "    np.mean(cross_val_score(lr_model, work5, Y_train_work, \n",
        "                            scoring=make_scorer(t, accuracy_score), \n",
        "                            cv=5))\n",
        "    for t in thresholds\n",
        "]"
      ],
      "execution_count": 0,
      "outputs": []
    },
    {
      "cell_type": "code",
      "metadata": {
        "id": "uU9m8eov4ZAq",
        "colab_type": "code",
        "outputId": "378ea372-7fac-41f3-c06c-21c96a6767c5",
        "colab": {
          "base_uri": "https://localhost:8080/",
          "height": 542
        }
      },
      "source": [
        "import plotly.express as px\n",
        "\n",
        "fig = px.line(x=thresholds, y=cv_accs)\n",
        "fig.update_xaxes(title=\"threshold\")\n",
        "fig.update_yaxes(title=\"Accuracy\")"
      ],
      "execution_count": 98,
      "outputs": [
        {
          "output_type": "display_data",
          "data": {
            "text/html": [
              "<html>\n",
              "<head><meta charset=\"utf-8\" /></head>\n",
              "<body>\n",
              "    <div>\n",
              "            <script src=\"https://cdnjs.cloudflare.com/ajax/libs/mathjax/2.7.5/MathJax.js?config=TeX-AMS-MML_SVG\"></script><script type=\"text/javascript\">if (window.MathJax) {MathJax.Hub.Config({SVG: {font: \"STIX-Web\"}});}</script>\n",
              "                <script type=\"text/javascript\">window.PlotlyConfig = {MathJaxConfig: 'local'};</script>\n",
              "        <script src=\"https://cdn.plot.ly/plotly-latest.min.js\"></script>    \n",
              "            <div id=\"782e969b-4081-4f85-a0e1-34367395eb04\" class=\"plotly-graph-div\" style=\"height:525px; width:100%;\"></div>\n",
              "            <script type=\"text/javascript\">\n",
              "                \n",
              "                    window.PLOTLYENV=window.PLOTLYENV || {};\n",
              "                    \n",
              "                if (document.getElementById(\"782e969b-4081-4f85-a0e1-34367395eb04\")) {\n",
              "                    Plotly.newPlot(\n",
              "                        '782e969b-4081-4f85-a0e1-34367395eb04',\n",
              "                        [{\"hoverlabel\": {\"namelength\": 0}, \"hovertemplate\": \"x=%{x}<br>y=%{y}\", \"legendgroup\": \"\", \"line\": {\"color\": \"#636efa\", \"dash\": \"solid\"}, \"mode\": \"lines\", \"name\": \"\", \"showlegend\": false, \"type\": \"scatter\", \"x\": [0.0, 0.010101010101010102, 0.020202020202020204, 0.030303030303030304, 0.04040404040404041, 0.05050505050505051, 0.06060606060606061, 0.07070707070707072, 0.08080808080808081, 0.09090909090909091, 0.10101010101010102, 0.11111111111111112, 0.12121212121212122, 0.13131313131313133, 0.14141414141414144, 0.15151515151515152, 0.16161616161616163, 0.17171717171717174, 0.18181818181818182, 0.19191919191919193, 0.20202020202020204, 0.21212121212121213, 0.22222222222222224, 0.23232323232323235, 0.24242424242424243, 0.25252525252525254, 0.26262626262626265, 0.27272727272727276, 0.2828282828282829, 0.29292929292929293, 0.30303030303030304, 0.31313131313131315, 0.32323232323232326, 0.33333333333333337, 0.3434343434343435, 0.3535353535353536, 0.36363636363636365, 0.37373737373737376, 0.38383838383838387, 0.393939393939394, 0.4040404040404041, 0.4141414141414142, 0.42424242424242425, 0.43434343434343436, 0.4444444444444445, 0.4545454545454546, 0.4646464646464647, 0.4747474747474748, 0.48484848484848486, 0.494949494949495, 0.5050505050505051, 0.5151515151515152, 0.5252525252525253, 0.5353535353535354, 0.5454545454545455, 0.5555555555555556, 0.5656565656565657, 0.5757575757575758, 0.5858585858585859, 0.595959595959596, 0.6060606060606061, 0.6161616161616162, 0.6262626262626263, 0.6363636363636365, 0.6464646464646465, 0.6565656565656566, 0.6666666666666667, 0.6767676767676768, 0.686868686868687, 0.696969696969697, 0.7070707070707072, 0.7171717171717172, 0.7272727272727273, 0.7373737373737375, 0.7474747474747475, 0.7575757575757577, 0.7676767676767677, 0.7777777777777778, 0.787878787878788, 0.797979797979798, 0.8080808080808082, 0.8181818181818182, 0.8282828282828284, 0.8383838383838385, 0.8484848484848485, 0.8585858585858587, 0.8686868686868687, 0.8787878787878789, 0.888888888888889, 0.8989898989898991, 0.9090909090909092, 0.9191919191919192, 0.9292929292929294, 0.9393939393939394, 0.9494949494949496, 0.9595959595959597, 0.9696969696969697, 0.9797979797979799, 0.98989898989899, 1.0], \"xaxis\": \"x\", \"y\": [0.7483210857564784, 0.7483210857564784, 0.7483210857564784, 0.7483210857564784, 0.7483210857564784, 0.7483210857564784, 0.7483210857564784, 0.7483210857564784, 0.7483210857564784, 0.7483210857564784, 0.7483210857564784, 0.7483210857564784, 0.7483210857564784, 0.7483210857564784, 0.7483210857564784, 0.7483210857564784, 0.7483210857564784, 0.7483210857564784, 0.7483210857564784, 0.7483210857564784, 0.7483210857564784, 0.7483210857564784, 0.7483210857564784, 0.7483210857564784, 0.7483210857564784, 0.7483210857564784, 0.7483210857564784, 0.7483210857564784, 0.7483210857564784, 0.7483210857564784, 0.7483210857564784, 0.7483210857564784, 0.7483210857564784, 0.7483210857564784, 0.7483210857564784, 0.7483210857564784, 0.7483210857564784, 0.7483210857564784, 0.7483210857564784, 0.7483210857564784, 0.7483210857564784, 0.7483210857564784, 0.7483210857564784, 0.7483210857564784, 0.7483210857564784, 0.7483210857564784, 0.7483210857564784, 0.7483210857564784, 0.7483210857564784, 0.7483210857564784, 0.7483210857564784, 0.7483210857564784, 0.7483210857564784, 0.7483210857564784, 0.7483210857564784, 0.7483210857564784, 0.7483210857564784, 0.7483210857564784, 0.7483210857564784, 0.7483210857564784, 0.7483210857564784, 0.7483210857564784, 0.7483210857564784, 0.7483210857564784, 0.7483210857564784, 0.7483210857564784, 0.7399282725642559, 0.7315460075243487, 0.7315460075243487, 0.6887486375303259, 0.6887486375303259, 0.622442952076228, 0.622442952076228, 0.5645265637635808, 0.5410534088112232, 0.4856896733588833, 0.4731127597482508, 0.4068457508526423, 0.39678984564537106, 0.3540276361590662, 0.34397524700256676, 0.30704968179740516, 0.30704968179740516, 0.27684680566787384, 0.26844696037410776, 0.26677332020674377, 0.264259343904926, 0.2600646953342006, 0.255873562814247, 0.25335958651242924, 0.25335958651242924, 0.25251925037797546, 0.25251925037797546, 0.2516789142435217, 0.2516789142435217, 0.2516789142435217, 0.2516789142435217, 0.2516789142435217, 0.2516789142435217, 0.2516789142435217], \"yaxis\": \"y\"}],\n",
              "                        {\"legend\": {\"tracegroupgap\": 0}, \"margin\": {\"t\": 60}, \"template\": {\"data\": {\"bar\": [{\"error_x\": {\"color\": \"#2a3f5f\"}, \"error_y\": {\"color\": \"#2a3f5f\"}, \"marker\": {\"line\": {\"color\": \"#E5ECF6\", \"width\": 0.5}}, \"type\": \"bar\"}], \"barpolar\": [{\"marker\": {\"line\": {\"color\": \"#E5ECF6\", \"width\": 0.5}}, \"type\": \"barpolar\"}], \"carpet\": [{\"aaxis\": {\"endlinecolor\": \"#2a3f5f\", \"gridcolor\": \"white\", \"linecolor\": \"white\", \"minorgridcolor\": \"white\", \"startlinecolor\": \"#2a3f5f\"}, \"baxis\": {\"endlinecolor\": \"#2a3f5f\", \"gridcolor\": \"white\", \"linecolor\": \"white\", \"minorgridcolor\": \"white\", \"startlinecolor\": \"#2a3f5f\"}, \"type\": \"carpet\"}], \"choropleth\": [{\"colorbar\": {\"outlinewidth\": 0, \"ticks\": \"\"}, \"type\": \"choropleth\"}], \"contour\": [{\"colorbar\": {\"outlinewidth\": 0, \"ticks\": \"\"}, \"colorscale\": [[0.0, \"#0d0887\"], [0.1111111111111111, \"#46039f\"], [0.2222222222222222, \"#7201a8\"], [0.3333333333333333, \"#9c179e\"], [0.4444444444444444, \"#bd3786\"], [0.5555555555555556, \"#d8576b\"], [0.6666666666666666, \"#ed7953\"], [0.7777777777777778, \"#fb9f3a\"], [0.8888888888888888, \"#fdca26\"], [1.0, \"#f0f921\"]], \"type\": \"contour\"}], \"contourcarpet\": [{\"colorbar\": {\"outlinewidth\": 0, \"ticks\": \"\"}, \"type\": \"contourcarpet\"}], \"heatmap\": [{\"colorbar\": {\"outlinewidth\": 0, \"ticks\": \"\"}, \"colorscale\": [[0.0, \"#0d0887\"], [0.1111111111111111, \"#46039f\"], [0.2222222222222222, \"#7201a8\"], [0.3333333333333333, \"#9c179e\"], [0.4444444444444444, \"#bd3786\"], [0.5555555555555556, \"#d8576b\"], [0.6666666666666666, \"#ed7953\"], [0.7777777777777778, \"#fb9f3a\"], [0.8888888888888888, \"#fdca26\"], [1.0, \"#f0f921\"]], \"type\": \"heatmap\"}], \"heatmapgl\": [{\"colorbar\": {\"outlinewidth\": 0, \"ticks\": \"\"}, \"colorscale\": [[0.0, \"#0d0887\"], [0.1111111111111111, \"#46039f\"], [0.2222222222222222, \"#7201a8\"], [0.3333333333333333, \"#9c179e\"], [0.4444444444444444, \"#bd3786\"], [0.5555555555555556, \"#d8576b\"], [0.6666666666666666, \"#ed7953\"], [0.7777777777777778, \"#fb9f3a\"], [0.8888888888888888, \"#fdca26\"], [1.0, \"#f0f921\"]], \"type\": \"heatmapgl\"}], \"histogram\": [{\"marker\": {\"colorbar\": {\"outlinewidth\": 0, \"ticks\": \"\"}}, \"type\": \"histogram\"}], \"histogram2d\": [{\"colorbar\": {\"outlinewidth\": 0, \"ticks\": \"\"}, \"colorscale\": [[0.0, \"#0d0887\"], [0.1111111111111111, \"#46039f\"], [0.2222222222222222, \"#7201a8\"], [0.3333333333333333, \"#9c179e\"], [0.4444444444444444, \"#bd3786\"], [0.5555555555555556, \"#d8576b\"], [0.6666666666666666, \"#ed7953\"], [0.7777777777777778, \"#fb9f3a\"], [0.8888888888888888, \"#fdca26\"], [1.0, \"#f0f921\"]], \"type\": \"histogram2d\"}], \"histogram2dcontour\": [{\"colorbar\": {\"outlinewidth\": 0, \"ticks\": \"\"}, \"colorscale\": [[0.0, \"#0d0887\"], [0.1111111111111111, \"#46039f\"], [0.2222222222222222, \"#7201a8\"], [0.3333333333333333, \"#9c179e\"], [0.4444444444444444, \"#bd3786\"], [0.5555555555555556, \"#d8576b\"], [0.6666666666666666, \"#ed7953\"], [0.7777777777777778, \"#fb9f3a\"], [0.8888888888888888, \"#fdca26\"], [1.0, \"#f0f921\"]], \"type\": \"histogram2dcontour\"}], \"mesh3d\": [{\"colorbar\": {\"outlinewidth\": 0, \"ticks\": \"\"}, \"type\": \"mesh3d\"}], \"parcoords\": [{\"line\": {\"colorbar\": {\"outlinewidth\": 0, \"ticks\": \"\"}}, \"type\": \"parcoords\"}], \"pie\": [{\"automargin\": true, \"type\": \"pie\"}], \"scatter\": [{\"marker\": {\"colorbar\": {\"outlinewidth\": 0, \"ticks\": \"\"}}, \"type\": \"scatter\"}], \"scatter3d\": [{\"line\": {\"colorbar\": {\"outlinewidth\": 0, \"ticks\": \"\"}}, \"marker\": {\"colorbar\": {\"outlinewidth\": 0, \"ticks\": \"\"}}, \"type\": \"scatter3d\"}], \"scattercarpet\": [{\"marker\": {\"colorbar\": {\"outlinewidth\": 0, \"ticks\": \"\"}}, \"type\": \"scattercarpet\"}], \"scattergeo\": [{\"marker\": {\"colorbar\": {\"outlinewidth\": 0, \"ticks\": \"\"}}, \"type\": \"scattergeo\"}], \"scattergl\": [{\"marker\": {\"colorbar\": {\"outlinewidth\": 0, \"ticks\": \"\"}}, \"type\": \"scattergl\"}], \"scattermapbox\": [{\"marker\": {\"colorbar\": {\"outlinewidth\": 0, \"ticks\": \"\"}}, \"type\": \"scattermapbox\"}], \"scatterpolar\": [{\"marker\": {\"colorbar\": {\"outlinewidth\": 0, \"ticks\": \"\"}}, \"type\": \"scatterpolar\"}], \"scatterpolargl\": [{\"marker\": {\"colorbar\": {\"outlinewidth\": 0, \"ticks\": \"\"}}, \"type\": \"scatterpolargl\"}], \"scatterternary\": [{\"marker\": {\"colorbar\": {\"outlinewidth\": 0, \"ticks\": \"\"}}, \"type\": \"scatterternary\"}], \"surface\": [{\"colorbar\": {\"outlinewidth\": 0, \"ticks\": \"\"}, \"colorscale\": [[0.0, \"#0d0887\"], [0.1111111111111111, \"#46039f\"], [0.2222222222222222, \"#7201a8\"], [0.3333333333333333, \"#9c179e\"], [0.4444444444444444, \"#bd3786\"], [0.5555555555555556, \"#d8576b\"], [0.6666666666666666, \"#ed7953\"], [0.7777777777777778, \"#fb9f3a\"], [0.8888888888888888, \"#fdca26\"], [1.0, \"#f0f921\"]], \"type\": \"surface\"}], \"table\": [{\"cells\": {\"fill\": {\"color\": \"#EBF0F8\"}, \"line\": {\"color\": \"white\"}}, \"header\": {\"fill\": {\"color\": \"#C8D4E3\"}, \"line\": {\"color\": \"white\"}}, \"type\": \"table\"}]}, \"layout\": {\"annotationdefaults\": {\"arrowcolor\": \"#2a3f5f\", \"arrowhead\": 0, \"arrowwidth\": 1}, \"coloraxis\": {\"colorbar\": {\"outlinewidth\": 0, \"ticks\": \"\"}}, \"colorscale\": {\"diverging\": [[0, \"#8e0152\"], [0.1, \"#c51b7d\"], [0.2, \"#de77ae\"], [0.3, \"#f1b6da\"], [0.4, \"#fde0ef\"], [0.5, \"#f7f7f7\"], [0.6, \"#e6f5d0\"], [0.7, \"#b8e186\"], [0.8, \"#7fbc41\"], [0.9, \"#4d9221\"], [1, \"#276419\"]], \"sequential\": [[0.0, \"#0d0887\"], [0.1111111111111111, \"#46039f\"], [0.2222222222222222, \"#7201a8\"], [0.3333333333333333, \"#9c179e\"], [0.4444444444444444, \"#bd3786\"], [0.5555555555555556, \"#d8576b\"], [0.6666666666666666, \"#ed7953\"], [0.7777777777777778, \"#fb9f3a\"], [0.8888888888888888, \"#fdca26\"], [1.0, \"#f0f921\"]], \"sequentialminus\": [[0.0, \"#0d0887\"], [0.1111111111111111, \"#46039f\"], [0.2222222222222222, \"#7201a8\"], [0.3333333333333333, \"#9c179e\"], [0.4444444444444444, \"#bd3786\"], [0.5555555555555556, \"#d8576b\"], [0.6666666666666666, \"#ed7953\"], [0.7777777777777778, \"#fb9f3a\"], [0.8888888888888888, \"#fdca26\"], [1.0, \"#f0f921\"]]}, \"colorway\": [\"#636efa\", \"#EF553B\", \"#00cc96\", \"#ab63fa\", \"#FFA15A\", \"#19d3f3\", \"#FF6692\", \"#B6E880\", \"#FF97FF\", \"#FECB52\"], \"font\": {\"color\": \"#2a3f5f\"}, \"geo\": {\"bgcolor\": \"white\", \"lakecolor\": \"white\", \"landcolor\": \"#E5ECF6\", \"showlakes\": true, \"showland\": true, \"subunitcolor\": \"white\"}, \"hoverlabel\": {\"align\": \"left\"}, \"hovermode\": \"closest\", \"mapbox\": {\"style\": \"light\"}, \"paper_bgcolor\": \"white\", \"plot_bgcolor\": \"#E5ECF6\", \"polar\": {\"angularaxis\": {\"gridcolor\": \"white\", \"linecolor\": \"white\", \"ticks\": \"\"}, \"bgcolor\": \"#E5ECF6\", \"radialaxis\": {\"gridcolor\": \"white\", \"linecolor\": \"white\", \"ticks\": \"\"}}, \"scene\": {\"xaxis\": {\"backgroundcolor\": \"#E5ECF6\", \"gridcolor\": \"white\", \"gridwidth\": 2, \"linecolor\": \"white\", \"showbackground\": true, \"ticks\": \"\", \"zerolinecolor\": \"white\"}, \"yaxis\": {\"backgroundcolor\": \"#E5ECF6\", \"gridcolor\": \"white\", \"gridwidth\": 2, \"linecolor\": \"white\", \"showbackground\": true, \"ticks\": \"\", \"zerolinecolor\": \"white\"}, \"zaxis\": {\"backgroundcolor\": \"#E5ECF6\", \"gridcolor\": \"white\", \"gridwidth\": 2, \"linecolor\": \"white\", \"showbackground\": true, \"ticks\": \"\", \"zerolinecolor\": \"white\"}}, \"shapedefaults\": {\"line\": {\"color\": \"#2a3f5f\"}}, \"ternary\": {\"aaxis\": {\"gridcolor\": \"white\", \"linecolor\": \"white\", \"ticks\": \"\"}, \"baxis\": {\"gridcolor\": \"white\", \"linecolor\": \"white\", \"ticks\": \"\"}, \"bgcolor\": \"#E5ECF6\", \"caxis\": {\"gridcolor\": \"white\", \"linecolor\": \"white\", \"ticks\": \"\"}}, \"title\": {\"x\": 0.05}, \"xaxis\": {\"automargin\": true, \"gridcolor\": \"white\", \"linecolor\": \"white\", \"ticks\": \"\", \"title\": {\"standoff\": 15}, \"zerolinecolor\": \"white\", \"zerolinewidth\": 2}, \"yaxis\": {\"automargin\": true, \"gridcolor\": \"white\", \"linecolor\": \"white\", \"ticks\": \"\", \"title\": {\"standoff\": 15}, \"zerolinecolor\": \"white\", \"zerolinewidth\": 2}}}, \"xaxis\": {\"anchor\": \"y\", \"domain\": [0.0, 1.0], \"title\": {\"text\": \"threshold\"}}, \"yaxis\": {\"anchor\": \"x\", \"domain\": [0.0, 1.0], \"title\": {\"text\": \"Accuracy\"}}},\n",
              "                        {\"responsive\": true}\n",
              "                    ).then(function(){\n",
              "                            \n",
              "var gd = document.getElementById('782e969b-4081-4f85-a0e1-34367395eb04');\n",
              "var x = new MutationObserver(function (mutations, observer) {{\n",
              "        var display = window.getComputedStyle(gd).display;\n",
              "        if (!display || display === 'none') {{\n",
              "            console.log([gd, 'removed!']);\n",
              "            Plotly.purge(gd);\n",
              "            observer.disconnect();\n",
              "        }}\n",
              "}});\n",
              "\n",
              "// Listen for the removal of the full notebook cells\n",
              "var notebookContainer = gd.closest('#notebook-container');\n",
              "if (notebookContainer) {{\n",
              "    x.observe(notebookContainer, {childList: true});\n",
              "}}\n",
              "\n",
              "// Listen for the clearing of the current output cell\n",
              "var outputEl = gd.closest('.output');\n",
              "if (outputEl) {{\n",
              "    x.observe(outputEl, {childList: true});\n",
              "}}\n",
              "\n",
              "                        })\n",
              "                };\n",
              "                \n",
              "            </script>\n",
              "        </div>\n",
              "</body>\n",
              "</html>"
            ]
          },
          "metadata": {
            "tags": []
          }
        }
      ]
    },
    {
      "cell_type": "code",
      "metadata": {
        "id": "ue4yD_ip5BsE",
        "colab_type": "code",
        "outputId": "55b6e6d2-8768-496d-866f-6e5ee782cd80",
        "colab": {
          "base_uri": "https://localhost:8080/",
          "height": 34
        }
      },
      "source": [
        "prob_training_accuracy= (np.where(lr_model.predict_proba(work5)[:,1]> 0.646, 1.0, 0.0).astype(int) == Y_train_work).mean()\n",
        "print('Training Accuracy with adjusted Proability Threshold:', prob_training_accuracy)"
      ],
      "execution_count": 99,
      "outputs": [
        {
          "output_type": "stream",
          "text": [
            "Training Accuracy with adjusted Proability Threshold: 0.7483221476510067\n"
          ],
          "name": "stdout"
        }
      ]
    },
    {
      "cell_type": "code",
      "metadata": {
        "id": "X7XoJMi_7eO2",
        "colab_type": "code",
        "outputId": "94d5ab35-1854-459f-f3f0-c5fdf28550be",
        "colab": {
          "base_uri": "https://localhost:8080/",
          "height": 34
        }
      },
      "source": [
        "prob_test_accuracy = (np.where(lr_model.predict_proba(test_transformed)[:,1] > 0.646,1.0,0.0).astype(int) == val['wife_work']).mean()\n",
        "print('Test Accuracy with adjusted Probability Threshold:',prob_test_accuracy)"
      ],
      "execution_count": 100,
      "outputs": [
        {
          "output_type": "stream",
          "text": [
            "Test Accuracy with adjusted Probability Threshold: 0.7368421052631579\n"
          ],
          "name": "stdout"
        }
      ]
    },
    {
      "cell_type": "markdown",
      "metadata": {
        "id": "ZMQ90C4QSN_K",
        "colab_type": "text"
      },
      "source": [
        "### **Method 3: Lasso Regularization**"
      ]
    },
    {
      "cell_type": "code",
      "metadata": {
        "id": "awvpGgEIRf1V",
        "colab_type": "code",
        "outputId": "bd52e3bd-7322-43ff-e2c2-fe3263cc220b",
        "colab": {
          "base_uri": "https://localhost:8080/",
          "height": 34
        }
      },
      "source": [
        " model_lasso.fit(work5, Y_train_work)\n",
        "training_accuracy_lasso = (model_lasso.predict(work5) == Y_train_work).mean()\n",
        "print(\"Training Accuracy:\", training_accuracy_lasso)"
      ],
      "execution_count": 101,
      "outputs": [
        {
          "output_type": "stream",
          "text": [
            "Training Accuracy: 0.7483221476510067\n"
          ],
          "name": "stdout"
        }
      ]
    },
    {
      "cell_type": "code",
      "metadata": {
        "id": "RvcyxjxXbqPN",
        "colab_type": "code",
        "outputId": "56b95f9b-c102-480c-bc43-1c8dad900c20",
        "colab": {
          "base_uri": "https://localhost:8080/",
          "height": 34
        }
      },
      "source": [
        "test_accuracy_lasso = (model_lasso.predict(test_transformed) == val['wife_work']).mean()\n",
        "print('Test Accuracy:',test_accuracy_lasso)"
      ],
      "execution_count": 102,
      "outputs": [
        {
          "output_type": "stream",
          "text": [
            "Test Accuracy: 0.7368421052631579\n"
          ],
          "name": "stdout"
        }
      ]
    }
  ]
}